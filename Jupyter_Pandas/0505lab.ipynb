{
 "cells": [
  {
   "cell_type": "code",
   "execution_count": 9,
   "metadata": {},
   "outputs": [],
   "source": [
    "import pandas as pd\n",
    "import numpy as np\n",
    "fuel = pd.read_csv(\"C:/Users/user/Desktop/Python_Main/kurs_pandas/fuel.csv\",\n",
    "                   usecols=['Year','Make','Model','Range (FT1)','City Range (FT1)'])"
   ]
  },
  {
   "cell_type": "code",
   "execution_count": 3,
   "metadata": {},
   "outputs": [],
   "source": [
    "fuel.set_index(['Year','Make','Model'],inplace = True)"
   ]
  },
  {
   "cell_type": "code",
   "execution_count": 4,
   "metadata": {},
   "outputs": [],
   "source": [
    "fuel.sort_index(inplace = True)"
   ]
  },
  {
   "cell_type": "code",
   "execution_count": 10,
   "metadata": {},
   "outputs": [
    {
     "name": "stdout",
     "output_type": "stream",
     "text": [
      "<class 'pandas.core.frame.DataFrame'>\n",
      "RangeIndex: 31684 entries, 0 to 31683\n",
      "Data columns (total 5 columns):\n",
      " #   Column            Non-Null Count  Dtype  \n",
      "---  ------            --------------  -----  \n",
      " 0   Year              31684 non-null  int64  \n",
      " 1   Make              31684 non-null  object \n",
      " 2   Model             31683 non-null  object \n",
      " 3   Range (FT1)       31683 non-null  float64\n",
      " 4   City Range (FT1)  31683 non-null  float64\n",
      "dtypes: float64(2), int64(1), object(2)\n",
      "memory usage: 990.2+ KB\n"
     ]
    }
   ],
   "source": [
    "fuel.info()"
   ]
  },
  {
   "cell_type": "code",
   "execution_count": 11,
   "metadata": {},
   "outputs": [],
   "source": [
    "fuel.drop_duplicates(subset = ['Year','Make','Model'],inplace = True)"
   ]
  },
  {
   "cell_type": "code",
   "execution_count": 12,
   "metadata": {},
   "outputs": [
    {
     "name": "stdout",
     "output_type": "stream",
     "text": [
      "<class 'pandas.core.frame.DataFrame'>\n",
      "Int64Index: 13146 entries, 0 to 31683\n",
      "Data columns (total 5 columns):\n",
      " #   Column            Non-Null Count  Dtype  \n",
      "---  ------            --------------  -----  \n",
      " 0   Year              13146 non-null  int64  \n",
      " 1   Make              13146 non-null  object \n",
      " 2   Model             13145 non-null  object \n",
      " 3   Range (FT1)       13145 non-null  float64\n",
      " 4   City Range (FT1)  13145 non-null  float64\n",
      "dtypes: float64(2), int64(1), object(2)\n",
      "memory usage: 513.5+ KB\n"
     ]
    }
   ],
   "source": [
    "fuel.info()"
   ]
  },
  {
   "cell_type": "code",
   "execution_count": 13,
   "metadata": {},
   "outputs": [],
   "source": [
    "fuel.dropna(how='any',inplace=True)"
   ]
  },
  {
   "cell_type": "code",
   "execution_count": 14,
   "metadata": {},
   "outputs": [
    {
     "name": "stdout",
     "output_type": "stream",
     "text": [
      "<class 'pandas.core.frame.DataFrame'>\n",
      "Int64Index: 13145 entries, 0 to 31681\n",
      "Data columns (total 5 columns):\n",
      " #   Column            Non-Null Count  Dtype  \n",
      "---  ------            --------------  -----  \n",
      " 0   Year              13145 non-null  int64  \n",
      " 1   Make              13145 non-null  object \n",
      " 2   Model             13145 non-null  object \n",
      " 3   Range (FT1)       13145 non-null  float64\n",
      " 4   City Range (FT1)  13145 non-null  float64\n",
      "dtypes: float64(2), int64(1), object(2)\n",
      "memory usage: 513.5+ KB\n"
     ]
    }
   ],
   "source": [
    "fuel.info()"
   ]
  },
  {
   "cell_type": "code",
   "execution_count": 15,
   "metadata": {},
   "outputs": [],
   "source": [
    "fuel.set_index(['Year','Make','Model'],inplace=True)"
   ]
  },
  {
   "cell_type": "code",
   "execution_count": 16,
   "metadata": {},
   "outputs": [
    {
     "data": {
      "text/html": [
       "<div>\n",
       "<style scoped>\n",
       "    .dataframe tbody tr th:only-of-type {\n",
       "        vertical-align: middle;\n",
       "    }\n",
       "\n",
       "    .dataframe tbody tr th {\n",
       "        vertical-align: top;\n",
       "    }\n",
       "\n",
       "    .dataframe thead th {\n",
       "        text-align: right;\n",
       "    }\n",
       "</style>\n",
       "<table border=\"1\" class=\"dataframe\">\n",
       "  <thead>\n",
       "    <tr style=\"text-align: right;\">\n",
       "      <th></th>\n",
       "      <th></th>\n",
       "      <th></th>\n",
       "      <th>Range (FT1)</th>\n",
       "      <th>City Range (FT1)</th>\n",
       "    </tr>\n",
       "    <tr>\n",
       "      <th>Year</th>\n",
       "      <th>Make</th>\n",
       "      <th>Model</th>\n",
       "      <th></th>\n",
       "      <th></th>\n",
       "    </tr>\n",
       "  </thead>\n",
       "  <tbody>\n",
       "    <tr>\n",
       "      <th rowspan=\"5\" valign=\"top\">1984</th>\n",
       "      <th rowspan=\"2\" valign=\"top\">Alfa Romeo</th>\n",
       "      <th>GT V6 2.5</th>\n",
       "      <td>0.0</td>\n",
       "      <td>0.0</td>\n",
       "    </tr>\n",
       "    <tr>\n",
       "      <th>Spider Veloce 2000</th>\n",
       "      <td>0.0</td>\n",
       "      <td>0.0</td>\n",
       "    </tr>\n",
       "    <tr>\n",
       "      <th rowspan=\"2\" valign=\"top\">AM General</th>\n",
       "      <th>DJ Po Vehicle 2WD</th>\n",
       "      <td>0.0</td>\n",
       "      <td>0.0</td>\n",
       "    </tr>\n",
       "    <tr>\n",
       "      <th>FJ8c Post Office</th>\n",
       "      <td>0.0</td>\n",
       "      <td>0.0</td>\n",
       "    </tr>\n",
       "    <tr>\n",
       "      <th>American Motors Corporation</th>\n",
       "      <th>Eagle 4WD</th>\n",
       "      <td>0.0</td>\n",
       "      <td>0.0</td>\n",
       "    </tr>\n",
       "  </tbody>\n",
       "</table>\n",
       "</div>"
      ],
      "text/plain": [
       "                                                     Range (FT1)  \\\n",
       "Year Make                        Model                             \n",
       "1984 Alfa Romeo                  GT V6 2.5                   0.0   \n",
       "                                 Spider Veloce 2000          0.0   \n",
       "     AM General                  DJ Po Vehicle 2WD           0.0   \n",
       "                                 FJ8c Post Office            0.0   \n",
       "     American Motors Corporation Eagle 4WD                   0.0   \n",
       "\n",
       "                                                     City Range (FT1)  \n",
       "Year Make                        Model                                 \n",
       "1984 Alfa Romeo                  GT V6 2.5                        0.0  \n",
       "                                 Spider Veloce 2000               0.0  \n",
       "     AM General                  DJ Po Vehicle 2WD                0.0  \n",
       "                                 FJ8c Post Office                 0.0  \n",
       "     American Motors Corporation Eagle 4WD                        0.0  "
      ]
     },
     "execution_count": 16,
     "metadata": {},
     "output_type": "execute_result"
    }
   ],
   "source": [
    "fuel.head()"
   ]
  },
  {
   "cell_type": "code",
   "execution_count": 24,
   "metadata": {},
   "outputs": [
    {
     "data": {
      "text/html": [
       "<div>\n",
       "<style scoped>\n",
       "    .dataframe tbody tr th:only-of-type {\n",
       "        vertical-align: middle;\n",
       "    }\n",
       "\n",
       "    .dataframe tbody tr th {\n",
       "        vertical-align: top;\n",
       "    }\n",
       "\n",
       "    .dataframe thead th {\n",
       "        text-align: right;\n",
       "    }\n",
       "</style>\n",
       "<table border=\"1\" class=\"dataframe\">\n",
       "  <thead>\n",
       "    <tr style=\"text-align: right;\">\n",
       "      <th></th>\n",
       "      <th></th>\n",
       "      <th></th>\n",
       "      <th></th>\n",
       "      <th>0</th>\n",
       "    </tr>\n",
       "    <tr>\n",
       "      <th>Year</th>\n",
       "      <th>Make</th>\n",
       "      <th>Model</th>\n",
       "      <th></th>\n",
       "      <th></th>\n",
       "    </tr>\n",
       "  </thead>\n",
       "  <tbody>\n",
       "    <tr>\n",
       "      <th rowspan=\"5\" valign=\"top\">1984</th>\n",
       "      <th rowspan=\"4\" valign=\"top\">Alfa Romeo</th>\n",
       "      <th rowspan=\"2\" valign=\"top\">GT V6 2.5</th>\n",
       "      <th>Range (FT1)</th>\n",
       "      <td>0.0</td>\n",
       "    </tr>\n",
       "    <tr>\n",
       "      <th>City Range (FT1)</th>\n",
       "      <td>0.0</td>\n",
       "    </tr>\n",
       "    <tr>\n",
       "      <th rowspan=\"2\" valign=\"top\">Spider Veloce 2000</th>\n",
       "      <th>Range (FT1)</th>\n",
       "      <td>0.0</td>\n",
       "    </tr>\n",
       "    <tr>\n",
       "      <th>City Range (FT1)</th>\n",
       "      <td>0.0</td>\n",
       "    </tr>\n",
       "    <tr>\n",
       "      <th>AM General</th>\n",
       "      <th>DJ Po Vehicle 2WD</th>\n",
       "      <th>Range (FT1)</th>\n",
       "      <td>0.0</td>\n",
       "    </tr>\n",
       "    <tr>\n",
       "      <th>...</th>\n",
       "      <th>...</th>\n",
       "      <th>...</th>\n",
       "      <th>...</th>\n",
       "      <td>...</td>\n",
       "    </tr>\n",
       "    <tr>\n",
       "      <th rowspan=\"5\" valign=\"top\">2012</th>\n",
       "      <th rowspan=\"5\" valign=\"top\">Mitsubishi</th>\n",
       "      <th>Lancer</th>\n",
       "      <th>City Range (FT1)</th>\n",
       "      <td>0.0</td>\n",
       "    </tr>\n",
       "    <tr>\n",
       "      <th rowspan=\"2\" valign=\"top\">Lancer AWD</th>\n",
       "      <th>Range (FT1)</th>\n",
       "      <td>0.0</td>\n",
       "    </tr>\n",
       "    <tr>\n",
       "      <th>City Range (FT1)</th>\n",
       "      <td>0.0</td>\n",
       "    </tr>\n",
       "    <tr>\n",
       "      <th rowspan=\"2\" valign=\"top\">Lancer Evolution</th>\n",
       "      <th>Range (FT1)</th>\n",
       "      <td>0.0</td>\n",
       "    </tr>\n",
       "    <tr>\n",
       "      <th>City Range (FT1)</th>\n",
       "      <td>0.0</td>\n",
       "    </tr>\n",
       "  </tbody>\n",
       "</table>\n",
       "<p>26290 rows × 1 columns</p>\n",
       "</div>"
      ],
      "text/plain": [
       "                                                       0\n",
       "Year Make       Model                                   \n",
       "1984 Alfa Romeo GT V6 2.5          Range (FT1)       0.0\n",
       "                                   City Range (FT1)  0.0\n",
       "                Spider Veloce 2000 Range (FT1)       0.0\n",
       "                                   City Range (FT1)  0.0\n",
       "     AM General DJ Po Vehicle 2WD  Range (FT1)       0.0\n",
       "...                                                  ...\n",
       "2012 Mitsubishi Lancer             City Range (FT1)  0.0\n",
       "                Lancer AWD         Range (FT1)       0.0\n",
       "                                   City Range (FT1)  0.0\n",
       "                Lancer Evolution   Range (FT1)       0.0\n",
       "                                   City Range (FT1)  0.0\n",
       "\n",
       "[26290 rows x 1 columns]"
      ]
     },
     "execution_count": 24,
     "metadata": {},
     "output_type": "execute_result"
    }
   ],
   "source": [
    "fuel.stack().to_frame()"
   ]
  },
  {
   "cell_type": "code",
   "execution_count": 25,
   "metadata": {},
   "outputs": [
    {
     "data": {
      "text/html": [
       "<div>\n",
       "<style scoped>\n",
       "    .dataframe tbody tr th:only-of-type {\n",
       "        vertical-align: middle;\n",
       "    }\n",
       "\n",
       "    .dataframe tbody tr th {\n",
       "        vertical-align: top;\n",
       "    }\n",
       "\n",
       "    .dataframe thead th {\n",
       "        text-align: right;\n",
       "    }\n",
       "</style>\n",
       "<table border=\"1\" class=\"dataframe\">\n",
       "  <thead>\n",
       "    <tr style=\"text-align: right;\">\n",
       "      <th></th>\n",
       "      <th></th>\n",
       "      <th></th>\n",
       "      <th></th>\n",
       "      <th></th>\n",
       "      <th>0</th>\n",
       "    </tr>\n",
       "    <tr>\n",
       "      <th>Year</th>\n",
       "      <th>Make</th>\n",
       "      <th>Model</th>\n",
       "      <th></th>\n",
       "      <th></th>\n",
       "      <th></th>\n",
       "    </tr>\n",
       "  </thead>\n",
       "  <tbody>\n",
       "    <tr>\n",
       "      <th rowspan=\"5\" valign=\"top\">1984</th>\n",
       "      <th rowspan=\"4\" valign=\"top\">Alfa Romeo</th>\n",
       "      <th rowspan=\"2\" valign=\"top\">GT V6 2.5</th>\n",
       "      <th>Range (FT1)</th>\n",
       "      <th>0</th>\n",
       "      <td>0.0</td>\n",
       "    </tr>\n",
       "    <tr>\n",
       "      <th>City Range (FT1)</th>\n",
       "      <th>0</th>\n",
       "      <td>0.0</td>\n",
       "    </tr>\n",
       "    <tr>\n",
       "      <th rowspan=\"2\" valign=\"top\">Spider Veloce 2000</th>\n",
       "      <th>Range (FT1)</th>\n",
       "      <th>0</th>\n",
       "      <td>0.0</td>\n",
       "    </tr>\n",
       "    <tr>\n",
       "      <th>City Range (FT1)</th>\n",
       "      <th>0</th>\n",
       "      <td>0.0</td>\n",
       "    </tr>\n",
       "    <tr>\n",
       "      <th>AM General</th>\n",
       "      <th>DJ Po Vehicle 2WD</th>\n",
       "      <th>Range (FT1)</th>\n",
       "      <th>0</th>\n",
       "      <td>0.0</td>\n",
       "    </tr>\n",
       "    <tr>\n",
       "      <th>...</th>\n",
       "      <th>...</th>\n",
       "      <th>...</th>\n",
       "      <th>...</th>\n",
       "      <th>...</th>\n",
       "      <td>...</td>\n",
       "    </tr>\n",
       "    <tr>\n",
       "      <th rowspan=\"5\" valign=\"top\">2012</th>\n",
       "      <th rowspan=\"5\" valign=\"top\">Mitsubishi</th>\n",
       "      <th>Lancer</th>\n",
       "      <th>City Range (FT1)</th>\n",
       "      <th>0</th>\n",
       "      <td>0.0</td>\n",
       "    </tr>\n",
       "    <tr>\n",
       "      <th rowspan=\"2\" valign=\"top\">Lancer AWD</th>\n",
       "      <th>Range (FT1)</th>\n",
       "      <th>0</th>\n",
       "      <td>0.0</td>\n",
       "    </tr>\n",
       "    <tr>\n",
       "      <th>City Range (FT1)</th>\n",
       "      <th>0</th>\n",
       "      <td>0.0</td>\n",
       "    </tr>\n",
       "    <tr>\n",
       "      <th rowspan=\"2\" valign=\"top\">Lancer Evolution</th>\n",
       "      <th>Range (FT1)</th>\n",
       "      <th>0</th>\n",
       "      <td>0.0</td>\n",
       "    </tr>\n",
       "    <tr>\n",
       "      <th>City Range (FT1)</th>\n",
       "      <th>0</th>\n",
       "      <td>0.0</td>\n",
       "    </tr>\n",
       "  </tbody>\n",
       "</table>\n",
       "<p>26290 rows × 1 columns</p>\n",
       "</div>"
      ],
      "text/plain": [
       "                                                         0\n",
       "Year Make       Model                                     \n",
       "1984 Alfa Romeo GT V6 2.5          Range (FT1)      0  0.0\n",
       "                                   City Range (FT1) 0  0.0\n",
       "                Spider Veloce 2000 Range (FT1)      0  0.0\n",
       "                                   City Range (FT1) 0  0.0\n",
       "     AM General DJ Po Vehicle 2WD  Range (FT1)      0  0.0\n",
       "...                                                    ...\n",
       "2012 Mitsubishi Lancer             City Range (FT1) 0  0.0\n",
       "                Lancer AWD         Range (FT1)      0  0.0\n",
       "                                   City Range (FT1) 0  0.0\n",
       "                Lancer Evolution   Range (FT1)      0  0.0\n",
       "                                   City Range (FT1) 0  0.0\n",
       "\n",
       "[26290 rows x 1 columns]"
      ]
     },
     "execution_count": 25,
     "metadata": {},
     "output_type": "execute_result"
    }
   ],
   "source": [
    "fuel.stack().to_frame().stack().to_frame()"
   ]
  },
  {
   "cell_type": "code",
   "execution_count": null,
   "metadata": {},
   "outputs": [],
   "source": []
  }
 ],
 "metadata": {
  "kernelspec": {
   "display_name": "Python 3.8.1 32-bit",
   "language": "python",
   "name": "python38132bite28ea8602282427880738acd08b91328"
  },
  "language_info": {
   "codemirror_mode": {
    "name": "ipython",
    "version": 3
   },
   "file_extension": ".py",
   "mimetype": "text/x-python",
   "name": "python",
   "nbconvert_exporter": "python",
   "pygments_lexer": "ipython3",
   "version": "3.8.1"
  }
 },
 "nbformat": 4,
 "nbformat_minor": 4
}
