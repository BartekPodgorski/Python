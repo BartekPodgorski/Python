{
  "nbformat": 4,
  "nbformat_minor": 0,
  "metadata": {
    "colab": {
      "name": "12_decorator_staticmethod.ipynb",
      "provenance": [],
      "authorship_tag": "ABX9TyOL1gMB/UnjYJarUEMw18dN",
      "include_colab_link": true
    },
    "kernelspec": {
      "name": "python3",
      "display_name": "Python 3"
    }
  },
  "cells": [
    {
      "cell_type": "markdown",
      "metadata": {
        "id": "view-in-github",
        "colab_type": "text"
      },
      "source": [
        "<a href=\"https://colab.research.google.com/github/BartekPodgorski/Python/blob/main/OOP/course/01_intro/12_decorator_staticmethod.ipynb\" target=\"_parent\"><img src=\"https://colab.research.google.com/assets/colab-badge.svg\" alt=\"Open In Colab\"/></a>"
      ]
    },
    {
      "cell_type": "code",
      "metadata": {
        "colab": {
          "base_uri": "https://localhost:8080/"
        },
        "id": "SDs9EoWRhOi6",
        "outputId": "59903442-2ae7-440d-ab12-513f1ad1d72f"
      },
      "source": [
        "import time\r\n",
        "class Phone:\r\n",
        "\r\n",
        "  @staticmethod\r\n",
        "  def get_current_time():\r\n",
        "    return time.strftime('%H:%M:%S',time.localtime())\r\n",
        "\r\n",
        "Phone.__dict__"
      ],
      "execution_count": 6,
      "outputs": [
        {
          "output_type": "execute_result",
          "data": {
            "text/plain": [
              "mappingproxy({'__dict__': <attribute '__dict__' of 'Phone' objects>,\n",
              "              '__doc__': None,\n",
              "              '__module__': '__main__',\n",
              "              '__weakref__': <attribute '__weakref__' of 'Phone' objects>,\n",
              "              'get_current_time': <staticmethod at 0x7f5ff98ee128>})"
            ]
          },
          "metadata": {
            "tags": []
          },
          "execution_count": 6
        }
      ]
    },
    {
      "cell_type": "code",
      "metadata": {
        "colab": {
          "base_uri": "https://localhost:8080/",
          "height": 36
        },
        "id": "5iGzPrC1imk_",
        "outputId": "cf4f0cda-9bc0-4d99-f083-78d3c3afe480"
      },
      "source": [
        "Phone.get_current_time()"
      ],
      "execution_count": 7,
      "outputs": [
        {
          "output_type": "execute_result",
          "data": {
            "application/vnd.google.colaboratory.intrinsic+json": {
              "type": "string"
            },
            "text/plain": [
              "'09:19:19'"
            ]
          },
          "metadata": {
            "tags": []
          },
          "execution_count": 7
        }
      ]
    },
    {
      "cell_type": "code",
      "metadata": {
        "id": "yyTcLHK0is0t"
      },
      "source": [
        "phone = Phone()"
      ],
      "execution_count": 8,
      "outputs": []
    },
    {
      "cell_type": "code",
      "metadata": {
        "colab": {
          "base_uri": "https://localhost:8080/",
          "height": 36
        },
        "id": "lagB7Wr1jC1l",
        "outputId": "de06f894-be37-4b7c-b89a-689dbd5d0e64"
      },
      "source": [
        "phone.get_current_time()"
      ],
      "execution_count": 9,
      "outputs": [
        {
          "output_type": "execute_result",
          "data": {
            "application/vnd.google.colaboratory.intrinsic+json": {
              "type": "string"
            },
            "text/plain": [
              "'09:19:37'"
            ]
          },
          "metadata": {
            "tags": []
          },
          "execution_count": 9
        }
      ]
    },
    {
      "cell_type": "code",
      "metadata": {
        "colab": {
          "base_uri": "https://localhost:8080/"
        },
        "id": "53TsdWy7jEqt",
        "outputId": "3a25f73d-1933-47ce-f0d5-f9f94cd50f88"
      },
      "source": [
        "import time\r\n",
        "class Phone:\r\n",
        "\r\n",
        "  instances = []\r\n",
        "\r\n",
        "  def __init__(self):\r\n",
        "    self.creation_time = Phone.get_current_time()\r\n",
        "    Phone.instances.append(self)\r\n",
        "\r\n",
        "  @staticmethod\r\n",
        "  def get_current_time():\r\n",
        "    return time.strftime('%H:%M:%S',time.localtime())\r\n",
        "\r\n",
        "Phone.__dict__"
      ],
      "execution_count": 13,
      "outputs": [
        {
          "output_type": "execute_result",
          "data": {
            "text/plain": [
              "mappingproxy({'__dict__': <attribute '__dict__' of 'Phone' objects>,\n",
              "              '__doc__': None,\n",
              "              '__init__': <function __main__.Phone.__init__>,\n",
              "              '__module__': '__main__',\n",
              "              '__weakref__': <attribute '__weakref__' of 'Phone' objects>,\n",
              "              'get_current_time': <staticmethod at 0x7f5ff98eeda0>,\n",
              "              'instances': []})"
            ]
          },
          "metadata": {
            "tags": []
          },
          "execution_count": 13
        }
      ]
    },
    {
      "cell_type": "code",
      "metadata": {
        "id": "j88Q2-J8j819"
      },
      "source": [
        "phone1 = Phone()\r\n",
        "time.sleep(1)\r\n",
        "phone2 = Phone()"
      ],
      "execution_count": 14,
      "outputs": []
    },
    {
      "cell_type": "code",
      "metadata": {
        "colab": {
          "base_uri": "https://localhost:8080/"
        },
        "id": "c_mzP2uWkGN1",
        "outputId": "2be2307a-7ec2-4164-ff53-02330402aa42"
      },
      "source": [
        "Phone.instances"
      ],
      "execution_count": 15,
      "outputs": [
        {
          "output_type": "execute_result",
          "data": {
            "text/plain": [
              "[<__main__.Phone at 0x7f5ff1a9e3c8>, <__main__.Phone at 0x7f5ff1a9ec50>]"
            ]
          },
          "metadata": {
            "tags": []
          },
          "execution_count": 15
        }
      ]
    },
    {
      "cell_type": "code",
      "metadata": {
        "colab": {
          "base_uri": "https://localhost:8080/"
        },
        "id": "Q9IJAPjFkJTd",
        "outputId": "fb6396da-c5d5-4f8e-d5ab-6c2134bd10b5"
      },
      "source": [
        "for instance in Phone.instances:\r\n",
        "  print(instance.creation_time)"
      ],
      "execution_count": 16,
      "outputs": [
        {
          "output_type": "stream",
          "text": [
            "09:25:31\n",
            "09:25:32\n"
          ],
          "name": "stdout"
        }
      ]
    },
    {
      "cell_type": "code",
      "metadata": {
        "colab": {
          "base_uri": "https://localhost:8080/"
        },
        "id": "JrTjSIzRkpGN",
        "outputId": "14f6040a-073c-49fd-ef22-74ab45cef23e"
      },
      "source": [
        "class Person:\r\n",
        "\r\n",
        "  def __init__(self,input_str):\r\n",
        "    items = input_str.split(' ')\r\n",
        "    if len(items) > 1:\r\n",
        "      self._name = items[0]\r\n",
        "      self._surname = items[1]\r\n",
        "    else:\r\n",
        "      raise ValueError('Object cannot be created')\r\n",
        "\r\n",
        "  @property\r\n",
        "  def name(self):\r\n",
        "    return self._name\r\n",
        "\r\n",
        "  @property\r\n",
        "  def surname(self):\r\n",
        "    return self._surname\r\n",
        "\r\n",
        "Person.__dict__"
      ],
      "execution_count": 19,
      "outputs": [
        {
          "output_type": "execute_result",
          "data": {
            "text/plain": [
              "mappingproxy({'__dict__': <attribute '__dict__' of 'Person' objects>,\n",
              "              '__doc__': None,\n",
              "              '__init__': <function __main__.Person.__init__>,\n",
              "              '__module__': '__main__',\n",
              "              '__weakref__': <attribute '__weakref__' of 'Person' objects>,\n",
              "              'name': <property at 0x7f5ff19ad2c8>,\n",
              "              'surname': <property at 0x7f5ff19ad318>})"
            ]
          },
          "metadata": {
            "tags": []
          },
          "execution_count": 19
        }
      ]
    },
    {
      "cell_type": "code",
      "metadata": {
        "id": "h0nKtLYVlqyO"
      },
      "source": [
        "person = Person('Mark Twain')"
      ],
      "execution_count": 20,
      "outputs": []
    },
    {
      "cell_type": "code",
      "metadata": {
        "colab": {
          "base_uri": "https://localhost:8080/"
        },
        "id": "wPbotZGMl3ns",
        "outputId": "469d292b-af5b-4a6d-9f42-23a33123fb80"
      },
      "source": [
        "person.__dict__"
      ],
      "execution_count": 21,
      "outputs": [
        {
          "output_type": "execute_result",
          "data": {
            "text/plain": [
              "{'_name': 'Mark', '_surname': 'Twain'}"
            ]
          },
          "metadata": {
            "tags": []
          },
          "execution_count": 21
        }
      ]
    },
    {
      "cell_type": "code",
      "metadata": {
        "colab": {
          "base_uri": "https://localhost:8080/"
        },
        "id": "86b63Tmkl5x9",
        "outputId": "6a16f1bc-aa4f-48cf-dd8f-a0a5a1e82719"
      },
      "source": [
        "class Person:\r\n",
        "\r\n",
        "  def __init__(self,input_str):\r\n",
        "    if Person._is_string_with_space(input_str):\r\n",
        "      items = input_str.split(' ')\r\n",
        "      if len(items) == 1:\r\n",
        "        self._name = items[0]\r\n",
        "        self._surname = items[1]\r\n",
        "      else:\r\n",
        "        raise ValueError('Object cannot be created')\r\n",
        "    else:\r\n",
        "      raise ValueError('Please insert object with space')\r\n",
        "\r\n",
        "  @property\r\n",
        "  def name(self):\r\n",
        "    return self._name\r\n",
        "\r\n",
        "  @property\r\n",
        "  def surname(self):\r\n",
        "    return self._surname\r\n",
        "\r\n",
        "  @staticmethod\r\n",
        "  def _is_string_with_space(input_str):\r\n",
        "    return isinstance(input_str,str) and ' ' in input_str\r\n",
        "\r\n",
        "Person.__dict__"
      ],
      "execution_count": 24,
      "outputs": [
        {
          "output_type": "execute_result",
          "data": {
            "text/plain": [
              "mappingproxy({'__dict__': <attribute '__dict__' of 'Person' objects>,\n",
              "              '__doc__': None,\n",
              "              '__init__': <function __main__.Person.__init__>,\n",
              "              '__module__': '__main__',\n",
              "              '__weakref__': <attribute '__weakref__' of 'Person' objects>,\n",
              "              '_is_string_with_space': <staticmethod at 0x7f5ff196fd68>,\n",
              "              'name': <property at 0x7f5ff1a909f8>,\n",
              "              'surname': <property at 0x7f5ff19cef48>})"
            ]
          },
          "metadata": {
            "tags": []
          },
          "execution_count": 24
        }
      ]
    }
  ]
}