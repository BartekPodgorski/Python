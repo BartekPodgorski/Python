{
  "nbformat": 4,
  "nbformat_minor": 0,
  "metadata": {
    "colab": {
      "name": "01_statistics.ipynb",
      "provenance": [],
      "collapsed_sections": [],
      "authorship_tag": "ABX9TyPVi0DwKbp0x0p5ruAkDcyO",
      "include_colab_link": true
    },
    "kernelspec": {
      "name": "python3",
      "display_name": "Python 3"
    }
  },
  "cells": [
    {
      "cell_type": "markdown",
      "metadata": {
        "id": "view-in-github",
        "colab_type": "text"
      },
      "source": [
        "<a href=\"https://colab.research.google.com/github/BartekPodgorski/Python/blob/main/data-science-training/05_statistics/01_statistics.ipynb\" target=\"_parent\"><img src=\"https://colab.research.google.com/assets/colab-badge.svg\" alt=\"Open In Colab\"/></a>"
      ]
    },
    {
      "cell_type": "markdown",
      "metadata": {
        "id": "osQ04aRlcwL1"
      },
      "source": [
        "Discrete data"
      ]
    },
    {
      "cell_type": "code",
      "metadata": {
        "id": "tlmAOhU5PyTP",
        "colab": {
          "base_uri": "https://localhost:8080/"
        },
        "outputId": "440dcb82-df3b-4149-94c4-f2fe087befb2"
      },
      "source": [
        "import numpy as np\n",
        "\n",
        "X = np.array([3,4.5,5,4.5,3])\n",
        "print(X)"
      ],
      "execution_count": 1,
      "outputs": [
        {
          "output_type": "stream",
          "text": [
            "[3.  4.5 5.  4.5 3. ]\n"
          ],
          "name": "stdout"
        }
      ]
    },
    {
      "cell_type": "markdown",
      "metadata": {
        "id": "3YPqHg3Tc1Jh"
      },
      "source": [
        "Continous dara"
      ]
    },
    {
      "cell_type": "code",
      "metadata": {
        "id": "RQNb_WnEcviN",
        "colab": {
          "base_uri": "https://localhost:8080/"
        },
        "outputId": "c7c1d47f-2a89-4068-c31a-ee0dba109205"
      },
      "source": [
        "X = np.array([185.0,179.5,168.0,192.0,185.5])\n",
        "print(X)"
      ],
      "execution_count": 2,
      "outputs": [
        {
          "output_type": "stream",
          "text": [
            "[185.  179.5 168.  192.  185.5]\n"
          ],
          "name": "stdout"
        }
      ]
    },
    {
      "cell_type": "code",
      "metadata": {
        "id": "aw0_BPQrcTrS",
        "colab": {
          "base_uri": "https://localhost:8080/"
        },
        "outputId": "f594f392-d3ff-4e8a-bcf1-1f015f10fac4"
      },
      "source": [
        "X = np.array([3,4.5,5,4.5,3])\n",
        "X.mean()"
      ],
      "execution_count": 3,
      "outputs": [
        {
          "output_type": "execute_result",
          "data": {
            "text/plain": [
              "4.0"
            ]
          },
          "metadata": {
            "tags": []
          },
          "execution_count": 3
        }
      ]
    },
    {
      "cell_type": "code",
      "metadata": {
        "id": "2ACS8rZNdSHL",
        "colab": {
          "base_uri": "https://localhost:8080/"
        },
        "outputId": "e267da61-ee6c-4bd2-96d0-9245c96b4ec5"
      },
      "source": [
        "np.median(X)"
      ],
      "execution_count": 4,
      "outputs": [
        {
          "output_type": "execute_result",
          "data": {
            "text/plain": [
              "4.5"
            ]
          },
          "metadata": {
            "tags": []
          },
          "execution_count": 4
        }
      ]
    },
    {
      "cell_type": "markdown",
      "metadata": {
        "id": "xwHMDEa1ml8F"
      },
      "source": [
        "Measure of spread"
      ]
    },
    {
      "cell_type": "code",
      "metadata": {
        "id": "0jm2ryUrivax",
        "colab": {
          "base_uri": "https://localhost:8080/"
        },
        "outputId": "e7cfeb95-310e-4140-d8ae-d531592df99c"
      },
      "source": [
        "X = [3.5,4.0,4.0]\n",
        "Y = [2.0,4.0,5.0]\n",
        "X_mean = np.mean(X)\n",
        "Y_mean = np.mean(Y)\n",
        "\n",
        "print(f'X_mean: {X_mean:.4f}')\n",
        "print(f'Y_mean: {Y_mean:.4f}')"
      ],
      "execution_count": 5,
      "outputs": [
        {
          "output_type": "stream",
          "text": [
            "X_mean: 3.8333\n",
            "Y_mean: 3.6667\n"
          ],
          "name": "stdout"
        }
      ]
    },
    {
      "cell_type": "code",
      "metadata": {
        "id": "1YG212b6jr-B",
        "colab": {
          "base_uri": "https://localhost:8080/"
        },
        "outputId": "b2e9e458-a26e-4f6c-e153-d4e385364275"
      },
      "source": [
        "b_X = 1/len(X) * (abs(X-X_mean).sum())\n",
        "b_Y = 1/len(Y) * (abs(Y-Y_mean).sum())\n",
        "\n",
        "print(f'Avg error of X: {b_X:.4f}')\n",
        "print(f'Avg error of Y: {b_Y:.4f}')"
      ],
      "execution_count": null,
      "outputs": [
        {
          "output_type": "stream",
          "text": [
            "Avg error of X: 0.2222\n",
            "Avg error of Y: 1.1111\n"
          ],
          "name": "stdout"
        }
      ]
    },
    {
      "cell_type": "code",
      "metadata": {
        "id": "87BuJa7Uj2Uh",
        "colab": {
          "base_uri": "https://localhost:8080/"
        },
        "outputId": "a1d598b6-b345-4e41-9866-b21768c9f61c"
      },
      "source": [
        "var_X = 1/len(X) * ((X-X_mean)**2).sum()\n",
        "var_Y = 1/len(Y) * ((Y-Y_mean)**2).sum()\n",
        "\n",
        "print(f'Variation of X: {var_X:.4f}')\n",
        "print(f'Variation of Y: {var_Y:.4f}\\n')\n",
        "\n",
        "std_X = np.sqrt(var_X)\n",
        "std_Y = np.sqrt(var_Y)\n",
        "\n",
        "print(f'Standard deviation of X:{std_X:.4f}')\n",
        "print(f'Standard deviation of Y:{std_Y:.4f}')"
      ],
      "execution_count": 7,
      "outputs": [
        {
          "output_type": "stream",
          "text": [
            "Variation of X: 0.0556\n",
            "Variation of Y: 1.5556\n",
            "\n",
            "Standard deviation of X:0.2357\n",
            "Standard deviation of Y:1.2472\n"
          ],
          "name": "stdout"
        }
      ]
    },
    {
      "cell_type": "code",
      "metadata": {
        "id": "6a_o8ouHneXA",
        "colab": {
          "base_uri": "https://localhost:8080/"
        },
        "outputId": "307a18aa-adac-4a51-b48a-ccf67d67e462"
      },
      "source": [
        "print(np.std(X))\n",
        "print(np.std(Y))"
      ],
      "execution_count": 8,
      "outputs": [
        {
          "output_type": "stream",
          "text": [
            "0.23570226039551584\n",
            "1.247219128924647\n"
          ],
          "name": "stdout"
        }
      ]
    },
    {
      "cell_type": "markdown",
      "metadata": {
        "id": "IfSCIa9YnpHz"
      },
      "source": [
        "Emiprical distibution"
      ]
    },
    {
      "cell_type": "code",
      "metadata": {
        "id": "zH7iqxwHnlEv",
        "colab": {
          "base_uri": "https://localhost:8080/"
        },
        "outputId": "bd8deac2-053f-4887-f187-d5cdca9cb60d"
      },
      "source": [
        "omega = {1,2,3,4,5,6}\n",
        "A = {item for item in omega if item % 2 == 0}\n",
        "P_A = len(A)/len(omega)\n",
        "print(f'Omega:{A}')\n",
        "print(f'Probability:{P_A}')"
      ],
      "execution_count": 9,
      "outputs": [
        {
          "output_type": "stream",
          "text": [
            "Omega:{2, 4, 6}\n",
            "Probability:0.5\n"
          ],
          "name": "stdout"
        }
      ]
    },
    {
      "cell_type": "code",
      "metadata": {
        "id": "a3ZuiKvVtjka",
        "colab": {
          "base_uri": "https://localhost:8080/"
        },
        "outputId": "d491b402-d923-4a7a-a15a-54c61ba2684a"
      },
      "source": [
        "omega = {1,2,3,4,5,6}\n",
        "B = {item for item in omega if item > 4}\n",
        "P_B = len(B)/len(omega)\n",
        "print(f'Omega:{B}')\n",
        "print(f'Probability:{P_B}')"
      ],
      "execution_count": 10,
      "outputs": [
        {
          "output_type": "stream",
          "text": [
            "Omega:{5, 6}\n",
            "Probability:0.3333333333333333\n"
          ],
          "name": "stdout"
        }
      ]
    },
    {
      "cell_type": "code",
      "metadata": {
        "id": "MsS8kS16ty8H",
        "colab": {
          "base_uri": "https://localhost:8080/"
        },
        "outputId": "e60e4e4d-5fb8-43e9-d68a-6a882f4d5791"
      },
      "source": [
        "Intersection_AB = set.intersection(A,B)\n",
        "P_intersection_AB = len(Intersection_AB)/len(omega)\n",
        "PA_AB = P_A * P_B\n",
        "print(f'Intersection A_B:{Intersection_AB}\\n')\n",
        "print(f'Product of event A and B:{PA_AB:.4f}')\n",
        "print(f'Probal of product event A and B:{P_intersection_AB:.4f}')\n",
        "check = 'independent event' if PA_AB == P_intersection_AB else 'dependent event'\n",
        "print(check)"
      ],
      "execution_count": 11,
      "outputs": [
        {
          "output_type": "stream",
          "text": [
            "Intersection A_B:{6}\n",
            "\n",
            "Product of event A and B:0.1667\n",
            "Probal of product event A and B:0.1667\n",
            "independent event\n"
          ],
          "name": "stdout"
        }
      ]
    },
    {
      "cell_type": "code",
      "metadata": {
        "id": "Plmcinykv6Qu",
        "colab": {
          "base_uri": "https://localhost:8080/"
        },
        "outputId": "c3fc2af7-1889-44b4-9a62-4bf945f1c323"
      },
      "source": [
        "print(f'A: {A}')\n",
        "print(f'B: {B}')\n",
        "print(f'Intersection A nad B{Intersection_AB}')"
      ],
      "execution_count": 13,
      "outputs": [
        {
          "output_type": "stream",
          "text": [
            "A: {2, 4, 6}\n",
            "B: {5, 6}\n",
            "Intersection A nad B{6}\n"
          ],
          "name": "stdout"
        }
      ]
    },
    {
      "cell_type": "code",
      "metadata": {
        "colab": {
          "base_uri": "https://localhost:8080/"
        },
        "id": "h_VdNXKzSJGt",
        "outputId": "cd2aae0f-f06d-4102-f0be-bf14f149ac43"
      },
      "source": [
        "PA_cond_B = P_intersection_AB / P_B\n",
        "print(f'Probal: {PA_cond_B}')"
      ],
      "execution_count": 16,
      "outputs": [
        {
          "output_type": "stream",
          "text": [
            "Probal: 0.5\n"
          ],
          "name": "stdout"
        }
      ]
    },
    {
      "cell_type": "code",
      "metadata": {
        "colab": {
          "base_uri": "https://localhost:8080/"
        },
        "id": "JeXuLhJnSigd",
        "outputId": "ceb77185-76b3-4253-9f8f-d067d1f1a64b"
      },
      "source": [
        "EX = 0 * 0.5 + 1 * 0.3 + 2 * 0.15 + 3 * 0.05\n",
        "EX"
      ],
      "execution_count": 18,
      "outputs": [
        {
          "output_type": "execute_result",
          "data": {
            "text/plain": [
              "0.75"
            ]
          },
          "metadata": {
            "tags": []
          },
          "execution_count": 18
        }
      ]
    },
    {
      "cell_type": "code",
      "metadata": {
        "colab": {
          "base_uri": "https://localhost:8080/"
        },
        "id": "4Gng1rBPUgB1",
        "outputId": "63e4db48-ac5f-4de5-e01a-e44fee32c1fd"
      },
      "source": [
        "VAR_X = (0- EX)**2 * 0.5 + (1- EX)**2 * 0.3 + (2- EX)**2 * 0.15 + (3- EX)**2 * 0.05  \n",
        "VAR_X"
      ],
      "execution_count": 20,
      "outputs": [
        {
          "output_type": "execute_result",
          "data": {
            "text/plain": [
              "0.7875000000000001"
            ]
          },
          "metadata": {
            "tags": []
          },
          "execution_count": 20
        }
      ]
    },
    {
      "cell_type": "code",
      "metadata": {
        "colab": {
          "base_uri": "https://localhost:8080/"
        },
        "id": "wNiEcQHnVHqF",
        "outputId": "530e390b-167c-4887-8710-7c0c43b48d3b"
      },
      "source": [
        "import numpy as np\n",
        "\n",
        "STD_X = np.sqrt(VAR_X)\n",
        "STD_X"
      ],
      "execution_count": 21,
      "outputs": [
        {
          "output_type": "execute_result",
          "data": {
            "text/plain": [
              "0.8874119674649424"
            ]
          },
          "metadata": {
            "tags": []
          },
          "execution_count": 21
        }
      ]
    },
    {
      "cell_type": "code",
      "metadata": {
        "colab": {
          "base_uri": "https://localhost:8080/"
        },
        "id": "oFTDid9iVW1N",
        "outputId": "ee9697ab-087d-49c0-9067-4b4f33aeab7b"
      },
      "source": [
        "x = np.random.randn(5)\n",
        "y = np.random.randn(5)\n",
        "\n",
        "print(x, '\\n')\n",
        "print(y)"
      ],
      "execution_count": 23,
      "outputs": [
        {
          "output_type": "stream",
          "text": [
            "[ 1.11870851  1.03043759 -0.32597449 -0.40653042  1.38018281] \n",
            "\n",
            "[-0.4713167  -0.15497384  1.79983815 -0.84279601 -0.20813498]\n"
          ],
          "name": "stdout"
        }
      ]
    },
    {
      "cell_type": "code",
      "metadata": {
        "colab": {
          "base_uri": "https://localhost:8080/"
        },
        "id": "ozFxj9_1Vj4l",
        "outputId": "d727d0c9-5f88-4a92-e73a-a3d47e3b76aa"
      },
      "source": [
        "x.mean()"
      ],
      "execution_count": 25,
      "outputs": [
        {
          "output_type": "execute_result",
          "data": {
            "text/plain": [
              "0.5593647998361879"
            ]
          },
          "metadata": {
            "tags": []
          },
          "execution_count": 25
        }
      ]
    },
    {
      "cell_type": "code",
      "metadata": {
        "colab": {
          "base_uri": "https://localhost:8080/"
        },
        "id": "ri7CACaHVoOD",
        "outputId": "85618aa5-cffc-4772-e615-c58118efb512"
      },
      "source": [
        "x.std()"
      ],
      "execution_count": 26,
      "outputs": [
        {
          "output_type": "execute_result",
          "data": {
            "text/plain": [
              "0.7648916794934999"
            ]
          },
          "metadata": {
            "tags": []
          },
          "execution_count": 26
        }
      ]
    },
    {
      "cell_type": "code",
      "metadata": {
        "colab": {
          "base_uri": "https://localhost:8080/"
        },
        "id": "Zm_GG62ZVqmk",
        "outputId": "3dbb8aab-34b3-4aee-e256-601365da076f"
      },
      "source": [
        "np.corrcoef(x,y)"
      ],
      "execution_count": 28,
      "outputs": [
        {
          "output_type": "execute_result",
          "data": {
            "text/plain": [
              "array([[ 1.        , -0.36556778],\n",
              "       [-0.36556778,  1.        ]])"
            ]
          },
          "metadata": {
            "tags": []
          },
          "execution_count": 28
        }
      ]
    },
    {
      "cell_type": "code",
      "metadata": {
        "colab": {
          "base_uri": "https://localhost:8080/",
          "height": 284
        },
        "id": "tkxhJygIVtmF",
        "outputId": "766f7f3a-09d8-4655-c7cf-54c0a1584c14"
      },
      "source": [
        "import matplotlib.pyplot as plt\n",
        "import seaborn as sns\n",
        "from scipy.stats import norm\n",
        "\n",
        "sns.set()\n",
        "\n",
        "mu = 0 # mean\n",
        "sigma = 1 # sd\n",
        "x = np.linspace(mu-3 * sigma,mu+3 * sigma,100 )\n",
        "plt.title('normal distribution')\n",
        "_ = plt.plot(x,norm.pdf(x,mu,sigma))"
      ],
      "execution_count": 30,
      "outputs": [
        {
          "output_type": "display_data",
          "data": {
            "image/png": "[encoded data removed]",
            "text/plain": [
              "<Figure size 432x288 with 1 Axes>"
            ]
          },
          "metadata": {
            "tags": []
          }
        }
      ]
    },
    {
      "cell_type": "code",
      "metadata": {
        "colab": {
          "base_uri": "https://localhost:8080/",
          "height": 613
        },
        "id": "gFPtgdLlWfft",
        "outputId": "e4b44d08-838a-437d-e54d-254055f2eb56"
      },
      "source": [
        "x = np.linspace(mu-3 * sigma,mu+3 * sigma,500 )\n",
        "paramas = [(0,1),(0,2),(0,0.5)]\n",
        "\n",
        "plt.figure(figsize=(10,10))\n",
        "for my,sigma in paramas:\n",
        "  plt.plot(x,norm.pdf(x,mu,sigma),label=f'mu={mu},sigma={sigma}')\n",
        "plt.legend()"
      ],
      "execution_count": 31,
      "outputs": [
        {
          "output_type": "execute_result",
          "data": {
            "text/plain": [
              "<matplotlib.legend.Legend at 0x7f3a5a8db240>"
            ]
          },
          "metadata": {
            "tags": []
          },
          "execution_count": 31
        },
        {
          "output_type": "display_data",
          "data": {
            "image/png": "[encoded data removed]",
            "text/plain": [
              "<Figure size 720x720 with 1 Axes>"
            ]
          },
          "metadata": {
            "tags": []
          }
        }
      ]
    }
  ]
}