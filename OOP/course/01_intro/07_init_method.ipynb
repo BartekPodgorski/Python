{
  "nbformat": 4,
  "nbformat_minor": 0,
  "metadata": {
    "colab": {
      "name": "07_init_method.ipynb",
      "provenance": [],
      "collapsed_sections": [],
      "authorship_tag": "ABX9TyNDJEYSDFvH5mW5gLNzf/qS",
      "include_colab_link": true
    },
    "kernelspec": {
      "name": "python3",
      "display_name": "Python 3"
    }
  },
  "cells": [
    {
      "cell_type": "markdown",
      "metadata": {
        "id": "view-in-github",
        "colab_type": "text"
      },
      "source": [
        "<a href=\"https://colab.research.google.com/github/BartekPodgorski/Python/blob/main/OOP/course/01_intro/07_init_method.ipynb\" target=\"_parent\"><img src=\"https://colab.research.google.com/assets/colab-badge.svg\" alt=\"Open In Colab\"/></a>"
      ]
    },
    {
      "cell_type": "code",
      "metadata": {
        "colab": {
          "base_uri": "https://localhost:8080/"
        },
        "id": "efmNfXU-l_32",
        "outputId": "6749eb34-584d-4d6b-9e21-f456175efb64"
      },
      "source": [
        "class Phone:\n",
        "  \"\"\"Phone Class\"\"\"\n",
        "\n",
        "help(Phone)"
      ],
      "execution_count": 1,
      "outputs": [
        {
          "output_type": "stream",
          "text": [
            "Help on class Phone in module __main__:\n",
            "\n",
            "class Phone(builtins.object)\n",
            " |  Phone Class\n",
            " |  \n",
            " |  Data descriptors defined here:\n",
            " |  \n",
            " |  __dict__\n",
            " |      dictionary for instance variables (if defined)\n",
            " |  \n",
            " |  __weakref__\n",
            " |      list of weak references to the object (if defined)\n",
            "\n"
          ],
          "name": "stdout"
        }
      ]
    },
    {
      "cell_type": "code",
      "metadata": {
        "id": "AtoKkdMCmPUI"
      },
      "source": [
        "class Phone:\n",
        "  \"\"\"Phone Class\"\"\"\n",
        "\n",
        "  def __init__(self):\n",
        "    print(f\"Initialization new object:{self}\")\n",
        "\n",
        "help(Phone)"
      ],
      "execution_count": null,
      "outputs": []
    },
    {
      "cell_type": "code",
      "metadata": {
        "colab": {
          "base_uri": "https://localhost:8080/"
        },
        "id": "MG3qq9TJniEZ",
        "outputId": "b5f759a1-245e-4fdd-9fc8-48e4f58ab3cd"
      },
      "source": [
        "Phone()"
      ],
      "execution_count": 3,
      "outputs": [
        {
          "output_type": "stream",
          "text": [
            "Initialization new object:<__main__.Phone object at 0x000001BBBD3A1B88>\n"
          ],
          "name": "stdout"
        },
        {
          "output_type": "execute_result",
          "data": {
            "text/plain": [
              "<__main__.Phone at 0x1bbbd3a1b88>"
            ]
          },
          "metadata": {
            "tags": []
          },
          "execution_count": 3
        }
      ]
    },
    {
      "cell_type": "code",
      "metadata": {
        "id": "oOuwGiAinkWi"
      },
      "source": [
        "class Phone:\n",
        "  pass\n",
        "\n",
        "pjone1 = Phone()"
      ],
      "execution_count": 5,
      "outputs": []
    },
    {
      "cell_type": "code",
      "metadata": {
        "id": "08zD9aV5IjSB"
      },
      "source": [
        "phone2 = Phone.__new__(Phone)"
      ],
      "execution_count": 6,
      "outputs": []
    },
    {
      "cell_type": "code",
      "metadata": {
        "id": "teGsIe-DIqS4"
      },
      "source": [
        "phone2.__init__()"
      ],
      "execution_count": 7,
      "outputs": []
    },
    {
      "cell_type": "code",
      "metadata": {
        "id": "VZgxcpVfIuSd"
      },
      "source": [
        "class Phone:\n",
        "  \"\"\"Phone Class\"\"\"\n",
        "\n",
        "  def __init__(self):\n",
        "    print(f\"Initialization new object:{self}\")\n"
      ],
      "execution_count": 8,
      "outputs": []
    },
    {
      "cell_type": "code",
      "metadata": {
        "colab": {
          "base_uri": "https://localhost:8080/"
        },
        "id": "UPleFpXII0MO",
        "outputId": "a878ce57-7379-42f7-8717-59a820333866"
      },
      "source": [
        "phone1 = Phone()"
      ],
      "execution_count": 9,
      "outputs": [
        {
          "output_type": "stream",
          "text": [
            "Initialization new object:<__main__.Phone object at 0x000001BBBD457E88>\n"
          ],
          "name": "stdout"
        }
      ]
    },
    {
      "cell_type": "code",
      "metadata": {
        "id": "Z2RlfnajI1fX"
      },
      "source": [
        "class Phone:\n",
        "  \"\"\"Phone Class\"\"\"\n",
        "\n",
        "  def __init__(self,value):\n",
        "    print(f\"Initialization new object:{self}\")\n",
        "    self.brand = value\n"
      ],
      "execution_count": 10,
      "outputs": []
    },
    {
      "cell_type": "code",
      "metadata": {
        "colab": {
          "base_uri": "https://localhost:8080/"
        },
        "id": "YOaP5_QpI-KW",
        "outputId": "4152efb3-a3ea-41aa-9bc5-31ba131a553f"
      },
      "source": [
        "phone2 = Phone('Apple')"
      ],
      "execution_count": 11,
      "outputs": [
        {
          "output_type": "stream",
          "text": [
            "Initialization new object:<__main__.Phone object at 0x000001BBBD497E48>\n"
          ],
          "name": "stdout"
        }
      ]
    },
    {
      "cell_type": "code",
      "metadata": {
        "colab": {
          "base_uri": "https://localhost:8080/"
        },
        "id": "Gj04QMBHJD1o",
        "outputId": "0e1db0ed-26bf-42e8-e7d8-0aa301b1a4c5"
      },
      "source": [
        "phone2.brand"
      ],
      "execution_count": 12,
      "outputs": [
        {
          "output_type": "execute_result",
          "data": {
            "text/plain": [
              "'Apple'"
            ]
          },
          "metadata": {
            "tags": []
          },
          "execution_count": 12
        }
      ]
    },
    {
      "cell_type": "code",
      "metadata": {
        "id": "XjXUtGq4JG14"
      },
      "source": [
        "class Phone:\n",
        "  \"\"\"Phone Class\"\"\"\n",
        "\n",
        "  def __init__(self,brand):\n",
        "    self.brand = brand\n"
      ],
      "execution_count": 13,
      "outputs": []
    },
    {
      "cell_type": "code",
      "metadata": {
        "id": "bpdwHZCGJa82"
      },
      "source": [
        "class Laptop:\n",
        "\n",
        "  def __init__(self,brand, model,price):\n",
        "    self.brand = brand\n",
        "    self.model = model\n",
        "    self.price = price\n",
        "\n",
        "  def display_attrs(self):\n",
        "    for atr in self.__dict__.keys():\n",
        "      print(atr)\n",
        "\n",
        "  def display_values(self):\n",
        "    for atr,value in self.__dict__.items():\n",
        "      print(atr,value)"
      ],
      "execution_count": 24,
      "outputs": []
    },
    {
      "cell_type": "code",
      "metadata": {
        "id": "Okh6KMdnJoPP"
      },
      "source": [
        "laptop1 = Laptop('Acer','Predator',5400)"
      ],
      "execution_count": 25,
      "outputs": []
    },
    {
      "cell_type": "code",
      "metadata": {
        "colab": {
          "base_uri": "https://localhost:8080/"
        },
        "id": "j-SrYO4zKCDy",
        "outputId": "ce7232db-e3fb-4303-bdc7-a3e273482b6a"
      },
      "source": [
        "laptop1.display_attrs()"
      ],
      "execution_count": 26,
      "outputs": [
        {
          "output_type": "stream",
          "text": [
            "brand\n",
            "model\n",
            "price\n"
          ],
          "name": "stdout"
        }
      ]
    },
    {
      "cell_type": "code",
      "metadata": {
        "colab": {
          "base_uri": "https://localhost:8080/"
        },
        "id": "cBp696JaKZXH",
        "outputId": "baa54b33-aa05-4814-f45d-a2b30ac4546e"
      },
      "source": [
        "laptop1.display_values()"
      ],
      "execution_count": 27,
      "outputs": [
        {
          "output_type": "stream",
          "text": [
            "brand Acer\n",
            "model Predator\n",
            "price 5400\n"
          ],
          "name": "stdout"
        }
      ]
    },
    {
      "cell_type": "code",
      "metadata": {
        "id": "tLpwEsXIKvf2"
      },
      "source": [
        "class Vector:\n",
        "  def __init__(self,*args):\n",
        "    self.components = args"
      ],
      "execution_count": 28,
      "outputs": []
    },
    {
      "cell_type": "code",
      "metadata": {
        "colab": {
          "base_uri": "https://localhost:8080/"
        },
        "id": "aLuQqWorLZ72",
        "outputId": "4b4c30ce-0292-4ee8-ed8b-a75a9f156514"
      },
      "source": [
        "v1 = Vector(3,4)\n",
        "v1.components"
      ],
      "execution_count": 29,
      "outputs": [
        {
          "output_type": "execute_result",
          "data": {
            "text/plain": [
              "(3, 4)"
            ]
          },
          "metadata": {
            "tags": []
          },
          "execution_count": 29
        }
      ]
    },
    {
      "cell_type": "code",
      "metadata": {
        "id": "HuIMHU9OLfX3"
      },
      "source": [
        "v2 = Vector(5,3,-2)"
      ],
      "execution_count": 30,
      "outputs": []
    },
    {
      "cell_type": "code",
      "metadata": {
        "colab": {
          "base_uri": "https://localhost:8080/"
        },
        "id": "8ykspY4gLkKn",
        "outputId": "c18706f1-40dc-4d56-fd3e-f6d1491e7b03"
      },
      "source": [
        "v2.components"
      ],
      "execution_count": 31,
      "outputs": [
        {
          "output_type": "execute_result",
          "data": {
            "text/plain": [
              "(5, 3, -2)"
            ]
          },
          "metadata": {
            "tags": []
          },
          "execution_count": 31
        }
      ]
    },
    {
      "cell_type": "code",
      "metadata": {
        "id": "8Uwmlj7dLlB3"
      },
      "source": [
        "class Vector:\n",
        "  def __init__(self,*components):\n",
        "    self.components = components"
      ],
      "execution_count": 32,
      "outputs": []
    },
    {
      "cell_type": "code",
      "metadata": {
        "id": "j-uOwaFdLqNN"
      },
      "source": [
        "class TechStack:\n",
        "\n",
        "  def __init__(self,**techs):\n",
        "    self.techs = techs"
      ],
      "execution_count": 39,
      "outputs": []
    },
    {
      "cell_type": "code",
      "metadata": {
        "id": "pdvHvW1aL6UH"
      },
      "source": [
        "stack = TechStack(python = 'mid')"
      ],
      "execution_count": 34,
      "outputs": []
    },
    {
      "cell_type": "code",
      "metadata": {
        "colab": {
          "base_uri": "https://localhost:8080/"
        },
        "id": "mtdFSL4kMA3P",
        "outputId": "b953b035-ae30-445e-8569-5afcbdcee14e"
      },
      "source": [
        "stack.techs"
      ],
      "execution_count": 35,
      "outputs": [
        {
          "output_type": "execute_result",
          "data": {
            "text/plain": [
              "{'python': 'mid'}"
            ]
          },
          "metadata": {
            "tags": []
          },
          "execution_count": 35
        }
      ]
    },
    {
      "cell_type": "code",
      "metadata": {
        "id": "IyF3cYJ1MC2W"
      },
      "source": [
        "stack = TechStack(python = 'mid',java = 'senior')"
      ],
      "execution_count": 36,
      "outputs": []
    },
    {
      "cell_type": "code",
      "metadata": {
        "colab": {
          "base_uri": "https://localhost:8080/"
        },
        "id": "6X-vGL9bMHHv",
        "outputId": "c4027a4e-6eb1-4186-d79e-039dd70247dd"
      },
      "source": [
        "stack.techs"
      ],
      "execution_count": 37,
      "outputs": [
        {
          "output_type": "execute_result",
          "data": {
            "text/plain": [
              "{'python': 'mid', 'java': 'senior'}"
            ]
          },
          "metadata": {
            "tags": []
          },
          "execution_count": 37
        }
      ]
    },
    {
      "cell_type": "code",
      "metadata": {
        "colab": {
          "base_uri": "https://localhost:8080/"
        },
        "id": "E2aKDyvmMIlO",
        "outputId": "14306070-7ddc-4664-b65c-5282ffeba573"
      },
      "source": [
        "stack.__dict__"
      ],
      "execution_count": 38,
      "outputs": [
        {
          "output_type": "execute_result",
          "data": {
            "text/plain": [
              "{'techs': {'python': 'mid', 'java': 'senior'}}"
            ]
          },
          "metadata": {
            "tags": []
          },
          "execution_count": 38
        }
      ]
    },
    {
      "cell_type": "code",
      "metadata": {
        "id": "YyHu0poJMLNv"
      },
      "source": [
        "class TechStack:\n",
        "\n",
        "  def __init__(self,**techs):\n",
        "    for tech,level in techs.items():\n",
        "     setattr(self,tech,level)\n",
        "\n",
        "  def display_info(self):\n",
        "    print(len(self.__dict__))"
      ],
      "execution_count": 54,
      "outputs": []
    },
    {
      "cell_type": "code",
      "metadata": {
        "id": "BmLUzORqM7wt"
      },
      "source": [
        "stack = TechStack(python = 'mid',java = 'senior')"
      ],
      "execution_count": 55,
      "outputs": []
    },
    {
      "cell_type": "code",
      "metadata": {
        "colab": {
          "base_uri": "https://localhost:8080/"
        },
        "id": "B2FNgtX4M9_9",
        "outputId": "f4683ee0-1f89-46ea-cf03-9e85ed570754"
      },
      "source": [
        "stack.python"
      ],
      "execution_count": 56,
      "outputs": [
        {
          "output_type": "execute_result",
          "data": {
            "text/plain": [
              "'mid'"
            ]
          },
          "metadata": {
            "tags": []
          },
          "execution_count": 56
        }
      ]
    },
    {
      "cell_type": "code",
      "metadata": {
        "colab": {
          "base_uri": "https://localhost:8080/"
        },
        "id": "53PKG45YNEUf",
        "outputId": "ae97ff2f-3e25-4445-e7fc-d7d3f804d805"
      },
      "source": [
        "stack.display_info()"
      ],
      "execution_count": 57,
      "outputs": [
        {
          "output_type": "stream",
          "text": [
            "2\n"
          ],
          "name": "stdout"
        }
      ]
    },
    {
      "cell_type": "code",
      "metadata": {
        "id": "ztnVXAxMO7-V"
      },
      "source": [
        "class Phone:\n",
        "\n",
        "  def __init__(self,brand, model,price):\n",
        "    self.brand = brand\n",
        "    self.model = model\n",
        "\n",
        "    if isinstance(price,(int,float)):\n",
        "      self.price = price\n",
        "    else:\n",
        "      raise TypeError('The price argument must be of type int or float')\n",
        "\n",
        "phone1 = Phone('Apple','Ihopne SE',2199)"
      ],
      "execution_count": 2,
      "outputs": []
    },
    {
      "cell_type": "code",
      "metadata": {
        "colab": {
          "base_uri": "https://localhost:8080/"
        },
        "id": "-8SaZLLRPlOx",
        "outputId": "d0f2f603-182d-4b22-91dc-d36f2f1dae71"
      },
      "source": [
        "phone2 = Phone('Apple','Ihopne SE',True)\n",
        "phone2.brand , phone2.model, phone2.price"
      ],
      "execution_count": 5,
      "outputs": [
        {
          "output_type": "execute_result",
          "data": {
            "text/plain": [
              "('Apple', 'Ihopne SE', True)"
            ]
          },
          "metadata": {
            "tags": []
          },
          "execution_count": 5
        }
      ]
    },
    {
      "cell_type": "code",
      "metadata": {
        "id": "_KMcuaeUQbfe"
      },
      "source": [
        "class Phone:\n",
        "\n",
        "  def __init__(self,brand, model,price):\n",
        "    self.brand = brand\n",
        "    self.model = model\n",
        "\n",
        "    if isinstance(price,(int,float)):\n",
        "      self.price = price\n",
        "    else:\n",
        "      raise TypeError('The price argument must be of type int or float')"
      ],
      "execution_count": 6,
      "outputs": []
    },
    {
      "cell_type": "code",
      "metadata": {
        "colab": {
          "base_uri": "https://localhost:8080/",
          "height": 284
        },
        "id": "5rYImlNPRnpo",
        "outputId": "02830c67-d18f-42f4-9e31-ae72c9809ba5"
      },
      "source": [
        "phone2 = Phone('Apple','Ihopne SE',\"True\")\n",
        "phone2.brand , phone2.model, phone2.price"
      ],
      "execution_count": 7,
      "outputs": [
        {
          "output_type": "error",
          "ename": "TypeError",
          "evalue": "ignored",
          "traceback": [
            "\u001b[1;31m---------------------------------------------------------------------------\u001b[0m",
            "\u001b[1;31mTypeError\u001b[0m                                 Traceback (most recent call last)",
            "\u001b[1;32m<ipython-input-7-6b1fa8e24c2b>\u001b[0m in \u001b[0;36m<module>\u001b[1;34m\u001b[0m\n\u001b[1;32m----> 1\u001b[1;33m \u001b[0mphone2\u001b[0m \u001b[1;33m=\u001b[0m \u001b[0mPhone\u001b[0m\u001b[1;33m(\u001b[0m\u001b[1;34m'Apple'\u001b[0m\u001b[1;33m,\u001b[0m\u001b[1;34m'Ihopne SE'\u001b[0m\u001b[1;33m,\u001b[0m\u001b[1;34m\"True\"\u001b[0m\u001b[1;33m)\u001b[0m\u001b[1;33m\u001b[0m\u001b[1;33m\u001b[0m\u001b[0m\n\u001b[0m\u001b[0;32m      2\u001b[0m \u001b[0mphone2\u001b[0m\u001b[1;33m.\u001b[0m\u001b[0mbrand\u001b[0m \u001b[1;33m,\u001b[0m \u001b[0mphone2\u001b[0m\u001b[1;33m.\u001b[0m\u001b[0mmodel\u001b[0m\u001b[1;33m,\u001b[0m \u001b[0mphone2\u001b[0m\u001b[1;33m.\u001b[0m\u001b[0mprice\u001b[0m\u001b[1;33m\u001b[0m\u001b[1;33m\u001b[0m\u001b[0m\n",
            "\u001b[1;32m<ipython-input-6-65e81d9166b9>\u001b[0m in \u001b[0;36m__init__\u001b[1;34m(self, brand, model, price)\u001b[0m\n\u001b[0;32m      8\u001b[0m       \u001b[0mself\u001b[0m\u001b[1;33m.\u001b[0m\u001b[0mprice\u001b[0m \u001b[1;33m=\u001b[0m \u001b[0mprice\u001b[0m\u001b[1;33m\u001b[0m\u001b[1;33m\u001b[0m\u001b[0m\n\u001b[0;32m      9\u001b[0m     \u001b[1;32melse\u001b[0m\u001b[1;33m:\u001b[0m\u001b[1;33m\u001b[0m\u001b[1;33m\u001b[0m\u001b[0m\n\u001b[1;32m---> 10\u001b[1;33m       \u001b[1;32mraise\u001b[0m \u001b[0mTypeError\u001b[0m\u001b[1;33m(\u001b[0m\u001b[1;34m'The price argument must be of type int or float'\u001b[0m\u001b[1;33m)\u001b[0m\u001b[1;33m\u001b[0m\u001b[1;33m\u001b[0m\u001b[0m\n\u001b[0m",
            "\u001b[1;31mTypeError\u001b[0m: The price argument must be of type int or float"
          ]
        }
      ]
    },
    {
      "cell_type": "code",
      "metadata": {
        "id": "FOXqXnSGRxXm"
      },
      "source": [
        "class Phone:\n",
        "\n",
        "  def __init__(self,brand, model,price):\n",
        "    self.brand = brand\n",
        "    self.model = model\n",
        "\n",
        "    if isinstance(price,(int,float)):\n",
        "      self.price = price\n",
        "    else:\n",
        "      raise TypeError('The price argument must be of type int or float')\n",
        "\n",
        "  def show_details(self):\n",
        "    for atr,value in self.__dict__.items():\n",
        "      if atr is not 'price':\n",
        "        print(f'{atr.capitalize()}: {value}') \n",
        "      else:\n",
        "        print(f'{atr.capitalize()}: {value} PLN')\n",
        "\n",
        "  def pln_to_usd(self):\n",
        "    self.price = self.price / 4.0 "
      ],
      "execution_count": 21,
      "outputs": []
    },
    {
      "cell_type": "code",
      "metadata": {
        "id": "IgmDlMdeSQWN"
      },
      "source": [
        "phone1 = Phone('Apple','Ihopne SE',2199)"
      ],
      "execution_count": 22,
      "outputs": []
    },
    {
      "cell_type": "code",
      "metadata": {
        "colab": {
          "base_uri": "https://localhost:8080/"
        },
        "id": "F6bBSWRnSk-G",
        "outputId": "b14be840-c10c-45c3-c421-8d767ce02a30"
      },
      "source": [
        "phone1.show_details()"
      ],
      "execution_count": 23,
      "outputs": [
        {
          "output_type": "stream",
          "text": [
            "Brand: Apple\n",
            "Model: Ihopne SE\n",
            "Price: 2199 PLN\n"
          ],
          "name": "stdout"
        }
      ]
    },
    {
      "cell_type": "code",
      "metadata": {
        "colab": {
          "base_uri": "https://localhost:8080/"
        },
        "id": "F6CMxk7oSnS_",
        "outputId": "183f0616-c8fa-4cad-b2d4-7651b706d89e"
      },
      "source": [
        "phone1.price"
      ],
      "execution_count": 24,
      "outputs": [
        {
          "output_type": "execute_result",
          "data": {
            "text/plain": [
              "2199"
            ]
          },
          "metadata": {
            "tags": []
          },
          "execution_count": 24
        }
      ]
    },
    {
      "cell_type": "code",
      "metadata": {
        "id": "nm25Hh6JTUau"
      },
      "source": [
        "phone1.pln_to_usd()"
      ],
      "execution_count": 25,
      "outputs": []
    },
    {
      "cell_type": "code",
      "metadata": {
        "id": "P-AVeZWzTWD2"
      },
      "source": [
        "class TechStack:\n",
        "\n",
        "  def __init__(self,tech=None):\n",
        "    self.tech = tech if tech else 'python'\n",
        "\n",
        "  def display_info(self):\n",
        "    if self.tech:\n",
        "      print(f'tech: {self.tech}')\n",
        "    else:\n",
        "      print('No techs')"
      ],
      "execution_count": 32,
      "outputs": []
    },
    {
      "cell_type": "code",
      "metadata": {
        "colab": {
          "base_uri": "https://localhost:8080/"
        },
        "id": "dtmZ6UTBTuj0",
        "outputId": "dec85b36-0909-4fb2-8c9e-eb0455596338"
      },
      "source": [
        "stack = TechStack()\n",
        "stack.__dict__"
      ],
      "execution_count": 33,
      "outputs": [
        {
          "output_type": "execute_result",
          "data": {
            "text/plain": [
              "{'tech': 'python'}"
            ]
          },
          "metadata": {
            "tags": []
          },
          "execution_count": 33
        }
      ]
    },
    {
      "cell_type": "code",
      "metadata": {
        "colab": {
          "base_uri": "https://localhost:8080/"
        },
        "id": "oFIUsWj8TzYO",
        "outputId": "6dd986f4-86a6-40b1-8c66-e378db4e695f"
      },
      "source": [
        "stack.display_info()"
      ],
      "execution_count": 31,
      "outputs": [
        {
          "output_type": "stream",
          "text": [
            "No techs\n"
          ],
          "name": "stdout"
        }
      ]
    },
    {
      "cell_type": "code",
      "metadata": {
        "id": "gxvv008jT062"
      },
      "source": [
        ""
      ],
      "execution_count": null,
      "outputs": []
    }
  ]
}