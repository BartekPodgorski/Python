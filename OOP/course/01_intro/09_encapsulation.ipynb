{
  "nbformat": 4,
  "nbformat_minor": 0,
  "metadata": {
    "colab": {
      "name": "09_encapsulation.ipynb",
      "provenance": [],
      "authorship_tag": "ABX9TyObwCRSd0w5fbRUr+ScnXCV",
      "include_colab_link": true
    },
    "kernelspec": {
      "name": "python3",
      "display_name": "Python 3"
    }
  },
  "cells": [
    {
      "cell_type": "markdown",
      "metadata": {
        "id": "view-in-github",
        "colab_type": "text"
      },
      "source": [
        "<a href=\"https://colab.research.google.com/github/BartekPodgorski/Python/blob/main/OOP/course/01_intro/09_encapsulation.ipynb\" target=\"_parent\"><img src=\"https://colab.research.google.com/assets/colab-badge.svg\" alt=\"Open In Colab\"/></a>"
      ]
    },
    {
      "cell_type": "code",
      "metadata": {
        "id": "h48QFqnaQl8U",
        "colab": {
          "base_uri": "https://localhost:8080/"
        },
        "outputId": "633a127f-db10-47c7-e558-a9ef488d15f5"
      },
      "source": [
        "class Phone:\r\n",
        "  def __init__(self,price):\r\n",
        "    self.price = price\r\n",
        "\r\n",
        "phone = Phone(2490)\r\n",
        "phone.__dict__"
      ],
      "execution_count": null,
      "outputs": [
        {
          "output_type": "execute_result",
          "data": {
            "text/plain": [
              "{'price': 2490}"
            ]
          },
          "metadata": {
            "tags": []
          },
          "execution_count": 1
        }
      ]
    },
    {
      "cell_type": "code",
      "metadata": {
        "colab": {
          "base_uri": "https://localhost:8080/"
        },
        "id": "-EGD4vv2WY8g",
        "outputId": "4ce9a84c-b46f-443c-e5b1-60ffa1217d1b"
      },
      "source": [
        "phone = Phone('app')\r\n",
        "phone.__dict__"
      ],
      "execution_count": null,
      "outputs": [
        {
          "output_type": "execute_result",
          "data": {
            "text/plain": [
              "{'price': 'app'}"
            ]
          },
          "metadata": {
            "tags": []
          },
          "execution_count": 2
        }
      ]
    },
    {
      "cell_type": "code",
      "metadata": {
        "colab": {
          "base_uri": "https://localhost:8080/"
        },
        "id": "X02US9N9WeSO",
        "outputId": "153c0ace-60f9-4587-dbf8-56bf278ae63a"
      },
      "source": [
        "phone = Phone(-2490)\r\n",
        "phone.__dict__"
      ],
      "execution_count": null,
      "outputs": [
        {
          "output_type": "execute_result",
          "data": {
            "text/plain": [
              "{'price': -2490}"
            ]
          },
          "metadata": {
            "tags": []
          },
          "execution_count": 3
        }
      ]
    },
    {
      "cell_type": "code",
      "metadata": {
        "colab": {
          "base_uri": "https://localhost:8080/"
        },
        "id": "FtU11Tc9WgmG",
        "outputId": "e17c335c-13e4-47f7-f230-ba8ba9638f4a"
      },
      "source": [
        "class Phone:\r\n",
        "  def __init__(self,price):\r\n",
        "    self._price = price\r\n",
        "\r\n",
        "  def get_price(self):\r\n",
        "    return self._price\r\n",
        "\r\n",
        "  def set_price(self,value):\r\n",
        "    self._price = value\r\n",
        "\r\n",
        "phone = Phone(2490)\r\n",
        "phone.__dict__"
      ],
      "execution_count": null,
      "outputs": [
        {
          "output_type": "execute_result",
          "data": {
            "text/plain": [
              "{'_price': 2490}"
            ]
          },
          "metadata": {
            "tags": []
          },
          "execution_count": 4
        }
      ]
    },
    {
      "cell_type": "code",
      "metadata": {
        "colab": {
          "base_uri": "https://localhost:8080/"
        },
        "id": "O8YCnjzRW4MV",
        "outputId": "4c088b90-fcf1-4565-cea9-f522f980a831"
      },
      "source": [
        "phone.get_price()"
      ],
      "execution_count": null,
      "outputs": [
        {
          "output_type": "execute_result",
          "data": {
            "text/plain": [
              "2490"
            ]
          },
          "metadata": {
            "tags": []
          },
          "execution_count": 6
        }
      ]
    },
    {
      "cell_type": "code",
      "metadata": {
        "id": "tTJ4JWtpW6E0"
      },
      "source": [
        "phone.set_price(10)"
      ],
      "execution_count": null,
      "outputs": []
    },
    {
      "cell_type": "code",
      "metadata": {
        "colab": {
          "base_uri": "https://localhost:8080/"
        },
        "id": "BscRxd9EW_7G",
        "outputId": "0f8d12dc-5576-4cb0-88b7-4914f1803aaf"
      },
      "source": [
        "phone.get_price()"
      ],
      "execution_count": null,
      "outputs": [
        {
          "output_type": "execute_result",
          "data": {
            "text/plain": [
              "10"
            ]
          },
          "metadata": {
            "tags": []
          },
          "execution_count": 8
        }
      ]
    },
    {
      "cell_type": "code",
      "metadata": {
        "colab": {
          "base_uri": "https://localhost:8080/"
        },
        "id": "fbrwkcb4XB6c",
        "outputId": "85ef770b-f5ab-47a4-8fcd-94aa8e29e680"
      },
      "source": [
        "phone._price"
      ],
      "execution_count": null,
      "outputs": [
        {
          "output_type": "execute_result",
          "data": {
            "text/plain": [
              "10"
            ]
          },
          "metadata": {
            "tags": []
          },
          "execution_count": 9
        }
      ]
    },
    {
      "cell_type": "code",
      "metadata": {
        "id": "XHC3dx4RXHQM"
      },
      "source": [
        "class Phone:\r\n",
        "  def __init__(self,price):\r\n",
        "    self.set_price(price)\r\n",
        "\r\n",
        "  def get_price(self):\r\n",
        "    return self._price\r\n",
        "\r\n",
        "  def set_price(self,value):\r\n",
        "    if isinstance(value,(int,float)):\r\n",
        "      if value > 0:\r\n",
        "        self._price = value\r\n",
        "      else:\r\n",
        "        raise ValueError('The price attribute must be positive')\r\n",
        "    else:\r\n",
        "      raise TypeError('The price attribute must be an int or float value')\r\n",
        "\r\n"
      ],
      "execution_count": null,
      "outputs": []
    },
    {
      "cell_type": "code",
      "metadata": {
        "colab": {
          "base_uri": "https://localhost:8080/"
        },
        "id": "NA3SARORlEbh",
        "outputId": "7a4e5d27-09a0-487a-adea-4508ea1e9710"
      },
      "source": [
        "phone = Phone(2490)\r\n",
        "phone.__dict__"
      ],
      "execution_count": null,
      "outputs": [
        {
          "output_type": "execute_result",
          "data": {
            "text/plain": [
              "{'_price': 2490}"
            ]
          },
          "metadata": {
            "tags": []
          },
          "execution_count": 18
        }
      ]
    },
    {
      "cell_type": "code",
      "metadata": {
        "id": "SddzxTR5lFu9"
      },
      "source": [
        "help(property)"
      ],
      "execution_count": null,
      "outputs": []
    },
    {
      "cell_type": "code",
      "metadata": {
        "colab": {
          "base_uri": "https://localhost:8080/"
        },
        "id": "1z98nrSAlO6-",
        "outputId": "e0f24f4c-0aec-446e-ec46-d497ec19d995"
      },
      "source": [
        "phone.get_price()"
      ],
      "execution_count": null,
      "outputs": [
        {
          "output_type": "execute_result",
          "data": {
            "text/plain": [
              "True"
            ]
          },
          "metadata": {
            "tags": []
          },
          "execution_count": 15
        }
      ]
    },
    {
      "cell_type": "code",
      "metadata": {
        "id": "uuw4VBrvlWPI"
      },
      "source": [
        "class Phone:\r\n",
        "  def __init__(self,price):\r\n",
        "    self._price = price\r\n",
        "\r\n",
        "  def get_price(self):\r\n",
        "    print('getting...')\r\n",
        "    return self._price"
      ],
      "execution_count": null,
      "outputs": []
    },
    {
      "cell_type": "code",
      "metadata": {
        "id": "Zik8slNXqS5g"
      },
      "source": [
        "phone = Phone(1000)"
      ],
      "execution_count": null,
      "outputs": []
    },
    {
      "cell_type": "code",
      "metadata": {
        "colab": {
          "base_uri": "https://localhost:8080/"
        },
        "id": "KSfjetwyqjcZ",
        "outputId": "8d38851b-e15e-4736-f38a-abfd96c425d1"
      },
      "source": [
        "phone.get_price()"
      ],
      "execution_count": null,
      "outputs": [
        {
          "output_type": "stream",
          "text": [
            "getting...\n"
          ],
          "name": "stdout"
        },
        {
          "output_type": "execute_result",
          "data": {
            "text/plain": [
              "1000"
            ]
          },
          "metadata": {
            "tags": []
          },
          "execution_count": 27
        }
      ]
    },
    {
      "cell_type": "code",
      "metadata": {
        "colab": {
          "base_uri": "https://localhost:8080/"
        },
        "id": "4opU1WMRqkuX",
        "outputId": "aafc7b48-f0da-4025-e296-44f40d2c4ace"
      },
      "source": [
        "class Phone:\r\n",
        "  def __init__(self,price):\r\n",
        "    self._price = price\r\n",
        "\r\n",
        "  def get_price(self):\r\n",
        "    print('getting...')\r\n",
        "    return self._price\r\n",
        "\r\n",
        "  price = property(fget = get_price)\r\n",
        "\r\n",
        "Phone.__dict__"
      ],
      "execution_count": null,
      "outputs": [
        {
          "output_type": "execute_result",
          "data": {
            "text/plain": [
              "mappingproxy({'__dict__': <attribute '__dict__' of 'Phone' objects>,\n",
              "              '__doc__': None,\n",
              "              '__init__': <function __main__.Phone.__init__>,\n",
              "              '__module__': '__main__',\n",
              "              '__weakref__': <attribute '__weakref__' of 'Phone' objects>,\n",
              "              'get_price': <function __main__.Phone.get_price>,\n",
              "              'price': <property at 0x7ff9315db958>})"
            ]
          },
          "metadata": {
            "tags": []
          },
          "execution_count": 28
        }
      ]
    },
    {
      "cell_type": "code",
      "metadata": {
        "id": "UrKjxxG1q0pn"
      },
      "source": [
        "phone = Phone(1000)"
      ],
      "execution_count": null,
      "outputs": []
    },
    {
      "cell_type": "code",
      "metadata": {
        "colab": {
          "base_uri": "https://localhost:8080/"
        },
        "id": "8Xf9hA4Xq9Ov",
        "outputId": "1d76c79e-0c34-47fd-e3b2-efb98f2b6ff3"
      },
      "source": [
        "phone.get_price()"
      ],
      "execution_count": null,
      "outputs": [
        {
          "output_type": "stream",
          "text": [
            "getting...\n"
          ],
          "name": "stdout"
        },
        {
          "output_type": "execute_result",
          "data": {
            "text/plain": [
              "1000"
            ]
          },
          "metadata": {
            "tags": []
          },
          "execution_count": 30
        }
      ]
    },
    {
      "cell_type": "code",
      "metadata": {
        "colab": {
          "base_uri": "https://localhost:8080/"
        },
        "id": "V1VD8_ffq-73",
        "outputId": "dd3875bd-ff6b-4858-d089-9701620d086c"
      },
      "source": [
        "phone.price"
      ],
      "execution_count": null,
      "outputs": [
        {
          "output_type": "stream",
          "text": [
            "getting...\n"
          ],
          "name": "stdout"
        },
        {
          "output_type": "execute_result",
          "data": {
            "text/plain": [
              "1000"
            ]
          },
          "metadata": {
            "tags": []
          },
          "execution_count": 32
        }
      ]
    },
    {
      "cell_type": "code",
      "metadata": {
        "colab": {
          "base_uri": "https://localhost:8080/"
        },
        "id": "Rpv5hYYjrEQA",
        "outputId": "df045dcb-1dfd-4fd3-e3aa-f2a92e71d991"
      },
      "source": [
        "class Phone:\r\n",
        "  def __init__(self,price):\r\n",
        "    self._price = price\r\n",
        "\r\n",
        "  def price(self):\r\n",
        "    print('getting...')\r\n",
        "    return self._price\r\n",
        "\r\n",
        "  price = property(fget = price)\r\n",
        "\r\n",
        "Phone.__dict__"
      ],
      "execution_count": null,
      "outputs": [
        {
          "output_type": "execute_result",
          "data": {
            "text/plain": [
              "mappingproxy({'__dict__': <attribute '__dict__' of 'Phone' objects>,\n",
              "              '__doc__': None,\n",
              "              '__init__': <function __main__.Phone.__init__>,\n",
              "              '__module__': '__main__',\n",
              "              '__weakref__': <attribute '__weakref__' of 'Phone' objects>,\n",
              "              'price': <property at 0x7ff931575688>})"
            ]
          },
          "metadata": {
            "tags": []
          },
          "execution_count": 33
        }
      ]
    },
    {
      "cell_type": "code",
      "metadata": {
        "colab": {
          "base_uri": "https://localhost:8080/"
        },
        "id": "RAbpjVNar44Q",
        "outputId": "dc7eb07b-4c65-4591-eb9f-66ce19e059af"
      },
      "source": [
        "phone = Phone(100)\r\n",
        "phone.price"
      ],
      "execution_count": null,
      "outputs": [
        {
          "output_type": "stream",
          "text": [
            "getting...\n"
          ],
          "name": "stdout"
        },
        {
          "output_type": "execute_result",
          "data": {
            "text/plain": [
              "100"
            ]
          },
          "metadata": {
            "tags": []
          },
          "execution_count": 34
        }
      ]
    },
    {
      "cell_type": "code",
      "metadata": {
        "colab": {
          "base_uri": "https://localhost:8080/"
        },
        "id": "LcsYDNWIsEjA",
        "outputId": "2f04ed69-2f6b-44e1-ebcf-ace2d3f645fb"
      },
      "source": [
        "class Phone:\r\n",
        "  def __init__(self,price):\r\n",
        "    self._price = price\r\n",
        "\r\n",
        "  def get_price(self):\r\n",
        "    print('getting...')\r\n",
        "    return self._price\r\n",
        "\r\n",
        "  def set_price(self,value):\r\n",
        "    if isinstance(value,(int,float)):\r\n",
        "      if value > 0:\r\n",
        "        self._price = value\r\n",
        "      else:\r\n",
        "        raise ValueError('The price attribute must be positive')\r\n",
        "    else:\r\n",
        "      raise TypeError('The price attribute must be an int or float value')\r\n",
        "\r\n",
        "  price = property(fget = get_price, fset=set_price)\r\n",
        "\r\n",
        "Phone.__dict__"
      ],
      "execution_count": null,
      "outputs": [
        {
          "output_type": "execute_result",
          "data": {
            "text/plain": [
              "mappingproxy({'__dict__': <attribute '__dict__' of 'Phone' objects>,\n",
              "              '__doc__': None,\n",
              "              '__init__': <function __main__.Phone.__init__>,\n",
              "              '__module__': '__main__',\n",
              "              '__weakref__': <attribute '__weakref__' of 'Phone' objects>,\n",
              "              'get_price': <function __main__.Phone.get_price>,\n",
              "              'price': <property at 0x7ff9315e0868>,\n",
              "              'set_price': <function __main__.Phone.set_price>})"
            ]
          },
          "metadata": {
            "tags": []
          },
          "execution_count": 36
        }
      ]
    },
    {
      "cell_type": "code",
      "metadata": {
        "id": "WMogmAQDuHpM"
      },
      "source": [
        "phone = Phone(3000)"
      ],
      "execution_count": null,
      "outputs": []
    },
    {
      "cell_type": "code",
      "metadata": {
        "colab": {
          "base_uri": "https://localhost:8080/"
        },
        "id": "TvBfQFXPuMsB",
        "outputId": "18688f1f-ae49-4863-aa21-c4004fb448a8"
      },
      "source": [
        "phone.price"
      ],
      "execution_count": null,
      "outputs": [
        {
          "output_type": "stream",
          "text": [
            "getting...\n"
          ],
          "name": "stdout"
        },
        {
          "output_type": "execute_result",
          "data": {
            "text/plain": [
              "3000"
            ]
          },
          "metadata": {
            "tags": []
          },
          "execution_count": 38
        }
      ]
    },
    {
      "cell_type": "code",
      "metadata": {
        "id": "nXvPFOIGuOXa"
      },
      "source": [
        "phone.price = 4000"
      ],
      "execution_count": null,
      "outputs": []
    },
    {
      "cell_type": "code",
      "metadata": {
        "colab": {
          "base_uri": "https://localhost:8080/"
        },
        "id": "xfQbTCqXuTva",
        "outputId": "c6a293af-5964-44a6-8a5a-0c204596abe1"
      },
      "source": [
        "phone.price"
      ],
      "execution_count": null,
      "outputs": [
        {
          "output_type": "stream",
          "text": [
            "getting...\n"
          ],
          "name": "stdout"
        },
        {
          "output_type": "execute_result",
          "data": {
            "text/plain": [
              "4000"
            ]
          },
          "metadata": {
            "tags": []
          },
          "execution_count": 41
        }
      ]
    },
    {
      "cell_type": "code",
      "metadata": {
        "colab": {
          "base_uri": "https://localhost:8080/"
        },
        "id": "dunI4EgGuYko",
        "outputId": "b930fbae-dff4-4441-9f2a-f44740d7364b"
      },
      "source": [
        "class Phone:\r\n",
        "\r\n",
        "  \"\"\"Phone\"\"\"\r\n",
        "  def __init__(self,price):\r\n",
        "    self._price = price\r\n",
        "\r\n",
        "  def get_price(self):\r\n",
        "    print('getting...')\r\n",
        "    return self._price\r\n",
        "\r\n",
        "  def set_price(self,value):\r\n",
        "    print('setting...')\r\n",
        "    if isinstance(value,(int,float)):\r\n",
        "      if value > 0:\r\n",
        "        self._price = value\r\n",
        "      else:\r\n",
        "        raise ValueError('The price attribute must be positive')\r\n",
        "    else:\r\n",
        "      raise TypeError('The price attribute must be an int or float value')\r\n",
        "\r\n",
        "  def del_price(self):\r\n",
        "    print('delliting')\r\n",
        "    del self._price\r\n",
        "\r\n",
        "  price = property(fget = get_price, fset=set_price,fdel=del_price,doc='Phone price')\r\n",
        "\r\n",
        "Phone.__dict__"
      ],
      "execution_count": null,
      "outputs": [
        {
          "output_type": "execute_result",
          "data": {
            "text/plain": [
              "mappingproxy({'__dict__': <attribute '__dict__' of 'Phone' objects>,\n",
              "              '__doc__': 'Phone',\n",
              "              '__init__': <function __main__.Phone.__init__>,\n",
              "              '__module__': '__main__',\n",
              "              '__weakref__': <attribute '__weakref__' of 'Phone' objects>,\n",
              "              'del_price': <function __main__.Phone.del_price>,\n",
              "              'get_price': <function __main__.Phone.get_price>,\n",
              "              'price': <property at 0x7ff9315a1638>,\n",
              "              'set_price': <function __main__.Phone.set_price>})"
            ]
          },
          "metadata": {
            "tags": []
          },
          "execution_count": 49
        }
      ]
    },
    {
      "cell_type": "code",
      "metadata": {
        "id": "zmYCmUXfvDDA"
      },
      "source": [
        "phone = Phone(3000)"
      ],
      "execution_count": null,
      "outputs": []
    },
    {
      "cell_type": "code",
      "metadata": {
        "colab": {
          "base_uri": "https://localhost:8080/"
        },
        "id": "5h6Pf-zlvHe5",
        "outputId": "066325a4-8a82-4bd6-dc42-74cadf7e9cea"
      },
      "source": [
        "phone.price"
      ],
      "execution_count": null,
      "outputs": [
        {
          "output_type": "stream",
          "text": [
            "getting...\n"
          ],
          "name": "stdout"
        },
        {
          "output_type": "execute_result",
          "data": {
            "text/plain": [
              "3000"
            ]
          },
          "metadata": {
            "tags": []
          },
          "execution_count": 51
        }
      ]
    },
    {
      "cell_type": "code",
      "metadata": {
        "colab": {
          "base_uri": "https://localhost:8080/"
        },
        "id": "Gg6EMqi2vKWY",
        "outputId": "17d71e36-4af5-4217-ee00-4afcdca305e2"
      },
      "source": [
        "phone.price = 3000"
      ],
      "execution_count": null,
      "outputs": [
        {
          "output_type": "stream",
          "text": [
            "setting...\n"
          ],
          "name": "stdout"
        }
      ]
    },
    {
      "cell_type": "code",
      "metadata": {
        "colab": {
          "base_uri": "https://localhost:8080/"
        },
        "id": "IXKAPJRqvNkY",
        "outputId": "142e4ef6-38b9-45a7-ef3f-3f18ae516e92"
      },
      "source": [
        "del phone.price"
      ],
      "execution_count": null,
      "outputs": [
        {
          "output_type": "stream",
          "text": [
            "delliting\n"
          ],
          "name": "stdout"
        }
      ]
    },
    {
      "cell_type": "code",
      "metadata": {
        "id": "7lURXogvvSy4"
      },
      "source": [
        "def hello():\r\n",
        "  print('python 3.8')"
      ],
      "execution_count": null,
      "outputs": []
    },
    {
      "cell_type": "code",
      "metadata": {
        "id": "E20CnyRpy1oM",
        "colab": {
          "base_uri": "https://localhost:8080/"
        },
        "outputId": "bf74422b-b8bd-46ba-b973-a66197f351e8"
      },
      "source": [
        "hello()"
      ],
      "execution_count": null,
      "outputs": [
        {
          "output_type": "stream",
          "text": [
            "python 3.8\n"
          ],
          "name": "stdout"
        }
      ]
    },
    {
      "cell_type": "code",
      "metadata": {
        "id": "2_4hEshwy3Ro",
        "colab": {
          "base_uri": "https://localhost:8080/"
        },
        "outputId": "9ddacdc9-84fd-4903-ccd4-190d606bdc28"
      },
      "source": [
        "def pretty_print(func):\r\n",
        "  def wrapper():\r\n",
        "    print('=' * 30)\r\n",
        "    func()\r\n",
        "    print('=' * 30)\r\n",
        "  return wrapper\r\n",
        "\r\n",
        "pretty_print(hello)"
      ],
      "execution_count": 57,
      "outputs": [
        {
          "output_type": "execute_result",
          "data": {
            "text/plain": [
              "<function __main__.pretty_print.<locals>.wrapper>"
            ]
          },
          "metadata": {
            "tags": []
          },
          "execution_count": 57
        }
      ]
    },
    {
      "cell_type": "code",
      "metadata": {
        "colab": {
          "base_uri": "https://localhost:8080/"
        },
        "id": "vgtcIGPkaBWc",
        "outputId": "162b8c02-350c-48b5-8636-4b132b89d4e6"
      },
      "source": [
        "pretty_print(hello)()"
      ],
      "execution_count": 58,
      "outputs": [
        {
          "output_type": "stream",
          "text": [
            "==============================\n",
            "python 3.8\n",
            "==============================\n"
          ],
          "name": "stdout"
        }
      ]
    },
    {
      "cell_type": "code",
      "metadata": {
        "id": "ECdFvKP-abmg"
      },
      "source": [
        "hello = pretty_print(hello)"
      ],
      "execution_count": 59,
      "outputs": []
    },
    {
      "cell_type": "code",
      "metadata": {
        "colab": {
          "base_uri": "https://localhost:8080/"
        },
        "id": "c-ZjMU4GakYQ",
        "outputId": "02e0a02b-ac09-4fee-ee52-8b4d22915b72"
      },
      "source": [
        "hello"
      ],
      "execution_count": 60,
      "outputs": [
        {
          "output_type": "execute_result",
          "data": {
            "text/plain": [
              "<function __main__.pretty_print.<locals>.wrapper>"
            ]
          },
          "metadata": {
            "tags": []
          },
          "execution_count": 60
        }
      ]
    },
    {
      "cell_type": "code",
      "metadata": {
        "colab": {
          "base_uri": "https://localhost:8080/"
        },
        "id": "J_eU0nmPalGC",
        "outputId": "1d558947-2029-4d5d-fe96-3bc740dfa6f7"
      },
      "source": [
        "def pretty_print(func):\r\n",
        "  def wrapper():\r\n",
        "    print('=' * 30)\r\n",
        "    func()\r\n",
        "    print('=' * 30)\r\n",
        "  return wrapper\r\n",
        "\r\n",
        "@pretty_print\r\n",
        "def hello():\r\n",
        "  print('python 3.8')\r\n",
        "\r\n",
        "hello"
      ],
      "execution_count": 63,
      "outputs": [
        {
          "output_type": "execute_result",
          "data": {
            "text/plain": [
              "<function __main__.pretty_print.<locals>.wrapper>"
            ]
          },
          "metadata": {
            "tags": []
          },
          "execution_count": 63
        }
      ]
    },
    {
      "cell_type": "code",
      "metadata": {
        "colab": {
          "base_uri": "https://localhost:8080/"
        },
        "id": "cqgLyreMayC-",
        "outputId": "a1046896-143d-4dc7-8ded-9757f66574a7"
      },
      "source": [
        "hello()"
      ],
      "execution_count": 64,
      "outputs": [
        {
          "output_type": "stream",
          "text": [
            "==============================\n",
            "python 3.8\n",
            "==============================\n"
          ],
          "name": "stdout"
        }
      ]
    },
    {
      "cell_type": "code",
      "metadata": {
        "colab": {
          "base_uri": "https://localhost:8080/"
        },
        "id": "3YL5P0sma0DP",
        "outputId": "a5137b7a-37c9-4a82-9ebb-08b027f91b7c"
      },
      "source": [
        "import time\r\n",
        "\r\n",
        "time.time()"
      ],
      "execution_count": 65,
      "outputs": [
        {
          "output_type": "execute_result",
          "data": {
            "text/plain": [
              "1607885192.9898221"
            ]
          },
          "metadata": {
            "tags": []
          },
          "execution_count": 65
        }
      ]
    },
    {
      "cell_type": "code",
      "metadata": {
        "id": "IhsI85ZVbPwH"
      },
      "source": [
        "time.sleep(2)"
      ],
      "execution_count": 66,
      "outputs": []
    },
    {
      "cell_type": "code",
      "metadata": {
        "colab": {
          "base_uri": "https://localhost:8080/"
        },
        "id": "xC6oWsszbQ9v",
        "outputId": "534a1746-44c6-443a-db47-28d0263e5c13"
      },
      "source": [
        "def timer(func):\r\n",
        "  def wrapper(sec):\r\n",
        "    start = time.time()\r\n",
        "    func(sec)\r\n",
        "    stop = time.time()\r\n",
        "    print(f'Exucation time: {stop-start:.4f}')\r\n",
        "  return wrapper\r\n",
        "@timer\r\n",
        "def fake_sleep(sec):\r\n",
        "  print(f'Executing {fake_sleep.__name__}')\r\n",
        "  time.sleep(sec)\r\n",
        "\r\n",
        "fake_sleep(2)"
      ],
      "execution_count": 69,
      "outputs": [
        {
          "output_type": "stream",
          "text": [
            "Executing wrapper\n",
            "Exucation time: 2.0022\n"
          ],
          "name": "stdout"
        }
      ]
    },
    {
      "cell_type": "code",
      "metadata": {
        "colab": {
          "base_uri": "https://localhost:8080/"
        },
        "id": "6vO5_rOucDLP",
        "outputId": "fb917414-9663-4023-8921-a5de376e57ce"
      },
      "source": [
        "timer(fake_sleep)(3)"
      ],
      "execution_count": 68,
      "outputs": [
        {
          "output_type": "stream",
          "text": [
            "Executing fake_sleep\n",
            "Exucation time: 3.0032\n"
          ],
          "name": "stdout"
        }
      ]
    },
    {
      "cell_type": "code",
      "metadata": {
        "id": "ZjinliGsdA6m"
      },
      "source": [
        "class Phone:\r\n",
        "  def __init__(self,price):\r\n",
        "    self._price = price\r\n",
        "\r\n",
        "  def price(self):\r\n",
        "    print('getting...')\r\n",
        "    return self._price\r\n",
        "\r\n",
        "  price = property(fget = price)"
      ],
      "execution_count": 70,
      "outputs": []
    },
    {
      "cell_type": "code",
      "metadata": {
        "colab": {
          "base_uri": "https://localhost:8080/"
        },
        "id": "7uwfVb3dfRu4",
        "outputId": "96676cdc-e787-4b59-f453-30a078ac1524"
      },
      "source": [
        "class Phone:\r\n",
        "  def __init__(self,price):\r\n",
        "    self._price = price\r\n",
        "\r\n",
        "  @property\r\n",
        "  def price(self):\r\n",
        "    print('getting...')\r\n",
        "    return self._price\r\n",
        "\r\n",
        "Phone.__dict__"
      ],
      "execution_count": 71,
      "outputs": [
        {
          "output_type": "execute_result",
          "data": {
            "text/plain": [
              "mappingproxy({'__dict__': <attribute '__dict__' of 'Phone' objects>,\n",
              "              '__doc__': None,\n",
              "              '__init__': <function __main__.Phone.__init__>,\n",
              "              '__module__': '__main__',\n",
              "              '__weakref__': <attribute '__weakref__' of 'Phone' objects>,\n",
              "              'price': <property at 0x7ff93157cf48>})"
            ]
          },
          "metadata": {
            "tags": []
          },
          "execution_count": 71
        }
      ]
    },
    {
      "cell_type": "code",
      "metadata": {
        "colab": {
          "base_uri": "https://localhost:8080/"
        },
        "id": "S56RjX0ifbuu",
        "outputId": "61c017a8-4591-483d-e95a-a3994204bf5d"
      },
      "source": [
        "phone = Phone(2000)\r\n",
        "phone.__dict__"
      ],
      "execution_count": 72,
      "outputs": [
        {
          "output_type": "execute_result",
          "data": {
            "text/plain": [
              "{'_price': 2000}"
            ]
          },
          "metadata": {
            "tags": []
          },
          "execution_count": 72
        }
      ]
    },
    {
      "cell_type": "code",
      "metadata": {
        "colab": {
          "base_uri": "https://localhost:8080/"
        },
        "id": "0gZGWTjSfiU-",
        "outputId": "9fabd189-e32b-4f58-dab6-c4ee9e76a8a3"
      },
      "source": [
        "phone.price"
      ],
      "execution_count": 74,
      "outputs": [
        {
          "output_type": "stream",
          "text": [
            "getting...\n"
          ],
          "name": "stdout"
        },
        {
          "output_type": "execute_result",
          "data": {
            "text/plain": [
              "2000"
            ]
          },
          "metadata": {
            "tags": []
          },
          "execution_count": 74
        }
      ]
    },
    {
      "cell_type": "code",
      "metadata": {
        "colab": {
          "base_uri": "https://localhost:8080/",
          "height": 175
        },
        "id": "gX2o0DHifkqe",
        "outputId": "ee1baea5-f329-4396-d43c-1fc41defcfee"
      },
      "source": [
        "phone.price=1000"
      ],
      "execution_count": 75,
      "outputs": [
        {
          "output_type": "error",
          "ename": "AttributeError",
          "evalue": "ignored",
          "traceback": [
            "\u001b[0;31m---------------------------------------------------------------------------\u001b[0m",
            "\u001b[0;31mAttributeError\u001b[0m                            Traceback (most recent call last)",
            "\u001b[0;32m<ipython-input-75-d7cf6af9816c>\u001b[0m in \u001b[0;36m<module>\u001b[0;34m()\u001b[0m\n\u001b[0;32m----> 1\u001b[0;31m \u001b[0mphone\u001b[0m\u001b[0;34m.\u001b[0m\u001b[0mprice\u001b[0m\u001b[0;34m=\u001b[0m\u001b[0;36m1000\u001b[0m\u001b[0;34m\u001b[0m\u001b[0;34m\u001b[0m\u001b[0m\n\u001b[0m",
            "\u001b[0;31mAttributeError\u001b[0m: can't set attribute"
          ]
        }
      ]
    },
    {
      "cell_type": "code",
      "metadata": {
        "colab": {
          "base_uri": "https://localhost:8080/"
        },
        "id": "Ag6dZX8Afo4e",
        "outputId": "a572d68b-30cc-4523-e6a9-0832050c6614"
      },
      "source": [
        "class Phone:\r\n",
        "  def __init__(self,price):\r\n",
        "    self._price = price\r\n",
        "\r\n",
        "  @property\r\n",
        "  def price(self):\r\n",
        "    print('getting...')\r\n",
        "    return self._price\r\n",
        "\r\n",
        "  def set_price(self,value):\r\n",
        "    if isinstance(value,(int,float)):\r\n",
        "      if value > 0:\r\n",
        "        self._price = value\r\n",
        "      else:\r\n",
        "        raise ValueError('The price attribute must be positive')\r\n",
        "    else:\r\n",
        "      raise TypeError('The price attribute must be an int or float value')\r\n",
        "\r\n",
        "  price = price.setter(set_price)\r\n",
        "\r\n",
        "Phone.__dict__"
      ],
      "execution_count": 76,
      "outputs": [
        {
          "output_type": "execute_result",
          "data": {
            "text/plain": [
              "mappingproxy({'__dict__': <attribute '__dict__' of 'Phone' objects>,\n",
              "              '__doc__': None,\n",
              "              '__init__': <function __main__.Phone.__init__>,\n",
              "              '__module__': '__main__',\n",
              "              '__weakref__': <attribute '__weakref__' of 'Phone' objects>,\n",
              "              'price': <property at 0x7ff9315349f8>,\n",
              "              'set_price': <function __main__.Phone.set_price>})"
            ]
          },
          "metadata": {
            "tags": []
          },
          "execution_count": 76
        }
      ]
    },
    {
      "cell_type": "code",
      "metadata": {
        "id": "RWxESQ49gCcm"
      },
      "source": [
        "phone = Phone(2000)"
      ],
      "execution_count": 77,
      "outputs": []
    },
    {
      "cell_type": "code",
      "metadata": {
        "colab": {
          "base_uri": "https://localhost:8080/"
        },
        "id": "2W5mN2DagE0X",
        "outputId": "8a0eca4e-e08f-490e-da83-e1a1eca79db8"
      },
      "source": [
        "phone.price"
      ],
      "execution_count": 78,
      "outputs": [
        {
          "output_type": "stream",
          "text": [
            "getting...\n"
          ],
          "name": "stdout"
        },
        {
          "output_type": "execute_result",
          "data": {
            "text/plain": [
              "2000"
            ]
          },
          "metadata": {
            "tags": []
          },
          "execution_count": 78
        }
      ]
    },
    {
      "cell_type": "code",
      "metadata": {
        "id": "rZ0pHKxFgFqN"
      },
      "source": [
        "phone.price = 3000"
      ],
      "execution_count": 79,
      "outputs": []
    },
    {
      "cell_type": "code",
      "metadata": {
        "colab": {
          "base_uri": "https://localhost:8080/"
        },
        "id": "W9qqpggkgHi1",
        "outputId": "8f468d71-92ab-454d-ab06-02a6ea5f6077"
      },
      "source": [
        "class Phone:\r\n",
        "  def __init__(self,price):\r\n",
        "    self._price = price\r\n",
        "\r\n",
        "  @property\r\n",
        "  def price(self):\r\n",
        "    print('getting...')\r\n",
        "    return self._price\r\n",
        "    \r\n",
        "  @price.setter\r\n",
        "  def set_price(self,value):\r\n",
        "    if isinstance(value,(int,float)):\r\n",
        "      if value > 0:\r\n",
        "        self._price = value\r\n",
        "      else:\r\n",
        "        raise ValueError('The price attribute must be positive')\r\n",
        "    else:\r\n",
        "      raise TypeError('The price attribute must be an int or float value')\r\n",
        "\r\n",
        "\r\n",
        "Phone.__dict__"
      ],
      "execution_count": 80,
      "outputs": [
        {
          "output_type": "execute_result",
          "data": {
            "text/plain": [
              "mappingproxy({'__dict__': <attribute '__dict__' of 'Phone' objects>,\n",
              "              '__doc__': None,\n",
              "              '__init__': <function __main__.Phone.__init__>,\n",
              "              '__module__': '__main__',\n",
              "              '__weakref__': <attribute '__weakref__' of 'Phone' objects>,\n",
              "              'price': <property at 0x7ff93171c1d8>,\n",
              "              'set_price': <property at 0x7ff93171c4f8>})"
            ]
          },
          "metadata": {
            "tags": []
          },
          "execution_count": 80
        }
      ]
    },
    {
      "cell_type": "code",
      "metadata": {
        "colab": {
          "base_uri": "https://localhost:8080/"
        },
        "id": "_nx1LBYggeP8",
        "outputId": "69d5e370-98c9-4dcf-b3bc-4e289c137716"
      },
      "source": [
        "class Phone:\r\n",
        "\r\n",
        "  def __init__(self, price):\r\n",
        "    self.price = price\r\n",
        "\r\n",
        "  @property\r\n",
        "  def price(self):\r\n",
        "    print('getting...')\r\n",
        "    return self._price\r\n",
        "\r\n",
        "  @price.setter\r\n",
        "  def price(self,value):\r\n",
        "    print('setting...')\r\n",
        "    if isinstance(value,(int,float)):\r\n",
        "      if value > 0:\r\n",
        "        self._price = value\r\n",
        "      else:\r\n",
        "        raise ValueError('The price attribute must be positive')\r\n",
        "    else:\r\n",
        "      raise TypeError('The price attribute must be an int or float value')\r\n",
        "\r\n",
        "  @price.deleter\r\n",
        "  def price(self):\r\n",
        "    print('delliting')\r\n",
        "    del self._price\r\n",
        "\r\n",
        "Phone.__dict__\r\n"
      ],
      "execution_count": 14,
      "outputs": [
        {
          "output_type": "execute_result",
          "data": {
            "text/plain": [
              "mappingproxy({'__dict__': <attribute '__dict__' of 'Phone' objects>,\n",
              "              '__doc__': None,\n",
              "              '__init__': <function __main__.Phone.__init__>,\n",
              "              '__module__': '__main__',\n",
              "              '__weakref__': <attribute '__weakref__' of 'Phone' objects>,\n",
              "              'price': <property at 0x7f798bb1abd8>})"
            ]
          },
          "metadata": {
            "tags": []
          },
          "execution_count": 14
        }
      ]
    },
    {
      "cell_type": "code",
      "metadata": {
        "colab": {
          "base_uri": "https://localhost:8080/",
          "height": 349
        },
        "id": "OAGlOTmohE29",
        "outputId": "c4834bdc-7bef-4444-a916-30fba66b9baf"
      },
      "source": [
        "phone = Phone('200')"
      ],
      "execution_count": 15,
      "outputs": [
        {
          "output_type": "stream",
          "text": [
            "setting...\n"
          ],
          "name": "stdout"
        },
        {
          "output_type": "error",
          "ename": "TypeError",
          "evalue": "ignored",
          "traceback": [
            "\u001b[0;31m---------------------------------------------------------------------------\u001b[0m",
            "\u001b[0;31mTypeError\u001b[0m                                 Traceback (most recent call last)",
            "\u001b[0;32m<ipython-input-15-58f3f25c29b4>\u001b[0m in \u001b[0;36m<module>\u001b[0;34m()\u001b[0m\n\u001b[0;32m----> 1\u001b[0;31m \u001b[0mphone\u001b[0m \u001b[0;34m=\u001b[0m \u001b[0mPhone\u001b[0m\u001b[0;34m(\u001b[0m\u001b[0;34m'200'\u001b[0m\u001b[0;34m)\u001b[0m\u001b[0;34m\u001b[0m\u001b[0;34m\u001b[0m\u001b[0m\n\u001b[0m",
            "\u001b[0;32m<ipython-input-14-e685952869cd>\u001b[0m in \u001b[0;36m__init__\u001b[0;34m(self, price)\u001b[0m\n\u001b[1;32m      2\u001b[0m \u001b[0;34m\u001b[0m\u001b[0m\n\u001b[1;32m      3\u001b[0m   \u001b[0;32mdef\u001b[0m \u001b[0m__init__\u001b[0m\u001b[0;34m(\u001b[0m\u001b[0mself\u001b[0m\u001b[0;34m,\u001b[0m \u001b[0mprice\u001b[0m\u001b[0;34m)\u001b[0m\u001b[0;34m:\u001b[0m\u001b[0;34m\u001b[0m\u001b[0;34m\u001b[0m\u001b[0m\n\u001b[0;32m----> 4\u001b[0;31m     \u001b[0mself\u001b[0m\u001b[0;34m.\u001b[0m\u001b[0mprice\u001b[0m \u001b[0;34m=\u001b[0m \u001b[0mprice\u001b[0m\u001b[0;34m\u001b[0m\u001b[0;34m\u001b[0m\u001b[0m\n\u001b[0m\u001b[1;32m      5\u001b[0m \u001b[0;34m\u001b[0m\u001b[0m\n\u001b[1;32m      6\u001b[0m   \u001b[0;34m@\u001b[0m\u001b[0mproperty\u001b[0m\u001b[0;34m\u001b[0m\u001b[0;34m\u001b[0m\u001b[0m\n",
            "\u001b[0;32m<ipython-input-14-e685952869cd>\u001b[0m in \u001b[0;36mprice\u001b[0;34m(self, value)\u001b[0m\n\u001b[1;32m     18\u001b[0m         \u001b[0;32mraise\u001b[0m \u001b[0mValueError\u001b[0m\u001b[0;34m(\u001b[0m\u001b[0;34m'The price attribute must be positive'\u001b[0m\u001b[0;34m)\u001b[0m\u001b[0;34m\u001b[0m\u001b[0;34m\u001b[0m\u001b[0m\n\u001b[1;32m     19\u001b[0m     \u001b[0;32melse\u001b[0m\u001b[0;34m:\u001b[0m\u001b[0;34m\u001b[0m\u001b[0;34m\u001b[0m\u001b[0m\n\u001b[0;32m---> 20\u001b[0;31m       \u001b[0;32mraise\u001b[0m \u001b[0mTypeError\u001b[0m\u001b[0;34m(\u001b[0m\u001b[0;34m'The price attribute must be an int or float value'\u001b[0m\u001b[0;34m)\u001b[0m\u001b[0;34m\u001b[0m\u001b[0;34m\u001b[0m\u001b[0m\n\u001b[0m\u001b[1;32m     21\u001b[0m \u001b[0;34m\u001b[0m\u001b[0m\n\u001b[1;32m     22\u001b[0m   \u001b[0;34m@\u001b[0m\u001b[0mprice\u001b[0m\u001b[0;34m.\u001b[0m\u001b[0mdeleter\u001b[0m\u001b[0;34m\u001b[0m\u001b[0;34m\u001b[0m\u001b[0m\n",
            "\u001b[0;31mTypeError\u001b[0m: The price attribute must be an int or float value"
          ]
        }
      ]
    },
    {
      "cell_type": "code",
      "metadata": {
        "colab": {
          "base_uri": "https://localhost:8080/"
        },
        "id": "AZO1hfNcizEt",
        "outputId": "0e55164e-4e47-4bb9-eefa-81381526d16c"
      },
      "source": [
        "class Game:\r\n",
        "\r\n",
        "  def __init__(self,level=0):\r\n",
        "    self.level = level\r\n",
        "\r\n",
        "  @property\r\n",
        "  def level(self):\r\n",
        "    return self._level\r\n",
        "  \r\n",
        "  @level.setter\r\n",
        "  def level(self,value):\r\n",
        "    if isinstance(value,int):\r\n",
        "      if value < 0:\r\n",
        "        self._level = 0\r\n",
        "      elif value > 100:\r\n",
        "        self._level = 100\r\n",
        "      else:\r\n",
        "        self._level = value\r\n",
        "    else:\r\n",
        "      raise TypeError('Level have to be integer')\r\n",
        "\r\n",
        "Game.__dict__"
      ],
      "execution_count": 21,
      "outputs": [
        {
          "output_type": "execute_result",
          "data": {
            "text/plain": [
              "mappingproxy({'__dict__': <attribute '__dict__' of 'Game' objects>,\n",
              "              '__doc__': None,\n",
              "              '__init__': <function __main__.Game.__init__>,\n",
              "              '__module__': '__main__',\n",
              "              '__weakref__': <attribute '__weakref__' of 'Game' objects>,\n",
              "              'level': <property at 0x7f798ba039f8>})"
            ]
          },
          "metadata": {
            "tags": []
          },
          "execution_count": 21
        }
      ]
    },
    {
      "cell_type": "code",
      "metadata": {
        "id": "jWiZ7JJ_laJT"
      },
      "source": [
        "game = Game()"
      ],
      "execution_count": 22,
      "outputs": []
    },
    {
      "cell_type": "code",
      "metadata": {
        "colab": {
          "base_uri": "https://localhost:8080/"
        },
        "id": "CJCBXxzNlhk8",
        "outputId": "321c4e07-2040-4939-bb0d-0be51cd1e010"
      },
      "source": [
        "game.level"
      ],
      "execution_count": 23,
      "outputs": [
        {
          "output_type": "execute_result",
          "data": {
            "text/plain": [
              "0"
            ]
          },
          "metadata": {
            "tags": []
          },
          "execution_count": 23
        }
      ]
    },
    {
      "cell_type": "code",
      "metadata": {
        "colab": {
          "base_uri": "https://localhost:8080/",
          "height": 306
        },
        "id": "rbB6TuuRmHnk",
        "outputId": "c607a708-6cc3-4f13-bfe7-05f83b4672c5"
      },
      "source": [
        "game.level = 'fupa'"
      ],
      "execution_count": 27,
      "outputs": [
        {
          "output_type": "error",
          "ename": "TypeError",
          "evalue": "ignored",
          "traceback": [
            "\u001b[0;31m---------------------------------------------------------------------------\u001b[0m",
            "\u001b[0;31mTypeError\u001b[0m                                 Traceback (most recent call last)",
            "\u001b[0;32m<ipython-input-27-1cc3b251d106>\u001b[0m in \u001b[0;36m<module>\u001b[0;34m()\u001b[0m\n\u001b[0;32m----> 1\u001b[0;31m \u001b[0mgame\u001b[0m\u001b[0;34m.\u001b[0m\u001b[0mlevel\u001b[0m \u001b[0;34m=\u001b[0m \u001b[0;34m'fupa'\u001b[0m\u001b[0;34m\u001b[0m\u001b[0;34m\u001b[0m\u001b[0m\n\u001b[0m",
            "\u001b[0;32m<ipython-input-21-011cf4312302>\u001b[0m in \u001b[0;36mlevel\u001b[0;34m(self, value)\u001b[0m\n\u001b[1;32m     18\u001b[0m         \u001b[0mself\u001b[0m\u001b[0;34m.\u001b[0m\u001b[0m_level\u001b[0m \u001b[0;34m=\u001b[0m \u001b[0mvalue\u001b[0m\u001b[0;34m\u001b[0m\u001b[0;34m\u001b[0m\u001b[0m\n\u001b[1;32m     19\u001b[0m     \u001b[0;32melse\u001b[0m\u001b[0;34m:\u001b[0m\u001b[0;34m\u001b[0m\u001b[0;34m\u001b[0m\u001b[0m\n\u001b[0;32m---> 20\u001b[0;31m       \u001b[0;32mraise\u001b[0m \u001b[0mTypeError\u001b[0m\u001b[0;34m(\u001b[0m\u001b[0;34m'Level have to be integer'\u001b[0m\u001b[0;34m)\u001b[0m\u001b[0;34m\u001b[0m\u001b[0;34m\u001b[0m\u001b[0m\n\u001b[0m\u001b[1;32m     21\u001b[0m \u001b[0;34m\u001b[0m\u001b[0m\n\u001b[1;32m     22\u001b[0m \u001b[0mGame\u001b[0m\u001b[0;34m.\u001b[0m\u001b[0m__dict__\u001b[0m\u001b[0;34m\u001b[0m\u001b[0;34m\u001b[0m\u001b[0m\n",
            "\u001b[0;31mTypeError\u001b[0m: Level have to be integer"
          ]
        }
      ]
    },
    {
      "cell_type": "code",
      "metadata": {
        "colab": {
          "base_uri": "https://localhost:8080/"
        },
        "id": "wjHTt5UhmJF7",
        "outputId": "1ac5713a-f0bf-4aa2-f968-3ba8659326b0"
      },
      "source": [
        "game.level"
      ],
      "execution_count": 26,
      "outputs": [
        {
          "output_type": "execute_result",
          "data": {
            "text/plain": [
              "10"
            ]
          },
          "metadata": {
            "tags": []
          },
          "execution_count": 26
        }
      ]
    },
    {
      "cell_type": "code",
      "metadata": {
        "id": "bAddK-KBmL_7"
      },
      "source": [
        ""
      ],
      "execution_count": null,
      "outputs": []
    }
  ]
}