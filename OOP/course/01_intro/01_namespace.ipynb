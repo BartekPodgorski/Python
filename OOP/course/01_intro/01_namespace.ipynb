{
  "nbformat": 4,
  "nbformat_minor": 0,
  "metadata": {
    "colab": {
      "name": "01_namespace.ipynb",
      "provenance": [],
      "authorship_tag": "ABX9TyNEqi47EypwwUIX8IQUgKVw",
      "include_colab_link": true
    },
    "kernelspec": {
      "name": "python3",
      "display_name": "Python 3"
    }
  },
  "cells": [
    {
      "cell_type": "markdown",
      "metadata": {
        "id": "view-in-github",
        "colab_type": "text"
      },
      "source": [
        "<a href=\"https://colab.research.google.com/github/BartekPodgorski/Python/blob/main/OOP/course/01_intro/01_namespace.ipynb\" target=\"_parent\"><img src=\"https://colab.research.google.com/assets/colab-badge.svg\" alt=\"Open In Colab\"/></a>"
      ]
    },
    {
      "cell_type": "code",
      "metadata": {
        "id": "Nl1Jnztunacf",
        "colab": {
          "base_uri": "https://localhost:8080/"
        },
        "outputId": "76a16ea3-80c0-4f8d-cb9c-54015bbb7830"
      },
      "source": [
        "!python --version"
      ],
      "execution_count": 1,
      "outputs": [
        {
          "output_type": "stream",
          "text": [
            "Python 3.7.8\n"
          ],
          "name": "stdout"
        }
      ]
    },
    {
      "cell_type": "code",
      "metadata": {
        "id": "MgBQs20JKABE"
      },
      "source": [
        "import math\n",
        "\n",
        "help(math)"
      ],
      "execution_count": null,
      "outputs": []
    },
    {
      "cell_type": "code",
      "metadata": {
        "id": "Ub3tl3MmKNcK"
      },
      "source": [
        "math.__dict__"
      ],
      "execution_count": null,
      "outputs": []
    },
    {
      "cell_type": "code",
      "metadata": {
        "colab": {
          "base_uri": "https://localhost:8080/"
        },
        "id": "0J1ZSGGWKcD5",
        "outputId": "309f94db-03a2-4389-961b-a82c220bd266"
      },
      "source": [
        "math.pi"
      ],
      "execution_count": 4,
      "outputs": [
        {
          "output_type": "execute_result",
          "data": {
            "text/plain": [
              "3.141592653589793"
            ]
          },
          "metadata": {
            "tags": []
          },
          "execution_count": 4
        }
      ]
    },
    {
      "cell_type": "code",
      "metadata": {
        "colab": {
          "base_uri": "https://localhost:8080/"
        },
        "id": "4bvvtMYwKlKr",
        "outputId": "86a55526-2a3f-47eb-8b86-5109ae1bdbfb"
      },
      "source": [
        "math.e"
      ],
      "execution_count": 5,
      "outputs": [
        {
          "output_type": "execute_result",
          "data": {
            "text/plain": [
              "2.718281828459045"
            ]
          },
          "metadata": {
            "tags": []
          },
          "execution_count": 5
        }
      ]
    },
    {
      "cell_type": "code",
      "metadata": {
        "colab": {
          "base_uri": "https://localhost:8080/"
        },
        "id": "pgeUZEcLKm2U",
        "outputId": "acc97705-7b31-4890-ae42-9f46c52d3362"
      },
      "source": [
        "math.sqrt"
      ],
      "execution_count": 6,
      "outputs": [
        {
          "output_type": "execute_result",
          "data": {
            "text/plain": [
              "<function math.sqrt(x, /)>"
            ]
          },
          "metadata": {
            "tags": []
          },
          "execution_count": 6
        }
      ]
    },
    {
      "cell_type": "code",
      "metadata": {
        "colab": {
          "base_uri": "https://localhost:8080/"
        },
        "id": "3OPhGJfvKrZ6",
        "outputId": "94c808db-aa16-481a-8d82-8acb8826ae16"
      },
      "source": [
        "math.sqrt(144)"
      ],
      "execution_count": 7,
      "outputs": [
        {
          "output_type": "execute_result",
          "data": {
            "text/plain": [
              "12.0"
            ]
          },
          "metadata": {
            "tags": []
          },
          "execution_count": 7
        }
      ]
    },
    {
      "cell_type": "code",
      "metadata": {
        "id": "rt5t7pcRKtGT"
      },
      "source": [
        "help(math.sqrt)"
      ],
      "execution_count": null,
      "outputs": []
    },
    {
      "cell_type": "code",
      "metadata": {
        "colab": {
          "base_uri": "https://localhost:8080/"
        },
        "id": "URdNeN-sKw5y",
        "outputId": "242f2261-d2ed-42eb-edd7-5ca8ab04577a"
      },
      "source": [
        "math.sin(0)"
      ],
      "execution_count": 9,
      "outputs": [
        {
          "output_type": "execute_result",
          "data": {
            "text/plain": [
              "0.0"
            ]
          },
          "metadata": {
            "tags": []
          },
          "execution_count": 9
        }
      ]
    },
    {
      "cell_type": "code",
      "metadata": {
        "id": "4g9bqcs8K4Ry"
      },
      "source": [
        "import pathlib\n",
        "pathlib.__dict__"
      ],
      "execution_count": null,
      "outputs": []
    },
    {
      "cell_type": "code",
      "metadata": {
        "id": "RmmeLrWkK6qa"
      },
      "source": [
        "import sys\n",
        "sys.__dict__"
      ],
      "execution_count": null,
      "outputs": []
    },
    {
      "cell_type": "code",
      "metadata": {
        "colab": {
          "base_uri": "https://localhost:8080/"
        },
        "id": "QueDTH9qLGiq",
        "outputId": "7f45701d-271b-44e5-f50d-7570f3c50fe1"
      },
      "source": [
        "sys.platform"
      ],
      "execution_count": 14,
      "outputs": [
        {
          "output_type": "execute_result",
          "data": {
            "text/plain": [
              "'win32'"
            ]
          },
          "metadata": {
            "tags": []
          },
          "execution_count": 14
        }
      ]
    },
    {
      "cell_type": "code",
      "metadata": {
        "id": "kinKXJFBLJ2R"
      },
      "source": [
        "for key in sorted(sys.__dict__.keys()):\n",
        "  print(key)"
      ],
      "execution_count": null,
      "outputs": []
    },
    {
      "cell_type": "code",
      "metadata": {
        "id": "f9040tZnLoea"
      },
      "source": [
        "dir(sys)"
      ],
      "execution_count": null,
      "outputs": []
    },
    {
      "cell_type": "code",
      "metadata": {
        "colab": {
          "base_uri": "https://localhost:8080/"
        },
        "id": "_cl7zE9OLvk0",
        "outputId": "1201a472-27bc-4d6b-d2c6-731afe72db6f"
      },
      "source": [
        "sys.__name__"
      ],
      "execution_count": 17,
      "outputs": [
        {
          "output_type": "execute_result",
          "data": {
            "text/plain": [
              "'sys'"
            ]
          },
          "metadata": {
            "tags": []
          },
          "execution_count": 17
        }
      ]
    },
    {
      "cell_type": "code",
      "metadata": {
        "id": "IGxo1d8ULzcS"
      },
      "source": [
        "print(sys.__doc__)"
      ],
      "execution_count": null,
      "outputs": []
    },
    {
      "cell_type": "code",
      "metadata": {
        "id": "KjBJ2V0JL4Uq"
      },
      "source": [
        "import json\n",
        "for key in sorted(json.__dict__.keys()):\n",
        "    print(key)"
      ],
      "execution_count": null,
      "outputs": []
    }
  ]
}