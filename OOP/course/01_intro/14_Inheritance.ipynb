{
  "nbformat": 4,
  "nbformat_minor": 0,
  "metadata": {
    "colab": {
      "name": "14_Inheritance.ipynb",
      "provenance": [],
      "collapsed_sections": [],
      "authorship_tag": "ABX9TyP3JRzIP1U1J/JCAc9/IEpy",
      "include_colab_link": true
    },
    "kernelspec": {
      "name": "python3",
      "display_name": "Python 3"
    }
  },
  "cells": [
    {
      "cell_type": "markdown",
      "metadata": {
        "id": "view-in-github",
        "colab_type": "text"
      },
      "source": [
        "<a href=\"https://colab.research.google.com/github/BartekPodgorski/Python/blob/main/OOP/course/01_intro/14_Inheritance.ipynb\" target=\"_parent\"><img src=\"https://colab.research.google.com/assets/colab-badge.svg\" alt=\"Open In Colab\"/></a>"
      ]
    },
    {
      "cell_type": "code",
      "metadata": {
        "id": "pF89uE-cWKDV"
      },
      "source": [
        "class Vehicle:\r\n",
        "  pass\r\n",
        "\r\n",
        "\r\n",
        "class LandVehicle(Vehicle):\r\n",
        "  pass\r\n",
        "\r\n",
        "\r\n",
        "class AirVehicle(Vehicle):\r\n",
        "  pass\r\n",
        "\r\n",
        "\r\n",
        "class WaterVehicle(Vehicle):\r\n",
        "  pass"
      ],
      "execution_count": null,
      "outputs": []
    },
    {
      "cell_type": "code",
      "metadata": {
        "id": "CC3Q7PaIYlB6"
      },
      "source": [
        "vehicles = [Vehicle(),LandVehicle(),AirVehicle(),WaterVehicle()]"
      ],
      "execution_count": null,
      "outputs": []
    },
    {
      "cell_type": "code",
      "metadata": {
        "colab": {
          "base_uri": "https://localhost:8080/"
        },
        "id": "QFQl6SfKZUl7",
        "outputId": "b054690e-d055-4087-c20f-40cd2f309f7a"
      },
      "source": [
        "issubclass(LandVehicle,Vehicle)"
      ],
      "execution_count": null,
      "outputs": [
        {
          "output_type": "execute_result",
          "data": {
            "text/plain": [
              "True"
            ]
          },
          "metadata": {
            "tags": []
          },
          "execution_count": 4
        }
      ]
    },
    {
      "cell_type": "code",
      "metadata": {
        "id": "A0KUz-AkZkBL"
      },
      "source": [
        "class Vehicle:\r\n",
        "  pass\r\n",
        "\r\n",
        "\r\n",
        "class LandVehicle(Vehicle):\r\n",
        "  pass\r\n",
        "\r\n",
        "\r\n",
        "class Bike(LandVehicle):\r\n",
        "  pass\r\n",
        "\r\n",
        "\r\n",
        "class Car(LandVehicle):\r\n",
        "  pass\r\n",
        "\r\n",
        "\r\n",
        "class Truck(LandVehicle):\r\n",
        "  pass\r\n",
        "\r\n",
        "\r\n",
        "class AirVehicle(Vehicle):\r\n",
        "  pass\r\n",
        "\r\n",
        "\r\n",
        "class Plane(AirVehicle):\r\n",
        "  pass\r\n",
        "\r\n",
        "\r\n",
        "class Helicopter(AirVehicle):\r\n",
        "  pass\r\n",
        "\r\n",
        "\r\n",
        "class WaterVehicle(Vehicle):\r\n",
        "  pass"
      ],
      "execution_count": null,
      "outputs": []
    },
    {
      "cell_type": "code",
      "metadata": {
        "colab": {
          "base_uri": "https://localhost:8080/"
        },
        "id": "wR7aLsCyaDzU",
        "outputId": "74865a8f-9878-42f2-881a-53f022c5c7ad"
      },
      "source": [
        "help(Plane)"
      ],
      "execution_count": null,
      "outputs": [
        {
          "output_type": "stream",
          "text": [
            "Help on class Plane in module __main__:\n",
            "\n",
            "class Plane(AirVehicle)\n",
            " |  Method resolution order:\n",
            " |      Plane\n",
            " |      AirVehicle\n",
            " |      Vehicle\n",
            " |      builtins.object\n",
            " |  \n",
            " |  Data descriptors inherited from Vehicle:\n",
            " |  \n",
            " |  __dict__\n",
            " |      dictionary for instance variables (if defined)\n",
            " |  \n",
            " |  __weakref__\n",
            " |      list of weak references to the object (if defined)\n",
            "\n"
          ],
          "name": "stdout"
        }
      ]
    },
    {
      "cell_type": "code",
      "metadata": {
        "id": "gpupC_YTac8M"
      },
      "source": [
        "class Vehicle:\r\n",
        "\r\n",
        "  def __init__(self,category=None):\r\n",
        "    self.category = category if category else 'land'\r\n",
        "\r\n",
        "  def __repr__(self):\r\n",
        "    return f\"{self.__class__.__name__}(category='{self.category}')\"\r\n",
        "\r\n",
        "  def display_info(self):\r\n",
        "    print(f'Vehicle category: {self.category}')\r\n",
        "\r\n",
        "\r\n",
        "class LandVehicle(Vehicle):\r\n",
        "  \r\n",
        "  def display_info(self):\r\n",
        "    print(f'LandVehicle category: {self.category}')\r\n",
        "\r\n",
        "\r\n",
        "class AirVehicle(Vehicle):\r\n",
        "  pass\r\n",
        "\r\n",
        "\r\n",
        "vehicles = [Vehicle(),LandVehicle(),AirVehicle('air')]"
      ],
      "execution_count": null,
      "outputs": []
    },
    {
      "cell_type": "code",
      "metadata": {
        "colab": {
          "base_uri": "https://localhost:8080/"
        },
        "id": "H2eGsoEGbF8L",
        "outputId": "5927ab66-2e59-42a1-aa7e-feccedb276db"
      },
      "source": [
        "vehicle = Vehicle()\r\n",
        "vehicle"
      ],
      "execution_count": null,
      "outputs": [
        {
          "output_type": "execute_result",
          "data": {
            "text/plain": [
              "Vehicle(category='land')"
            ]
          },
          "metadata": {
            "tags": []
          },
          "execution_count": 16
        }
      ]
    },
    {
      "cell_type": "code",
      "metadata": {
        "colab": {
          "base_uri": "https://localhost:8080/"
        },
        "id": "qjdFESjDbnRz",
        "outputId": "bb07e450-73ff-4527-c667-b6c8f8b71d0f"
      },
      "source": [
        "vehicles"
      ],
      "execution_count": null,
      "outputs": [
        {
          "output_type": "execute_result",
          "data": {
            "text/plain": [
              "[Vehicle(category='land'),\n",
              " LandVehicle(category='land'),\n",
              " AirVehicle(category='air')]"
            ]
          },
          "metadata": {
            "tags": []
          },
          "execution_count": 26
        }
      ]
    },
    {
      "cell_type": "code",
      "metadata": {
        "colab": {
          "base_uri": "https://localhost:8080/"
        },
        "id": "YCzmb6HTb8Hy",
        "outputId": "a2504b43-0c55-4a5f-9505-19ea9d738315"
      },
      "source": [
        "for vehicle in vehicles:\r\n",
        "  vehicle.display_info()"
      ],
      "execution_count": null,
      "outputs": [
        {
          "output_type": "stream",
          "text": [
            "Vehicle category: land\n",
            "LandVehicle category: land\n",
            "Vehicle category: air\n"
          ],
          "name": "stdout"
        }
      ]
    },
    {
      "cell_type": "code",
      "metadata": {
        "id": "o3Fag8XAckZz"
      },
      "source": [
        "class Vehicle:\r\n",
        "\r\n",
        "  def __init__(self,category=None):\r\n",
        "    self.category = category if category else 'land'\r\n",
        "\r\n",
        "  def __repr__(self):\r\n",
        "    return f\"{self.__class__.__name__}(category='{self.category}')\"\r\n",
        "\r\n",
        "  def display_info(self):\r\n",
        "    print(f'Vehicle category: {self.category}')\r\n",
        "\r\n",
        "  def show_activity(self):\r\n",
        "    print(f'{self} -> Moving')\r\n",
        "\r\n",
        "\r\n",
        "class LandVehicle(Vehicle):\r\n",
        "  \r\n",
        "  def display_info(self):\r\n",
        "    print(f'LandVehicle category: {self.category}')\r\n",
        "\r\n",
        "  def show_activity(self):\r\n",
        "    print(f'{self} -> Driving')\r\n",
        "\r\n",
        "\r\n",
        "class AirVehicle(Vehicle):\r\n",
        "  \r\n",
        "  def show_activity(self):\r\n",
        "    print(f'{self} -> Flying')\r\n",
        "\r\n",
        "\r\n",
        "vehicles = [Vehicle(),LandVehicle(),AirVehicle('air')]"
      ],
      "execution_count": null,
      "outputs": []
    },
    {
      "cell_type": "code",
      "metadata": {
        "colab": {
          "base_uri": "https://localhost:8080/"
        },
        "id": "T-wyxBxWdGmy",
        "outputId": "768150a1-52c6-40b9-ead6-20eda688f44f"
      },
      "source": [
        "for vehicle in vehicles:\r\n",
        "  vehicle.show_activity()"
      ],
      "execution_count": null,
      "outputs": [
        {
          "output_type": "stream",
          "text": [
            "Vehicle(category='land') -> Moving\n",
            "LandVehicle(category='land') -> Driving\n",
            "AirVehicle(category='air') -> Flying\n"
          ],
          "name": "stdout"
        }
      ]
    },
    {
      "cell_type": "code",
      "metadata": {
        "id": "AYwOLqpOdKLJ"
      },
      "source": [
        "class Vehicle:\r\n",
        "\r\n",
        "  def __init__(self,brand,year):\r\n",
        "    self.brand = brand\r\n",
        "    self.year = year\r\n",
        "\r\n",
        "\r\n",
        "class Car(Vehicle):\r\n",
        "\r\n",
        "   def __init__(self,brand,year,horsepower):\r\n",
        "    super().__init__(brand,year)\r\n",
        "    self.horsepower = horsepower"
      ],
      "execution_count": 2,
      "outputs": []
    },
    {
      "cell_type": "code",
      "metadata": {
        "id": "af2mNyreb2ZA"
      },
      "source": [
        "class Vehicle:\r\n",
        "\r\n",
        "  def __init__(self,brand,year):\r\n",
        "    self.brand = brand\r\n",
        "    self.year = year\r\n",
        "\r\n",
        "  def show_details(self):\r\n",
        "    return(f'{self.__class__.__name__}')\r\n",
        "\r\n",
        "\r\n",
        "class Car(Vehicle):\r\n",
        "\r\n",
        "   def __init__(self,brand,year,horsepower):\r\n",
        "    result = super().__init__(brand,year)\r\n",
        "    return result\r\n",
        "    self.horsepower = horsepower\r\n",
        "\r\n",
        "    def __show_details(self):\r\n",
        "      super().show_details()\r\n",
        "      print('Car')"
      ],
      "execution_count": 4,
      "outputs": []
    },
    {
      "cell_type": "code",
      "metadata": {
        "id": "cLrjjVaqc6xf"
      },
      "source": [
        "class Vehicle:\r\n",
        "\r\n",
        "  def __init__(self,brand,year):\r\n",
        "    self.brand = brand\r\n",
        "    self.year = year\r\n",
        "\r\n",
        "  def show_details(self):\r\n",
        "    return(f'{self.__class__.__name__}')\r\n",
        "\r\n",
        "\r\n",
        "class Car(Vehicle):\r\n",
        "\r\n",
        "   def __init__(self,brand,year,horsepower):\r\n",
        "    super().__init__(brand,year)\r\n",
        "    self.horsepower = horsepower\r\n",
        "\r\n",
        "    def __show_details(self):\r\n",
        "      print('Car')\r\n",
        "      result = super().show_details()\r\n",
        "      return result\r\n",
        "\r\n",
        "\r\n",
        "class RacingCar(Car):\r\n",
        "  \r\n",
        "  def __show_details(self):\r\n",
        "      print('Car')\r\n",
        "      result = super().show_details()\r\n",
        "      return result"
      ],
      "execution_count": 5,
      "outputs": []
    },
    {
      "cell_type": "code",
      "metadata": {
        "id": "dedWRcyBecfJ"
      },
      "source": [
        "class Person:\r\n",
        "\r\n",
        "  def __init__(self,first_name,last_name,age):\r\n",
        "    self.first_name = first_name\r\n",
        "    self.last_name = last_name\r\n",
        "    self.age = age\r\n",
        "\r\n",
        "class Department:\r\n",
        "\r\n",
        "  def __init__(self,dept_name):\r\n",
        "    self.dept_name = dept_name    \r\n",
        "\r\n",
        "\r\n",
        "class Worker(Person,Department):\r\n",
        "  pass"
      ],
      "execution_count": 6,
      "outputs": []
    },
    {
      "cell_type": "code",
      "metadata": {
        "id": "Y7oYnsGUhxNa"
      },
      "source": [
        "class Worker(Person,Department):\r\n",
        "  pass"
      ],
      "execution_count": 7,
      "outputs": []
    },
    {
      "cell_type": "code",
      "metadata": {
        "id": "cF-ZkSbwh1Bz"
      },
      "source": [
        "worker = Worker('John','Smith',40)"
      ],
      "execution_count": 9,
      "outputs": []
    },
    {
      "cell_type": "code",
      "metadata": {
        "colab": {
          "base_uri": "https://localhost:8080/"
        },
        "id": "PTPX174sh3YL",
        "outputId": "2de018a3-6cc4-4224-fb28-2c1165070707"
      },
      "source": [
        "worker.__dict__"
      ],
      "execution_count": 10,
      "outputs": [
        {
          "output_type": "execute_result",
          "data": {
            "text/plain": [
              "{'age': 40, 'first_name': 'John', 'last_name': 'Smith'}"
            ]
          },
          "metadata": {
            "tags": []
          },
          "execution_count": 10
        }
      ]
    },
    {
      "cell_type": "code",
      "metadata": {
        "id": "8YzYSsvfiHSj"
      },
      "source": [
        "class Person:\r\n",
        "\r\n",
        "  def __init__(self,first_name,last_name,age):\r\n",
        "    self.first_name = first_name\r\n",
        "    self.last_name = last_name\r\n",
        "    self.age = age\r\n",
        "\r\n",
        "class Department:\r\n",
        "\r\n",
        "  def __init__(self,dept_name):\r\n",
        "    self.dept_name = dept_name    \r\n",
        "\r\n",
        "\r\n",
        "class Worker(Person,Department):\r\n",
        "  def __init__(self,first_name,last_name,age,dept_name):\r\n",
        "    Person.__init__(self,first_name,last_name,age)\r\n",
        "    Department.__init__(self,dept_name)"
      ],
      "execution_count": 11,
      "outputs": []
    },
    {
      "cell_type": "code",
      "metadata": {
        "id": "IS-WeXdJip-v"
      },
      "source": [
        "worker = Worker('John','Smith',40,'PR')"
      ],
      "execution_count": 13,
      "outputs": []
    },
    {
      "cell_type": "code",
      "metadata": {
        "id": "W8X4SO7Yist8"
      },
      "source": [
        ""
      ],
      "execution_count": null,
      "outputs": []
    }
  ]
}