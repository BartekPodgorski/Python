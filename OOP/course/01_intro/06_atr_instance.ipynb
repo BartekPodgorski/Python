{
  "nbformat": 4,
  "nbformat_minor": 0,
  "metadata": {
    "colab": {
      "name": "06_atr_instance.ipynb",
      "provenance": [],
      "authorship_tag": "ABX9TyOCVkLDInBEbuqUZJi4iD8d",
      "include_colab_link": true
    },
    "kernelspec": {
      "name": "python3",
      "display_name": "Python 3"
    }
  },
  "cells": [
    {
      "cell_type": "markdown",
      "metadata": {
        "id": "view-in-github",
        "colab_type": "text"
      },
      "source": [
        "<a href=\"https://colab.research.google.com/github/BartekPodgorski/Python/blob/main/OOP/course/01_intro/06_atr_instance.ipynb\" target=\"_parent\"><img src=\"https://colab.research.google.com/assets/colab-badge.svg\" alt=\"Open In Colab\"/></a>"
      ]
    },
    {
      "cell_type": "code",
      "metadata": {
        "colab": {
          "base_uri": "https://localhost:8080/"
        },
        "id": "GJhdzS7BdQ3M",
        "outputId": "fee0e194-6c14-4765-9297-5e900c8b7a91"
      },
      "source": [
        "class Book:\n",
        "  language = 'ENG'\n",
        "\n",
        "  def show():\n",
        "    print(Book.language)\n",
        "\n",
        "Book.__dict__"
      ],
      "execution_count": 1,
      "outputs": [
        {
          "output_type": "execute_result",
          "data": {
            "text/plain": [
              "mappingproxy({'__module__': '__main__',\n",
              "              'language': 'ENG',\n",
              "              'show': <function __main__.Book.show()>,\n",
              "              '__dict__': <attribute '__dict__' of 'Book' objects>,\n",
              "              '__weakref__': <attribute '__weakref__' of 'Book' objects>,\n",
              "              '__doc__': None})"
            ]
          },
          "metadata": {
            "tags": []
          },
          "execution_count": 1
        }
      ]
    },
    {
      "cell_type": "code",
      "metadata": {
        "colab": {
          "base_uri": "https://localhost:8080/"
        },
        "id": "2i5MpW71v6Ps",
        "outputId": "ae2cbac4-95fe-437a-d2f1-b05942a0113d"
      },
      "source": [
        "Book()"
      ],
      "execution_count": 2,
      "outputs": [
        {
          "output_type": "execute_result",
          "data": {
            "text/plain": [
              "<__main__.Book at 0x194d7b776c8>"
            ]
          },
          "metadata": {
            "tags": []
          },
          "execution_count": 2
        }
      ]
    },
    {
      "cell_type": "code",
      "metadata": {
        "colab": {
          "base_uri": "https://localhost:8080/"
        },
        "id": "q5ZMHdogwDdB",
        "outputId": "f0765208-b309-4de9-bdaa-9c93f9e51e8c"
      },
      "source": [
        "book1 = Book()\n",
        "book1"
      ],
      "execution_count": 3,
      "outputs": [
        {
          "output_type": "execute_result",
          "data": {
            "text/plain": [
              "<__main__.Book at 0x194d7091608>"
            ]
          },
          "metadata": {
            "tags": []
          },
          "execution_count": 3
        }
      ]
    },
    {
      "cell_type": "code",
      "metadata": {
        "colab": {
          "base_uri": "https://localhost:8080/"
        },
        "id": "Adpzic6JwHna",
        "outputId": "1bee14d9-99b9-48fd-a00b-4bcab2b7dd3a"
      },
      "source": [
        "isinstance(book1,Book)"
      ],
      "execution_count": 4,
      "outputs": [
        {
          "output_type": "execute_result",
          "data": {
            "text/plain": [
              "True"
            ]
          },
          "metadata": {
            "tags": []
          },
          "execution_count": 4
        }
      ]
    },
    {
      "cell_type": "code",
      "metadata": {
        "colab": {
          "base_uri": "https://localhost:8080/"
        },
        "id": "3fLDziiCwUF5",
        "outputId": "1b12fb76-e43c-46d9-f3b5-b1821c7b7dbd"
      },
      "source": [
        "class Book:\n",
        "  language = 'ENG'\n",
        "\n",
        "  def show():\n",
        "    print(Book.language)\n",
        "\n",
        "Book.__dict__"
      ],
      "execution_count": 5,
      "outputs": [
        {
          "output_type": "execute_result",
          "data": {
            "text/plain": [
              "mappingproxy({'__module__': '__main__',\n",
              "              'language': 'ENG',\n",
              "              'show': <function __main__.Book.show()>,\n",
              "              '__dict__': <attribute '__dict__' of 'Book' objects>,\n",
              "              '__weakref__': <attribute '__weakref__' of 'Book' objects>,\n",
              "              '__doc__': None})"
            ]
          },
          "metadata": {
            "tags": []
          },
          "execution_count": 5
        }
      ]
    },
    {
      "cell_type": "code",
      "metadata": {
        "colab": {
          "base_uri": "https://localhost:8080/"
        },
        "id": "YSm4rfTJwenB",
        "outputId": "75994df4-6e5b-42e3-9df8-7a6da2f0d2dd"
      },
      "source": [
        "book1 = Book()\n",
        "book1"
      ],
      "execution_count": 6,
      "outputs": [
        {
          "output_type": "execute_result",
          "data": {
            "text/plain": [
              "<__main__.Book at 0x194d7869848>"
            ]
          },
          "metadata": {
            "tags": []
          },
          "execution_count": 6
        }
      ]
    },
    {
      "cell_type": "code",
      "metadata": {
        "colab": {
          "base_uri": "https://localhost:8080/"
        },
        "id": "E45JTpUbwhA6",
        "outputId": "60b95053-cedd-4974-a5af-62df7888770b"
      },
      "source": [
        "book1.__dict__"
      ],
      "execution_count": 7,
      "outputs": [
        {
          "output_type": "execute_result",
          "data": {
            "text/plain": [
              "{}"
            ]
          },
          "metadata": {
            "tags": []
          },
          "execution_count": 7
        }
      ]
    },
    {
      "cell_type": "code",
      "metadata": {
        "colab": {
          "base_uri": "https://localhost:8080/"
        },
        "id": "iCuyC0bYwjm5",
        "outputId": "0271370d-2ec4-4c2d-db84-3cf7118b1547"
      },
      "source": [
        "type(book1.__dict__)"
      ],
      "execution_count": 8,
      "outputs": [
        {
          "output_type": "execute_result",
          "data": {
            "text/plain": [
              "dict"
            ]
          },
          "metadata": {
            "tags": []
          },
          "execution_count": 8
        }
      ]
    },
    {
      "cell_type": "code",
      "metadata": {
        "colab": {
          "base_uri": "https://localhost:8080/"
        },
        "id": "RgMSo8OUw41R",
        "outputId": "d8508e61-3c37-4332-fafd-54834f57b672"
      },
      "source": [
        "class Book:\n",
        "  language = 'ENG'\n",
        "\n",
        "Book.__dict__"
      ],
      "execution_count": 9,
      "outputs": [
        {
          "output_type": "execute_result",
          "data": {
            "text/plain": [
              "mappingproxy({'__module__': '__main__',\n",
              "              'language': 'ENG',\n",
              "              '__dict__': <attribute '__dict__' of 'Book' objects>,\n",
              "              '__weakref__': <attribute '__weakref__' of 'Book' objects>,\n",
              "              '__doc__': None})"
            ]
          },
          "metadata": {
            "tags": []
          },
          "execution_count": 9
        }
      ]
    },
    {
      "cell_type": "code",
      "metadata": {
        "id": "qBnIxL46xNcJ"
      },
      "source": [
        "book1 = Book()\n",
        "book2 = Book()"
      ],
      "execution_count": 11,
      "outputs": []
    },
    {
      "cell_type": "code",
      "metadata": {
        "colab": {
          "base_uri": "https://localhost:8080/"
        },
        "id": "Ea3uVuQixTrh",
        "outputId": "c8f7ab93-df11-4059-827f-f8d196924870"
      },
      "source": [
        "book1.language, book2.language"
      ],
      "execution_count": 12,
      "outputs": [
        {
          "output_type": "execute_result",
          "data": {
            "text/plain": [
              "('ENG', 'ENG')"
            ]
          },
          "metadata": {
            "tags": []
          },
          "execution_count": 12
        }
      ]
    },
    {
      "cell_type": "code",
      "metadata": {
        "colab": {
          "base_uri": "https://localhost:8080/"
        },
        "id": "E1hDP1icxfwp",
        "outputId": "cd56e96c-b9b6-441e-9613-116277d3c4ce"
      },
      "source": [
        "Book.author = 'Adam Mickiewicz'\n",
        "Book.__dict__"
      ],
      "execution_count": 13,
      "outputs": [
        {
          "output_type": "execute_result",
          "data": {
            "text/plain": [
              "mappingproxy({'__module__': '__main__',\n",
              "              'language': 'ENG',\n",
              "              '__dict__': <attribute '__dict__' of 'Book' objects>,\n",
              "              '__weakref__': <attribute '__weakref__' of 'Book' objects>,\n",
              "              '__doc__': None,\n",
              "              'author': 'Adam Mickiewicz'})"
            ]
          },
          "metadata": {
            "tags": []
          },
          "execution_count": 13
        }
      ]
    },
    {
      "cell_type": "code",
      "metadata": {
        "colab": {
          "base_uri": "https://localhost:8080/"
        },
        "id": "Nf2T6rRMxp94",
        "outputId": "3c8a4074-b10d-422e-ce59-6fda477add44"
      },
      "source": [
        "book1.author"
      ],
      "execution_count": 14,
      "outputs": [
        {
          "output_type": "execute_result",
          "data": {
            "text/plain": [
              "'Adam Mickiewicz'"
            ]
          },
          "metadata": {
            "tags": []
          },
          "execution_count": 14
        }
      ]
    },
    {
      "cell_type": "code",
      "metadata": {
        "id": "d7NGIBGPxtaC"
      },
      "source": [
        "book1.author = 'Stanislaw Lem'"
      ],
      "execution_count": 15,
      "outputs": []
    },
    {
      "cell_type": "code",
      "metadata": {
        "colab": {
          "base_uri": "https://localhost:8080/"
        },
        "id": "zg0b1aSMx9mr",
        "outputId": "741ada5a-c49e-4304-c98b-6fcccd21f55e"
      },
      "source": [
        "book1.author , book2.author"
      ],
      "execution_count": 16,
      "outputs": [
        {
          "output_type": "execute_result",
          "data": {
            "text/plain": [
              "('Stanislaw Lem', 'Adam Mickiewicz')"
            ]
          },
          "metadata": {
            "tags": []
          },
          "execution_count": 16
        }
      ]
    },
    {
      "cell_type": "code",
      "metadata": {
        "colab": {
          "base_uri": "https://localhost:8080/"
        },
        "id": "uqvWLS-lyEtK",
        "outputId": "33a57bbe-a018-4f55-a3c7-b13107e0a74c"
      },
      "source": [
        "book1.__dict__ , book2.__dict__"
      ],
      "execution_count": 17,
      "outputs": [
        {
          "output_type": "execute_result",
          "data": {
            "text/plain": [
              "({'author': 'Stanislaw Lem'}, {})"
            ]
          },
          "metadata": {
            "tags": []
          },
          "execution_count": 17
        }
      ]
    },
    {
      "cell_type": "code",
      "metadata": {
        "id": "YeY9BJdSyKaZ"
      },
      "source": [
        "del book1.author"
      ],
      "execution_count": 18,
      "outputs": []
    },
    {
      "cell_type": "code",
      "metadata": {
        "colab": {
          "base_uri": "https://localhost:8080/"
        },
        "id": "Qn8UPY-py7s4",
        "outputId": "ad57b953-f840-497b-f2d2-cca11cd29b86"
      },
      "source": [
        "book1.__dict__ , book2.__dict__"
      ],
      "execution_count": 19,
      "outputs": [
        {
          "output_type": "execute_result",
          "data": {
            "text/plain": [
              "({}, {})"
            ]
          },
          "metadata": {
            "tags": []
          },
          "execution_count": 19
        }
      ]
    },
    {
      "cell_type": "code",
      "metadata": {
        "colab": {
          "base_uri": "https://localhost:8080/"
        },
        "id": "NmA-3bomy-DI",
        "outputId": "0cd53614-47ba-4aac-e814-a10cd32b3168"
      },
      "source": [
        "book1.author , book2.author"
      ],
      "execution_count": 20,
      "outputs": [
        {
          "output_type": "execute_result",
          "data": {
            "text/plain": [
              "('Adam Mickiewicz', 'Adam Mickiewicz')"
            ]
          },
          "metadata": {
            "tags": []
          },
          "execution_count": 20
        }
      ]
    },
    {
      "cell_type": "code",
      "metadata": {
        "colab": {
          "base_uri": "https://localhost:8080/"
        },
        "id": "ie-3nKjRy_Ox",
        "outputId": "e995e07d-15a0-4baa-80a5-ab52d6e3cb16"
      },
      "source": [
        "class Book:\n",
        "  language = 'ENG'\n",
        "\n",
        "Book.__dict__"
      ],
      "execution_count": 21,
      "outputs": [
        {
          "output_type": "execute_result",
          "data": {
            "text/plain": [
              "mappingproxy({'__module__': '__main__',\n",
              "              'language': 'ENG',\n",
              "              '__dict__': <attribute '__dict__' of 'Book' objects>,\n",
              "              '__weakref__': <attribute '__weakref__' of 'Book' objects>,\n",
              "              '__doc__': None})"
            ]
          },
          "metadata": {
            "tags": []
          },
          "execution_count": 21
        }
      ]
    },
    {
      "cell_type": "code",
      "metadata": {
        "id": "TSMXYD8NzIoZ"
      },
      "source": [
        "book1 = Book()\n",
        "book2 = Book()"
      ],
      "execution_count": 22,
      "outputs": []
    },
    {
      "cell_type": "code",
      "metadata": {
        "id": "uHtdJ9VZzKX5"
      },
      "source": [
        "book1.title = \"Pan Tadeusz\"\n",
        "book2.year = 1995"
      ],
      "execution_count": 23,
      "outputs": []
    },
    {
      "cell_type": "code",
      "metadata": {
        "colab": {
          "base_uri": "https://localhost:8080/"
        },
        "id": "RdPwImQlzh4w",
        "outputId": "200760b9-a0f6-4842-f492-dd4992345e26"
      },
      "source": [
        "book1.__dict__ , book2.__dict__"
      ],
      "execution_count": 24,
      "outputs": [
        {
          "output_type": "execute_result",
          "data": {
            "text/plain": [
              "({'title': 'Pan Tadeusz'}, {'year': 1995})"
            ]
          },
          "metadata": {
            "tags": []
          },
          "execution_count": 24
        }
      ]
    },
    {
      "cell_type": "code",
      "metadata": {
        "colab": {
          "base_uri": "https://localhost:8080/"
        },
        "id": "V7KpUFuezjwJ",
        "outputId": "a1a8b736-5cf7-46af-bc5d-00fc3f64b36e"
      },
      "source": [
        "class Book:\n",
        "\n",
        "  language = 'PL'\n",
        "  author = 'Mickiewicz'\n",
        "\n",
        "Book.__dict__"
      ],
      "execution_count": 33,
      "outputs": [
        {
          "output_type": "execute_result",
          "data": {
            "text/plain": [
              "mappingproxy({'__module__': '__main__',\n",
              "              'language': 'PL',\n",
              "              'author': 'Mickiewicz',\n",
              "              '__dict__': <attribute '__dict__' of 'Book' objects>,\n",
              "              '__weakref__': <attribute '__weakref__' of 'Book' objects>,\n",
              "              '__doc__': None})"
            ]
          },
          "metadata": {
            "tags": []
          },
          "execution_count": 33
        }
      ]
    },
    {
      "cell_type": "code",
      "metadata": {
        "colab": {
          "base_uri": "https://localhost:8080/"
        },
        "id": "WGcJsrhFzm7i",
        "outputId": "fd0a3113-6192-4200-a3dc-e5bc31856e4b"
      },
      "source": [
        "books = [Book(),Book(),Book()]\n",
        "books"
      ],
      "execution_count": 34,
      "outputs": [
        {
          "output_type": "execute_result",
          "data": {
            "text/plain": [
              "[<__main__.Book at 0x194d719b548>,\n",
              " <__main__.Book at 0x194d719b308>,\n",
              " <__main__.Book at 0x194d719b448>]"
            ]
          },
          "metadata": {
            "tags": []
          },
          "execution_count": 34
        }
      ]
    },
    {
      "cell_type": "code",
      "metadata": {
        "colab": {
          "base_uri": "https://localhost:8080/"
        },
        "id": "FN7-dIsM0G3T",
        "outputId": "38d13000-7cbe-4241-805b-d58530d52cba"
      },
      "source": [
        "for book in books:\n",
        "  print(book.language,book.author)\n"
      ],
      "execution_count": 46,
      "outputs": [
        {
          "output_type": "stream",
          "text": [
            "PL Mickiewicz\n",
            "PL Mickiewicz\n",
            "PL Mickiewicz\n"
          ],
          "name": "stdout"
        }
      ]
    },
    {
      "cell_type": "code",
      "metadata": {
        "id": "TB2NBc0G0QEB"
      },
      "source": [
        "titles = [\"Sonety Krymskie\",\"Pan Tadeusz\",\"Konrad Wallenrod\"]"
      ],
      "execution_count": 44,
      "outputs": []
    },
    {
      "cell_type": "code",
      "metadata": {
        "id": "-F2vnEol0e8J"
      },
      "source": [
        "i = 0\n",
        "for book in books:\n",
        "  book.title = titles[i]\n",
        "  i+=1"
      ],
      "execution_count": 30,
      "outputs": []
    },
    {
      "cell_type": "code",
      "metadata": {
        "id": "GKEpDKeX0zHa"
      },
      "source": [
        "for book,name in zip(books,titles):\n",
        "  #book.title = name\n",
        "  setattr(book,'title',name)"
      ],
      "execution_count": 45,
      "outputs": []
    },
    {
      "cell_type": "code",
      "metadata": {
        "colab": {
          "base_uri": "https://localhost:8080/"
        },
        "id": "2uwCPy2_1EZJ",
        "outputId": "cd1190f1-19b1-4999-9809-82b9ea583171"
      },
      "source": [
        "for book in books:\n",
        "  print(book.language,book.author,book.title)"
      ],
      "execution_count": 47,
      "outputs": [
        {
          "output_type": "stream",
          "text": [
            "PL Mickiewicz Sonety Krymskie\n",
            "PL Mickiewicz Pan Tadeusz\n",
            "PL Mickiewicz Konrad Wallenrod\n"
          ],
          "name": "stdout"
        }
      ]
    },
    {
      "cell_type": "code",
      "metadata": {
        "colab": {
          "base_uri": "https://localhost:8080/"
        },
        "id": "tmy2twNk13Qo",
        "outputId": "5e270861-dfd6-4701-9d77-05521ece865e"
      },
      "source": [
        "for book in books:\n",
        "  print(book.__dict__)"
      ],
      "execution_count": 48,
      "outputs": [
        {
          "output_type": "stream",
          "text": [
            "{'title': 'Sonety Krymskie'}\n",
            "{'title': 'Pan Tadeusz'}\n",
            "{'title': 'Konrad Wallenrod'}\n"
          ],
          "name": "stdout"
        }
      ]
    },
    {
      "cell_type": "code",
      "metadata": {
        "colab": {
          "base_uri": "https://localhost:8080/"
        },
        "id": "UbsjMk7m2R4R",
        "outputId": "839b780c-d130-4c8a-d08c-b5225959ddb6"
      },
      "source": [
        "class Book:\n",
        "\n",
        "  language = 'PL'\n",
        "  author = 'Mickiewicz'\n",
        "\n",
        "  def show_details():\n",
        "    print(Book.author,Book.language)\n",
        "\n",
        "Book.__dict__"
      ],
      "execution_count": 49,
      "outputs": [
        {
          "output_type": "execute_result",
          "data": {
            "text/plain": [
              "mappingproxy({'__module__': '__main__',\n",
              "              'language': 'PL',\n",
              "              'author': 'Mickiewicz',\n",
              "              'show_details': <function __main__.Book.show_details()>,\n",
              "              '__dict__': <attribute '__dict__' of 'Book' objects>,\n",
              "              '__weakref__': <attribute '__weakref__' of 'Book' objects>,\n",
              "              '__doc__': None})"
            ]
          },
          "metadata": {
            "tags": []
          },
          "execution_count": 49
        }
      ]
    },
    {
      "cell_type": "code",
      "metadata": {
        "colab": {
          "base_uri": "https://localhost:8080/"
        },
        "id": "hMrlLmIw7dy5",
        "outputId": "a83bf454-bde9-46b6-dc3f-47c8dafa18c8"
      },
      "source": [
        "Book.show_details()"
      ],
      "execution_count": 50,
      "outputs": [
        {
          "output_type": "stream",
          "text": [
            "Mickiewicz PL\n"
          ],
          "name": "stdout"
        }
      ]
    },
    {
      "cell_type": "code",
      "metadata": {
        "id": "lGIldBkB7hJA"
      },
      "source": [
        "Book.show_language = lambda: print(Book.language)"
      ],
      "execution_count": 51,
      "outputs": []
    },
    {
      "cell_type": "code",
      "metadata": {
        "colab": {
          "base_uri": "https://localhost:8080/"
        },
        "id": "sS07bglc7pxp",
        "outputId": "2f9b67ac-3b3d-4c87-ab79-b4ba790f44e3"
      },
      "source": [
        "Book.__dict__"
      ],
      "execution_count": 52,
      "outputs": [
        {
          "output_type": "execute_result",
          "data": {
            "text/plain": [
              "mappingproxy({'__module__': '__main__',\n",
              "              'language': 'PL',\n",
              "              'author': 'Mickiewicz',\n",
              "              'show_details': <function __main__.Book.show_details()>,\n",
              "              '__dict__': <attribute '__dict__' of 'Book' objects>,\n",
              "              '__weakref__': <attribute '__weakref__' of 'Book' objects>,\n",
              "              '__doc__': None,\n",
              "              'show_language': <function __main__.<lambda>()>})"
            ]
          },
          "metadata": {
            "tags": []
          },
          "execution_count": 52
        }
      ]
    },
    {
      "cell_type": "code",
      "metadata": {
        "id": "20ttUaw87rtX"
      },
      "source": [
        "book1 = Book()"
      ],
      "execution_count": 53,
      "outputs": []
    },
    {
      "cell_type": "code",
      "metadata": {
        "colab": {
          "base_uri": "https://localhost:8080/"
        },
        "id": "HFDmx93d8E-A",
        "outputId": "a116e191-ac01-4013-f38d-4bed807f19e3"
      },
      "source": [
        "type(book1.show_details),type(Book.show_details)"
      ],
      "execution_count": 57,
      "outputs": [
        {
          "output_type": "execute_result",
          "data": {
            "text/plain": [
              "(method, function)"
            ]
          },
          "metadata": {
            "tags": []
          },
          "execution_count": 57
        }
      ]
    },
    {
      "cell_type": "code",
      "metadata": {
        "colab": {
          "base_uri": "https://localhost:8080/"
        },
        "id": "NtMBpSMd8Hpx",
        "outputId": "7d163ca4-8255-4a11-feb3-dbedbbc627d9"
      },
      "source": [
        "class Book:\n",
        "\n",
        "  language = 'PL'\n",
        "  author = 'Mickiewicz'\n",
        "\n",
        "  def show_details(*args):\n",
        "    print(args)\n",
        "    for arg in args:\n",
        "      print(f'{arg}->{type(arg)}')\n",
        "\n",
        "Book.__dict__"
      ],
      "execution_count": 58,
      "outputs": [
        {
          "output_type": "execute_result",
          "data": {
            "text/plain": [
              "mappingproxy({'__module__': '__main__',\n",
              "              'language': 'PL',\n",
              "              'author': 'Mickiewicz',\n",
              "              'show_details': <function __main__.Book.show_details(*args)>,\n",
              "              '__dict__': <attribute '__dict__' of 'Book' objects>,\n",
              "              '__weakref__': <attribute '__weakref__' of 'Book' objects>,\n",
              "              '__doc__': None})"
            ]
          },
          "metadata": {
            "tags": []
          },
          "execution_count": 58
        }
      ]
    },
    {
      "cell_type": "code",
      "metadata": {
        "colab": {
          "base_uri": "https://localhost:8080/"
        },
        "id": "UztLt8RP-z5H",
        "outputId": "494d7287-272f-493a-f162-2bc4eb8606b1"
      },
      "source": [
        "Book.show_details()"
      ],
      "execution_count": 59,
      "outputs": [
        {
          "output_type": "stream",
          "text": [
            "()\n"
          ],
          "name": "stdout"
        }
      ]
    },
    {
      "cell_type": "code",
      "metadata": {
        "colab": {
          "base_uri": "https://localhost:8080/"
        },
        "id": "5u-htV5L-2tQ",
        "outputId": "50e25f32-f7fe-4996-874c-6dc5b5789322"
      },
      "source": [
        "book1 = Book()\n",
        "book1.show_details()"
      ],
      "execution_count": 60,
      "outputs": [
        {
          "output_type": "stream",
          "text": [
            "(<__main__.Book object at 0x00000194D78C97C8>,)\n",
            "<__main__.Book object at 0x00000194D78C97C8>-><class '__main__.Book'>\n"
          ],
          "name": "stdout"
        }
      ]
    },
    {
      "cell_type": "code",
      "metadata": {
        "colab": {
          "base_uri": "https://localhost:8080/"
        },
        "id": "kwLftqBN_CKS",
        "outputId": "414aae54-39bf-4f1b-b09f-44027a87cadf"
      },
      "source": [
        "book1.show_details('Tom II')"
      ],
      "execution_count": 61,
      "outputs": [
        {
          "output_type": "stream",
          "text": [
            "(<__main__.Book object at 0x00000194D78C97C8>, 'Tom II')\n",
            "<__main__.Book object at 0x00000194D78C97C8>-><class '__main__.Book'>\n",
            "Tom II-><class 'str'>\n"
          ],
          "name": "stdout"
        }
      ]
    },
    {
      "cell_type": "code",
      "metadata": {
        "colab": {
          "base_uri": "https://localhost:8080/"
        },
        "id": "H37KoCWa_MhB",
        "outputId": "6794ec3a-3974-457f-8fce-2e0786620004"
      },
      "source": [
        "class Book:\n",
        "\n",
        "  language = 'PL'\n",
        "  author = 'Mickiewicz'\n",
        "\n",
        "  def set_title(instance,value):\n",
        "    instance.title = value\n",
        "\n",
        "Book.__dict__"
      ],
      "execution_count": 62,
      "outputs": [
        {
          "output_type": "execute_result",
          "data": {
            "text/plain": [
              "mappingproxy({'__module__': '__main__',\n",
              "              'language': 'PL',\n",
              "              'author': 'Mickiewicz',\n",
              "              'set_title': <function __main__.Book.set_title(instance, value)>,\n",
              "              '__dict__': <attribute '__dict__' of 'Book' objects>,\n",
              "              '__weakref__': <attribute '__weakref__' of 'Book' objects>,\n",
              "              '__doc__': None})"
            ]
          },
          "metadata": {
            "tags": []
          },
          "execution_count": 62
        }
      ]
    },
    {
      "cell_type": "code",
      "metadata": {
        "colab": {
          "base_uri": "https://localhost:8080/"
        },
        "id": "9C8zzQ91_7wg",
        "outputId": "be5105e3-e334-4dca-8049-6e54937ab783"
      },
      "source": [
        "book1 = Book()\n",
        "book1"
      ],
      "execution_count": 63,
      "outputs": [
        {
          "output_type": "execute_result",
          "data": {
            "text/plain": [
              "<__main__.Book at 0x194d7310dc8>"
            ]
          },
          "metadata": {
            "tags": []
          },
          "execution_count": 63
        }
      ]
    },
    {
      "cell_type": "code",
      "metadata": {
        "id": "PpvEnAGK_-RX"
      },
      "source": [
        "book1.set_title('Kordian')"
      ],
      "execution_count": 64,
      "outputs": []
    },
    {
      "cell_type": "code",
      "metadata": {
        "colab": {
          "base_uri": "https://localhost:8080/"
        },
        "id": "jlXAm2QcAFpY",
        "outputId": "0e1c7aff-b412-4942-a135-f9b06447c638"
      },
      "source": [
        "book1.__dict__"
      ],
      "execution_count": 65,
      "outputs": [
        {
          "output_type": "execute_result",
          "data": {
            "text/plain": [
              "{'title': 'Kordian'}"
            ]
          },
          "metadata": {
            "tags": []
          },
          "execution_count": 65
        }
      ]
    },
    {
      "cell_type": "code",
      "metadata": {
        "colab": {
          "base_uri": "https://localhost:8080/"
        },
        "id": "DGJPH76SAJ6J",
        "outputId": "db102540-70a2-46a2-bb5d-43e69cc95731"
      },
      "source": [
        "book1.title"
      ],
      "execution_count": 66,
      "outputs": [
        {
          "output_type": "execute_result",
          "data": {
            "text/plain": [
              "'Kordian'"
            ]
          },
          "metadata": {
            "tags": []
          },
          "execution_count": 66
        }
      ]
    },
    {
      "cell_type": "code",
      "metadata": {
        "id": "NaN9Z4S7AODv"
      },
      "source": [
        "Book.set_title(book1,'Krzyzacy')"
      ],
      "execution_count": 67,
      "outputs": []
    },
    {
      "cell_type": "code",
      "metadata": {
        "id": "M_h8cybsAVzg"
      },
      "source": [
        "Book.get_title = lambda self: self.title"
      ],
      "execution_count": 68,
      "outputs": []
    },
    {
      "cell_type": "code",
      "metadata": {
        "colab": {
          "base_uri": "https://localhost:8080/"
        },
        "id": "g7V8zG9FBL2Q",
        "outputId": "5a947476-34ff-4262-e95a-4a8f045d24e5"
      },
      "source": [
        "book1.get_title()"
      ],
      "execution_count": 69,
      "outputs": [
        {
          "output_type": "execute_result",
          "data": {
            "text/plain": [
              "'Krzyzacy'"
            ]
          },
          "metadata": {
            "tags": []
          },
          "execution_count": 69
        }
      ]
    },
    {
      "cell_type": "code",
      "metadata": {
        "id": "3wmA2roZBOLR"
      },
      "source": [
        "class HouseProject:\n",
        "  number_of_floors = 2\n",
        "  area = 100\n",
        "\n",
        "  def describe_project():\n",
        "    print(f'Area: {HouseProject.area} m2.')\n",
        "    print(f'Number of floors: {HouseProject.number_of_floors}.')\n",
        "\n",
        "  def set_color(self,color):\n",
        "    self.color = color\n"
      ],
      "execution_count": 70,
      "outputs": []
    },
    {
      "cell_type": "code",
      "metadata": {
        "id": "x0ssqg0qBmcI"
      },
      "source": [
        "house = HouseProject()"
      ],
      "execution_count": 71,
      "outputs": []
    },
    {
      "cell_type": "code",
      "metadata": {
        "id": "zVy2RhKjBrJI"
      },
      "source": [
        "house.set_color('Green')"
      ],
      "execution_count": 72,
      "outputs": []
    },
    {
      "cell_type": "code",
      "metadata": {
        "colab": {
          "base_uri": "https://localhost:8080/"
        },
        "id": "dWsx7J3JBvIo",
        "outputId": "7d627741-7eb4-4d7e-99f2-e392e844b732"
      },
      "source": [
        "house.color"
      ],
      "execution_count": 73,
      "outputs": [
        {
          "output_type": "execute_result",
          "data": {
            "text/plain": [
              "'Green'"
            ]
          },
          "metadata": {
            "tags": []
          },
          "execution_count": 73
        }
      ]
    },
    {
      "cell_type": "code",
      "metadata": {
        "colab": {
          "base_uri": "https://localhost:8080/"
        },
        "id": "PTZkY4mmBwqo",
        "outputId": "5d29ed28-63c6-4761-d794-825310c569cd"
      },
      "source": [
        "class Phone:\n",
        "\n",
        "  brand = 'Apple'\n",
        "  short_name = brand[:3].upper()\n",
        "\n",
        "Phone.__dict__"
      ],
      "execution_count": 75,
      "outputs": [
        {
          "output_type": "execute_result",
          "data": {
            "text/plain": [
              "mappingproxy({'__module__': '__main__',\n",
              "              'brand': 'Apple',\n",
              "              'short_name': 'APP',\n",
              "              '__dict__': <attribute '__dict__' of 'Phone' objects>,\n",
              "              '__weakref__': <attribute '__weakref__' of 'Phone' objects>,\n",
              "              '__doc__': None})"
            ]
          },
          "metadata": {
            "tags": []
          },
          "execution_count": 75
        }
      ]
    },
    {
      "cell_type": "code",
      "metadata": {
        "id": "sms9g1UjGMjj"
      },
      "source": [
        "phone1 = Phone()"
      ],
      "execution_count": 77,
      "outputs": []
    },
    {
      "cell_type": "code",
      "metadata": {
        "colab": {
          "base_uri": "https://localhost:8080/"
        },
        "id": "w5HsgbrUHSTx",
        "outputId": "a8e5115f-f122-453e-fd4a-71cc7c58394a"
      },
      "source": [
        "phone1.brand , phone1.short_name"
      ],
      "execution_count": 78,
      "outputs": [
        {
          "output_type": "execute_result",
          "data": {
            "text/plain": [
              "('Apple', 'APP')"
            ]
          },
          "metadata": {
            "tags": []
          },
          "execution_count": 78
        }
      ]
    },
    {
      "cell_type": "code",
      "metadata": {
        "id": "1VMOnpX-HYVI"
      },
      "source": [
        "phone2 = Phone()"
      ],
      "execution_count": 79,
      "outputs": []
    },
    {
      "cell_type": "code",
      "metadata": {
        "id": "LoJ9twxMHjTo"
      },
      "source": [
        "phone1.brand = \"ms\""
      ],
      "execution_count": 80,
      "outputs": []
    },
    {
      "cell_type": "code",
      "metadata": {
        "colab": {
          "base_uri": "https://localhost:8080/"
        },
        "id": "ScebzGnHHmw_",
        "outputId": "7465cb86-9d82-47ab-e6a3-c27e21809b7c"
      },
      "source": [
        "phone1.brand , phone2.brand"
      ],
      "execution_count": 81,
      "outputs": [
        {
          "output_type": "execute_result",
          "data": {
            "text/plain": [
              "('ms', 'Apple')"
            ]
          },
          "metadata": {
            "tags": []
          },
          "execution_count": 81
        }
      ]
    },
    {
      "cell_type": "code",
      "metadata": {
        "id": "-VxWjsiFHpcv"
      },
      "source": [
        "Phone.brand = 'Tico'"
      ],
      "execution_count": 82,
      "outputs": []
    },
    {
      "cell_type": "code",
      "metadata": {
        "colab": {
          "base_uri": "https://localhost:8080/"
        },
        "id": "P5_khlPHHsi4",
        "outputId": "cf9d5419-ce2a-4c6e-8053-87461fc5dc72"
      },
      "source": [
        "phone1.brand , phone2.brand"
      ],
      "execution_count": 83,
      "outputs": [
        {
          "output_type": "execute_result",
          "data": {
            "text/plain": [
              "('ms', 'Tico')"
            ]
          },
          "metadata": {
            "tags": []
          },
          "execution_count": 83
        }
      ]
    },
    {
      "cell_type": "code",
      "metadata": {
        "colab": {
          "base_uri": "https://localhost:8080/"
        },
        "id": "BuXCrSVxHtiw",
        "outputId": "0018d979-6a9e-42d2-810f-4c6408c3c6fe"
      },
      "source": [
        "class Phone:\n",
        "  \n",
        "  brand = 'Apple'\n",
        "\n",
        "  def __init__(self,brand):\n",
        "    self.brand = brand\n",
        "\n",
        "  def print_brand(self):\n",
        "    print(self.brand)\n",
        "    print(Phone.brand)\n",
        "\n",
        "phone1 = Phone('samsung')\n",
        "phone1.print_brand()\n"
      ],
      "execution_count": 84,
      "outputs": [
        {
          "output_type": "stream",
          "text": [
            "samsung\n",
            "Apple\n"
          ],
          "name": "stdout"
        }
      ]
    },
    {
      "cell_type": "code",
      "metadata": {
        "colab": {
          "base_uri": "https://localhost:8080/"
        },
        "id": "iJpam1GNKCiT",
        "outputId": "917a399f-3732-4799-8339-a2f8df9209be"
      },
      "source": [
        "brand = 'HP'\n",
        "\n",
        "class Phone:\n",
        "\n",
        "  brand = 'Apple'\n",
        "  result1 = [brand] * 5\n",
        "  result2 = [brand for i in range(5)]\n",
        "\n",
        "Phone.__dict__"
      ],
      "execution_count": 1,
      "outputs": [
        {
          "output_type": "execute_result",
          "data": {
            "text/plain": [
              "mappingproxy({'__module__': '__main__',\n",
              "              'brand': 'Apple',\n",
              "              'result1': ['Apple', 'Apple', 'Apple', 'Apple', 'Apple'],\n",
              "              'result2': ['HP', 'HP', 'HP', 'HP', 'HP'],\n",
              "              '__dict__': <attribute '__dict__' of 'Phone' objects>,\n",
              "              '__weakref__': <attribute '__weakref__' of 'Phone' objects>,\n",
              "              '__doc__': None})"
            ]
          },
          "metadata": {
            "tags": []
          },
          "execution_count": 1
        }
      ]
    }
  ]
}