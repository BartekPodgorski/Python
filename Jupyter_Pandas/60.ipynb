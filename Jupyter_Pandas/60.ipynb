{
 "cells": [
  {
   "cell_type": "code",
   "execution_count": 3,
   "metadata": {},
   "outputs": [],
   "source": [
    "import pandas as pd\n",
    "import numpy as np\n",
    "import matplotlib.pyplot as plt\n",
    "import math"
   ]
  },
  {
   "cell_type": "code",
   "execution_count": 4,
   "metadata": {},
   "outputs": [],
   "source": [
    "frame = pd.read_csv(\"C:/Users/user/Desktop/kurs_pandas/course-files/mcdonalds.csv\")"
   ]
  },
  {
   "cell_type": "code",
   "execution_count": 5,
   "metadata": {},
   "outputs": [],
   "source": [
    "series = pd.read_csv(\"C:/Users/user/Desktop/kurs_pandas/course-files/mcdonalds.csv\", usecols=[\"Item\",\"Calories\"],\n",
    "                    index_col=\"Item\",squeeze=True)"
   ]
  },
  {
   "cell_type": "code",
   "execution_count": 5,
   "metadata": {},
   "outputs": [
    {
     "data": {
      "text/plain": [
       "260"
      ]
     },
     "execution_count": 5,
     "metadata": {},
     "output_type": "execute_result"
    }
   ],
   "source": [
    "series.count()"
   ]
  },
  {
   "cell_type": "code",
   "execution_count": 6,
   "metadata": {},
   "outputs": [
    {
     "data": {
      "text/plain": [
       "Category                         260\n",
       "Item                             260\n",
       "Serving Size                     260\n",
       "Calories                         260\n",
       "Calories from Fat                260\n",
       "TotalFat                         260\n",
       "Total Fat (% Daily Value)        260\n",
       "Saturated Fat                    260\n",
       "Saturated Fat (% Daily Value)    260\n",
       "Trans Fat                        260\n",
       "Cholesterol                      260\n",
       "Cholesterol (% Daily Value)      260\n",
       "Sodium                           260\n",
       "Sodium (% Daily Value)           260\n",
       "Carbohydrates                    260\n",
       "Carbohydrates (% Daily Value)    260\n",
       "Dietary Fiber                    260\n",
       "Dietary Fiber (% Daily Value)    260\n",
       "Sugars                           260\n",
       "Protein                          260\n",
       "Vitamin A (% Daily Value)        260\n",
       "Vitamin C (% Daily Value)        260\n",
       "Calcium (% Daily Value)          260\n",
       "Iron (% Daily Value)             260\n",
       "dtype: int64"
      ]
     },
     "execution_count": 6,
     "metadata": {},
     "output_type": "execute_result"
    }
   ],
   "source": [
    "frame.count()"
   ]
  },
  {
   "cell_type": "code",
   "execution_count": 7,
   "metadata": {},
   "outputs": [
    {
     "data": {
      "text/plain": [
       "260"
      ]
     },
     "execution_count": 7,
     "metadata": {},
     "output_type": "execute_result"
    }
   ],
   "source": [
    "len(series)"
   ]
  },
  {
   "cell_type": "code",
   "execution_count": 8,
   "metadata": {},
   "outputs": [
    {
     "data": {
      "text/plain": [
       "260"
      ]
     },
     "execution_count": 8,
     "metadata": {},
     "output_type": "execute_result"
    }
   ],
   "source": [
    "len(frame)"
   ]
  },
  {
   "cell_type": "code",
   "execution_count": 9,
   "metadata": {},
   "outputs": [
    {
     "data": {
      "text/plain": [
       "dtype('int64')"
      ]
     },
     "execution_count": 9,
     "metadata": {},
     "output_type": "execute_result"
    }
   ],
   "source": [
    "series.dtypes"
   ]
  },
  {
   "cell_type": "code",
   "execution_count": 10,
   "metadata": {},
   "outputs": [
    {
     "data": {
      "text/plain": [
       "Category                          object\n",
       "Item                              object\n",
       "Serving Size                      object\n",
       "Calories                           int64\n",
       "Calories from Fat                  int64\n",
       "TotalFat                         float64\n",
       "Total Fat (% Daily Value)          int64\n",
       "Saturated Fat                    float64\n",
       "Saturated Fat (% Daily Value)      int64\n",
       "Trans Fat                        float64\n",
       "Cholesterol                        int64\n",
       "Cholesterol (% Daily Value)        int64\n",
       "Sodium                             int64\n",
       "Sodium (% Daily Value)             int64\n",
       "Carbohydrates                      int64\n",
       "Carbohydrates (% Daily Value)      int64\n",
       "Dietary Fiber                      int64\n",
       "Dietary Fiber (% Daily Value)      int64\n",
       "Sugars                             int64\n",
       "Protein                            int64\n",
       "Vitamin A (% Daily Value)          int64\n",
       "Vitamin C (% Daily Value)          int64\n",
       "Calcium (% Daily Value)            int64\n",
       "Iron (% Daily Value)               int64\n",
       "dtype: object"
      ]
     },
     "execution_count": 10,
     "metadata": {},
     "output_type": "execute_result"
    }
   ],
   "source": [
    "frame.dtypes"
   ]
  },
  {
   "cell_type": "code",
   "execution_count": 17,
   "metadata": {},
   "outputs": [
    {
     "ename": "AttributeError",
     "evalue": "'numpy.dtype' object has no attribute 'value_counts'",
     "output_type": "error",
     "traceback": [
      "\u001b[1;31m---------------------------------------------------------------------------\u001b[0m",
      "\u001b[1;31mAttributeError\u001b[0m                            Traceback (most recent call last)",
      "\u001b[1;32m<ipython-input-17-08518d411ad3>\u001b[0m in \u001b[0;36m<module>\u001b[1;34m\u001b[0m\n\u001b[1;32m----> 1\u001b[1;33m \u001b[0mseries\u001b[0m\u001b[1;33m.\u001b[0m\u001b[0mdtypes\u001b[0m\u001b[1;33m.\u001b[0m\u001b[0mvalue_counts\u001b[0m\u001b[1;33m(\u001b[0m\u001b[1;33m)\u001b[0m\u001b[1;33m\u001b[0m\u001b[1;33m\u001b[0m\u001b[0m\n\u001b[0m",
      "\u001b[1;31mAttributeError\u001b[0m: 'numpy.dtype' object has no attribute 'value_counts'"
     ]
    }
   ],
   "source": [
    "series.dtypes.value_counts()\n"
   ]
  },
  {
   "cell_type": "code",
   "execution_count": 15,
   "metadata": {},
   "outputs": [
    {
     "data": {
      "text/plain": [
       "int64      18\n",
       "object      3\n",
       "float64     3\n",
       "dtype: int64"
      ]
     },
     "execution_count": 15,
     "metadata": {},
     "output_type": "execute_result"
    }
   ],
   "source": [
    "frame.dtypes.value_counts()"
   ]
  },
  {
   "cell_type": "code",
   "execution_count": 6,
   "metadata": {},
   "outputs": [
    {
     "data": {
      "text/plain": [
       "(260, 24)"
      ]
     },
     "execution_count": 6,
     "metadata": {},
     "output_type": "execute_result"
    }
   ],
   "source": [
    "frame.shape"
   ]
  },
  {
   "cell_type": "code",
   "execution_count": 7,
   "metadata": {},
   "outputs": [
    {
     "data": {
      "text/plain": [
       "[Index(['Egg McMuffin', 'Egg White Delight', 'Sausage McMuffin',\n",
       "        'Sausage McMuffin with Egg', 'Sausage McMuffin with Egg Whites',\n",
       "        'Steak & Egg McMuffin', 'Bacon, Egg & Cheese Biscuit (Regular Biscuit)',\n",
       "        'Bacon, Egg & Cheese Biscuit (Large Biscuit)',\n",
       "        'Bacon, Egg & Cheese Biscuit with Egg Whites (Regular Biscuit)',\n",
       "        'Bacon, Egg & Cheese Biscuit with Egg Whites (Large Biscuit)',\n",
       "        ...\n",
       "        'Shamrock Shake (Medium)', 'Shamrock Shake (Large)',\n",
       "        'McFlurry with M&M’s Candies (Small)',\n",
       "        'McFlurry with M&M’s Candies (Medium)',\n",
       "        'McFlurry with M&M’s Candies (Snack)',\n",
       "        'McFlurry with Oreo Cookies (Small)',\n",
       "        'McFlurry with Oreo Cookies (Medium)',\n",
       "        'McFlurry with Oreo Cookies (Snack)',\n",
       "        'McFlurry with Reese's Peanut Butter Cups (Medium)',\n",
       "        'McFlurry with Reese's Peanut Butter Cups (Snack)'],\n",
       "       dtype='object', name='Item', length=260)]"
      ]
     },
     "execution_count": 7,
     "metadata": {},
     "output_type": "execute_result"
    }
   ],
   "source": [
    "series.axes"
   ]
  },
  {
   "cell_type": "code",
   "execution_count": 8,
   "metadata": {},
   "outputs": [
    {
     "data": {
      "text/plain": [
       "[RangeIndex(start=0, stop=260, step=1),\n",
       " Index(['Category', 'Item', 'Serving Size', 'Calories', 'Calories from Fat',\n",
       "        'TotalFat', 'Total Fat (% Daily Value)', 'Saturated Fat',\n",
       "        'Saturated Fat (% Daily Value)', 'Trans Fat', 'Cholesterol',\n",
       "        'Cholesterol (% Daily Value)', 'Sodium', 'Sodium (% Daily Value)',\n",
       "        'Carbohydrates', 'Carbohydrates (% Daily Value)', 'Dietary Fiber',\n",
       "        'Dietary Fiber (% Daily Value)', 'Sugars', 'Protein',\n",
       "        'Vitamin A (% Daily Value)', 'Vitamin C (% Daily Value)',\n",
       "        'Calcium (% Daily Value)', 'Iron (% Daily Value)'],\n",
       "       dtype='object')]"
      ]
     },
     "execution_count": 8,
     "metadata": {},
     "output_type": "execute_result"
    }
   ],
   "source": [
    "frame.axes"
   ]
  },
  {
   "cell_type": "code",
   "execution_count": 10,
   "metadata": {},
   "outputs": [
    {
     "data": {
      "text/plain": [
       "Index(['Category', 'Item', 'Serving Size', 'Calories', 'Calories from Fat',\n",
       "       'TotalFat', 'Total Fat (% Daily Value)', 'Saturated Fat',\n",
       "       'Saturated Fat (% Daily Value)', 'Trans Fat', 'Cholesterol',\n",
       "       'Cholesterol (% Daily Value)', 'Sodium', 'Sodium (% Daily Value)',\n",
       "       'Carbohydrates', 'Carbohydrates (% Daily Value)', 'Dietary Fiber',\n",
       "       'Dietary Fiber (% Daily Value)', 'Sugars', 'Protein',\n",
       "       'Vitamin A (% Daily Value)', 'Vitamin C (% Daily Value)',\n",
       "       'Calcium (% Daily Value)', 'Iron (% Daily Value)'],\n",
       "      dtype='object')"
      ]
     },
     "execution_count": 10,
     "metadata": {},
     "output_type": "execute_result"
    }
   ],
   "source": [
    "frame.columns"
   ]
  },
  {
   "cell_type": "code",
   "execution_count": 11,
   "metadata": {},
   "outputs": [
    {
     "data": {
      "text/plain": [
       "array([['Breakfast', 'Egg McMuffin', '4.8 oz (136 g)', ..., 0, 25, 15],\n",
       "       ['Breakfast', 'Egg White Delight', '4.8 oz (135 g)', ..., 0, 25,\n",
       "        8],\n",
       "       ['Breakfast', 'Sausage McMuffin', '3.9 oz (111 g)', ..., 0, 25,\n",
       "        10],\n",
       "       ...,\n",
       "       ['Smoothies & Shakes', 'McFlurry with Oreo Cookies (Snack)',\n",
       "        '6.7 oz (190 g)', ..., 0, 25, 6],\n",
       "       ['Smoothies & Shakes',\n",
       "        \"McFlurry with Reese's Peanut Butter Cups (Medium)\",\n",
       "        '14.2 oz (403 g)', ..., 0, 60, 6],\n",
       "       ['Smoothies & Shakes',\n",
       "        \"McFlurry with Reese's Peanut Butter Cups (Snack)\",\n",
       "        '7.1 oz (202 g)', ..., 0, 30, 4]], dtype=object)"
      ]
     },
     "execution_count": 11,
     "metadata": {},
     "output_type": "execute_result"
    }
   ],
   "source": [
    "frame.values"
   ]
  },
  {
   "cell_type": "code",
   "execution_count": 13,
   "metadata": {},
   "outputs": [
    {
     "name": "stdout",
     "output_type": "stream",
     "text": [
      "<class 'pandas.core.frame.DataFrame'>\n",
      "RangeIndex: 260 entries, 0 to 259\n",
      "Data columns (total 24 columns):\n",
      " #   Column                         Non-Null Count  Dtype  \n",
      "---  ------                         --------------  -----  \n",
      " 0   Category                       260 non-null    object \n",
      " 1   Item                           260 non-null    object \n",
      " 2   Serving Size                   260 non-null    object \n",
      " 3   Calories                       260 non-null    int64  \n",
      " 4   Calories from Fat              260 non-null    int64  \n",
      " 5   TotalFat                       260 non-null    float64\n",
      " 6   Total Fat (% Daily Value)      260 non-null    int64  \n",
      " 7   Saturated Fat                  260 non-null    float64\n",
      " 8   Saturated Fat (% Daily Value)  260 non-null    int64  \n",
      " 9   Trans Fat                      260 non-null    float64\n",
      " 10  Cholesterol                    260 non-null    int64  \n",
      " 11  Cholesterol (% Daily Value)    260 non-null    int64  \n",
      " 12  Sodium                         260 non-null    int64  \n",
      " 13  Sodium (% Daily Value)         260 non-null    int64  \n",
      " 14  Carbohydrates                  260 non-null    int64  \n",
      " 15  Carbohydrates (% Daily Value)  260 non-null    int64  \n",
      " 16  Dietary Fiber                  260 non-null    int64  \n",
      " 17  Dietary Fiber (% Daily Value)  260 non-null    int64  \n",
      " 18  Sugars                         260 non-null    int64  \n",
      " 19  Protein                        260 non-null    int64  \n",
      " 20  Vitamin A (% Daily Value)      260 non-null    int64  \n",
      " 21  Vitamin C (% Daily Value)      260 non-null    int64  \n",
      " 22  Calcium (% Daily Value)        260 non-null    int64  \n",
      " 23  Iron (% Daily Value)           260 non-null    int64  \n",
      "dtypes: float64(3), int64(18), object(3)\n",
      "memory usage: 45.8+ KB\n"
     ]
    }
   ],
   "source": [
    "frame.info()"
   ]
  },
  {
   "cell_type": "code",
   "execution_count": 17,
   "metadata": {},
   "outputs": [
    {
     "data": {
      "text/plain": [
       "Coffee & Tea          95\n",
       "Breakfast             42\n",
       "Smoothies & Shakes    28\n",
       "Chicken & Fish        27\n",
       "Beverages             27\n",
       "Beef & Pork           15\n",
       "Snacks & Sides        13\n",
       "Desserts               7\n",
       "Salads                 6\n",
       "Name: Category, dtype: int64"
      ]
     },
     "execution_count": 17,
     "metadata": {},
     "output_type": "execute_result"
    }
   ],
   "source": [
    "frame[\"Category\"].value_counts()"
   ]
  },
  {
   "cell_type": "code",
   "execution_count": 19,
   "metadata": {},
   "outputs": [
    {
     "data": {
      "text/html": [
       "<div>\n",
       "<style scoped>\n",
       "    .dataframe tbody tr th:only-of-type {\n",
       "        vertical-align: middle;\n",
       "    }\n",
       "\n",
       "    .dataframe tbody tr th {\n",
       "        vertical-align: top;\n",
       "    }\n",
       "\n",
       "    .dataframe thead th {\n",
       "        text-align: right;\n",
       "    }\n",
       "</style>\n",
       "<table border=\"1\" class=\"dataframe\">\n",
       "  <thead>\n",
       "    <tr style=\"text-align: right;\">\n",
       "      <th></th>\n",
       "      <th>Category</th>\n",
       "      <th>Item</th>\n",
       "      <th>Serving Size</th>\n",
       "      <th>Calories</th>\n",
       "      <th>Calories from Fat</th>\n",
       "      <th>TotalFat</th>\n",
       "      <th>Total Fat (% Daily Value)</th>\n",
       "      <th>Saturated Fat</th>\n",
       "      <th>Saturated Fat (% Daily Value)</th>\n",
       "      <th>Trans Fat</th>\n",
       "      <th>...</th>\n",
       "      <th>Carbohydrates</th>\n",
       "      <th>Carbohydrates (% Daily Value)</th>\n",
       "      <th>Dietary Fiber</th>\n",
       "      <th>Dietary Fiber (% Daily Value)</th>\n",
       "      <th>Sugars</th>\n",
       "      <th>Protein</th>\n",
       "      <th>Vitamin A (% Daily Value)</th>\n",
       "      <th>Vitamin C (% Daily Value)</th>\n",
       "      <th>Calcium (% Daily Value)</th>\n",
       "      <th>Iron (% Daily Value)</th>\n",
       "    </tr>\n",
       "  </thead>\n",
       "  <tbody>\n",
       "    <tr>\n",
       "      <th>61</th>\n",
       "      <td>Chicken &amp; Fish</td>\n",
       "      <td>Premium Crispy Chicken Ranch BLT Sandwich</td>\n",
       "      <td>8.1 oz (230 g)</td>\n",
       "      <td>610</td>\n",
       "      <td>250</td>\n",
       "      <td>28.0</td>\n",
       "      <td>43</td>\n",
       "      <td>6.0</td>\n",
       "      <td>31</td>\n",
       "      <td>0.0</td>\n",
       "      <td>...</td>\n",
       "      <td>57</td>\n",
       "      <td>19</td>\n",
       "      <td>3</td>\n",
       "      <td>13</td>\n",
       "      <td>11</td>\n",
       "      <td>32</td>\n",
       "      <td>4</td>\n",
       "      <td>20</td>\n",
       "      <td>15</td>\n",
       "      <td>20</td>\n",
       "    </tr>\n",
       "    <tr>\n",
       "      <th>37</th>\n",
       "      <td>Breakfast</td>\n",
       "      <td>Sausage Burrito</td>\n",
       "      <td>3.9 oz (111 g)</td>\n",
       "      <td>300</td>\n",
       "      <td>150</td>\n",
       "      <td>16.0</td>\n",
       "      <td>25</td>\n",
       "      <td>7.0</td>\n",
       "      <td>33</td>\n",
       "      <td>0.0</td>\n",
       "      <td>...</td>\n",
       "      <td>26</td>\n",
       "      <td>9</td>\n",
       "      <td>1</td>\n",
       "      <td>5</td>\n",
       "      <td>2</td>\n",
       "      <td>12</td>\n",
       "      <td>10</td>\n",
       "      <td>2</td>\n",
       "      <td>15</td>\n",
       "      <td>15</td>\n",
       "    </tr>\n",
       "    <tr>\n",
       "      <th>10</th>\n",
       "      <td>Breakfast</td>\n",
       "      <td>Sausage Biscuit (Regular Biscuit)</td>\n",
       "      <td>4.1 oz (117 g)</td>\n",
       "      <td>430</td>\n",
       "      <td>240</td>\n",
       "      <td>27.0</td>\n",
       "      <td>42</td>\n",
       "      <td>12.0</td>\n",
       "      <td>62</td>\n",
       "      <td>0.0</td>\n",
       "      <td>...</td>\n",
       "      <td>34</td>\n",
       "      <td>11</td>\n",
       "      <td>2</td>\n",
       "      <td>6</td>\n",
       "      <td>2</td>\n",
       "      <td>11</td>\n",
       "      <td>0</td>\n",
       "      <td>0</td>\n",
       "      <td>6</td>\n",
       "      <td>15</td>\n",
       "    </tr>\n",
       "  </tbody>\n",
       "</table>\n",
       "<p>3 rows × 24 columns</p>\n",
       "</div>"
      ],
      "text/plain": [
       "          Category                                       Item    Serving Size  \\\n",
       "61  Chicken & Fish  Premium Crispy Chicken Ranch BLT Sandwich  8.1 oz (230 g)   \n",
       "37       Breakfast                            Sausage Burrito  3.9 oz (111 g)   \n",
       "10       Breakfast          Sausage Biscuit (Regular Biscuit)  4.1 oz (117 g)   \n",
       "\n",
       "    Calories  Calories from Fat  TotalFat  Total Fat (% Daily Value)  \\\n",
       "61       610                250      28.0                         43   \n",
       "37       300                150      16.0                         25   \n",
       "10       430                240      27.0                         42   \n",
       "\n",
       "    Saturated Fat  Saturated Fat (% Daily Value)  Trans Fat  ...  \\\n",
       "61            6.0                             31        0.0  ...   \n",
       "37            7.0                             33        0.0  ...   \n",
       "10           12.0                             62        0.0  ...   \n",
       "\n",
       "    Carbohydrates  Carbohydrates (% Daily Value)  Dietary Fiber  \\\n",
       "61             57                             19              3   \n",
       "37             26                              9              1   \n",
       "10             34                             11              2   \n",
       "\n",
       "    Dietary Fiber (% Daily Value)  Sugars  Protein  Vitamin A (% Daily Value)  \\\n",
       "61                             13      11       32                          4   \n",
       "37                              5       2       12                         10   \n",
       "10                              6       2       11                          0   \n",
       "\n",
       "    Vitamin C (% Daily Value)  Calcium (% Daily Value)  Iron (% Daily Value)  \n",
       "61                         20                       15                    20  \n",
       "37                          2                       15                    15  \n",
       "10                          0                        6                    15  \n",
       "\n",
       "[3 rows x 24 columns]"
      ]
     },
     "execution_count": 19,
     "metadata": {},
     "output_type": "execute_result"
    }
   ],
   "source": [
    "frame.sample(n = 3)"
   ]
  },
  {
   "cell_type": "code",
   "execution_count": null,
   "metadata": {},
   "outputs": [],
   "source": []
  }
 ],
 "metadata": {
  "kernelspec": {
   "display_name": "Python 3.8.1 32-bit",
   "language": "python",
   "name": "python38132bite28ea8602282427880738acd08b91328"
  },
  "language_info": {
   "codemirror_mode": {
    "name": "ipython",
    "version": 3
   },
   "file_extension": ".py",
   "mimetype": "text/x-python",
   "name": "python",
   "nbconvert_exporter": "python",
   "pygments_lexer": "ipython3",
   "version": "3.8.1"
  }
 },
 "nbformat": 4,
 "nbformat_minor": 4
}
