{
 "cells": [
  {
   "cell_type": "code",
   "execution_count": 1,
   "metadata": {},
   "outputs": [
    {
     "data": {
      "text/html": [
       "<div>\n",
       "<style scoped>\n",
       "    .dataframe tbody tr th:only-of-type {\n",
       "        vertical-align: middle;\n",
       "    }\n",
       "\n",
       "    .dataframe tbody tr th {\n",
       "        vertical-align: top;\n",
       "    }\n",
       "\n",
       "    .dataframe thead th {\n",
       "        text-align: right;\n",
       "    }\n",
       "</style>\n",
       "<table border=\"1\" class=\"dataframe\">\n",
       "  <thead>\n",
       "    <tr style=\"text-align: right;\">\n",
       "      <th></th>\n",
       "      <th>Retailer country</th>\n",
       "      <th>Order method type</th>\n",
       "      <th>Retailer type</th>\n",
       "      <th>Product line</th>\n",
       "      <th>Product type</th>\n",
       "      <th>Product</th>\n",
       "      <th>Year</th>\n",
       "      <th>Quarter</th>\n",
       "      <th>Revenue</th>\n",
       "      <th>Quantity</th>\n",
       "      <th>Gross margin</th>\n",
       "    </tr>\n",
       "  </thead>\n",
       "  <tbody>\n",
       "    <tr>\n",
       "      <th>0</th>\n",
       "      <td>United States</td>\n",
       "      <td>Fax</td>\n",
       "      <td>Outdoors Shop</td>\n",
       "      <td>Camping Equipment</td>\n",
       "      <td>Cooking Gear</td>\n",
       "      <td>TrailChef Deluxe Cook Set</td>\n",
       "      <td>2012</td>\n",
       "      <td>Q1 2012</td>\n",
       "      <td>59628.66</td>\n",
       "      <td>489</td>\n",
       "      <td>0.347548</td>\n",
       "    </tr>\n",
       "    <tr>\n",
       "      <th>1</th>\n",
       "      <td>United States</td>\n",
       "      <td>Fax</td>\n",
       "      <td>Outdoors Shop</td>\n",
       "      <td>Camping Equipment</td>\n",
       "      <td>Cooking Gear</td>\n",
       "      <td>TrailChef Double Flame</td>\n",
       "      <td>2012</td>\n",
       "      <td>Q1 2012</td>\n",
       "      <td>35950.32</td>\n",
       "      <td>252</td>\n",
       "      <td>0.474274</td>\n",
       "    </tr>\n",
       "    <tr>\n",
       "      <th>2</th>\n",
       "      <td>United States</td>\n",
       "      <td>Fax</td>\n",
       "      <td>Outdoors Shop</td>\n",
       "      <td>Camping Equipment</td>\n",
       "      <td>Tents</td>\n",
       "      <td>Star Dome</td>\n",
       "      <td>2012</td>\n",
       "      <td>Q1 2012</td>\n",
       "      <td>89940.48</td>\n",
       "      <td>147</td>\n",
       "      <td>0.352772</td>\n",
       "    </tr>\n",
       "    <tr>\n",
       "      <th>3</th>\n",
       "      <td>United States</td>\n",
       "      <td>Fax</td>\n",
       "      <td>Outdoors Shop</td>\n",
       "      <td>Camping Equipment</td>\n",
       "      <td>Tents</td>\n",
       "      <td>Star Gazer 2</td>\n",
       "      <td>2012</td>\n",
       "      <td>Q1 2012</td>\n",
       "      <td>165883.41</td>\n",
       "      <td>303</td>\n",
       "      <td>0.282938</td>\n",
       "    </tr>\n",
       "    <tr>\n",
       "      <th>4</th>\n",
       "      <td>United States</td>\n",
       "      <td>Fax</td>\n",
       "      <td>Outdoors Shop</td>\n",
       "      <td>Camping Equipment</td>\n",
       "      <td>Sleeping Bags</td>\n",
       "      <td>Hibernator Lite</td>\n",
       "      <td>2012</td>\n",
       "      <td>Q1 2012</td>\n",
       "      <td>119822.20</td>\n",
       "      <td>1415</td>\n",
       "      <td>0.291450</td>\n",
       "    </tr>\n",
       "  </tbody>\n",
       "</table>\n",
       "</div>"
      ],
      "text/plain": [
       "  Retailer country Order method type  Retailer type       Product line  \\\n",
       "0    United States               Fax  Outdoors Shop  Camping Equipment   \n",
       "1    United States               Fax  Outdoors Shop  Camping Equipment   \n",
       "2    United States               Fax  Outdoors Shop  Camping Equipment   \n",
       "3    United States               Fax  Outdoors Shop  Camping Equipment   \n",
       "4    United States               Fax  Outdoors Shop  Camping Equipment   \n",
       "\n",
       "    Product type                    Product  Year  Quarter    Revenue  \\\n",
       "0   Cooking Gear  TrailChef Deluxe Cook Set  2012  Q1 2012   59628.66   \n",
       "1   Cooking Gear     TrailChef Double Flame  2012  Q1 2012   35950.32   \n",
       "2          Tents                  Star Dome  2012  Q1 2012   89940.48   \n",
       "3          Tents               Star Gazer 2  2012  Q1 2012  165883.41   \n",
       "4  Sleeping Bags            Hibernator Lite  2012  Q1 2012  119822.20   \n",
       "\n",
       "   Quantity  Gross margin  \n",
       "0       489      0.347548  \n",
       "1       252      0.474274  \n",
       "2       147      0.352772  \n",
       "3       303      0.282938  \n",
       "4      1415      0.291450  "
      ]
     },
     "execution_count": 1,
     "metadata": {},
     "output_type": "execute_result"
    }
   ],
   "source": [
    "import numpy as np\n",
    "import pandas as pd\n",
    "products = pd.read_csv(\"C:/Users/user/Desktop/Python_Main/kurs_pandas/WA_Sales_Products_2012-14.csv\")\n",
    "products.head()"
   ]
  },
  {
   "cell_type": "code",
   "execution_count": 2,
   "metadata": {},
   "outputs": [],
   "source": [
    "groups = products.groupby(by = [\"Retailer country\",\"Year\"])"
   ]
  },
  {
   "cell_type": "code",
   "execution_count": 3,
   "metadata": {},
   "outputs": [
    {
     "data": {
      "text/plain": [
       "Retailer country  Year\n",
       "Australia         2012    25607043.50\n",
       "                  2013    47799737.14\n",
       "                  2014    35893188.50\n",
       "Austria           2012    34568089.63\n",
       "                  2013    44996737.04\n",
       "Name: Revenue, dtype: float64"
      ]
     },
     "execution_count": 3,
     "metadata": {},
     "output_type": "execute_result"
    }
   ],
   "source": [
    "groups[\"Revenue\"].sum().head()"
   ]
  },
  {
   "cell_type": "code",
   "execution_count": 5,
   "metadata": {},
   "outputs": [
    {
     "data": {
      "text/plain": [
       "Retailer country  Year\n",
       "Australia         2012    25607043.50\n",
       "                  2013    47799737.14\n",
       "                  2014    35893188.50\n",
       "Austria           2012    34568089.63\n",
       "                  2013    44996737.04\n",
       "Name: Revenue, dtype: float64"
      ]
     },
     "execution_count": 5,
     "metadata": {},
     "output_type": "execute_result"
    }
   ],
   "source": [
    "groups.Revenue.sum().head()"
   ]
  },
  {
   "cell_type": "code",
   "execution_count": 6,
   "metadata": {},
   "outputs": [
    {
     "data": {
      "text/html": [
       "<div>\n",
       "<style scoped>\n",
       "    .dataframe tbody tr th:only-of-type {\n",
       "        vertical-align: middle;\n",
       "    }\n",
       "\n",
       "    .dataframe tbody tr th {\n",
       "        vertical-align: top;\n",
       "    }\n",
       "\n",
       "    .dataframe thead th {\n",
       "        text-align: right;\n",
       "    }\n",
       "</style>\n",
       "<table border=\"1\" class=\"dataframe\">\n",
       "  <thead>\n",
       "    <tr style=\"text-align: right;\">\n",
       "      <th></th>\n",
       "      <th></th>\n",
       "      <th>Revenue</th>\n",
       "    </tr>\n",
       "    <tr>\n",
       "      <th>Retailer country</th>\n",
       "      <th>Year</th>\n",
       "      <th></th>\n",
       "    </tr>\n",
       "  </thead>\n",
       "  <tbody>\n",
       "    <tr>\n",
       "      <th rowspan=\"3\" valign=\"top\">Australia</th>\n",
       "      <th>2012</th>\n",
       "      <td>25607043.50</td>\n",
       "    </tr>\n",
       "    <tr>\n",
       "      <th>2013</th>\n",
       "      <td>47799737.14</td>\n",
       "    </tr>\n",
       "    <tr>\n",
       "      <th>2014</th>\n",
       "      <td>35893188.50</td>\n",
       "    </tr>\n",
       "    <tr>\n",
       "      <th rowspan=\"2\" valign=\"top\">Austria</th>\n",
       "      <th>2012</th>\n",
       "      <td>34568089.63</td>\n",
       "    </tr>\n",
       "    <tr>\n",
       "      <th>2013</th>\n",
       "      <td>44996737.04</td>\n",
       "    </tr>\n",
       "  </tbody>\n",
       "</table>\n",
       "</div>"
      ],
      "text/plain": [
       "                           Revenue\n",
       "Retailer country Year             \n",
       "Australia        2012  25607043.50\n",
       "                 2013  47799737.14\n",
       "                 2014  35893188.50\n",
       "Austria          2012  34568089.63\n",
       "                 2013  44996737.04"
      ]
     },
     "execution_count": 6,
     "metadata": {},
     "output_type": "execute_result"
    }
   ],
   "source": [
    "groups.agg({\"Revenue\":\"sum\"}).head()"
   ]
  },
  {
   "cell_type": "code",
   "execution_count": null,
   "metadata": {},
   "outputs": [],
   "source": []
  }
 ],
 "metadata": {
  "kernelspec": {
   "display_name": "Python 3.8.1 32-bit",
   "language": "python",
   "name": "python38132bite28ea8602282427880738acd08b91328"
  },
  "language_info": {
   "codemirror_mode": {
    "name": "ipython",
    "version": 3
   },
   "file_extension": ".py",
   "mimetype": "text/x-python",
   "name": "python",
   "nbconvert_exporter": "python",
   "pygments_lexer": "ipython3",
   "version": "3.8.1"
  }
 },
 "nbformat": 4,
 "nbformat_minor": 4
}
