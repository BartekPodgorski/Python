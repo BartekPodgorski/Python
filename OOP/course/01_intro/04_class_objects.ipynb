{
  "nbformat": 4,
  "nbformat_minor": 0,
  "metadata": {
    "colab": {
      "name": "04_class_objects.ipynb",
      "provenance": [],
      "authorship_tag": "ABX9TyOqgJcTa8kOw90nXd3JrcB+",
      "include_colab_link": true
    },
    "kernelspec": {
      "name": "python3",
      "display_name": "Python 3"
    }
  },
  "cells": [
    {
      "cell_type": "markdown",
      "metadata": {
        "id": "view-in-github",
        "colab_type": "text"
      },
      "source": [
        "<a href=\"https://colab.research.google.com/github/BartekPodgorski/Python/blob/main/OOP/course/01_intro/04_class_objects.ipynb\" target=\"_parent\"><img src=\"https://colab.research.google.com/assets/colab-badge.svg\" alt=\"Open In Colab\"/></a>"
      ]
    },
    {
      "cell_type": "code",
      "metadata": {
        "id": "cWPkL_QCvhmY"
      },
      "source": [
        "class Phone:\n",
        "  pass"
      ],
      "execution_count": 1,
      "outputs": []
    },
    {
      "cell_type": "code",
      "metadata": {
        "colab": {
          "base_uri": "https://localhost:8080/"
        },
        "id": "rt825HToy_ne",
        "outputId": "ea1c7c11-2a98-405a-eb33-b4fd9b5adcb2"
      },
      "source": [
        "help(object)"
      ],
      "execution_count": 3,
      "outputs": [
        {
          "output_type": "stream",
          "text": [
            "Help on class object in module builtins:\n",
            "\n",
            "class object\n",
            " |  The most base type\n",
            "\n"
          ],
          "name": "stdout"
        }
      ]
    },
    {
      "cell_type": "code",
      "metadata": {
        "colab": {
          "base_uri": "https://localhost:8080/"
        },
        "id": "vdNOl8BczQPi",
        "outputId": "0b1cef5c-8932-409a-eba1-53d59fdb4432"
      },
      "source": [
        "class Phone:\n",
        "  pass\n",
        "help(Phone)"
      ],
      "execution_count": 4,
      "outputs": [
        {
          "output_type": "stream",
          "text": [
            "Help on class Phone in module __main__:\n",
            "\n",
            "class Phone(builtins.object)\n",
            " |  Data descriptors defined here:\n",
            " |  \n",
            " |  __dict__\n",
            " |      dictionary for instance variables (if defined)\n",
            " |  \n",
            " |  __weakref__\n",
            " |      list of weak references to the object (if defined)\n",
            "\n"
          ],
          "name": "stdout"
        }
      ]
    },
    {
      "cell_type": "code",
      "metadata": {
        "colab": {
          "base_uri": "https://localhost:8080/"
        },
        "id": "IIKYWdayzbCD",
        "outputId": "6ef446d2-10df-4e78-e22c-47fbd02c3ed7"
      },
      "source": [
        "class Phone:\n",
        "  \"\"\"The Phone class\"\"\"\n",
        "help(Phone)"
      ],
      "execution_count": 5,
      "outputs": [
        {
          "output_type": "stream",
          "text": [
            "Help on class Phone in module __main__:\n",
            "\n",
            "class Phone(builtins.object)\n",
            " |  The Phone class\n",
            " |  \n",
            " |  Data descriptors defined here:\n",
            " |  \n",
            " |  __dict__\n",
            " |      dictionary for instance variables (if defined)\n",
            " |  \n",
            " |  __weakref__\n",
            " |      list of weak references to the object (if defined)\n",
            "\n"
          ],
          "name": "stdout"
        }
      ]
    },
    {
      "cell_type": "code",
      "metadata": {
        "colab": {
          "base_uri": "https://localhost:8080/"
        },
        "id": "16pZNQFlzlkD",
        "outputId": "e9114cb5-7bf7-4683-b79f-51b7d843d3a1"
      },
      "source": [
        "type(\"Apple\")"
      ],
      "execution_count": 6,
      "outputs": [
        {
          "output_type": "execute_result",
          "data": {
            "text/plain": [
              "str"
            ]
          },
          "metadata": {
            "tags": []
          },
          "execution_count": 6
        }
      ]
    },
    {
      "cell_type": "code",
      "metadata": {
        "colab": {
          "base_uri": "https://localhost:8080/"
        },
        "id": "Zy0_GdsTz-PZ",
        "outputId": "f91206a3-9458-4b88-ed68-2c6f4156e4ce"
      },
      "source": [
        "type(Phone)"
      ],
      "execution_count": 7,
      "outputs": [
        {
          "output_type": "execute_result",
          "data": {
            "text/plain": [
              "type"
            ]
          },
          "metadata": {
            "tags": []
          },
          "execution_count": 7
        }
      ]
    },
    {
      "cell_type": "code",
      "metadata": {
        "id": "En31ErgA0Gh4"
      },
      "source": [
        "class Phone:\n",
        "  \"\"\"The Phone class\"\"\""
      ],
      "execution_count": 9,
      "outputs": []
    },
    {
      "cell_type": "code",
      "metadata": {
        "colab": {
          "base_uri": "https://localhost:8080/"
        },
        "id": "RMR43qms5pJz",
        "outputId": "e447e01e-4671-4502-9671-e3856e65cafa"
      },
      "source": [
        "Phone"
      ],
      "execution_count": 10,
      "outputs": [
        {
          "output_type": "execute_result",
          "data": {
            "text/plain": [
              "__main__.Phone"
            ]
          },
          "metadata": {
            "tags": []
          },
          "execution_count": 10
        }
      ]
    },
    {
      "cell_type": "code",
      "metadata": {
        "colab": {
          "base_uri": "https://localhost:8080/"
        },
        "id": "Mclk6kIk5qaC",
        "outputId": "946166f5-74ca-440d-9529-31ff05cccb0e"
      },
      "source": [
        "Phone.__name__"
      ],
      "execution_count": 11,
      "outputs": [
        {
          "output_type": "execute_result",
          "data": {
            "text/plain": [
              "'Phone'"
            ]
          },
          "metadata": {
            "tags": []
          },
          "execution_count": 11
        }
      ]
    },
    {
      "cell_type": "code",
      "metadata": {
        "colab": {
          "base_uri": "https://localhost:8080/"
        },
        "id": "QLeGlM4m5s-C",
        "outputId": "cd9491d3-5a61-4bda-b367-bdd6159fa0ec"
      },
      "source": [
        "Phone.__module__"
      ],
      "execution_count": 12,
      "outputs": [
        {
          "output_type": "execute_result",
          "data": {
            "text/plain": [
              "'__main__'"
            ]
          },
          "metadata": {
            "tags": []
          },
          "execution_count": 12
        }
      ]
    },
    {
      "cell_type": "code",
      "metadata": {
        "colab": {
          "base_uri": "https://localhost:8080/"
        },
        "id": "wHnnd_pO5zer",
        "outputId": "3d584431-6b87-4361-9b3b-b051f32e1d41"
      },
      "source": [
        "Phone.__doc__"
      ],
      "execution_count": 13,
      "outputs": [
        {
          "output_type": "execute_result",
          "data": {
            "text/plain": [
              "'The Phone class'"
            ]
          },
          "metadata": {
            "tags": []
          },
          "execution_count": 13
        }
      ]
    },
    {
      "cell_type": "code",
      "metadata": {
        "colab": {
          "base_uri": "https://localhost:8080/"
        },
        "id": "yIA4N-jR53si",
        "outputId": "dac6497b-d3e2-4774-cc73-181477953162"
      },
      "source": [
        "Phone()"
      ],
      "execution_count": 14,
      "outputs": [
        {
          "output_type": "execute_result",
          "data": {
            "text/plain": [
              "<__main__.Phone at 0x264c2cb2b88>"
            ]
          },
          "metadata": {
            "tags": []
          },
          "execution_count": 14
        }
      ]
    },
    {
      "cell_type": "code",
      "metadata": {
        "id": "isPGs6mQ58Qh"
      },
      "source": [
        "phone = Phone()"
      ],
      "execution_count": 15,
      "outputs": []
    },
    {
      "cell_type": "code",
      "metadata": {
        "colab": {
          "base_uri": "https://localhost:8080/"
        },
        "id": "FcIIgDYx6FWK",
        "outputId": "d66824dc-8b25-4ff0-c81b-f0b92431c2e4"
      },
      "source": [
        "phone"
      ],
      "execution_count": 16,
      "outputs": [
        {
          "output_type": "execute_result",
          "data": {
            "text/plain": [
              "<__main__.Phone at 0x264c3313908>"
            ]
          },
          "metadata": {
            "tags": []
          },
          "execution_count": 16
        }
      ]
    },
    {
      "cell_type": "code",
      "metadata": {
        "colab": {
          "base_uri": "https://localhost:8080/"
        },
        "id": "4r-_b6CG6GRh",
        "outputId": "c106a5d8-64f3-49be-fa72-ccf6d0b71be4"
      },
      "source": [
        "type(phone)"
      ],
      "execution_count": 17,
      "outputs": [
        {
          "output_type": "execute_result",
          "data": {
            "text/plain": [
              "__main__.Phone"
            ]
          },
          "metadata": {
            "tags": []
          },
          "execution_count": 17
        }
      ]
    },
    {
      "cell_type": "code",
      "metadata": {
        "colab": {
          "base_uri": "https://localhost:8080/"
        },
        "id": "fNVYekQ36JQZ",
        "outputId": "e2226237-5668-4175-8ad0-245a67885df4"
      },
      "source": [
        "phone.__class__"
      ],
      "execution_count": 18,
      "outputs": [
        {
          "output_type": "execute_result",
          "data": {
            "text/plain": [
              "__main__.Phone"
            ]
          },
          "metadata": {
            "tags": []
          },
          "execution_count": 18
        }
      ]
    },
    {
      "cell_type": "code",
      "metadata": {
        "colab": {
          "base_uri": "https://localhost:8080/"
        },
        "id": "YNwseqvt6Nn0",
        "outputId": "3d7f1e8d-8e81-436b-c1f7-06338c5ec156"
      },
      "source": [
        "phone.__class__.__name__"
      ],
      "execution_count": 19,
      "outputs": [
        {
          "output_type": "execute_result",
          "data": {
            "text/plain": [
              "'Phone'"
            ]
          },
          "metadata": {
            "tags": []
          },
          "execution_count": 19
        }
      ]
    },
    {
      "cell_type": "code",
      "metadata": {
        "colab": {
          "base_uri": "https://localhost:8080/"
        },
        "id": "DUrk80mx6VIj",
        "outputId": "80709a24-8dc8-4c87-a3b9-ff751b7b382c"
      },
      "source": [
        "type(phone).__name__"
      ],
      "execution_count": 20,
      "outputs": [
        {
          "output_type": "execute_result",
          "data": {
            "text/plain": [
              "'Phone'"
            ]
          },
          "metadata": {
            "tags": []
          },
          "execution_count": 20
        }
      ]
    },
    {
      "cell_type": "code",
      "metadata": {
        "id": "jTDUjg5D6ZeA"
      },
      "source": [
        "phone1 = Phone()\n",
        "phone2 = Phone()"
      ],
      "execution_count": 21,
      "outputs": []
    },
    {
      "cell_type": "code",
      "metadata": {
        "colab": {
          "base_uri": "https://localhost:8080/"
        },
        "id": "qhtb7Lll6gOR",
        "outputId": "42ae8071-d112-4fb3-e8c0-36b4eadc3592"
      },
      "source": [
        "phone1, phone2"
      ],
      "execution_count": 22,
      "outputs": [
        {
          "output_type": "execute_result",
          "data": {
            "text/plain": [
              "(<__main__.Phone at 0x264c326f9c8>, <__main__.Phone at 0x264c326f248>)"
            ]
          },
          "metadata": {
            "tags": []
          },
          "execution_count": 22
        }
      ]
    },
    {
      "cell_type": "code",
      "metadata": {
        "colab": {
          "base_uri": "https://localhost:8080/"
        },
        "id": "UWoyuvNW6i-h",
        "outputId": "c95eb9b0-0ecd-4d3e-f237-d2d872c5eb1c"
      },
      "source": [
        "help(id)"
      ],
      "execution_count": 23,
      "outputs": [
        {
          "output_type": "stream",
          "text": [
            "Help on built-in function id in module builtins:\n",
            "\n",
            "id(obj, /)\n",
            "    Return the identity of an object.\n",
            "    \n",
            "    This is guaranteed to be unique among simultaneously existing objects.\n",
            "    (CPython uses the object's memory address.)\n",
            "\n"
          ],
          "name": "stdout"
        }
      ]
    },
    {
      "cell_type": "code",
      "metadata": {
        "colab": {
          "base_uri": "https://localhost:8080/"
        },
        "id": "vA70pYgY6l3i",
        "outputId": "4c4ece6e-77a5-42b9-cbe0-5f406884fd97"
      },
      "source": [
        "id(phone1) , id(phone2) "
      ],
      "execution_count": 24,
      "outputs": [
        {
          "output_type": "execute_result",
          "data": {
            "text/plain": [
              "(2631794096584, 2631794094664)"
            ]
          },
          "metadata": {
            "tags": []
          },
          "execution_count": 24
        }
      ]
    },
    {
      "cell_type": "code",
      "metadata": {
        "colab": {
          "base_uri": "https://localhost:8080/"
        },
        "id": "rqfW7cRX6q9r",
        "outputId": "4afb7510-8fe4-4a3d-bd17-f8567a30f6aa"
      },
      "source": [
        "phone1 is phone2"
      ],
      "execution_count": 25,
      "outputs": [
        {
          "output_type": "execute_result",
          "data": {
            "text/plain": [
              "False"
            ]
          },
          "metadata": {
            "tags": []
          },
          "execution_count": 25
        }
      ]
    },
    {
      "cell_type": "code",
      "metadata": {
        "id": "4ySQBk5P6voh"
      },
      "source": [
        "class HouseProject:\n",
        "\n",
        "  def __init__(self,type_of_project):\n",
        "    self.type_of_project = type_of_project"
      ],
      "execution_count": 26,
      "outputs": []
    },
    {
      "cell_type": "code",
      "metadata": {
        "id": "kZRNO32Q8w3R"
      },
      "source": [
        "project1 = HouseProject(\"dom jednorodzinny\")"
      ],
      "execution_count": 27,
      "outputs": []
    },
    {
      "cell_type": "code",
      "metadata": {
        "colab": {
          "base_uri": "https://localhost:8080/"
        },
        "id": "sEchAgMu82AR",
        "outputId": "1c7ddef4-8825-4e22-cd89-2a544d9714a1"
      },
      "source": [
        "project1"
      ],
      "execution_count": 28,
      "outputs": [
        {
          "output_type": "execute_result",
          "data": {
            "text/plain": [
              "<__main__.HouseProject at 0x264c3305208>"
            ]
          },
          "metadata": {
            "tags": []
          },
          "execution_count": 28
        }
      ]
    },
    {
      "cell_type": "code",
      "metadata": {
        "colab": {
          "base_uri": "https://localhost:8080/"
        },
        "id": "p5_8glzp83OR",
        "outputId": "12e4169c-93f6-40e3-e25b-d0573f51ccbc"
      },
      "source": [
        "type(project1)"
      ],
      "execution_count": 29,
      "outputs": [
        {
          "output_type": "execute_result",
          "data": {
            "text/plain": [
              "__main__.HouseProject"
            ]
          },
          "metadata": {
            "tags": []
          },
          "execution_count": 29
        }
      ]
    },
    {
      "cell_type": "code",
      "metadata": {
        "colab": {
          "base_uri": "https://localhost:8080/"
        },
        "id": "PrIwfyvW85ba",
        "outputId": "4d60e26c-9e4b-47ab-fa82-1aa46edca736"
      },
      "source": [
        "project1.type_of_project"
      ],
      "execution_count": 30,
      "outputs": [
        {
          "output_type": "execute_result",
          "data": {
            "text/plain": [
              "'dom jednorodzinny'"
            ]
          },
          "metadata": {
            "tags": []
          },
          "execution_count": 30
        }
      ]
    },
    {
      "cell_type": "code",
      "metadata": {
        "colab": {
          "base_uri": "https://localhost:8080/"
        },
        "id": "EW3xSJ5e86m7",
        "outputId": "e7e53aa1-b49f-4489-edca-d5659aebfa58"
      },
      "source": [
        "project2 = HouseProject.__new__(HouseProject)\n",
        "project2"
      ],
      "execution_count": 31,
      "outputs": [
        {
          "output_type": "execute_result",
          "data": {
            "text/plain": [
              "<__main__.HouseProject at 0x264c295e548>"
            ]
          },
          "metadata": {
            "tags": []
          },
          "execution_count": 31
        }
      ]
    },
    {
      "cell_type": "code",
      "metadata": {
        "id": "3AGpII709toh"
      },
      "source": [
        "project2.__init__('dom')"
      ],
      "execution_count": 32,
      "outputs": []
    },
    {
      "cell_type": "code",
      "metadata": {
        "colab": {
          "base_uri": "https://localhost:8080/"
        },
        "id": "E47nzcHc91PQ",
        "outputId": "bb6ba8a3-b53a-4c01-d54a-d25f5b2ada5e"
      },
      "source": [
        "project2.type_of_project"
      ],
      "execution_count": 33,
      "outputs": [
        {
          "output_type": "execute_result",
          "data": {
            "text/plain": [
              "'dom'"
            ]
          },
          "metadata": {
            "tags": []
          },
          "execution_count": 33
        }
      ]
    },
    {
      "cell_type": "code",
      "metadata": {
        "colab": {
          "base_uri": "https://localhost:8080/"
        },
        "id": "GtB2sndw95mq",
        "outputId": "d84e09b6-dacc-49b0-ef7d-7bf111adf504"
      },
      "source": [
        "isinstance(Phone,type)"
      ],
      "execution_count": 34,
      "outputs": [
        {
          "output_type": "execute_result",
          "data": {
            "text/plain": [
              "True"
            ]
          },
          "metadata": {
            "tags": []
          },
          "execution_count": 34
        }
      ]
    },
    {
      "cell_type": "code",
      "metadata": {
        "id": "HdydfJGf-iy6"
      },
      "source": [
        "phone1 = Phone()"
      ],
      "execution_count": 35,
      "outputs": []
    },
    {
      "cell_type": "code",
      "metadata": {
        "colab": {
          "base_uri": "https://localhost:8080/"
        },
        "id": "MMcxD6Ue-low",
        "outputId": "01f4b211-6887-4fe6-db72-86a54421412e"
      },
      "source": [
        "isinstance(phone1,Phone)"
      ],
      "execution_count": 36,
      "outputs": [
        {
          "output_type": "execute_result",
          "data": {
            "text/plain": [
              "True"
            ]
          },
          "metadata": {
            "tags": []
          },
          "execution_count": 36
        }
      ]
    },
    {
      "cell_type": "code",
      "metadata": {
        "id": "EQOEFzPQ-oqq"
      },
      "source": [
        "import pandas as pd\n",
        "dir(pd)\n"
      ],
      "execution_count": null,
      "outputs": []
    },
    {
      "cell_type": "code",
      "metadata": {
        "colab": {
          "base_uri": "https://localhost:8080/"
        },
        "id": "B2ZZ6RNj_CZI",
        "outputId": "099087fa-5fe5-411b-edd0-6c38726afe78"
      },
      "source": [
        "pd.__file__"
      ],
      "execution_count": 38,
      "outputs": [
        {
          "output_type": "execute_result",
          "data": {
            "text/plain": [
              "'c:\\\\users\\\\user\\\\appdata\\\\local\\\\programs\\\\python\\\\python37\\\\lib\\\\site-packages\\\\pandas\\\\__init__.py'"
            ]
          },
          "metadata": {
            "tags": []
          },
          "execution_count": 38
        }
      ]
    },
    {
      "cell_type": "code",
      "metadata": {
        "colab": {
          "base_uri": "https://localhost:8080/"
        },
        "id": "-pTCNGzD_HGB",
        "outputId": "9cbb424e-0f08-4584-dbc9-fd35128b8a88"
      },
      "source": [
        "print(pd.__doc__)"
      ],
      "execution_count": 40,
      "outputs": [
        {
          "output_type": "stream",
          "text": [
            "\n",
            "pandas - a powerful data analysis and manipulation library for Python\n",
            "=====================================================================\n",
            "\n",
            "**pandas** is a Python package providing fast, flexible, and expressive data\n",
            "structures designed to make working with \"relational\" or \"labeled\" data both\n",
            "easy and intuitive. It aims to be the fundamental high-level building block for\n",
            "doing practical, **real world** data analysis in Python. Additionally, it has\n",
            "the broader goal of becoming **the most powerful and flexible open source data\n",
            "analysis / manipulation tool available in any language**. It is already well on\n",
            "its way toward this goal.\n",
            "\n",
            "Main Features\n",
            "-------------\n",
            "Here are just a few of the things that pandas does well:\n",
            "\n",
            "  - Easy handling of missing data in floating point as well as non-floating\n",
            "    point data.\n",
            "  - Size mutability: columns can be inserted and deleted from DataFrame and\n",
            "    higher dimensional objects\n",
            "  - Automatic and explicit data alignment: objects can be explicitly aligned\n",
            "    to a set of labels, or the user can simply ignore the labels and let\n",
            "    `Series`, `DataFrame`, etc. automatically align the data for you in\n",
            "    computations.\n",
            "  - Powerful, flexible group by functionality to perform split-apply-combine\n",
            "    operations on data sets, for both aggregating and transforming data.\n",
            "  - Make it easy to convert ragged, differently-indexed data in other Python\n",
            "    and NumPy data structures into DataFrame objects.\n",
            "  - Intelligent label-based slicing, fancy indexing, and subsetting of large\n",
            "    data sets.\n",
            "  - Intuitive merging and joining data sets.\n",
            "  - Flexible reshaping and pivoting of data sets.\n",
            "  - Hierarchical labeling of axes (possible to have multiple labels per tick).\n",
            "  - Robust IO tools for loading data from flat files (CSV and delimited),\n",
            "    Excel files, databases, and saving/loading data from the ultrafast HDF5\n",
            "    format.\n",
            "  - Time series-specific functionality: date range generation and frequency\n",
            "    conversion, moving window statistics, date shifting and lagging.\n",
            "\n"
          ],
          "name": "stdout"
        }
      ]
    },
    {
      "cell_type": "code",
      "metadata": {
        "colab": {
          "base_uri": "https://localhost:8080/"
        },
        "id": "khv20nwG_MEq",
        "outputId": "a3079273-d84c-4ca1-ba4d-cb3eb8fb0ada"
      },
      "source": [
        "pd.__name__"
      ],
      "execution_count": 41,
      "outputs": [
        {
          "output_type": "execute_result",
          "data": {
            "text/plain": [
              "'pandas'"
            ]
          },
          "metadata": {
            "tags": []
          },
          "execution_count": 41
        }
      ]
    },
    {
      "cell_type": "code",
      "metadata": {
        "colab": {
          "base_uri": "https://localhost:8080/"
        },
        "id": "Bc9mL8Hc_Wqw",
        "outputId": "b6a76427-3faa-4b50-f6ea-36e865551d43"
      },
      "source": [
        "pd.__version__"
      ],
      "execution_count": 42,
      "outputs": [
        {
          "output_type": "execute_result",
          "data": {
            "text/plain": [
              "'1.1.0'"
            ]
          },
          "metadata": {
            "tags": []
          },
          "execution_count": 42
        }
      ]
    },
    {
      "cell_type": "code",
      "metadata": {
        "colab": {
          "base_uri": "https://localhost:8080/"
        },
        "id": "YhUKOccA_X5J",
        "outputId": "be4bfd7c-e5b3-4c25-e6ba-7c27f0a0c794"
      },
      "source": [
        "pd.DataFrame.__module__"
      ],
      "execution_count": 44,
      "outputs": [
        {
          "output_type": "execute_result",
          "data": {
            "text/plain": [
              "'pandas.core.frame'"
            ]
          },
          "metadata": {
            "tags": []
          },
          "execution_count": 44
        }
      ]
    },
    {
      "cell_type": "code",
      "metadata": {
        "id": "bKUqlKma_Zeo"
      },
      "source": [
        "pd.DataFrame.__dict__"
      ],
      "execution_count": null,
      "outputs": []
    },
    {
      "cell_type": "code",
      "metadata": {
        "id": "F5M0jwCZ_idJ"
      },
      "source": [
        "pd.DataFrame?"
      ],
      "execution_count": 47,
      "outputs": []
    },
    {
      "cell_type": "code",
      "metadata": {
        "id": "gztZnQyA_pLh"
      },
      "source": [
        ""
      ],
      "execution_count": null,
      "outputs": []
    }
  ]
}