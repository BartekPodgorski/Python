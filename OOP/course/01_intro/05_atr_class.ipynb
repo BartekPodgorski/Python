{
  "nbformat": 4,
  "nbformat_minor": 0,
  "metadata": {
    "colab": {
      "name": "05_atr_class.ipynb",
      "provenance": [],
      "collapsed_sections": [],
      "authorship_tag": "ABX9TyOFi+KJIR+ZnZ39bkLp28xX",
      "include_colab_link": true
    },
    "kernelspec": {
      "name": "python3",
      "display_name": "Python 3"
    }
  },
  "cells": [
    {
      "cell_type": "markdown",
      "metadata": {
        "id": "view-in-github",
        "colab_type": "text"
      },
      "source": [
        "<a href=\"https://colab.research.google.com/github/BartekPodgorski/Python/blob/main/OOP/course/01_intro/05_atr_class.ipynb\" target=\"_parent\"><img src=\"https://colab.research.google.com/assets/colab-badge.svg\" alt=\"Open In Colab\"/></a>"
      ]
    },
    {
      "cell_type": "code",
      "metadata": {
        "id": "NR3dDBvvFLqo"
      },
      "source": [
        "class Phone:\n",
        "  pass"
      ],
      "execution_count": 1,
      "outputs": []
    },
    {
      "cell_type": "code",
      "metadata": {
        "colab": {
          "base_uri": "https://localhost:8080/"
        },
        "id": "rP91PQL1Gxi8",
        "outputId": "d22946a0-e7cd-4489-e558-d0ca902c0170"
      },
      "source": [
        "Phone.__name__"
      ],
      "execution_count": 2,
      "outputs": [
        {
          "output_type": "execute_result",
          "data": {
            "text/plain": [
              "'Phone'"
            ]
          },
          "metadata": {
            "tags": []
          },
          "execution_count": 2
        }
      ]
    },
    {
      "cell_type": "code",
      "metadata": {
        "colab": {
          "base_uri": "https://localhost:8080/"
        },
        "id": "tyx61u1WG3d4",
        "outputId": "a2c78f5d-49ac-40f2-85f4-378b3584c365"
      },
      "source": [
        "Phone.__dict__"
      ],
      "execution_count": 3,
      "outputs": [
        {
          "output_type": "execute_result",
          "data": {
            "text/plain": [
              "mappingproxy({'__module__': '__main__',\n",
              "              '__dict__': <attribute '__dict__' of 'Phone' objects>,\n",
              "              '__weakref__': <attribute '__weakref__' of 'Phone' objects>,\n",
              "              '__doc__': None})"
            ]
          },
          "metadata": {
            "tags": []
          },
          "execution_count": 3
        }
      ]
    },
    {
      "cell_type": "code",
      "metadata": {
        "colab": {
          "base_uri": "https://localhost:8080/"
        },
        "id": "YXqCkI90G-Vx",
        "outputId": "33da59ec-e4d2-4250-be7b-7b626e2c7094"
      },
      "source": [
        "Phone.__module__"
      ],
      "execution_count": 4,
      "outputs": [
        {
          "output_type": "execute_result",
          "data": {
            "text/plain": [
              "'__main__'"
            ]
          },
          "metadata": {
            "tags": []
          },
          "execution_count": 4
        }
      ]
    },
    {
      "cell_type": "code",
      "metadata": {
        "id": "Ry4L2jqzHPPA"
      },
      "source": [
        "Phone.__doc__"
      ],
      "execution_count": 5,
      "outputs": []
    },
    {
      "cell_type": "code",
      "metadata": {
        "colab": {
          "base_uri": "https://localhost:8080/"
        },
        "id": "XHKJyRp6HShg",
        "outputId": "c0c500af-416c-4370-d15f-72ba0c532f35"
      },
      "source": [
        "Phone.__bases__"
      ],
      "execution_count": 6,
      "outputs": [
        {
          "output_type": "execute_result",
          "data": {
            "text/plain": [
              "(object,)"
            ]
          },
          "metadata": {
            "tags": []
          },
          "execution_count": 6
        }
      ]
    },
    {
      "cell_type": "code",
      "metadata": {
        "id": "90B4YAqWHeDC"
      },
      "source": [
        "class Phone:\n",
        "  sector = 'electronics'\n",
        "  os = 'Android'\n",
        "  width= 500\n",
        "  height = 1200"
      ],
      "execution_count": 7,
      "outputs": []
    },
    {
      "cell_type": "code",
      "metadata": {
        "colab": {
          "base_uri": "https://localhost:8080/"
        },
        "id": "JzTz2u38HwyQ",
        "outputId": "6664ba31-505a-4fbb-9850-eae5e70b5ad1"
      },
      "source": [
        "Phone.__dict__.keys()"
      ],
      "execution_count": 8,
      "outputs": [
        {
          "output_type": "execute_result",
          "data": {
            "text/plain": [
              "dict_keys(['__module__', 'sector', 'os', 'width', 'height', '__dict__', '__weakref__', '__doc__'])"
            ]
          },
          "metadata": {
            "tags": []
          },
          "execution_count": 8
        }
      ]
    },
    {
      "cell_type": "code",
      "metadata": {
        "colab": {
          "base_uri": "https://localhost:8080/"
        },
        "id": "K1BLBId_H0uX",
        "outputId": "5d06a092-610a-4dca-820a-4d54930cb4a2"
      },
      "source": [
        "sorted(Phone.__dict__.keys())"
      ],
      "execution_count": 9,
      "outputs": [
        {
          "output_type": "execute_result",
          "data": {
            "text/plain": [
              "['__dict__',\n",
              " '__doc__',\n",
              " '__module__',\n",
              " '__weakref__',\n",
              " 'height',\n",
              " 'os',\n",
              " 'sector',\n",
              " 'width']"
            ]
          },
          "metadata": {
            "tags": []
          },
          "execution_count": 9
        }
      ]
    },
    {
      "cell_type": "code",
      "metadata": {
        "colab": {
          "base_uri": "https://localhost:8080/"
        },
        "id": "uuF9HMpLH29w",
        "outputId": "71c6aa5f-ec51-4340-fd11-153592c1f13f"
      },
      "source": [
        "Phone.sector"
      ],
      "execution_count": 11,
      "outputs": [
        {
          "output_type": "execute_result",
          "data": {
            "text/plain": [
              "'electronics'"
            ]
          },
          "metadata": {
            "tags": []
          },
          "execution_count": 11
        }
      ]
    },
    {
      "cell_type": "code",
      "metadata": {
        "colab": {
          "base_uri": "https://localhost:8080/"
        },
        "id": "wxA0PoNeH9EK",
        "outputId": "6e8ae975-06df-4881-e887-8ba395e96bbe"
      },
      "source": [
        "Phone.os"
      ],
      "execution_count": 12,
      "outputs": [
        {
          "output_type": "execute_result",
          "data": {
            "text/plain": [
              "'Android'"
            ]
          },
          "metadata": {
            "tags": []
          },
          "execution_count": 12
        }
      ]
    },
    {
      "cell_type": "code",
      "metadata": {
        "id": "ksyASzJgH_t4"
      },
      "source": [
        "getattr?"
      ],
      "execution_count": 13,
      "outputs": []
    },
    {
      "cell_type": "code",
      "metadata": {
        "colab": {
          "base_uri": "https://localhost:8080/"
        },
        "id": "mewE9v7GIL73",
        "outputId": "2f5c44a3-4979-4c6e-e00b-2e896848b0b2"
      },
      "source": [
        "getattr(Phone,'os')"
      ],
      "execution_count": 14,
      "outputs": [
        {
          "output_type": "execute_result",
          "data": {
            "text/plain": [
              "'Android'"
            ]
          },
          "metadata": {
            "tags": []
          },
          "execution_count": 14
        }
      ]
    },
    {
      "cell_type": "code",
      "metadata": {
        "id": "-t7hrPXHIQEQ"
      },
      "source": [
        "getattr(Phone,'price',None)"
      ],
      "execution_count": 16,
      "outputs": []
    },
    {
      "cell_type": "code",
      "metadata": {
        "colab": {
          "base_uri": "https://localhost:8080/"
        },
        "id": "JkY-BprgIXA_",
        "outputId": "70034ea3-6a5f-4942-919a-1028e62b31cc"
      },
      "source": [
        "for attr in sorted(Phone.__dict__.keys()):\n",
        "  print(attr)"
      ],
      "execution_count": 19,
      "outputs": [
        {
          "output_type": "stream",
          "text": [
            "__dict__\n",
            "__doc__\n",
            "__module__\n",
            "__weakref__\n",
            "height\n",
            "os\n",
            "sector\n",
            "width\n"
          ],
          "name": "stdout"
        }
      ]
    },
    {
      "cell_type": "code",
      "metadata": {
        "colab": {
          "base_uri": "https://localhost:8080/"
        },
        "id": "TL9v4s8gIm2J",
        "outputId": "b8e73761-bb4a-4090-c8c3-2ead81b25f69"
      },
      "source": [
        "for attr in sorted(Phone.__dict__.keys()):\n",
        "  if not attr.startswith('_'):\n",
        "    print(attr,getattr(Phone,attr))"
      ],
      "execution_count": 21,
      "outputs": [
        {
          "output_type": "stream",
          "text": [
            "height 1200\n",
            "os Android\n",
            "sector electronics\n",
            "width 500\n"
          ],
          "name": "stdout"
        }
      ]
    },
    {
      "cell_type": "code",
      "metadata": {
        "id": "gN-k-b7YJEtf"
      },
      "source": [
        "class Phone:\n",
        "  sector = 'electronics'\n",
        "  os = 'Android'\n",
        "  width= 500\n",
        "  height = 1200"
      ],
      "execution_count": 22,
      "outputs": []
    },
    {
      "cell_type": "code",
      "metadata": {
        "colab": {
          "base_uri": "https://localhost:8080/"
        },
        "id": "zyFXOdTMJOPv",
        "outputId": "81849085-a964-4405-ddc1-276106e12834"
      },
      "source": [
        "Phone.os"
      ],
      "execution_count": 25,
      "outputs": [
        {
          "output_type": "execute_result",
          "data": {
            "text/plain": [
              "'ios'"
            ]
          },
          "metadata": {
            "tags": []
          },
          "execution_count": 25
        }
      ]
    },
    {
      "cell_type": "code",
      "metadata": {
        "id": "FZYRiN-lJPbA"
      },
      "source": [
        "Phone.os = 'ios'"
      ],
      "execution_count": 24,
      "outputs": []
    },
    {
      "cell_type": "code",
      "metadata": {
        "colab": {
          "base_uri": "https://localhost:8080/"
        },
        "id": "bugXlsutJSqB",
        "outputId": "7323560f-c541-43f1-a99b-3015b714945b"
      },
      "source": [
        "Phone.__dict__"
      ],
      "execution_count": 26,
      "outputs": [
        {
          "output_type": "execute_result",
          "data": {
            "text/plain": [
              "mappingproxy({'__module__': '__main__',\n",
              "              'sector': 'electronics',\n",
              "              'os': 'ios',\n",
              "              'width': 500,\n",
              "              'height': 1200,\n",
              "              '__dict__': <attribute '__dict__' of 'Phone' objects>,\n",
              "              '__weakref__': <attribute '__weakref__' of 'Phone' objects>,\n",
              "              '__doc__': None})"
            ]
          },
          "metadata": {
            "tags": []
          },
          "execution_count": 26
        }
      ]
    },
    {
      "cell_type": "code",
      "metadata": {
        "id": "UzjUeNiyJVhZ"
      },
      "source": [
        "setattr?"
      ],
      "execution_count": 27,
      "outputs": []
    },
    {
      "cell_type": "code",
      "metadata": {
        "id": "F-U-hzGGJY9L"
      },
      "source": [
        "setattr(Phone,'os','Android')"
      ],
      "execution_count": 28,
      "outputs": []
    },
    {
      "cell_type": "code",
      "metadata": {
        "colab": {
          "base_uri": "https://localhost:8080/"
        },
        "id": "VdFcinZnJfRo",
        "outputId": "61b0b47a-88cf-4064-efa9-3c8429a5d8ca"
      },
      "source": [
        "getattr(Phone,'os')"
      ],
      "execution_count": 29,
      "outputs": [
        {
          "output_type": "execute_result",
          "data": {
            "text/plain": [
              "'Android'"
            ]
          },
          "metadata": {
            "tags": []
          },
          "execution_count": 29
        }
      ]
    },
    {
      "cell_type": "code",
      "metadata": {
        "id": "72HVL74AJiFR"
      },
      "source": [
        "class Phone:\n",
        "  sector = 'electronics'\n",
        "  os = 'Android'\n",
        "  width= 500\n",
        "  height = 1200"
      ],
      "execution_count": 30,
      "outputs": []
    },
    {
      "cell_type": "code",
      "metadata": {
        "colab": {
          "base_uri": "https://localhost:8080/"
        },
        "id": "N0MXbHjzJu-i",
        "outputId": "ccafe818-cda8-4f4b-e5cb-b69b7ab756d4"
      },
      "source": [
        "Phone.__dict__"
      ],
      "execution_count": 33,
      "outputs": [
        {
          "output_type": "execute_result",
          "data": {
            "text/plain": [
              "mappingproxy({'__module__': '__main__',\n",
              "              'sector': 'electronics',\n",
              "              'os': 'Android',\n",
              "              'width': 500,\n",
              "              'height': 1200,\n",
              "              '__dict__': <attribute '__dict__' of 'Phone' objects>,\n",
              "              '__weakref__': <attribute '__weakref__' of 'Phone' objects>,\n",
              "              '__doc__': None,\n",
              "              'origin_country': 'USA'})"
            ]
          },
          "metadata": {
            "tags": []
          },
          "execution_count": 33
        }
      ]
    },
    {
      "cell_type": "code",
      "metadata": {
        "id": "8PlOph_BJxEP"
      },
      "source": [
        "Phone.origin_country = 'USA'"
      ],
      "execution_count": 32,
      "outputs": []
    },
    {
      "cell_type": "code",
      "metadata": {
        "id": "lT-0Wh0wJ3I6"
      },
      "source": [
        "class Phone:\n",
        "  sector = 'electronics'\n",
        "  os = 'Android'\n",
        "  width= 500\n",
        "  height = 1200"
      ],
      "execution_count": 41,
      "outputs": []
    },
    {
      "cell_type": "code",
      "metadata": {
        "id": "dif_WvtWKKlX"
      },
      "source": [
        "del Phone.os"
      ],
      "execution_count": 35,
      "outputs": []
    },
    {
      "cell_type": "code",
      "metadata": {
        "colab": {
          "base_uri": "https://localhost:8080/"
        },
        "id": "yZY4SJMRKNlZ",
        "outputId": "5dadc34e-56be-45d6-f402-497cf802b79b"
      },
      "source": [
        "Phone.__dict__"
      ],
      "execution_count": 43,
      "outputs": [
        {
          "output_type": "execute_result",
          "data": {
            "text/plain": [
              "mappingproxy({'__module__': '__main__',\n",
              "              'sector': 'electronics',\n",
              "              'os': 'Android',\n",
              "              'width': 500,\n",
              "              'height': 1200,\n",
              "              'describe_class': <function __main__.Phone.describe_class()>,\n",
              "              '__dict__': <attribute '__dict__' of 'Phone' objects>,\n",
              "              '__weakref__': <attribute '__weakref__' of 'Phone' objects>,\n",
              "              '__doc__': None})"
            ]
          },
          "metadata": {
            "tags": []
          },
          "execution_count": 43
        }
      ]
    },
    {
      "cell_type": "code",
      "metadata": {
        "id": "_RmQ6_MhKQF_"
      },
      "source": [
        "delattr(Phone,'os')"
      ],
      "execution_count": 39,
      "outputs": []
    },
    {
      "cell_type": "code",
      "metadata": {
        "id": "tjHlrgYOKcCg"
      },
      "source": [
        "class Phone:\n",
        "  sector = 'electronics'\n",
        "  os = 'Android'\n",
        "  width= 500\n",
        "  height = 1200\n",
        "\n",
        "  def describe_class():\n",
        "    print('Phone class')"
      ],
      "execution_count": 42,
      "outputs": []
    },
    {
      "cell_type": "code",
      "metadata": {
        "colab": {
          "base_uri": "https://localhost:8080/"
        },
        "id": "YgjxLzy1KyQy",
        "outputId": "1d2d9d5f-7626-46a1-8d38-59d5eb54abbc"
      },
      "source": [
        "Phone.describe_class"
      ],
      "execution_count": 44,
      "outputs": [
        {
          "output_type": "execute_result",
          "data": {
            "text/plain": [
              "<function __main__.Phone.describe_class()>"
            ]
          },
          "metadata": {
            "tags": []
          },
          "execution_count": 44
        }
      ]
    },
    {
      "cell_type": "code",
      "metadata": {
        "colab": {
          "base_uri": "https://localhost:8080/"
        },
        "id": "QEQxvKSLK5yz",
        "outputId": "32ff4596-55cf-47ba-dca7-2184bc620529"
      },
      "source": [
        "Phone.describe_class()"
      ],
      "execution_count": 45,
      "outputs": [
        {
          "output_type": "stream",
          "text": [
            "Phone class\n"
          ],
          "name": "stdout"
        }
      ]
    },
    {
      "cell_type": "code",
      "metadata": {
        "id": "mHpVuS87K7E-"
      },
      "source": [
        "class Phone:\n",
        "  sector = 'electronics'\n",
        "  os = 'Android'\n",
        "  width= 500\n",
        "  height = 1200\n",
        "\n",
        "  def describe_class():\n",
        "    print(f'{Phone.__name__} class')"
      ],
      "execution_count": 47,
      "outputs": []
    },
    {
      "cell_type": "code",
      "metadata": {
        "colab": {
          "base_uri": "https://localhost:8080/"
        },
        "id": "t9xzqS8BLDHa",
        "outputId": "dabcb39c-18c6-4fe1-c541-3200ea505cd2"
      },
      "source": [
        "Phone.describe_class()"
      ],
      "execution_count": 48,
      "outputs": [
        {
          "output_type": "stream",
          "text": [
            "Phone class\n"
          ],
          "name": "stdout"
        }
      ]
    },
    {
      "cell_type": "code",
      "metadata": {
        "id": "CnDsAzPQLIw4"
      },
      "source": [
        "class Phone:\n",
        "  sector = 'electronics'\n",
        "  os = 'Android'\n",
        "  width= 500\n",
        "  height = 1200\n",
        "\n",
        "  def describe_class():\n",
        "    print(f'Os:{Phone.os}')\n",
        "    print(f'{Phone.__name__} class')"
      ],
      "execution_count": 49,
      "outputs": []
    },
    {
      "cell_type": "code",
      "metadata": {
        "colab": {
          "base_uri": "https://localhost:8080/"
        },
        "id": "ebpY9aMqLZka",
        "outputId": "95909bb2-762d-44af-b522-424ef3f24e48"
      },
      "source": [
        "Phone.describe_class()"
      ],
      "execution_count": 50,
      "outputs": [
        {
          "output_type": "stream",
          "text": [
            "Os:Android\n",
            "Phone class\n"
          ],
          "name": "stdout"
        }
      ]
    },
    {
      "cell_type": "code",
      "metadata": {
        "colab": {
          "base_uri": "https://localhost:8080/"
        },
        "id": "w4lLYtewLam_",
        "outputId": "fd99e894-5a53-4665-d6bf-d76415d2daf5"
      },
      "source": [
        "getattr(Phone,'describe_class')()"
      ],
      "execution_count": 52,
      "outputs": [
        {
          "output_type": "stream",
          "text": [
            "Os:Android\n",
            "Phone class\n"
          ],
          "name": "stdout"
        }
      ]
    },
    {
      "cell_type": "code",
      "metadata": {
        "id": "4he8lXqiMrQe"
      },
      "source": [
        "class HouseProject:\n",
        "  number_of_floors = 2\n",
        "  area = 100\n",
        "\n",
        "  def describe_project():\n",
        "    print(f'Area: {HouseProject.area} m2.')\n",
        "    print(f'Number of floors: {HouseProject.number_of_floors}.')"
      ],
      "execution_count": 56,
      "outputs": []
    },
    {
      "cell_type": "code",
      "metadata": {
        "colab": {
          "base_uri": "https://localhost:8080/"
        },
        "id": "XyPwT8bYVp1w",
        "outputId": "29d4d8a2-b917-4dd8-feea-8007fbdc73ed"
      },
      "source": [
        "HouseProject.describe_project()"
      ],
      "execution_count": 57,
      "outputs": [
        {
          "output_type": "stream",
          "text": [
            "Area: 100 m2.\n",
            "Number of floors: 2.\n"
          ],
          "name": "stdout"
        }
      ]
    },
    {
      "cell_type": "code",
      "metadata": {
        "colab": {
          "base_uri": "https://localhost:8080/"
        },
        "id": "Jywa8kXvWNHk",
        "outputId": "7bf7eac8-514d-4e86-957c-c2f80a60e079"
      },
      "source": [
        "from datetime import datetime\n",
        "\n",
        "datetime.now().strftime('%H:%M:%S')\n"
      ],
      "execution_count": 59,
      "outputs": [
        {
          "output_type": "execute_result",
          "data": {
            "text/plain": [
              "'18:58:32'"
            ]
          },
          "metadata": {
            "tags": []
          },
          "execution_count": 59
        }
      ]
    },
    {
      "cell_type": "code",
      "metadata": {
        "colab": {
          "base_uri": "https://localhost:8080/"
        },
        "id": "bu5OA9pMWriV",
        "outputId": "166e1b3b-bc01-4055-d636-482472ced894"
      },
      "source": [
        "class foto:\n",
        "  execution_time = datetime.now().strftime('%H_%M_%S')\n",
        "  file_name = 'image_' + execution_time + '.png'\n",
        "\n",
        "foto.__dict__"
      ],
      "execution_count": 61,
      "outputs": [
        {
          "output_type": "execute_result",
          "data": {
            "text/plain": [
              "mappingproxy({'__module__': '__main__',\n",
              "              'execution_time': '18_59_57',\n",
              "              'file_name': 'image_18_59_57.png',\n",
              "              '__dict__': <attribute '__dict__' of 'foto' objects>,\n",
              "              '__weakref__': <attribute '__weakref__' of 'foto' objects>,\n",
              "              '__doc__': None})"
            ]
          },
          "metadata": {
            "tags": []
          },
          "execution_count": 61
        }
      ]
    },
    {
      "cell_type": "code",
      "metadata": {
        "colab": {
          "base_uri": "https://localhost:8080/"
        },
        "id": "qU2inhmAW_wl",
        "outputId": "1b784eb2-a220-4ff5-8b60-fa18f0a379df"
      },
      "source": [
        "class foto:\n",
        "  execution_time = datetime.now().strftime('%H_%M_%S')\n",
        "  file_name = 'image_' + execution_time + '.png'\n",
        "\n",
        "  def current_time():\n",
        "    return datetime.now().strftime('%H_%M_%S')\n",
        "foto.__dict__"
      ],
      "execution_count": 62,
      "outputs": [
        {
          "output_type": "execute_result",
          "data": {
            "text/plain": [
              "mappingproxy({'__module__': '__main__',\n",
              "              'execution_time': '19_03_38',\n",
              "              'file_name': 'image_19_03_38.png',\n",
              "              'current_time': <function __main__.foto.current_time()>,\n",
              "              '__dict__': <attribute '__dict__' of 'foto' objects>,\n",
              "              '__weakref__': <attribute '__weakref__' of 'foto' objects>,\n",
              "              '__doc__': None})"
            ]
          },
          "metadata": {
            "tags": []
          },
          "execution_count": 62
        }
      ]
    },
    {
      "cell_type": "code",
      "metadata": {
        "colab": {
          "base_uri": "https://localhost:8080/"
        },
        "id": "kXWcn4pwX46b",
        "outputId": "837cb042-f926-442e-dc79-120802b2cc3a"
      },
      "source": [
        "foto.__mro__"
      ],
      "execution_count": 63,
      "outputs": [
        {
          "output_type": "execute_result",
          "data": {
            "text/plain": [
              "(__main__.foto, object)"
            ]
          },
          "metadata": {
            "tags": []
          },
          "execution_count": 63
        }
      ]
    },
    {
      "cell_type": "code",
      "metadata": {
        "id": "9TfouHiQYIK_"
      },
      "source": [
        ""
      ],
      "execution_count": null,
      "outputs": []
    }
  ]
}