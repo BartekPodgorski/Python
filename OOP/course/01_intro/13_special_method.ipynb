{
  "nbformat": 4,
  "nbformat_minor": 0,
  "metadata": {
    "colab": {
      "name": "13_special_method.ipynb",
      "provenance": [],
      "authorship_tag": "ABX9TyNiGiUIx3uW6Lkr5acjAl06",
      "include_colab_link": true
    },
    "kernelspec": {
      "name": "python3",
      "display_name": "Python 3"
    }
  },
  "cells": [
    {
      "cell_type": "markdown",
      "metadata": {
        "id": "view-in-github",
        "colab_type": "text"
      },
      "source": [
        "<a href=\"https://colab.research.google.com/github/BartekPodgorski/Python/blob/main/OOP/course/01_intro/13_special_method.ipynb\" target=\"_parent\"><img src=\"https://colab.research.google.com/assets/colab-badge.svg\" alt=\"Open In Colab\"/></a>"
      ]
    },
    {
      "cell_type": "code",
      "metadata": {
        "colab": {
          "base_uri": "https://localhost:8080/"
        },
        "id": "nsADcOOInyg9",
        "outputId": "10b23fdb-86af-4f3d-f595-3922ed1a80f8"
      },
      "source": [
        "dir(object)"
      ],
      "execution_count": null,
      "outputs": [
        {
          "output_type": "execute_result",
          "data": {
            "text/plain": [
              "['__class__',\n",
              " '__delattr__',\n",
              " '__dir__',\n",
              " '__doc__',\n",
              " '__eq__',\n",
              " '__format__',\n",
              " '__ge__',\n",
              " '__getattribute__',\n",
              " '__gt__',\n",
              " '__hash__',\n",
              " '__init__',\n",
              " '__init_subclass__',\n",
              " '__le__',\n",
              " '__lt__',\n",
              " '__ne__',\n",
              " '__new__',\n",
              " '__reduce__',\n",
              " '__reduce_ex__',\n",
              " '__repr__',\n",
              " '__setattr__',\n",
              " '__sizeof__',\n",
              " '__str__',\n",
              " '__subclasshook__']"
            ]
          },
          "metadata": {
            "tags": []
          },
          "execution_count": 1
        }
      ]
    },
    {
      "cell_type": "code",
      "metadata": {
        "id": "lJQasxplqX4g"
      },
      "source": [
        "class Company:\r\n",
        "  \"\"\"The company class docs\"\"\"\r\n",
        "  def __init__(self,name):\r\n",
        "    self.name = name\r\n"
      ],
      "execution_count": null,
      "outputs": []
    },
    {
      "cell_type": "code",
      "metadata": {
        "id": "2HiZX89WsjzJ"
      },
      "source": [
        "company = Company('Miscorsoft')"
      ],
      "execution_count": null,
      "outputs": []
    },
    {
      "cell_type": "code",
      "metadata": {
        "colab": {
          "base_uri": "https://localhost:8080/"
        },
        "id": "ySPE9JGQs2TZ",
        "outputId": "30a52e5a-c69d-4e7e-f9b7-031cc302d047"
      },
      "source": [
        "company.__dict__"
      ],
      "execution_count": null,
      "outputs": [
        {
          "output_type": "execute_result",
          "data": {
            "text/plain": [
              "{'name': 'Miscorsoft'}"
            ]
          },
          "metadata": {
            "tags": []
          },
          "execution_count": 5
        }
      ]
    },
    {
      "cell_type": "code",
      "metadata": {
        "id": "YZ90y0Pps4iR"
      },
      "source": [
        "company2 = Company.__new__(Company)"
      ],
      "execution_count": null,
      "outputs": []
    },
    {
      "cell_type": "code",
      "metadata": {
        "id": "2-uxbyketB9i"
      },
      "source": [
        "company2.__init__('Apple')"
      ],
      "execution_count": null,
      "outputs": []
    },
    {
      "cell_type": "code",
      "metadata": {
        "id": "Vpv4PJuJtKY6"
      },
      "source": [
        "class Student:\r\n",
        "  students = []\r\n",
        "  limit = 3\r\n",
        "\r\n",
        "  def __new__(cls):\r\n",
        "    if len(cls.students) >= cls.limit:\r\n",
        "      raise RuntimeError(f'Instance limit reached')\r\n",
        "    instance = object.__new__(cls)\r\n",
        "    cls.students.append(instance)\r\n",
        "    return instance"
      ],
      "execution_count": null,
      "outputs": []
    },
    {
      "cell_type": "code",
      "metadata": {
        "id": "Lo9iikMCt__4"
      },
      "source": [
        "s1 = Student()\r\n",
        "s2 = Student()\r\n",
        "s3 = Student()"
      ],
      "execution_count": null,
      "outputs": []
    },
    {
      "cell_type": "code",
      "metadata": {
        "id": "shmT0Y5cuGuA",
        "colab": {
          "base_uri": "https://localhost:8080/"
        },
        "outputId": "7c0ddd8e-8d9e-42af-b993-a192713e78ed"
      },
      "source": [
        "help(object.__repr__)"
      ],
      "execution_count": null,
      "outputs": [
        {
          "output_type": "stream",
          "text": [
            "Help on wrapper_descriptor:\n",
            "\n",
            "__repr__(self, /)\n",
            "    Return repr(self).\n",
            "\n"
          ],
          "name": "stdout"
        }
      ]
    },
    {
      "cell_type": "code",
      "metadata": {
        "colab": {
          "base_uri": "https://localhost:8080/"
        },
        "id": "doR1eZ5wIt5O",
        "outputId": "cbeb8523-d3e0-456b-be32-34d04ed6d83b"
      },
      "source": [
        "class Phone:\r\n",
        "\r\n",
        "  def __init__(self,brand):\r\n",
        "    self.brand = brand\r\n",
        "\r\n",
        "Phone.__dict__"
      ],
      "execution_count": null,
      "outputs": [
        {
          "output_type": "execute_result",
          "data": {
            "text/plain": [
              "mappingproxy({'__dict__': <attribute '__dict__' of 'Phone' objects>,\n",
              "              '__doc__': None,\n",
              "              '__init__': <function __main__.Phone.__init__>,\n",
              "              '__module__': '__main__',\n",
              "              '__weakref__': <attribute '__weakref__' of 'Phone' objects>})"
            ]
          },
          "metadata": {
            "tags": []
          },
          "execution_count": 2
        }
      ]
    },
    {
      "cell_type": "code",
      "metadata": {
        "colab": {
          "base_uri": "https://localhost:8080/",
          "height": 36
        },
        "id": "nL2GOAfaI9ob",
        "outputId": "7fade1f1-2dfc-41f6-e8a8-6e9cbff44708"
      },
      "source": [
        "repr(Phone)"
      ],
      "execution_count": null,
      "outputs": [
        {
          "output_type": "execute_result",
          "data": {
            "application/vnd.google.colaboratory.intrinsic+json": {
              "type": "string"
            },
            "text/plain": [
              "\"<class '__main__.Phone'>\""
            ]
          },
          "metadata": {
            "tags": []
          },
          "execution_count": 3
        }
      ]
    },
    {
      "cell_type": "code",
      "metadata": {
        "colab": {
          "base_uri": "https://localhost:8080/"
        },
        "id": "aZ9krdLlJe48",
        "outputId": "1466dab8-2b16-4c2e-fe67-d93719ddaabb"
      },
      "source": [
        "class Phone:\r\n",
        "\r\n",
        "  def __init__(self,brand):\r\n",
        "    self.brand = brand\r\n",
        "\r\n",
        "  def __repr__(self):\r\n",
        "    return f\"Phone(brand='{self.brand}')\"\r\n",
        "\r\n",
        "Phone.__dict__"
      ],
      "execution_count": null,
      "outputs": [
        {
          "output_type": "execute_result",
          "data": {
            "text/plain": [
              "mappingproxy({'__dict__': <attribute '__dict__' of 'Phone' objects>,\n",
              "              '__doc__': None,\n",
              "              '__init__': <function __main__.Phone.__init__>,\n",
              "              '__module__': '__main__',\n",
              "              '__repr__': <function __main__.Phone.__repr__>,\n",
              "              '__weakref__': <attribute '__weakref__' of 'Phone' objects>})"
            ]
          },
          "metadata": {
            "tags": []
          },
          "execution_count": 7
        }
      ]
    },
    {
      "cell_type": "code",
      "metadata": {
        "id": "Zo9NxBHAUf1o"
      },
      "source": [
        "phone =Phone('Apple')"
      ],
      "execution_count": null,
      "outputs": []
    },
    {
      "cell_type": "code",
      "metadata": {
        "colab": {
          "base_uri": "https://localhost:8080/"
        },
        "id": "-mAjbiu5UjCE",
        "outputId": "170f50cb-5c79-4f64-cc88-4c8dc1d1cd32"
      },
      "source": [
        "phone"
      ],
      "execution_count": null,
      "outputs": [
        {
          "output_type": "execute_result",
          "data": {
            "text/plain": [
              "Phone(brand='Apple')"
            ]
          },
          "metadata": {
            "tags": []
          },
          "execution_count": 9
        }
      ]
    },
    {
      "cell_type": "code",
      "metadata": {
        "colab": {
          "base_uri": "https://localhost:8080/"
        },
        "id": "wd-OipMdUkTV",
        "outputId": "48ff3491-e0a6-4437-df53-13adcf127635"
      },
      "source": [
        "eval(repr(phone))"
      ],
      "execution_count": null,
      "outputs": [
        {
          "output_type": "execute_result",
          "data": {
            "text/plain": [
              "Phone(brand='Apple')"
            ]
          },
          "metadata": {
            "tags": []
          },
          "execution_count": 10
        }
      ]
    },
    {
      "cell_type": "code",
      "metadata": {
        "colab": {
          "base_uri": "https://localhost:8080/"
        },
        "id": "W3ZKObIbUy1W",
        "outputId": "b5ddf56b-ae0c-4d81-fb60-eb3aa56e4044"
      },
      "source": [
        "help(object.__str__)"
      ],
      "execution_count": null,
      "outputs": [
        {
          "output_type": "stream",
          "text": [
            "Help on wrapper_descriptor:\n",
            "\n",
            "__str__(self, /)\n",
            "    Return str(self).\n",
            "\n"
          ],
          "name": "stdout"
        }
      ]
    },
    {
      "cell_type": "code",
      "metadata": {
        "colab": {
          "base_uri": "https://localhost:8080/"
        },
        "id": "9GaMk6wYU-fW",
        "outputId": "7d9e86a1-48c1-44dc-c2b7-52dd824a2d19"
      },
      "source": [
        "class Phone:\r\n",
        "\r\n",
        "  def __init__(self,brand):\r\n",
        "    self.brand = brand\r\n",
        "\r\n",
        "  def __repr__(self):\r\n",
        "    return f\"Phone(brand='{self.brand}')\"\r\n",
        "\r\n",
        "  def __str__(self):\r\n",
        "    return f'{self.brand} brand mobile phone'\r\n",
        "\r\n",
        "Phone.__dict__"
      ],
      "execution_count": null,
      "outputs": [
        {
          "output_type": "execute_result",
          "data": {
            "text/plain": [
              "mappingproxy({'__dict__': <attribute '__dict__' of 'Phone' objects>,\n",
              "              '__doc__': None,\n",
              "              '__init__': <function __main__.Phone.__init__>,\n",
              "              '__module__': '__main__',\n",
              "              '__repr__': <function __main__.Phone.__repr__>,\n",
              "              '__str__': <function __main__.Phone.__str__>,\n",
              "              '__weakref__': <attribute '__weakref__' of 'Phone' objects>})"
            ]
          },
          "metadata": {
            "tags": []
          },
          "execution_count": 13
        }
      ]
    },
    {
      "cell_type": "code",
      "metadata": {
        "id": "ng71p0-V--Zw"
      },
      "source": [
        "phone = Phone('Apple')"
      ],
      "execution_count": null,
      "outputs": []
    },
    {
      "cell_type": "code",
      "metadata": {
        "colab": {
          "base_uri": "https://localhost:8080/"
        },
        "id": "C3veEjfy_IBu",
        "outputId": "03d1081b-3c9b-4d8f-9676-ed1242768a47"
      },
      "source": [
        "phone"
      ],
      "execution_count": null,
      "outputs": [
        {
          "output_type": "execute_result",
          "data": {
            "text/plain": [
              "Phone(brand='Apple')"
            ]
          },
          "metadata": {
            "tags": []
          },
          "execution_count": 15
        }
      ]
    },
    {
      "cell_type": "code",
      "metadata": {
        "colab": {
          "base_uri": "https://localhost:8080/"
        },
        "id": "sPiCGBOt_J4U",
        "outputId": "a631db14-13ae-4939-dcab-b036762dd12e"
      },
      "source": [
        "print(phone)"
      ],
      "execution_count": null,
      "outputs": [
        {
          "output_type": "stream",
          "text": [
            "Apple brand mobile phone\n"
          ],
          "name": "stdout"
        }
      ]
    },
    {
      "cell_type": "code",
      "metadata": {
        "colab": {
          "base_uri": "https://localhost:8080/",
          "height": 36
        },
        "id": "-RcrU2V3_OhO",
        "outputId": "4815edf6-da8e-41a6-bf39-4dafde92433b"
      },
      "source": [
        "str(phone)"
      ],
      "execution_count": null,
      "outputs": [
        {
          "output_type": "execute_result",
          "data": {
            "application/vnd.google.colaboratory.intrinsic+json": {
              "type": "string"
            },
            "text/plain": [
              "'Apple brand mobile phone'"
            ]
          },
          "metadata": {
            "tags": []
          },
          "execution_count": 17
        }
      ]
    },
    {
      "cell_type": "code",
      "metadata": {
        "colab": {
          "base_uri": "https://localhost:8080/"
        },
        "id": "gHxhP25P_Rcd",
        "outputId": "a8d31f98-3a5a-492c-9a3a-3bad718b0510"
      },
      "source": [
        "help(len)"
      ],
      "execution_count": null,
      "outputs": [
        {
          "output_type": "stream",
          "text": [
            "Help on built-in function len in module builtins:\n",
            "\n",
            "len(obj, /)\n",
            "    Return the number of items in a container.\n",
            "\n"
          ],
          "name": "stdout"
        }
      ]
    },
    {
      "cell_type": "code",
      "metadata": {
        "id": "ZFG0Dxyq_7Av"
      },
      "source": [
        "class Point:\r\n",
        "\r\n",
        "  def __init__(self,*cords):\r\n",
        "    for value in cords:\r\n",
        "      if not isinstance(value,(int,float)):\r\n",
        "        raise ValueError('Cord has to be int or float')\r\n",
        "      self._cords = cords\r\n",
        "  \r\n",
        "  def __repr__(self):\r\n",
        "    return f\"Point(cords={self._cords})\"\r\n",
        "\r\n",
        "  @property\r\n",
        "  def cords(self):\r\n",
        "    return self._cords"
      ],
      "execution_count": null,
      "outputs": []
    },
    {
      "cell_type": "code",
      "metadata": {
        "colab": {
          "base_uri": "https://localhost:8080/"
        },
        "id": "oILZmOYpA2M1",
        "outputId": "3e24293b-4ae7-4c0d-c8c9-bed34b7ff1c7"
      },
      "source": [
        "p = Point(3,4)\r\n",
        "p.__dict__"
      ],
      "execution_count": null,
      "outputs": [
        {
          "output_type": "execute_result",
          "data": {
            "text/plain": [
              "{'_cords': (3, 4)}"
            ]
          },
          "metadata": {
            "tags": []
          },
          "execution_count": 20
        }
      ]
    },
    {
      "cell_type": "code",
      "metadata": {
        "colab": {
          "base_uri": "https://localhost:8080/"
        },
        "id": "3RCfq0X_A53c",
        "outputId": "867d7262-ac33-4082-f7d6-6b907e79b740"
      },
      "source": [
        "p.cords"
      ],
      "execution_count": null,
      "outputs": [
        {
          "output_type": "execute_result",
          "data": {
            "text/plain": [
              "(3, 4)"
            ]
          },
          "metadata": {
            "tags": []
          },
          "execution_count": 21
        }
      ]
    },
    {
      "cell_type": "code",
      "metadata": {
        "colab": {
          "base_uri": "https://localhost:8080/"
        },
        "id": "D9soplOLA77E",
        "outputId": "7b0ce486-d7d2-4960-973e-9a9856e711ef"
      },
      "source": [
        "p"
      ],
      "execution_count": null,
      "outputs": [
        {
          "output_type": "execute_result",
          "data": {
            "text/plain": [
              "Point(cords=(3, 4))"
            ]
          },
          "metadata": {
            "tags": []
          },
          "execution_count": 22
        }
      ]
    },
    {
      "cell_type": "code",
      "metadata": {
        "colab": {
          "base_uri": "https://localhost:8080/"
        },
        "id": "0sneggAxA9gE",
        "outputId": "73cd94da-9cd8-496f-f490-7cf6ecd3ceea"
      },
      "source": [
        "p = Point(3,4,8)\r\n",
        "p.__dict__"
      ],
      "execution_count": null,
      "outputs": [
        {
          "output_type": "execute_result",
          "data": {
            "text/plain": [
              "{'_cords': (3, 4, 8)}"
            ]
          },
          "metadata": {
            "tags": []
          },
          "execution_count": 23
        }
      ]
    },
    {
      "cell_type": "code",
      "metadata": {
        "colab": {
          "base_uri": "https://localhost:8080/"
        },
        "id": "DtoCzstEBAUn",
        "outputId": "700a99d4-37e0-4785-a01b-1405a364a776"
      },
      "source": [
        "p"
      ],
      "execution_count": null,
      "outputs": [
        {
          "output_type": "execute_result",
          "data": {
            "text/plain": [
              "Point(cords=(3, 4, 8))"
            ]
          },
          "metadata": {
            "tags": []
          },
          "execution_count": 24
        }
      ]
    },
    {
      "cell_type": "code",
      "metadata": {
        "id": "LVRSpSCcBBDw"
      },
      "source": [
        "class Point:\r\n",
        "\r\n",
        "  def __init__(self,*cords):\r\n",
        "    for value in cords:\r\n",
        "      if not isinstance(value,(int,float)):\r\n",
        "        raise ValueError('Cord has to be int or float')\r\n",
        "      self._cords = cords\r\n",
        "  \r\n",
        "  def __repr__(self):\r\n",
        "    return f\"Point(cords={self._cords})\"\r\n",
        "\r\n",
        "  def __len__(self):\r\n",
        "    return len(self._cords)\r\n",
        "\r\n",
        "  @property\r\n",
        "  def cords(self):\r\n",
        "    return self._cords"
      ],
      "execution_count": null,
      "outputs": []
    },
    {
      "cell_type": "code",
      "metadata": {
        "colab": {
          "base_uri": "https://localhost:8080/"
        },
        "id": "cVvcRFvoBR8E",
        "outputId": "501fec90-eb7e-41c5-c072-96a9c4fcfd63"
      },
      "source": [
        "p = Point(3,4,8)\r\n",
        "p.__dict__"
      ],
      "execution_count": null,
      "outputs": [
        {
          "output_type": "execute_result",
          "data": {
            "text/plain": [
              "{'_cords': (3, 4, 8)}"
            ]
          },
          "metadata": {
            "tags": []
          },
          "execution_count": 26
        }
      ]
    },
    {
      "cell_type": "code",
      "metadata": {
        "colab": {
          "base_uri": "https://localhost:8080/"
        },
        "id": "Q0l8mqXcBYn9",
        "outputId": "76c9f361-a000-4cf7-e827-fa6dddf16278"
      },
      "source": [
        "len(p)"
      ],
      "execution_count": null,
      "outputs": [
        {
          "output_type": "execute_result",
          "data": {
            "text/plain": [
              "3"
            ]
          },
          "metadata": {
            "tags": []
          },
          "execution_count": 27
        }
      ]
    },
    {
      "cell_type": "code",
      "metadata": {
        "id": "wwGdgFuDBaZD"
      },
      "source": [
        "class Point:\r\n",
        "\r\n",
        "  def __init__(self,*cords):\r\n",
        "    for value in cords:\r\n",
        "      if not isinstance(value,(int,float)):\r\n",
        "        raise ValueError('Cord has to be int or float')\r\n",
        "    self._cords = cords\r\n",
        "  \r\n",
        "  def __repr__(self):\r\n",
        "    return f\"Point(cords={self._cords})\"\r\n",
        "\r\n",
        "  def __len__(self):\r\n",
        "    return len(self._cords)\r\n",
        "\r\n",
        "  @property\r\n",
        "  def cords(self):\r\n",
        "    return self._cords"
      ],
      "execution_count": null,
      "outputs": []
    },
    {
      "cell_type": "code",
      "metadata": {
        "id": "q_uGPzHpCd2t"
      },
      "source": [
        "p = Point()\r\n",
        "q = Point(2,4)"
      ],
      "execution_count": null,
      "outputs": []
    },
    {
      "cell_type": "code",
      "metadata": {
        "colab": {
          "base_uri": "https://localhost:8080/"
        },
        "id": "N70UV1hlChIM",
        "outputId": "50e69f1e-8c7d-4176-8f8f-a7df284d3c02"
      },
      "source": [
        "p,q"
      ],
      "execution_count": null,
      "outputs": [
        {
          "output_type": "execute_result",
          "data": {
            "text/plain": [
              "(Point(cords=()), Point(cords=(2, 4)))"
            ]
          },
          "metadata": {
            "tags": []
          },
          "execution_count": 38
        }
      ]
    },
    {
      "cell_type": "code",
      "metadata": {
        "colab": {
          "base_uri": "https://localhost:8080/"
        },
        "id": "2tNs04QuCiGo",
        "outputId": "85e42544-60ad-463f-dd28-32f33c8e5ee0"
      },
      "source": [
        "bool(p),bool(q)"
      ],
      "execution_count": null,
      "outputs": [
        {
          "output_type": "execute_result",
          "data": {
            "text/plain": [
              "(False, True)"
            ]
          },
          "metadata": {
            "tags": []
          },
          "execution_count": 39
        }
      ]
    },
    {
      "cell_type": "code",
      "metadata": {
        "id": "jRuCj5A5C_Ad"
      },
      "source": [
        "class Point:\r\n",
        "\r\n",
        "  def __init__(self,*cords):\r\n",
        "    for value in cords:\r\n",
        "      if not isinstance(value,(int,float)):\r\n",
        "        raise ValueError('Cord has to be int or float')\r\n",
        "    self._cords = cords\r\n",
        "  \r\n",
        "  def __repr__(self):\r\n",
        "    return f\"Point(cords={self._cords})\"\r\n",
        "\r\n",
        "  def __len__(self):\r\n",
        "    return len(self._cords)\r\n",
        "\r\n",
        "  def __bool__(self):\r\n",
        "    return sum(self._cords) !=0\r\n",
        "\r\n",
        "  @property\r\n",
        "  def cords(self):\r\n",
        "    return self._cords"
      ],
      "execution_count": null,
      "outputs": []
    },
    {
      "cell_type": "code",
      "metadata": {
        "id": "8h-rfTvUDT8N"
      },
      "source": [
        "p = Point(1,2)"
      ],
      "execution_count": null,
      "outputs": []
    },
    {
      "cell_type": "code",
      "metadata": {
        "id": "RPil8nNzDWT7"
      },
      "source": [
        "class Point:\r\n",
        "\r\n",
        "  def __init__(self,*cords):\r\n",
        "    for value in cords:\r\n",
        "      if not isinstance(value,(int,float)):\r\n",
        "        raise ValueError('Cord has to be int or float')\r\n",
        "    self._cords = cords\r\n",
        "  \r\n",
        "  def __repr__(self):\r\n",
        "    return f\"Point(cords={self._cords})\"\r\n",
        "\r\n",
        "  def __add__(self,other):\r\n",
        "    cords = tuple(x + y for x,y in zip(self.cords,other.cords))\r\n",
        "    return Point(*cords)\r\n",
        "\r\n",
        "  @property\r\n",
        "  def cords(self):\r\n",
        "    return self._cords"
      ],
      "execution_count": 46,
      "outputs": []
    },
    {
      "cell_type": "code",
      "metadata": {
        "colab": {
          "base_uri": "https://localhost:8080/"
        },
        "id": "OsRyii1QFSKP",
        "outputId": "109d4723-0d09-421d-be46-3aea30e198af"
      },
      "source": [
        "p1 = Point(4,2)\r\n",
        "p2 = Point(5,2)\r\n",
        "p1 + p2"
      ],
      "execution_count": 47,
      "outputs": [
        {
          "output_type": "execute_result",
          "data": {
            "text/plain": [
              "Point(cords=(9, 4))"
            ]
          },
          "metadata": {
            "tags": []
          },
          "execution_count": 47
        }
      ]
    },
    {
      "cell_type": "code",
      "metadata": {
        "id": "_1fzEwuUFZT0"
      },
      "source": [
        "class Point:\r\n",
        "\r\n",
        "  def __init__(self,*cords):\r\n",
        "    for value in cords:\r\n",
        "      if not isinstance(value,(int,float)):\r\n",
        "        raise ValueError('Cord has to be int or float')\r\n",
        "    self._cords = cords\r\n",
        "  \r\n",
        "  def __repr__(self):\r\n",
        "    return f\"Point(cords={self._cords})\"\r\n",
        "\r\n",
        "  def __add__(self,other):\r\n",
        "    if not isinstance(other,Point):\r\n",
        "      return NotImplemented\r\n",
        "    cords = tuple(x + y for x,y in zip(self.cords,other.cords))\r\n",
        "    return Point(*cords)\r\n",
        "\r\n",
        "  def __sub__(self,other):\r\n",
        "    if not isinstance(other,Point):\r\n",
        "      return NotImplemented\r\n",
        "    cords = tuple(x - y for x,y in zip(self.cords,other.cords))\r\n",
        "    return Point(*cords)\r\n",
        "\r\n",
        "  def __mul__(self,other):\r\n",
        "    if not isinstance(other,Point):\r\n",
        "      return NotImplemented\r\n",
        "    cords = tuple(x * y for x,y in zip(self.cords,other.cords))\r\n",
        "    return Point(*cords)\r\n",
        "    \r\n",
        "  @property\r\n",
        "  def cords(self):\r\n",
        "    return self._cords"
      ],
      "execution_count": 50,
      "outputs": []
    },
    {
      "cell_type": "code",
      "metadata": {
        "id": "Lx7SKYW-GFeG"
      },
      "source": [
        "def dupa():\r\n",
        "  print(__name__)"
      ],
      "execution_count": 54,
      "outputs": []
    },
    {
      "cell_type": "code",
      "metadata": {
        "colab": {
          "base_uri": "https://localhost:8080/"
        },
        "id": "G-JA5UZ0HgKr",
        "outputId": "b78103e9-e651-4eb7-d000-a1a29243431f"
      },
      "source": [
        "dupa()"
      ],
      "execution_count": 55,
      "outputs": [
        {
          "output_type": "stream",
          "text": [
            "__main__\n"
          ],
          "name": "stdout"
        }
      ]
    },
    {
      "cell_type": "code",
      "metadata": {
        "id": "ThuEmTO5Hm2j"
      },
      "source": [
        "class Point:\r\n",
        "\r\n",
        "  def __init__(self,*cords):\r\n",
        "    for value in cords:\r\n",
        "      if not isinstance(value,(int,float)):\r\n",
        "        raise ValueError('Cord has to be int or float')\r\n",
        "    self._cords = cords\r\n",
        "  \r\n",
        "  def __repr__(self):\r\n",
        "    return f\"Point(cords={self._cords})\"\r\n",
        "\r\n",
        "  def __add__(self,other):\r\n",
        "    if not isinstance(other,Point):\r\n",
        "      return NotImplemented\r\n",
        "    cords = tuple(x + y for x,y in zip(self.cords,other.cords))\r\n",
        "    return Point(*cords)\r\n",
        "\r\n",
        "  def __sub__(self,other):\r\n",
        "    if not isinstance(other,Point):\r\n",
        "      return NotImplemented\r\n",
        "    cords = tuple(x - y for x,y in zip(self.cords,other.cords))\r\n",
        "    return Point(*cords)\r\n",
        "\r\n",
        "  def __mul__(self,other):\r\n",
        "    if not isinstance(other,Point):\r\n",
        "      return NotImplemented\r\n",
        "    cords = tuple(x * y for x,y in zip(self.cords,other.cords))\r\n",
        "    return Point(*cords)\r\n",
        "\r\n",
        "  def __truediv__(self,other):\r\n",
        "    if not isinstance(other,Point):\r\n",
        "      return NotImplemented\r\n",
        "    for cord in other.cords:\r\n",
        "      if cord == 0:\r\n",
        "        raise ZeroDivisionError('Division by zero')\r\n",
        "    cords = tuple(x / y for x,y in zip(self.cords,other.cords))\r\n",
        "    return Point(*cords)\r\n",
        "\r\n",
        "  def __floordiv__(self,other):\r\n",
        "    if not isinstance(other,Point):\r\n",
        "      return NotImplemented\r\n",
        "    for cord in other.cords:\r\n",
        "      if cord == 0:\r\n",
        "        raise ZeroDivisionError('Division by zero')\r\n",
        "    cords = tuple(x // y for x,y in zip(self.cords,other.cords))\r\n",
        "    return Point(*cords)\r\n",
        "\r\n",
        "  @property\r\n",
        "  def cords(self):\r\n",
        "    return self._cords"
      ],
      "execution_count": 56,
      "outputs": []
    },
    {
      "cell_type": "code",
      "metadata": {
        "id": "WsZLxIjNJXLA"
      },
      "source": [
        "class Doc:\r\n",
        "\r\n",
        "  def __init__(self,string):\r\n",
        "    delf.string = string\r\n",
        "\r\n",
        "  def __repr__(self):\r\n",
        "    return f\"Doc(string='{self.string}')\"\r\n",
        "\r\n",
        "  def __str__(self):\r\n",
        "    return f'{self.string}'\r\n",
        "\r\n",
        "  def __add__(self,other):\r\n",
        "    if not isinstance(other,Doc):\r\n",
        "      return NotImplemented\r\n",
        "    return Doc(self.string + ' ' + other.string)"
      ],
      "execution_count": 58,
      "outputs": []
    },
    {
      "cell_type": "code",
      "metadata": {
        "id": "Y5QFExw5KnpR"
      },
      "source": [
        "class Doc:\r\n",
        "\r\n",
        "  def __init__(self,string):\r\n",
        "    delf.string = string\r\n",
        "\r\n",
        "  def __repr__(self):\r\n",
        "    return f\"Doc(string='{self.string}')\"\r\n",
        "\r\n",
        "  def __str__(self):\r\n",
        "    return f'{self.string}'\r\n",
        "\r\n",
        "  def __add__(self,other):\r\n",
        "    if not isinstance(other,Doc):\r\n",
        "      return NotImplemented\r\n",
        "    return Doc(self.string + ' ' + other.string)\r\n",
        "\r\n",
        "  def __iadd__(self,other):\r\n",
        "    if not isinstance(other,Doc):\r\n",
        "      return NotImplemented\r\n",
        "    return Doc(self.string + '-' + other.string)"
      ],
      "execution_count": 59,
      "outputs": []
    },
    {
      "cell_type": "code",
      "metadata": {
        "id": "RheQq0jWM53X"
      },
      "source": [
        "class Doc:\r\n",
        "\r\n",
        "  def __init__(self,string):\r\n",
        "    delf.string = string\r\n",
        "\r\n",
        "  def __repr__(self):\r\n",
        "    return f\"Doc(string='{self.string}')\"\r\n",
        "\r\n",
        "  def __str__(self):\r\n",
        "    return f'{self.string}'\r\n",
        "\r\n",
        "  def __add__(self,other):\r\n",
        "    if not isinstance(other,Doc):\r\n",
        "      return NotImplemented\r\n",
        "    return Doc(self.string + ' ' + other.string)\r\n",
        "\r\n",
        "  def __eq__(self,other):\r\n",
        "    if not isinstance(other,Doc):\r\n",
        "      return False\r\n",
        "    return len(self.string) == len(other.string)\r\n",
        "\r\n",
        "  def __lt__(self,other):\r\n",
        "    if not isinstance(other,Doc):\r\n",
        "      return NotImplemented\r\n",
        "    return len(self.string) < len(other.string)\r\n",
        "\r\n",
        "  def __le__(self,other):\r\n",
        "    if not isinstance(other,Doc):\r\n",
        "      return NotImplemented\r\n",
        "    return len(self.string) <= len(other.string)"
      ],
      "execution_count": 61,
      "outputs": []
    },
    {
      "cell_type": "code",
      "metadata": {
        "id": "zP7fy1W2Oope"
      },
      "source": [
        "class Integer:\r\n",
        "\r\n",
        "  def __init__(self,value=0):\r\n",
        "    self.value = int(value)\r\n",
        "\r\n",
        "  def __repr__(self):\r\n",
        "    return f\"Integer(value='{self.value}')\"\r\n",
        "\r\n",
        "  def __str__(self):\r\n",
        "    return f'{self.value}'\r\n",
        "\r\n",
        "  def __add__(self,other):\r\n",
        "    if not isinstance(other,Integer):\r\n",
        "      raise NotImplemented\r\n",
        "    return Integer(self.value + other.value)\r\n",
        "\r\n",
        "  def __sub__(self,other):\r\n",
        "    if not isinstance(other,Integer):\r\n",
        "      raise NotImplemented\r\n",
        "    return Integer(self.value - other.value)\r\n"
      ],
      "execution_count": 70,
      "outputs": []
    },
    {
      "cell_type": "code",
      "metadata": {
        "id": "oXXSdmvIRnze"
      },
      "source": [
        "int1 = Integer(4)"
      ],
      "execution_count": 64,
      "outputs": []
    },
    {
      "cell_type": "code",
      "metadata": {
        "id": "y4-AuhHdRws2"
      },
      "source": [
        "int2= Integer(3)"
      ],
      "execution_count": 65,
      "outputs": []
    },
    {
      "cell_type": "code",
      "metadata": {
        "colab": {
          "base_uri": "https://localhost:8080/"
        },
        "id": "3fz9m6erRy-v",
        "outputId": "77bdbfc7-d266-49d2-b84e-f23c8cd6fd91"
      },
      "source": [
        "int1 - int2"
      ],
      "execution_count": 69,
      "outputs": [
        {
          "output_type": "execute_result",
          "data": {
            "text/plain": [
              "Integer(value='1')"
            ]
          },
          "metadata": {
            "tags": []
          },
          "execution_count": 69
        }
      ]
    }
  ]
}