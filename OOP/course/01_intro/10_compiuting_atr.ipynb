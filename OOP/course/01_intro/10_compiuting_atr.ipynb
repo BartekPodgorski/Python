{
  "nbformat": 4,
  "nbformat_minor": 0,
  "metadata": {
    "colab": {
      "name": "10_compiuting_atr.ipynb",
      "provenance": [],
      "collapsed_sections": [],
      "authorship_tag": "ABX9TyOk3KXlwefD11JF4TLAAR5H",
      "include_colab_link": true
    },
    "kernelspec": {
      "name": "python3",
      "display_name": "Python 3"
    }
  },
  "cells": [
    {
      "cell_type": "markdown",
      "metadata": {
        "id": "view-in-github",
        "colab_type": "text"
      },
      "source": [
        "<a href=\"https://colab.research.google.com/github/BartekPodgorski/Python/blob/main/OOP/course/01_intro/10_compiuting_atr.ipynb\" target=\"_parent\"><img src=\"https://colab.research.google.com/assets/colab-badge.svg\" alt=\"Open In Colab\"/></a>"
      ]
    },
    {
      "cell_type": "code",
      "metadata": {
        "id": "1hfp-NfWy5yS"
      },
      "source": [
        "class Model:\r\n",
        "\r\n",
        "  def __init__(self,y_true,y_pred):\r\n",
        "    self.y_true = y_true\r\n",
        "    self.y_pred = y_pred\r\n",
        "\r\n",
        "  def accuracy_score(self):\r\n",
        "    print('Calc')\r\n",
        "    self.accuracy = sum([i == j for i,j in zip(self.y_true,self.y_pred)])/len(self.y_true)\r\n",
        "    print(f'Model accuracy:{self.accuracy:.4f}')\r\n",
        "\r\n"
      ],
      "execution_count": 2,
      "outputs": []
    },
    {
      "cell_type": "code",
      "metadata": {
        "id": "0nEv2JT-88W7"
      },
      "source": [
        "  model = Model([0,0,1,0,0,1,0],[0,0,1,0,0,0,0])"
      ],
      "execution_count": 3,
      "outputs": []
    },
    {
      "cell_type": "code",
      "metadata": {
        "colab": {
          "base_uri": "https://localhost:8080/"
        },
        "id": "3IfJ5lcW9Es5",
        "outputId": "6117cf9a-8d34-4349-a5bd-aad914a7e778"
      },
      "source": [
        "model.__dict__"
      ],
      "execution_count": 4,
      "outputs": [
        {
          "output_type": "execute_result",
          "data": {
            "text/plain": [
              "{'y_pred': [0, 0, 1, 0, 0, 0, 0], 'y_true': [0, 0, 1, 0, 0, 1, 0]}"
            ]
          },
          "metadata": {
            "tags": []
          },
          "execution_count": 4
        }
      ]
    },
    {
      "cell_type": "code",
      "metadata": {
        "colab": {
          "base_uri": "https://localhost:8080/"
        },
        "id": "oQ4dlzRaAQ_R",
        "outputId": "7d6473de-4b7f-403d-a620-b6071bedc454"
      },
      "source": [
        "model.accuracy_score()"
      ],
      "execution_count": 5,
      "outputs": [
        {
          "output_type": "stream",
          "text": [
            "Calc\n",
            "Model accuracy:0.8571\n"
          ],
          "name": "stdout"
        }
      ]
    },
    {
      "cell_type": "code",
      "metadata": {
        "id": "JwHSzQ4jATJB"
      },
      "source": [
        "  class Model:\r\n",
        "    def __init__(self,y_true,y_pred):\r\n",
        "      self.y_true = y_true\r\n",
        "      self.y_pred = y_pred\r\n",
        "\r\n",
        "    @property\r\n",
        "    def accuracy(self):\r\n",
        "      print('Calc')\r\n",
        "      self._accuracy = sum([i == j for i,j in zip(self.y_true,self.y_pred)])/len(self.y_true)\r\n",
        "      print(f'Model accuracy:{self._accuracy:.4f}')"
      ],
      "execution_count": 5,
      "outputs": []
    },
    {
      "cell_type": "code",
      "metadata": {
        "id": "S4RLkDG3BsRy"
      },
      "source": [
        "model = Model([0,0,1,0,0,1,0],[0,0,1,0,0,0,0])"
      ],
      "execution_count": 6,
      "outputs": []
    },
    {
      "cell_type": "code",
      "metadata": {
        "colab": {
          "base_uri": "https://localhost:8080/"
        },
        "id": "XXcZxqj4BtlY",
        "outputId": "8ee92ef3-24db-4452-cc85-c388f7fa4bbd"
      },
      "source": [
        "model.accuracy"
      ],
      "execution_count": 7,
      "outputs": [
        {
          "output_type": "stream",
          "text": [
            "Calc\n",
            "Model accuracy:0.8571\n"
          ],
          "name": "stdout"
        }
      ]
    },
    {
      "cell_type": "code",
      "metadata": {
        "id": "XXH7RxBaBv6Z"
      },
      "source": [
        "  class Model:\r\n",
        "    def __init__(self,y_true,y_pred):\r\n",
        "      self._y_true = y_true\r\n",
        "      self._y_pred = y_pred\r\n",
        "      self._accuracy = None\r\n",
        "\r\n",
        "    @property\r\n",
        "    def y_true(self):\r\n",
        "      return self._y_true\r\n",
        "\r\n",
        "    @y_true.setter\r\n",
        "    def y_true(self,value):\r\n",
        "      self._y_true = value\r\n",
        "      self._accuracy = None\r\n",
        "\r\n",
        "    @property\r\n",
        "    def y_pred(self):\r\n",
        "      return self._y_pred\r\n",
        "\r\n",
        "    @y_pred.setter\r\n",
        "    def y_pred(self,value):\r\n",
        "      self._y_pred = value\r\n",
        "      self._accuracy = None  \r\n",
        "\r\n",
        "    @property\r\n",
        "    def accuracy(self):\r\n",
        "      if not self._accuracy:\r\n",
        "        print('Calc')\r\n",
        "        self._accuracy = sum([i == j for i,j in zip(self.y_true,self.y_pred)])/len(self.y_true)\r\n",
        "      print(f'Model accuracy:{self._accuracy:.4f}')"
      ],
      "execution_count": 22,
      "outputs": []
    },
    {
      "cell_type": "code",
      "metadata": {
        "id": "AU_L-YseGaox"
      },
      "source": [
        "model = Model([0,0,1,0,0,1,0],[0,0,1,0,0,0,0])"
      ],
      "execution_count": 23,
      "outputs": []
    },
    {
      "cell_type": "code",
      "metadata": {
        "colab": {
          "base_uri": "https://localhost:8080/"
        },
        "id": "ocKrLbsUGcKP",
        "outputId": "295b0e87-173e-47a6-b468-1c3eef30a075"
      },
      "source": [
        "model.accuracy"
      ],
      "execution_count": 24,
      "outputs": [
        {
          "output_type": "stream",
          "text": [
            "Calc\n",
            "Model accuracy:0.8571\n"
          ],
          "name": "stdout"
        }
      ]
    },
    {
      "cell_type": "code",
      "metadata": {
        "colab": {
          "base_uri": "https://localhost:8080/"
        },
        "id": "eHp7QurdGeI4",
        "outputId": "f5305d82-9640-4859-e9a4-e44618f1a213"
      },
      "source": [
        "model.accuracy"
      ],
      "execution_count": 21,
      "outputs": [
        {
          "output_type": "stream",
          "text": [
            "Model accuracy:0.8571\n"
          ],
          "name": "stdout"
        }
      ]
    },
    {
      "cell_type": "code",
      "metadata": {
        "id": "BDKAxiZIGlT-"
      },
      "source": [
        "  class Model:\r\n",
        "    def __init__(self,y_true,y_pred):\r\n",
        "\r\n",
        "      if not isinstance(y_true,(list,tuple)):\r\n",
        "        raise TypeError('y_true has to be list or tuple')\r\n",
        "      if not isinstance(y_pred,(list,tuple)):\r\n",
        "        raise TypeError('y_pred has to be list or tuple')\r\n",
        "      if not len(y_true) == len(y_pred):\r\n",
        "        raise ValueError('y_pred and y_true has to be same lenght')\r\n",
        "\r\n",
        "      self._y_true = y_true\r\n",
        "      self._y_pred = y_pred\r\n",
        "      self._accuracy = None\r\n",
        "\r\n",
        "    @property\r\n",
        "    def y_true(self):\r\n",
        "      return self._y_true\r\n",
        "\r\n",
        "    @y_true.setter\r\n",
        "    def y_true(self,value):\r\n",
        "      self._y_true = value\r\n",
        "      self._accuracy = None\r\n",
        "\r\n",
        "    @property\r\n",
        "    def y_pred(self):\r\n",
        "      return self._y_pred\r\n",
        "\r\n",
        "    @y_pred.setter\r\n",
        "    def y_pred(self,value):\r\n",
        "      self._y_pred = value\r\n",
        "      self._accuracy = None  \r\n",
        "\r\n",
        "    @property\r\n",
        "    def accuracy(self):\r\n",
        "      if not self._accuracy:\r\n",
        "        print('Calc')\r\n",
        "        self._accuracy = sum([i == j for i,j in zip(self.y_true,self.y_pred)])/len(self.y_true)\r\n",
        "      print(f'Model accuracy:{self._accuracy:.4f}')"
      ],
      "execution_count": 25,
      "outputs": []
    },
    {
      "cell_type": "code",
      "metadata": {
        "id": "qeLi-3-gOaE9"
      },
      "source": [
        "class Model:\r\n",
        "    def __init__(self,y_true,y_pred):\r\n",
        "\r\n",
        "      if not isinstance(y_true,(list,tuple)):\r\n",
        "        raise TypeError('y_true has to be list or tuple')\r\n",
        "      if not isinstance(y_pred,(list,tuple)):\r\n",
        "        raise TypeError('y_pred has to be list or tuple')\r\n",
        "      if not len(y_true) == len(y_pred):\r\n",
        "        raise ValueError('y_pred and y_true has to be same lenght')\r\n",
        "\r\n",
        "      self._y_true = y_true\r\n",
        "      self._y_pred = y_pred\r\n",
        "      self._accuracy = None\r\n",
        "\r\n",
        "    @property\r\n",
        "    def y_true(self):\r\n",
        "      return self._y_true\r\n",
        "\r\n",
        "    @y_true.setter\r\n",
        "    def y_true(self,value):\r\n",
        "      if isinstance(value,(list,tuple)):\r\n",
        "        if len(value) == len(self._y_pred):\r\n",
        "          self._y_true = value\r\n",
        "        else:\r\n",
        "          raise ValueError('y_true has to be same lenght')\r\n",
        "      else:\r\n",
        "        raise TypeError('y_true has to be list or tuple')\r\n",
        "      self._accuracy = None\r\n",
        "\r\n",
        "    @property\r\n",
        "    def y_pred(self):\r\n",
        "      return self._y_pred\r\n",
        "\r\n",
        "    @y_pred.setter\r\n",
        "    def y_pred(self,value):\r\n",
        "      if isinstance(value,(list,tuple)):\r\n",
        "        if len(value) == len(self._y_true):\r\n",
        "          self._y_pred = value\r\n",
        "        else:\r\n",
        "          raise ValueError('y_pred has to be same lenght')\r\n",
        "      else:\r\n",
        "        raise TypeError('y_pred has to be list or tuple')\r\n",
        "      self._accuracy = None \r\n",
        "\r\n",
        "    @property\r\n",
        "    def accuracy(self):\r\n",
        "      if not self._accuracy:\r\n",
        "        print('Calc')\r\n",
        "        self._accuracy = sum([i == j for i,j in zip(self.y_true,self.y_pred)])/len(self.y_true)\r\n",
        "      print(f'Model accuracy:{self._accuracy:.4f}')"
      ],
      "execution_count": 26,
      "outputs": []
    },
    {
      "cell_type": "code",
      "metadata": {
        "id": "ZrQmBsBfPtK1"
      },
      "source": [
        "class Model:\r\n",
        "    def __init__(self,y_true,y_pred):\r\n",
        "\r\n",
        "      if not isinstance(y_true,(list,tuple)):\r\n",
        "        raise TypeError('y_true has to be list or tuple')\r\n",
        "      if not isinstance(y_pred,(list,tuple)):\r\n",
        "        raise TypeError('y_pred has to be list or tuple')\r\n",
        "      if not len(y_true) == len(y_pred):\r\n",
        "        raise ValueError('y_pred and y_true has to be same lenght')\r\n",
        "\r\n",
        "      self._y_true = y_true\r\n",
        "      self._y_pred = y_pred\r\n",
        "      self._accuracy = None\r\n",
        "\r\n",
        "    @property\r\n",
        "    def y_true(self):\r\n",
        "      return self._y_true\r\n",
        "\r\n",
        "    @y_true.setter\r\n",
        "    def y_true(self,value):\r\n",
        "      if isinstance(value,(list,tuple)):\r\n",
        "        if len(value) == len(self._y_pred):\r\n",
        "          self._y_true = value\r\n",
        "        else:\r\n",
        "          raise ValueError('y_true has to be same lenght')\r\n",
        "      else:\r\n",
        "        raise TypeError('y_true has to be list or tuple')\r\n",
        "      self._accuracy = None\r\n",
        "\r\n",
        "    @y_true.deleter\r\n",
        "    def y_true(self):\r\n",
        "      del self._y_true\r\n",
        "\r\n",
        "    @property\r\n",
        "    def y_pred(self):\r\n",
        "      return self._y_pred\r\n",
        "\r\n",
        "    @y_pred.setter\r\n",
        "    def y_pred(self,value):\r\n",
        "      if isinstance(value,(list,tuple)):\r\n",
        "        if len(value) == len(self._y_true):\r\n",
        "          self._y_pred = value\r\n",
        "        else:\r\n",
        "          raise ValueError('y_pred has to be same lenght')\r\n",
        "      else:\r\n",
        "        raise TypeError('y_pred has to be list or tuple')\r\n",
        "      self._accuracy = None \r\n",
        "\r\n",
        "    @y_pred.deleter\r\n",
        "    def y_pred(self):\r\n",
        "      del self._y_pred\r\n",
        "\r\n",
        "    @property\r\n",
        "    def accuracy(self):\r\n",
        "      if not self._accuracy:\r\n",
        "        print('Calc')\r\n",
        "        self._accuracy = sum([i == j for i,j in zip(self.y_true,self.y_pred)])/len(self.y_true)\r\n",
        "      print(f'Model accuracy:{self._accuracy:.4f}')"
      ],
      "execution_count": 28,
      "outputs": []
    },
    {
      "cell_type": "code",
      "metadata": {
        "id": "zSj7JzY7QTtU"
      },
      "source": [
        "class Model:\r\n",
        "    def __init__(self,y_true,y_pred):\r\n",
        "\r\n",
        "      Model._validate_input(y_true,'y_true')\r\n",
        "      Model._validate_input(y_pred,'y_pred')\r\n",
        "      \r\n",
        "      if not len(y_true) == len(y_pred):\r\n",
        "        raise ValueError('y_pred and y_true has to be same lenght')\r\n",
        "\r\n",
        "      self._y_true = y_true\r\n",
        "      self._y_pred = y_pred\r\n",
        "      self._accuracy = None\r\n",
        "\r\n",
        "    def _validate_input(iters, var_name):\r\n",
        "      if not isinstance(iters,(list,tuple)):\r\n",
        "        raise TypeError(f'{var_name} has to be list or tuple')\r\n",
        "\r\n",
        "\r\n",
        "    def _validate_value(self,value,var_name):\r\n",
        "      if not isinstance(value,(list,tuple)):\r\n",
        "        raise TypeError('The value has to be list or tuple')\r\n",
        "\r\n",
        "      mapping = {'y_true':'_y_pred','y_pred':'_y_true'}\r\n",
        "      if not len(value) == len(getattr(self,mapping[var_name])):\r\n",
        "          raise ValueError(f'{var_name} has to be same lenght')\r\n",
        "\r\n",
        "    @property\r\n",
        "    def y_true(self):\r\n",
        "      return self._y_true\r\n",
        "\r\n",
        "    @y_true.setter\r\n",
        "    def y_true(self,value):\r\n",
        "      Model._validate_value(self,value,'y_true')\r\n",
        "      self._y_true = value\r\n",
        "      self._accuracy = None\r\n",
        "  \r\n",
        "    @y_true.deleter\r\n",
        "    def y_true(self):\r\n",
        "      del self._y_true\r\n",
        "\r\n",
        "    @property\r\n",
        "    def y_pred(self):\r\n",
        "      return self._y_pred\r\n",
        "\r\n",
        "    @y_pred.setter\r\n",
        "    def y_pred(self,value):\r\n",
        "      Model._validate_value(self,value,'y_pred')\r\n",
        "      self._y_pred = value\r\n",
        "      self._accuracy = None\r\n",
        "\r\n",
        "    @y_pred.deleter\r\n",
        "    def y_pred(self):\r\n",
        "      del self._y_pred\r\n",
        "\r\n",
        "    @property\r\n",
        "    def accuracy(self):\r\n",
        "      if not self._accuracy:\r\n",
        "        print('Calc')\r\n",
        "        self._accuracy = sum([i == j for i,j in zip(self.y_true,self.y_pred)])/len(self.y_true)\r\n",
        "      print(f'Model accuracy:{self._accuracy:.4f}')"
      ],
      "execution_count": 32,
      "outputs": []
    },
    {
      "cell_type": "code",
      "metadata": {
        "id": "BnYLOltkT8SU"
      },
      "source": [
        "model = Model([0,0,1,0,0,1,0],[0,0,1,0,0,0,0])"
      ],
      "execution_count": 33,
      "outputs": []
    },
    {
      "cell_type": "code",
      "metadata": {
        "colab": {
          "base_uri": "https://localhost:8080/"
        },
        "id": "ym7vm9DQUIFT",
        "outputId": "0cf92863-1970-42c7-b5c3-7fe3a706913b"
      },
      "source": [
        "model.accuracy"
      ],
      "execution_count": 34,
      "outputs": [
        {
          "output_type": "stream",
          "text": [
            "Calc\n",
            "Model accuracy:0.8571\n"
          ],
          "name": "stdout"
        }
      ]
    },
    {
      "cell_type": "code",
      "metadata": {
        "colab": {
          "base_uri": "https://localhost:8080/",
          "height": 327
        },
        "id": "GzJSJOkYUJ_6",
        "outputId": "164930c9-32a9-4b9d-f8d7-e52396ec4b80"
      },
      "source": [
        "model = Model('var1',[0,0,1,0,0,0,0])"
      ],
      "execution_count": 35,
      "outputs": [
        {
          "output_type": "error",
          "ename": "TypeError",
          "evalue": "ignored",
          "traceback": [
            "\u001b[0;31m---------------------------------------------------------------------------\u001b[0m",
            "\u001b[0;31mTypeError\u001b[0m                                 Traceback (most recent call last)",
            "\u001b[0;32m<ipython-input-35-3654a366fdf3>\u001b[0m in \u001b[0;36m<module>\u001b[0;34m()\u001b[0m\n\u001b[0;32m----> 1\u001b[0;31m \u001b[0mmodel\u001b[0m \u001b[0;34m=\u001b[0m \u001b[0mModel\u001b[0m\u001b[0;34m(\u001b[0m\u001b[0;34m'var1'\u001b[0m\u001b[0;34m,\u001b[0m\u001b[0;34m[\u001b[0m\u001b[0;36m0\u001b[0m\u001b[0;34m,\u001b[0m\u001b[0;36m0\u001b[0m\u001b[0;34m,\u001b[0m\u001b[0;36m1\u001b[0m\u001b[0;34m,\u001b[0m\u001b[0;36m0\u001b[0m\u001b[0;34m,\u001b[0m\u001b[0;36m0\u001b[0m\u001b[0;34m,\u001b[0m\u001b[0;36m0\u001b[0m\u001b[0;34m,\u001b[0m\u001b[0;36m0\u001b[0m\u001b[0;34m]\u001b[0m\u001b[0;34m)\u001b[0m\u001b[0;34m\u001b[0m\u001b[0;34m\u001b[0m\u001b[0m\n\u001b[0m",
            "\u001b[0;32m<ipython-input-32-b88037fa415b>\u001b[0m in \u001b[0;36m__init__\u001b[0;34m(self, y_true, y_pred)\u001b[0m\n\u001b[1;32m      2\u001b[0m     \u001b[0;32mdef\u001b[0m \u001b[0m__init__\u001b[0m\u001b[0;34m(\u001b[0m\u001b[0mself\u001b[0m\u001b[0;34m,\u001b[0m\u001b[0my_true\u001b[0m\u001b[0;34m,\u001b[0m\u001b[0my_pred\u001b[0m\u001b[0;34m)\u001b[0m\u001b[0;34m:\u001b[0m\u001b[0;34m\u001b[0m\u001b[0;34m\u001b[0m\u001b[0m\n\u001b[1;32m      3\u001b[0m \u001b[0;34m\u001b[0m\u001b[0m\n\u001b[0;32m----> 4\u001b[0;31m       \u001b[0mModel\u001b[0m\u001b[0;34m.\u001b[0m\u001b[0m_validate_input\u001b[0m\u001b[0;34m(\u001b[0m\u001b[0my_true\u001b[0m\u001b[0;34m,\u001b[0m\u001b[0;34m'y_true'\u001b[0m\u001b[0;34m)\u001b[0m\u001b[0;34m\u001b[0m\u001b[0;34m\u001b[0m\u001b[0m\n\u001b[0m\u001b[1;32m      5\u001b[0m       \u001b[0mModel\u001b[0m\u001b[0;34m.\u001b[0m\u001b[0m_validate_input\u001b[0m\u001b[0;34m(\u001b[0m\u001b[0my_pred\u001b[0m\u001b[0;34m,\u001b[0m\u001b[0;34m'y_pred'\u001b[0m\u001b[0;34m)\u001b[0m\u001b[0;34m\u001b[0m\u001b[0;34m\u001b[0m\u001b[0m\n\u001b[1;32m      6\u001b[0m \u001b[0;34m\u001b[0m\u001b[0m\n",
            "\u001b[0;32m<ipython-input-32-b88037fa415b>\u001b[0m in \u001b[0;36m_validate_input\u001b[0;34m(iters, var_name)\u001b[0m\n\u001b[1;32m     14\u001b[0m     \u001b[0;32mdef\u001b[0m \u001b[0m_validate_input\u001b[0m\u001b[0;34m(\u001b[0m\u001b[0miters\u001b[0m\u001b[0;34m,\u001b[0m \u001b[0mvar_name\u001b[0m\u001b[0;34m)\u001b[0m\u001b[0;34m:\u001b[0m\u001b[0;34m\u001b[0m\u001b[0;34m\u001b[0m\u001b[0m\n\u001b[1;32m     15\u001b[0m       \u001b[0;32mif\u001b[0m \u001b[0;32mnot\u001b[0m \u001b[0misinstance\u001b[0m\u001b[0;34m(\u001b[0m\u001b[0miters\u001b[0m\u001b[0;34m,\u001b[0m\u001b[0;34m(\u001b[0m\u001b[0mlist\u001b[0m\u001b[0;34m,\u001b[0m\u001b[0mtuple\u001b[0m\u001b[0;34m)\u001b[0m\u001b[0;34m)\u001b[0m\u001b[0;34m:\u001b[0m\u001b[0;34m\u001b[0m\u001b[0;34m\u001b[0m\u001b[0m\n\u001b[0;32m---> 16\u001b[0;31m         \u001b[0;32mraise\u001b[0m \u001b[0mTypeError\u001b[0m\u001b[0;34m(\u001b[0m\u001b[0;34mf'{var_name} has to be list or tuple'\u001b[0m\u001b[0;34m)\u001b[0m\u001b[0;34m\u001b[0m\u001b[0;34m\u001b[0m\u001b[0m\n\u001b[0m\u001b[1;32m     17\u001b[0m \u001b[0;34m\u001b[0m\u001b[0m\n\u001b[1;32m     18\u001b[0m \u001b[0;34m\u001b[0m\u001b[0m\n",
            "\u001b[0;31mTypeError\u001b[0m: y_true has to be list or tuple"
          ]
        }
      ]
    },
    {
      "cell_type": "code",
      "metadata": {
        "colab": {
          "base_uri": "https://localhost:8080/",
          "height": 327
        },
        "id": "Evy06UMbUN1y",
        "outputId": "5165384f-24fe-422f-cb3c-cdc6b164c404"
      },
      "source": [
        "model = Model([0,0,1,0,0,1,0],'var1')"
      ],
      "execution_count": 36,
      "outputs": [
        {
          "output_type": "error",
          "ename": "TypeError",
          "evalue": "ignored",
          "traceback": [
            "\u001b[0;31m---------------------------------------------------------------------------\u001b[0m",
            "\u001b[0;31mTypeError\u001b[0m                                 Traceback (most recent call last)",
            "\u001b[0;32m<ipython-input-36-db96ca8af627>\u001b[0m in \u001b[0;36m<module>\u001b[0;34m()\u001b[0m\n\u001b[0;32m----> 1\u001b[0;31m \u001b[0mmodel\u001b[0m \u001b[0;34m=\u001b[0m \u001b[0mModel\u001b[0m\u001b[0;34m(\u001b[0m\u001b[0;34m[\u001b[0m\u001b[0;36m0\u001b[0m\u001b[0;34m,\u001b[0m\u001b[0;36m0\u001b[0m\u001b[0;34m,\u001b[0m\u001b[0;36m1\u001b[0m\u001b[0;34m,\u001b[0m\u001b[0;36m0\u001b[0m\u001b[0;34m,\u001b[0m\u001b[0;36m0\u001b[0m\u001b[0;34m,\u001b[0m\u001b[0;36m1\u001b[0m\u001b[0;34m,\u001b[0m\u001b[0;36m0\u001b[0m\u001b[0;34m]\u001b[0m\u001b[0;34m,\u001b[0m\u001b[0;34m'var1'\u001b[0m\u001b[0;34m)\u001b[0m\u001b[0;34m\u001b[0m\u001b[0;34m\u001b[0m\u001b[0m\n\u001b[0m",
            "\u001b[0;32m<ipython-input-32-b88037fa415b>\u001b[0m in \u001b[0;36m__init__\u001b[0;34m(self, y_true, y_pred)\u001b[0m\n\u001b[1;32m      3\u001b[0m \u001b[0;34m\u001b[0m\u001b[0m\n\u001b[1;32m      4\u001b[0m       \u001b[0mModel\u001b[0m\u001b[0;34m.\u001b[0m\u001b[0m_validate_input\u001b[0m\u001b[0;34m(\u001b[0m\u001b[0my_true\u001b[0m\u001b[0;34m,\u001b[0m\u001b[0;34m'y_true'\u001b[0m\u001b[0;34m)\u001b[0m\u001b[0;34m\u001b[0m\u001b[0;34m\u001b[0m\u001b[0m\n\u001b[0;32m----> 5\u001b[0;31m       \u001b[0mModel\u001b[0m\u001b[0;34m.\u001b[0m\u001b[0m_validate_input\u001b[0m\u001b[0;34m(\u001b[0m\u001b[0my_pred\u001b[0m\u001b[0;34m,\u001b[0m\u001b[0;34m'y_pred'\u001b[0m\u001b[0;34m)\u001b[0m\u001b[0;34m\u001b[0m\u001b[0;34m\u001b[0m\u001b[0m\n\u001b[0m\u001b[1;32m      6\u001b[0m \u001b[0;34m\u001b[0m\u001b[0m\n\u001b[1;32m      7\u001b[0m       \u001b[0;32mif\u001b[0m \u001b[0;32mnot\u001b[0m \u001b[0mlen\u001b[0m\u001b[0;34m(\u001b[0m\u001b[0my_true\u001b[0m\u001b[0;34m)\u001b[0m \u001b[0;34m==\u001b[0m \u001b[0mlen\u001b[0m\u001b[0;34m(\u001b[0m\u001b[0my_pred\u001b[0m\u001b[0;34m)\u001b[0m\u001b[0;34m:\u001b[0m\u001b[0;34m\u001b[0m\u001b[0;34m\u001b[0m\u001b[0m\n",
            "\u001b[0;32m<ipython-input-32-b88037fa415b>\u001b[0m in \u001b[0;36m_validate_input\u001b[0;34m(iters, var_name)\u001b[0m\n\u001b[1;32m     14\u001b[0m     \u001b[0;32mdef\u001b[0m \u001b[0m_validate_input\u001b[0m\u001b[0;34m(\u001b[0m\u001b[0miters\u001b[0m\u001b[0;34m,\u001b[0m \u001b[0mvar_name\u001b[0m\u001b[0;34m)\u001b[0m\u001b[0;34m:\u001b[0m\u001b[0;34m\u001b[0m\u001b[0;34m\u001b[0m\u001b[0m\n\u001b[1;32m     15\u001b[0m       \u001b[0;32mif\u001b[0m \u001b[0;32mnot\u001b[0m \u001b[0misinstance\u001b[0m\u001b[0;34m(\u001b[0m\u001b[0miters\u001b[0m\u001b[0;34m,\u001b[0m\u001b[0;34m(\u001b[0m\u001b[0mlist\u001b[0m\u001b[0;34m,\u001b[0m\u001b[0mtuple\u001b[0m\u001b[0;34m)\u001b[0m\u001b[0;34m)\u001b[0m\u001b[0;34m:\u001b[0m\u001b[0;34m\u001b[0m\u001b[0;34m\u001b[0m\u001b[0m\n\u001b[0;32m---> 16\u001b[0;31m         \u001b[0;32mraise\u001b[0m \u001b[0mTypeError\u001b[0m\u001b[0;34m(\u001b[0m\u001b[0;34mf'{var_name} has to be list or tuple'\u001b[0m\u001b[0;34m)\u001b[0m\u001b[0;34m\u001b[0m\u001b[0;34m\u001b[0m\u001b[0m\n\u001b[0m\u001b[1;32m     17\u001b[0m \u001b[0;34m\u001b[0m\u001b[0m\n\u001b[1;32m     18\u001b[0m \u001b[0;34m\u001b[0m\u001b[0m\n",
            "\u001b[0;31mTypeError\u001b[0m: y_pred has to be list or tuple"
          ]
        }
      ]
    },
    {
      "cell_type": "code",
      "metadata": {
        "colab": {
          "base_uri": "https://localhost:8080/",
          "height": 303
        },
        "id": "V0VuLwT1UQ1S",
        "outputId": "111c6370-9f9a-4ea4-99b4-3ac6d2bf5631"
      },
      "source": [
        "model = Model([0,0,0,0,1,0],[0,0,1,0,0,0,0])"
      ],
      "execution_count": 37,
      "outputs": [
        {
          "output_type": "error",
          "ename": "ValueError",
          "evalue": "ignored",
          "traceback": [
            "\u001b[0;31m---------------------------------------------------------------------------\u001b[0m",
            "\u001b[0;31mValueError\u001b[0m                                Traceback (most recent call last)",
            "\u001b[0;32m<ipython-input-37-aa018e5108da>\u001b[0m in \u001b[0;36m<module>\u001b[0;34m()\u001b[0m\n\u001b[0;32m----> 1\u001b[0;31m \u001b[0mmodel\u001b[0m \u001b[0;34m=\u001b[0m \u001b[0mModel\u001b[0m\u001b[0;34m(\u001b[0m\u001b[0;34m[\u001b[0m\u001b[0;36m0\u001b[0m\u001b[0;34m,\u001b[0m\u001b[0;36m0\u001b[0m\u001b[0;34m,\u001b[0m\u001b[0;36m0\u001b[0m\u001b[0;34m,\u001b[0m\u001b[0;36m0\u001b[0m\u001b[0;34m,\u001b[0m\u001b[0;36m1\u001b[0m\u001b[0;34m,\u001b[0m\u001b[0;36m0\u001b[0m\u001b[0;34m]\u001b[0m\u001b[0;34m,\u001b[0m\u001b[0;34m[\u001b[0m\u001b[0;36m0\u001b[0m\u001b[0;34m,\u001b[0m\u001b[0;36m0\u001b[0m\u001b[0;34m,\u001b[0m\u001b[0;36m1\u001b[0m\u001b[0;34m,\u001b[0m\u001b[0;36m0\u001b[0m\u001b[0;34m,\u001b[0m\u001b[0;36m0\u001b[0m\u001b[0;34m,\u001b[0m\u001b[0;36m0\u001b[0m\u001b[0;34m,\u001b[0m\u001b[0;36m0\u001b[0m\u001b[0;34m]\u001b[0m\u001b[0;34m)\u001b[0m\u001b[0;34m\u001b[0m\u001b[0;34m\u001b[0m\u001b[0m\n\u001b[0m",
            "\u001b[0;32m<ipython-input-32-b88037fa415b>\u001b[0m in \u001b[0;36m__init__\u001b[0;34m(self, y_true, y_pred)\u001b[0m\n\u001b[1;32m      6\u001b[0m \u001b[0;34m\u001b[0m\u001b[0m\n\u001b[1;32m      7\u001b[0m       \u001b[0;32mif\u001b[0m \u001b[0;32mnot\u001b[0m \u001b[0mlen\u001b[0m\u001b[0;34m(\u001b[0m\u001b[0my_true\u001b[0m\u001b[0;34m)\u001b[0m \u001b[0;34m==\u001b[0m \u001b[0mlen\u001b[0m\u001b[0;34m(\u001b[0m\u001b[0my_pred\u001b[0m\u001b[0;34m)\u001b[0m\u001b[0;34m:\u001b[0m\u001b[0;34m\u001b[0m\u001b[0;34m\u001b[0m\u001b[0m\n\u001b[0;32m----> 8\u001b[0;31m         \u001b[0;32mraise\u001b[0m \u001b[0mValueError\u001b[0m\u001b[0;34m(\u001b[0m\u001b[0;34m'y_pred and y_true has to be same lenght'\u001b[0m\u001b[0;34m)\u001b[0m\u001b[0;34m\u001b[0m\u001b[0;34m\u001b[0m\u001b[0m\n\u001b[0m\u001b[1;32m      9\u001b[0m \u001b[0;34m\u001b[0m\u001b[0m\n\u001b[1;32m     10\u001b[0m       \u001b[0mself\u001b[0m\u001b[0;34m.\u001b[0m\u001b[0m_y_true\u001b[0m \u001b[0;34m=\u001b[0m \u001b[0my_true\u001b[0m\u001b[0;34m\u001b[0m\u001b[0;34m\u001b[0m\u001b[0m\n",
            "\u001b[0;31mValueError\u001b[0m: y_pred and y_true has to be same lenght"
          ]
        }
      ]
    },
    {
      "cell_type": "code",
      "metadata": {
        "colab": {
          "base_uri": "https://localhost:8080/"
        },
        "id": "5ZiohWgIUTcc",
        "outputId": "7982572b-4f90-41bd-a9d1-4a3ae0b6e534"
      },
      "source": [
        "model.y_true"
      ],
      "execution_count": 38,
      "outputs": [
        {
          "output_type": "execute_result",
          "data": {
            "text/plain": [
              "[0, 0, 1, 0, 0, 1, 0]"
            ]
          },
          "metadata": {
            "tags": []
          },
          "execution_count": 38
        }
      ]
    },
    {
      "cell_type": "code",
      "metadata": {
        "id": "WDa3CfCAUWf7"
      },
      "source": [
        "model.y_true = [0, 0, 1, 0, 0, 1, 1]"
      ],
      "execution_count": 39,
      "outputs": []
    },
    {
      "cell_type": "code",
      "metadata": {
        "colab": {
          "base_uri": "https://localhost:8080/"
        },
        "id": "HqW24fHrUaaZ",
        "outputId": "0c13939a-b86a-4e78-ce67-9b2fd897c9ac"
      },
      "source": [
        "model.accuracy"
      ],
      "execution_count": 40,
      "outputs": [
        {
          "output_type": "stream",
          "text": [
            "Calc\n",
            "Model accuracy:0.7143\n"
          ],
          "name": "stdout"
        }
      ]
    },
    {
      "cell_type": "code",
      "metadata": {
        "colab": {
          "base_uri": "https://localhost:8080/",
          "height": 327
        },
        "id": "uVYgVxJGUcc5",
        "outputId": "47cfdbae-70c0-4b7b-ce6f-a6498207b0be"
      },
      "source": [
        "model.y_pred =False"
      ],
      "execution_count": 41,
      "outputs": [
        {
          "output_type": "error",
          "ename": "TypeError",
          "evalue": "ignored",
          "traceback": [
            "\u001b[0;31m---------------------------------------------------------------------------\u001b[0m",
            "\u001b[0;31mTypeError\u001b[0m                                 Traceback (most recent call last)",
            "\u001b[0;32m<ipython-input-41-c147d560c982>\u001b[0m in \u001b[0;36m<module>\u001b[0;34m()\u001b[0m\n\u001b[0;32m----> 1\u001b[0;31m \u001b[0mmodel\u001b[0m\u001b[0;34m.\u001b[0m\u001b[0my_pred\u001b[0m \u001b[0;34m=\u001b[0m\u001b[0;32mFalse\u001b[0m\u001b[0;34m\u001b[0m\u001b[0;34m\u001b[0m\u001b[0m\n\u001b[0m",
            "\u001b[0;32m<ipython-input-32-b88037fa415b>\u001b[0m in \u001b[0;36my_pred\u001b[0;34m(self, value)\u001b[0m\n\u001b[1;32m     45\u001b[0m     \u001b[0;34m@\u001b[0m\u001b[0my_pred\u001b[0m\u001b[0;34m.\u001b[0m\u001b[0msetter\u001b[0m\u001b[0;34m\u001b[0m\u001b[0;34m\u001b[0m\u001b[0m\n\u001b[1;32m     46\u001b[0m     \u001b[0;32mdef\u001b[0m \u001b[0my_pred\u001b[0m\u001b[0;34m(\u001b[0m\u001b[0mself\u001b[0m\u001b[0;34m,\u001b[0m\u001b[0mvalue\u001b[0m\u001b[0;34m)\u001b[0m\u001b[0;34m:\u001b[0m\u001b[0;34m\u001b[0m\u001b[0;34m\u001b[0m\u001b[0m\n\u001b[0;32m---> 47\u001b[0;31m       \u001b[0mModel\u001b[0m\u001b[0;34m.\u001b[0m\u001b[0m_validate_value\u001b[0m\u001b[0;34m(\u001b[0m\u001b[0mself\u001b[0m\u001b[0;34m,\u001b[0m\u001b[0mvalue\u001b[0m\u001b[0;34m,\u001b[0m\u001b[0;34m'y_pred'\u001b[0m\u001b[0;34m)\u001b[0m\u001b[0;34m\u001b[0m\u001b[0;34m\u001b[0m\u001b[0m\n\u001b[0m\u001b[1;32m     48\u001b[0m       \u001b[0mself\u001b[0m\u001b[0;34m.\u001b[0m\u001b[0m_y_pred\u001b[0m \u001b[0;34m=\u001b[0m \u001b[0mvalue\u001b[0m\u001b[0;34m\u001b[0m\u001b[0;34m\u001b[0m\u001b[0m\n\u001b[1;32m     49\u001b[0m       \u001b[0mself\u001b[0m\u001b[0;34m.\u001b[0m\u001b[0m_accuracy\u001b[0m \u001b[0;34m=\u001b[0m \u001b[0;32mNone\u001b[0m\u001b[0;34m\u001b[0m\u001b[0;34m\u001b[0m\u001b[0m\n",
            "\u001b[0;32m<ipython-input-32-b88037fa415b>\u001b[0m in \u001b[0;36m_validate_value\u001b[0;34m(self, value, var_name)\u001b[0m\n\u001b[1;32m     19\u001b[0m     \u001b[0;32mdef\u001b[0m \u001b[0m_validate_value\u001b[0m\u001b[0;34m(\u001b[0m\u001b[0mself\u001b[0m\u001b[0;34m,\u001b[0m\u001b[0mvalue\u001b[0m\u001b[0;34m,\u001b[0m\u001b[0mvar_name\u001b[0m\u001b[0;34m)\u001b[0m\u001b[0;34m:\u001b[0m\u001b[0;34m\u001b[0m\u001b[0;34m\u001b[0m\u001b[0m\n\u001b[1;32m     20\u001b[0m       \u001b[0;32mif\u001b[0m \u001b[0;32mnot\u001b[0m \u001b[0misinstance\u001b[0m\u001b[0;34m(\u001b[0m\u001b[0mvalue\u001b[0m\u001b[0;34m,\u001b[0m\u001b[0;34m(\u001b[0m\u001b[0mlist\u001b[0m\u001b[0;34m,\u001b[0m\u001b[0mtuple\u001b[0m\u001b[0;34m)\u001b[0m\u001b[0;34m)\u001b[0m\u001b[0;34m:\u001b[0m\u001b[0;34m\u001b[0m\u001b[0;34m\u001b[0m\u001b[0m\n\u001b[0;32m---> 21\u001b[0;31m         \u001b[0;32mraise\u001b[0m \u001b[0mTypeError\u001b[0m\u001b[0;34m(\u001b[0m\u001b[0;34m'The value has to be list or tuple'\u001b[0m\u001b[0;34m)\u001b[0m\u001b[0;34m\u001b[0m\u001b[0;34m\u001b[0m\u001b[0m\n\u001b[0m\u001b[1;32m     22\u001b[0m \u001b[0;34m\u001b[0m\u001b[0m\n\u001b[1;32m     23\u001b[0m       \u001b[0mmapping\u001b[0m \u001b[0;34m=\u001b[0m \u001b[0;34m{\u001b[0m\u001b[0;34m'y_true'\u001b[0m\u001b[0;34m:\u001b[0m\u001b[0;34m'_y_pred'\u001b[0m\u001b[0;34m,\u001b[0m\u001b[0;34m'y_pred'\u001b[0m\u001b[0;34m:\u001b[0m\u001b[0;34m'_y_true'\u001b[0m\u001b[0;34m}\u001b[0m\u001b[0;34m\u001b[0m\u001b[0;34m\u001b[0m\u001b[0m\n",
            "\u001b[0;31mTypeError\u001b[0m: The value has to be list or tuple"
          ]
        }
      ]
    },
    {
      "cell_type": "code",
      "metadata": {
        "id": "UzJ64gvPUfeS"
      },
      "source": [
        ""
      ],
      "execution_count": null,
      "outputs": []
    }
  ]
}