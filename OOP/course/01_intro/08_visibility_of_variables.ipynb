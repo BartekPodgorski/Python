{
  "nbformat": 4,
  "nbformat_minor": 0,
  "metadata": {
    "colab": {
      "name": "08_visibility_of_variables.ipynb",
      "provenance": [],
      "collapsed_sections": [],
      "authorship_tag": "ABX9TyPJCr3yJ+x/WZsCWQ3m1ERX",
      "include_colab_link": true
    },
    "kernelspec": {
      "name": "python3",
      "display_name": "Python 3"
    }
  },
  "cells": [
    {
      "cell_type": "markdown",
      "metadata": {
        "id": "view-in-github",
        "colab_type": "text"
      },
      "source": [
        "<a href=\"https://colab.research.google.com/github/BartekPodgorski/Python/blob/main/OOP/course/01_intro/08_visibility_of_variables.ipynb\" target=\"_parent\"><img src=\"https://colab.research.google.com/assets/colab-badge.svg\" alt=\"Open In Colab\"/></a>"
      ]
    },
    {
      "cell_type": "code",
      "metadata": {
        "colab": {
          "base_uri": "https://localhost:8080/"
        },
        "id": "NxS6jBiXft6S",
        "outputId": "1e3f1284-e5fb-4d79-feda-36a88293b51b"
      },
      "source": [
        "class Laptop:\r\n",
        "  brand = 'Apple'\r\n",
        "\r\n",
        "Laptop.__dict__"
      ],
      "execution_count": 1,
      "outputs": [
        {
          "output_type": "execute_result",
          "data": {
            "text/plain": [
              "mappingproxy({'__module__': '__main__',\n",
              "              'brand': 'Apple',\n",
              "              '__dict__': <attribute '__dict__' of 'Laptop' objects>,\n",
              "              '__weakref__': <attribute '__weakref__' of 'Laptop' objects>,\n",
              "              '__doc__': None})"
            ]
          },
          "metadata": {
            "tags": []
          },
          "execution_count": 1
        }
      ]
    },
    {
      "cell_type": "code",
      "metadata": {
        "colab": {
          "base_uri": "https://localhost:8080/"
        },
        "id": "390sXgUkwaoX",
        "outputId": "7be6c5bc-6bb3-4cd7-e99c-0c742dbb9788"
      },
      "source": [
        "class Laptop:\r\n",
        "  brand = 'Apple'\r\n",
        "  _code = '0034'\r\n",
        "\r\n",
        "Laptop.__dict__"
      ],
      "execution_count": 2,
      "outputs": [
        {
          "output_type": "execute_result",
          "data": {
            "text/plain": [
              "mappingproxy({'__module__': '__main__',\n",
              "              'brand': 'Apple',\n",
              "              '_code': '0034',\n",
              "              '__dict__': <attribute '__dict__' of 'Laptop' objects>,\n",
              "              '__weakref__': <attribute '__weakref__' of 'Laptop' objects>,\n",
              "              '__doc__': None})"
            ]
          },
          "metadata": {
            "tags": []
          },
          "execution_count": 2
        }
      ]
    },
    {
      "cell_type": "code",
      "metadata": {
        "colab": {
          "base_uri": "https://localhost:8080/"
        },
        "id": "y2jQRKLdwfqD",
        "outputId": "7b7cdaea-4a66-457a-8248-833555dcd6ef"
      },
      "source": [
        "Laptop._code"
      ],
      "execution_count": 3,
      "outputs": [
        {
          "output_type": "execute_result",
          "data": {
            "text/plain": [
              "'0034'"
            ]
          },
          "metadata": {
            "tags": []
          },
          "execution_count": 3
        }
      ]
    },
    {
      "cell_type": "code",
      "metadata": {
        "colab": {
          "base_uri": "https://localhost:8080/"
        },
        "id": "JDcN3OZQwp87",
        "outputId": "560c9f6a-8945-4148-dd61-a775c98aca79"
      },
      "source": [
        "class Laptop:\r\n",
        "  brand = 'Apple'\r\n",
        "  _code = '0034'\r\n",
        "  __wholesale__price = 2490\r\n",
        "\r\n",
        "Laptop.__dict__"
      ],
      "execution_count": 4,
      "outputs": [
        {
          "output_type": "execute_result",
          "data": {
            "text/plain": [
              "mappingproxy({'__module__': '__main__',\n",
              "              'brand': 'Apple',\n",
              "              '_code': '0034',\n",
              "              '_Laptop__wholesale__price': 2490,\n",
              "              '__dict__': <attribute '__dict__' of 'Laptop' objects>,\n",
              "              '__weakref__': <attribute '__weakref__' of 'Laptop' objects>,\n",
              "              '__doc__': None})"
            ]
          },
          "metadata": {
            "tags": []
          },
          "execution_count": 4
        }
      ]
    },
    {
      "cell_type": "code",
      "metadata": {
        "colab": {
          "base_uri": "https://localhost:8080/"
        },
        "id": "bd-2uQ7Sw2Z6",
        "outputId": "a679957b-41e0-4756-af89-01b97a21e391"
      },
      "source": [
        "Laptop._Laptop__wholesale__price"
      ],
      "execution_count": 5,
      "outputs": [
        {
          "output_type": "execute_result",
          "data": {
            "text/plain": [
              "2490"
            ]
          },
          "metadata": {
            "tags": []
          },
          "execution_count": 5
        }
      ]
    },
    {
      "cell_type": "code",
      "metadata": {
        "colab": {
          "base_uri": "https://localhost:8080/"
        },
        "id": "H2K-nzj0xALL",
        "outputId": "d54cadc8-6b35-4dbe-91c5-58a169f74a4a"
      },
      "source": [
        "class Laptop:\r\n",
        "\r\n",
        "  brand = 'Apple'\r\n",
        "  _usdpln = 4.0\r\n",
        "  __trade_margin = 0.3\r\n",
        "\r\n",
        "  def __init__(self,net_price):\r\n",
        "    self.net_price = net_price\r\n",
        "\r\n",
        "  def __convert_price(price):\r\n",
        "    return price * Laptop._usdpln * (1+Laptop.__trade_margin)\r\n",
        "\r\n",
        "  def display_price_pln(self):\r\n",
        "    print(Laptop.__convert_price(self.net_price))\r\n",
        "\r\n",
        "Laptop.__dict__\r\n"
      ],
      "execution_count": 12,
      "outputs": [
        {
          "output_type": "execute_result",
          "data": {
            "text/plain": [
              "mappingproxy({'__module__': '__main__',\n",
              "              'brand': 'Apple',\n",
              "              '_usdpln': 4.0,\n",
              "              '_Laptop__trade_margin': 0.3,\n",
              "              '__init__': <function __main__.Laptop.__init__(self, net_price)>,\n",
              "              '_Laptop__convert_price': <function __main__.Laptop.__convert_price(price)>,\n",
              "              'display_price_pln': <function __main__.Laptop.display_price_pln(self)>,\n",
              "              '__dict__': <attribute '__dict__' of 'Laptop' objects>,\n",
              "              '__weakref__': <attribute '__weakref__' of 'Laptop' objects>,\n",
              "              '__doc__': None})"
            ]
          },
          "metadata": {
            "tags": []
          },
          "execution_count": 12
        }
      ]
    },
    {
      "cell_type": "code",
      "metadata": {
        "id": "YLJRkP5izzYe"
      },
      "source": [
        "laptop = Laptop(3000)"
      ],
      "execution_count": 13,
      "outputs": []
    },
    {
      "cell_type": "code",
      "metadata": {
        "colab": {
          "base_uri": "https://localhost:8080/"
        },
        "id": "3Sme6VWLz6cE",
        "outputId": "b267193d-1208-441e-c7ce-19784cdf1b8f"
      },
      "source": [
        "laptop.display_price_pln()"
      ],
      "execution_count": 14,
      "outputs": [
        {
          "output_type": "stream",
          "text": [
            "15600.0\n"
          ],
          "name": "stdout"
        }
      ]
    },
    {
      "cell_type": "code",
      "metadata": {
        "colab": {
          "base_uri": "https://localhost:8080/"
        },
        "id": "RqMJXWRwz9Px",
        "outputId": "bf576426-6f53-42b6-87df-6d90d92c295a"
      },
      "source": [
        "class Laptop:\r\n",
        "\r\n",
        "  def __init__(self,brand):\r\n",
        "    self.brand = brand\r\n",
        "\r\n",
        "laptop = Laptop('Apple')\r\n",
        "laptop.brand"
      ],
      "execution_count": 15,
      "outputs": [
        {
          "output_type": "execute_result",
          "data": {
            "text/plain": [
              "'Apple'"
            ]
          },
          "metadata": {
            "tags": []
          },
          "execution_count": 15
        }
      ]
    },
    {
      "cell_type": "code",
      "metadata": {
        "colab": {
          "base_uri": "https://localhost:8080/"
        },
        "id": "ZSsIHcM205iS",
        "outputId": "29269f61-4c7b-4d49-bfff-e9a7c95a50f7"
      },
      "source": [
        "class Laptop:\r\n",
        "\r\n",
        "  def __init__(self,brand,code):\r\n",
        "    self.brand = brand\r\n",
        "    self._code = code\r\n",
        "\r\n",
        "\r\n",
        "laptop = Laptop('Apple','0023')\r\n",
        "laptop.brand"
      ],
      "execution_count": 16,
      "outputs": [
        {
          "output_type": "execute_result",
          "data": {
            "text/plain": [
              "'Apple'"
            ]
          },
          "metadata": {
            "tags": []
          },
          "execution_count": 16
        }
      ]
    },
    {
      "cell_type": "code",
      "metadata": {
        "colab": {
          "base_uri": "https://localhost:8080/"
        },
        "id": "3mk7P-aI1C86",
        "outputId": "15d9aed9-f700-43bf-a1cb-0e55b54feabe"
      },
      "source": [
        "laptop._code"
      ],
      "execution_count": 17,
      "outputs": [
        {
          "output_type": "execute_result",
          "data": {
            "text/plain": [
              "'0023'"
            ]
          },
          "metadata": {
            "tags": []
          },
          "execution_count": 17
        }
      ]
    },
    {
      "cell_type": "code",
      "metadata": {
        "colab": {
          "base_uri": "https://localhost:8080/"
        },
        "id": "l1FJHw1J1FSz",
        "outputId": "7baea350-2550-451d-f355-85bbe46ecd70"
      },
      "source": [
        "class Laptop:\r\n",
        "\r\n",
        "  def __init__(self,brand,code,wholesale_price):\r\n",
        "    self.brand = brand\r\n",
        "    self._code = code\r\n",
        "    self.__wholesale_price = wholesale_price\r\n",
        "\r\n",
        "\r\n",
        "laptop = Laptop('Apple','0023',3000)\r\n",
        "laptop.brand"
      ],
      "execution_count": 18,
      "outputs": [
        {
          "output_type": "execute_result",
          "data": {
            "text/plain": [
              "'Apple'"
            ]
          },
          "metadata": {
            "tags": []
          },
          "execution_count": 18
        }
      ]
    },
    {
      "cell_type": "code",
      "metadata": {
        "colab": {
          "base_uri": "https://localhost:8080/"
        },
        "id": "FOWAMR931Mbx",
        "outputId": "0bb97d00-63d2-4cbc-99bb-0caf58ea3d48"
      },
      "source": [
        "laptop._Laptop__wholesale_price"
      ],
      "execution_count": 19,
      "outputs": [
        {
          "output_type": "execute_result",
          "data": {
            "text/plain": [
              "3000"
            ]
          },
          "metadata": {
            "tags": []
          },
          "execution_count": 19
        }
      ]
    },
    {
      "cell_type": "code",
      "metadata": {
        "colab": {
          "base_uri": "https://localhost:8080/"
        },
        "id": "7zXWEeuT1Qqx",
        "outputId": "d68ddf07-73c8-41c9-df57-d64fe66a0df9"
      },
      "source": [
        "class Laptop:\r\n",
        "\r\n",
        "  def __init__(self,brand,code,wholesale_price):\r\n",
        "    self.brand = brand\r\n",
        "    self._code = code\r\n",
        "    self.__wholesale_price = wholesale_price\r\n",
        "\r\n",
        "  def info(self):\r\n",
        "    print(self.brand)\r\n",
        "    print(self._code)\r\n",
        "    print(self.__wholesale_price)\r\n",
        "\r\n",
        "laptop = Laptop('Apple','0023',3000)\r\n",
        "laptop.brand"
      ],
      "execution_count": 25,
      "outputs": [
        {
          "output_type": "execute_result",
          "data": {
            "text/plain": [
              "'Apple'"
            ]
          },
          "metadata": {
            "tags": []
          },
          "execution_count": 25
        }
      ]
    },
    {
      "cell_type": "code",
      "metadata": {
        "colab": {
          "base_uri": "https://localhost:8080/"
        },
        "id": "UOIhiYD_1aDB",
        "outputId": "ad4d65b0-ed71-41f2-a796-3ab324540d39"
      },
      "source": [
        "laptop.info()"
      ],
      "execution_count": 26,
      "outputs": [
        {
          "output_type": "stream",
          "text": [
            "Apple\n",
            "0023\n",
            "3000\n"
          ],
          "name": "stdout"
        }
      ]
    },
    {
      "cell_type": "code",
      "metadata": {
        "id": "1Imv5cxE1kQz"
      },
      "source": [
        ""
      ],
      "execution_count": null,
      "outputs": []
    }
  ]
}