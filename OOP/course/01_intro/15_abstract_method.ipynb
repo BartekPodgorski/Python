{
  "nbformat": 4,
  "nbformat_minor": 0,
  "metadata": {
    "colab": {
      "name": "15_abstract_method.ipynb",
      "provenance": [],
      "collapsed_sections": [],
      "authorship_tag": "ABX9TyNPeFSUxoOyu7wYr8Ua5b0o",
      "include_colab_link": true
    },
    "kernelspec": {
      "name": "python3",
      "display_name": "Python 3"
    }
  },
  "cells": [
    {
      "cell_type": "markdown",
      "metadata": {
        "id": "view-in-github",
        "colab_type": "text"
      },
      "source": [
        "<a href=\"https://colab.research.google.com/github/BartekPodgorski/Python/blob/main/OOP/course/01_intro/15_abstract_method.ipynb\" target=\"_parent\"><img src=\"https://colab.research.google.com/assets/colab-badge.svg\" alt=\"Open In Colab\"/></a>"
      ]
    },
    {
      "cell_type": "code",
      "metadata": {
        "id": "DBGB6hMDnRQb"
      },
      "source": [
        "import abc\r\n",
        "help(abc.ABC)"
      ],
      "execution_count": null,
      "outputs": []
    },
    {
      "cell_type": "code",
      "metadata": {
        "id": "DISF8TAVoqVR"
      },
      "source": [
        "from abc import ABC, abstractmethod\r\n",
        "\r\n",
        "class Figure(ABC):\r\n",
        "\r\n",
        "  @abstractmethod\r\n",
        "  def area(self):\r\n",
        "    pass\r\n",
        "\r\n",
        "class Square(Figure):\r\n",
        "\r\n",
        "  def __init__(self,a=1):\r\n",
        "    self.a = a\r\n",
        "\r\n",
        "  def area(self):\r\n",
        "    return self.a * self.a\r\n",
        "\r\n",
        "figure= [Square(),Square(5)]"
      ],
      "execution_count": 5,
      "outputs": []
    },
    {
      "cell_type": "code",
      "metadata": {
        "colab": {
          "base_uri": "https://localhost:8080/"
        },
        "id": "zrJnJWFNqPU7",
        "outputId": "4944b0d8-7994-4b3d-c47f-4bcbb6899fb5"
      },
      "source": [
        "for fig in figure:\r\n",
        "  print(fig.area())"
      ],
      "execution_count": 7,
      "outputs": [
        {
          "output_type": "stream",
          "text": [
            "1\n",
            "25\n"
          ],
          "name": "stdout"
        }
      ]
    },
    {
      "cell_type": "code",
      "metadata": {
        "id": "nLCgSK5dqUm_"
      },
      "source": [
        "from abc import ABC, abstractmethod\r\n",
        "\r\n",
        "class Figure(ABC):\r\n",
        "\r\n",
        "  @abstractmethod\r\n",
        "  def area(self):\r\n",
        "    pass\r\n",
        "\r\n",
        "  @abstractmethod\r\n",
        "  def perimeter(self):\r\n",
        "    pass\r\n",
        "\r\n",
        "\r\n",
        "class Square(Figure):\r\n",
        "\r\n",
        "  def __init__(self,a=1):\r\n",
        "    self.a = a\r\n",
        "\r\n",
        "  def area(self):\r\n",
        "    return self.a * self.a\r\n",
        "\r\n",
        "  def perimeter(self):\r\n",
        "    return self.a * 4"
      ],
      "execution_count": 12,
      "outputs": []
    },
    {
      "cell_type": "code",
      "metadata": {
        "id": "w2Lr0ejvq9Z3"
      },
      "source": [
        "figure= [Square(),Square(5)]"
      ],
      "execution_count": 13,
      "outputs": []
    },
    {
      "cell_type": "code",
      "metadata": {
        "colab": {
          "base_uri": "https://localhost:8080/"
        },
        "id": "8GoLBmW8rCxo",
        "outputId": "63e44db4-80ff-46e5-9caf-e2091f860127"
      },
      "source": [
        "for fig in figure:\r\n",
        "  print(fig.perimeter())"
      ],
      "execution_count": 14,
      "outputs": [
        {
          "output_type": "stream",
          "text": [
            "4\n",
            "20\n"
          ],
          "name": "stdout"
        }
      ]
    },
    {
      "cell_type": "code",
      "metadata": {
        "id": "Qj3vyj9irFDI"
      },
      "source": [
        "from abc import ABC, abstractmethod\r\n",
        "from math import pi, sqrt\r\n",
        "\r\n",
        "class Figure(ABC):\r\n",
        "\r\n",
        "  @abstractmethod\r\n",
        "  def area(self):\r\n",
        "    pass\r\n",
        "\r\n",
        "  @abstractmethod\r\n",
        "  def perimeter(self):\r\n",
        "    pass\r\n",
        "\r\n",
        "\r\n",
        "class Square(Figure):\r\n",
        "\r\n",
        "  def __init__(self,a=1):\r\n",
        "    self.a = a\r\n",
        "\r\n",
        "  def area(self):\r\n",
        "    return self.a * self.a\r\n",
        "\r\n",
        "  def perimeter(self):\r\n",
        "    return self.a * 4\r\n",
        "\r\n",
        "\r\n",
        "class Circle(Figure):\r\n",
        "\r\n",
        "  def __init__(self,r=1):\r\n",
        "    self.r = r\r\n",
        "\r\n",
        "  def area(self):\r\n",
        "    return pi * self.r ** 2\r\n",
        "\r\n",
        "  def perimeter(self):\r\n",
        "    return 2 * pi * self.r\r\n",
        "\r\n",
        "\r\n",
        "class Triangle(Figure):\r\n",
        "\r\n",
        "  def __init__(self,a,b,c):\r\n",
        "    self.a = a\r\n",
        "    self.b = b\r\n",
        "    self.c = c\r\n",
        "\r\n",
        "  def perimeter(self):\r\n",
        "    return self.a + self.b + self.c  \r\n",
        "\r\n",
        "  def area(self):\r\n",
        "    p = self.perimeter() / 2\r\n",
        "    return sqrt(abs(p*(self.a-p)*(self.b-p)*(self.c-p)))\r\n",
        "\r\n"
      ],
      "execution_count": 29,
      "outputs": []
    },
    {
      "cell_type": "code",
      "metadata": {
        "id": "w0fQsDzpt0Ru"
      },
      "source": [
        "triangle = Triangle(5,4,3)"
      ],
      "execution_count": 30,
      "outputs": []
    },
    {
      "cell_type": "code",
      "metadata": {
        "colab": {
          "base_uri": "https://localhost:8080/"
        },
        "id": "RTj0p7zYt7We",
        "outputId": "f2ce0fd4-566c-4ef6-dfe2-045e1938fb16"
      },
      "source": [
        "triangle.area()"
      ],
      "execution_count": 31,
      "outputs": [
        {
          "output_type": "execute_result",
          "data": {
            "text/plain": [
              "6.0"
            ]
          },
          "metadata": {
            "tags": []
          },
          "execution_count": 31
        }
      ]
    },
    {
      "cell_type": "code",
      "metadata": {
        "id": "lihk5KWNt9VX"
      },
      "source": [
        ""
      ],
      "execution_count": null,
      "outputs": []
    }
  ]
}