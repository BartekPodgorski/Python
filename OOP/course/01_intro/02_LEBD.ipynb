{
  "nbformat": 4,
  "nbformat_minor": 0,
  "metadata": {
    "colab": {
      "name": "02_LEBD.ipynb",
      "provenance": [],
      "authorship_tag": "ABX9TyPHcWxV1wfcxvHEqr6gMuXP",
      "include_colab_link": true
    },
    "kernelspec": {
      "name": "python3",
      "display_name": "Python 3"
    }
  },
  "cells": [
    {
      "cell_type": "markdown",
      "metadata": {
        "id": "view-in-github",
        "colab_type": "text"
      },
      "source": [
        "<a href=\"https://colab.research.google.com/github/BartekPodgorski/Python/blob/main/OOP/course/01_intro/02_LEBD.ipynb\" target=\"_parent\"><img src=\"https://colab.research.google.com/assets/colab-badge.svg\" alt=\"Open In Colab\"/></a>"
      ]
    },
    {
      "cell_type": "code",
      "metadata": {
        "id": "UUJ6homwVbr_"
      },
      "source": [
        "def sample_function():\n",
        "  var1='Python'\n",
        "  print(f'Variable var1: {var1}')"
      ],
      "execution_count": 1,
      "outputs": []
    },
    {
      "cell_type": "code",
      "metadata": {
        "colab": {
          "base_uri": "https://localhost:8080/"
        },
        "id": "w_DKOs4dWehS",
        "outputId": "c95bcacc-3f97-4a82-cb69-f332c33b5885"
      },
      "source": [
        "sample_function()"
      ],
      "execution_count": 2,
      "outputs": [
        {
          "output_type": "stream",
          "text": [
            "Variable var1: Python\n"
          ],
          "name": "stdout"
        }
      ]
    },
    {
      "cell_type": "code",
      "metadata": {
        "id": "_y9yP01FWhiG"
      },
      "source": [
        "var1#error"
      ],
      "execution_count": null,
      "outputs": []
    },
    {
      "cell_type": "code",
      "metadata": {
        "id": "mAHJfsafWj9G"
      },
      "source": [
        "def sample_function(var1):\n",
        "  var2= var1 + '3.8'\n",
        "  print(f'Variable var1: {var1}')\n",
        "  print(f'Variable var1: {var2}')"
      ],
      "execution_count": 4,
      "outputs": []
    },
    {
      "cell_type": "code",
      "metadata": {
        "colab": {
          "base_uri": "https://localhost:8080/"
        },
        "id": "BgIShC68W3tI",
        "outputId": "d5eee1e5-c686-4205-c921-2cdaa05e0631"
      },
      "source": [
        "sample_function('Python')"
      ],
      "execution_count": 5,
      "outputs": [
        {
          "output_type": "stream",
          "text": [
            "Variable var1: Python\n",
            "Variable var1: Python3.8\n"
          ],
          "name": "stdout"
        }
      ]
    },
    {
      "cell_type": "code",
      "metadata": {
        "colab": {
          "base_uri": "https://localhost:8080/"
        },
        "id": "IQkjMLgMW6Wm",
        "outputId": "8efca3d5-8cc8-4c94-cc9c-7297e2a17865"
      },
      "source": [
        "sample_function = lambda word: len(word.replace(' ',''))\n",
        "sample_function"
      ],
      "execution_count": 8,
      "outputs": [
        {
          "output_type": "execute_result",
          "data": {
            "text/plain": [
              "<function __main__.<lambda>(word)>"
            ]
          },
          "metadata": {
            "tags": []
          },
          "execution_count": 8
        }
      ]
    },
    {
      "cell_type": "code",
      "metadata": {
        "colab": {
          "base_uri": "https://localhost:8080/"
        },
        "id": "NPOVkqPCY9jh",
        "outputId": "f9ec06c6-500d-45f1-8f74-f1ea8513a90e"
      },
      "source": [
        "sample_function('Python 3.8')"
      ],
      "execution_count": 9,
      "outputs": [
        {
          "output_type": "execute_result",
          "data": {
            "text/plain": [
              "9"
            ]
          },
          "metadata": {
            "tags": []
          },
          "execution_count": 9
        }
      ]
    },
    {
      "cell_type": "code",
      "metadata": {
        "id": "LF2zFolnZA8k"
      },
      "source": [
        "def sample_function():\n",
        "  var1='Python'\n",
        "\n",
        "  def inner_function():\n",
        "    print(f'Variable var1: {var1}')\n",
        "\n",
        "  inner_function()"
      ],
      "execution_count": 10,
      "outputs": []
    },
    {
      "cell_type": "code",
      "metadata": {
        "colab": {
          "base_uri": "https://localhost:8080/"
        },
        "id": "cYLbZDaVpjWd",
        "outputId": "1f8d1dc2-e35d-4d34-e993-91fa1c8dd836"
      },
      "source": [
        "sample_function()"
      ],
      "execution_count": 12,
      "outputs": [
        {
          "output_type": "stream",
          "text": [
            "Variable var1: Python\n"
          ],
          "name": "stdout"
        }
      ]
    },
    {
      "cell_type": "code",
      "metadata": {
        "id": "NhUUBnUYpkQ4"
      },
      "source": [
        "def sample_function():\n",
        "  var1='Python'\n",
        "\n",
        "  def inner_function():\n",
        "    print(f'Variable var1: {var1}')\n",
        "    print(f'Variable var1: {var2}')\n",
        "\n",
        "  var2 = 'XD'\n",
        "\n",
        "  inner_function()"
      ],
      "execution_count": 13,
      "outputs": []
    },
    {
      "cell_type": "code",
      "metadata": {
        "colab": {
          "base_uri": "https://localhost:8080/"
        },
        "id": "5wQlIloUqdPB",
        "outputId": "3d0dc764-5156-48f5-e743-d9e3520fd240"
      },
      "source": [
        "sample_function()"
      ],
      "execution_count": 14,
      "outputs": [
        {
          "output_type": "stream",
          "text": [
            "Variable var1: Python\n",
            "Variable var1: XD\n"
          ],
          "name": "stdout"
        }
      ]
    },
    {
      "cell_type": "code",
      "metadata": {
        "id": "qJOgdqYJqeiZ"
      },
      "source": [
        "def sample_function():\n",
        "  var1='Python'\n",
        "\n",
        "  def inner_function():\n",
        "    print(f'Variable var1: {var1}')\n",
        "    print(f'Variable var1: {var2}')\n",
        "  inner_function()\n",
        "  var2 = 'XD'\n"
      ],
      "execution_count": 15,
      "outputs": []
    },
    {
      "cell_type": "code",
      "metadata": {
        "colab": {
          "base_uri": "https://localhost:8080/",
          "height": 341
        },
        "id": "NpT1HHGPqjex",
        "outputId": "f412ad5b-6c96-4006-e0e0-b797a523af11"
      },
      "source": [
        "sample_function() #error"
      ],
      "execution_count": 16,
      "outputs": [
        {
          "output_type": "stream",
          "text": [
            "Variable var1: Python\n"
          ],
          "name": "stdout"
        },
        {
          "output_type": "error",
          "ename": "NameError",
          "evalue": "ignored",
          "traceback": [
            "\u001b[1;31m---------------------------------------------------------------------------\u001b[0m",
            "\u001b[1;31mNameError\u001b[0m                                 Traceback (most recent call last)",
            "\u001b[1;32m<ipython-input-16-1977a3c3895a>\u001b[0m in \u001b[0;36m<module>\u001b[1;34m\u001b[0m\n\u001b[1;32m----> 1\u001b[1;33m \u001b[0msample_function\u001b[0m\u001b[1;33m(\u001b[0m\u001b[1;33m)\u001b[0m\u001b[1;33m\u001b[0m\u001b[1;33m\u001b[0m\u001b[0m\n\u001b[0m",
            "\u001b[1;32m<ipython-input-15-a9039193c81a>\u001b[0m in \u001b[0;36msample_function\u001b[1;34m()\u001b[0m\n\u001b[0;32m      5\u001b[0m     \u001b[0mprint\u001b[0m\u001b[1;33m(\u001b[0m\u001b[1;34mf'Variable var1: {var1}'\u001b[0m\u001b[1;33m)\u001b[0m\u001b[1;33m\u001b[0m\u001b[1;33m\u001b[0m\u001b[0m\n\u001b[0;32m      6\u001b[0m     \u001b[0mprint\u001b[0m\u001b[1;33m(\u001b[0m\u001b[1;34mf'Variable var1: {var2}'\u001b[0m\u001b[1;33m)\u001b[0m\u001b[1;33m\u001b[0m\u001b[1;33m\u001b[0m\u001b[0m\n\u001b[1;32m----> 7\u001b[1;33m   \u001b[0minner_function\u001b[0m\u001b[1;33m(\u001b[0m\u001b[1;33m)\u001b[0m\u001b[1;33m\u001b[0m\u001b[1;33m\u001b[0m\u001b[0m\n\u001b[0m\u001b[0;32m      8\u001b[0m   \u001b[0mvar2\u001b[0m \u001b[1;33m=\u001b[0m \u001b[1;34m'XD'\u001b[0m\u001b[1;33m\u001b[0m\u001b[1;33m\u001b[0m\u001b[0m\n",
            "\u001b[1;32m<ipython-input-15-a9039193c81a>\u001b[0m in \u001b[0;36minner_function\u001b[1;34m()\u001b[0m\n\u001b[0;32m      4\u001b[0m   \u001b[1;32mdef\u001b[0m \u001b[0minner_function\u001b[0m\u001b[1;33m(\u001b[0m\u001b[1;33m)\u001b[0m\u001b[1;33m:\u001b[0m\u001b[1;33m\u001b[0m\u001b[1;33m\u001b[0m\u001b[0m\n\u001b[0;32m      5\u001b[0m     \u001b[0mprint\u001b[0m\u001b[1;33m(\u001b[0m\u001b[1;34mf'Variable var1: {var1}'\u001b[0m\u001b[1;33m)\u001b[0m\u001b[1;33m\u001b[0m\u001b[1;33m\u001b[0m\u001b[0m\n\u001b[1;32m----> 6\u001b[1;33m     \u001b[0mprint\u001b[0m\u001b[1;33m(\u001b[0m\u001b[1;34mf'Variable var1: {var2}'\u001b[0m\u001b[1;33m)\u001b[0m\u001b[1;33m\u001b[0m\u001b[1;33m\u001b[0m\u001b[0m\n\u001b[0m\u001b[0;32m      7\u001b[0m   \u001b[0minner_function\u001b[0m\u001b[1;33m(\u001b[0m\u001b[1;33m)\u001b[0m\u001b[1;33m\u001b[0m\u001b[1;33m\u001b[0m\u001b[0m\n\u001b[0;32m      8\u001b[0m   \u001b[0mvar2\u001b[0m \u001b[1;33m=\u001b[0m \u001b[1;34m'XD'\u001b[0m\u001b[1;33m\u001b[0m\u001b[1;33m\u001b[0m\u001b[0m\n",
            "\u001b[1;31mNameError\u001b[0m: free variable 'var2' referenced before assignment in enclosing scope"
          ]
        }
      ]
    },
    {
      "cell_type": "code",
      "metadata": {
        "id": "1VmeAdUDqkTB"
      },
      "source": [
        "def sample_function():\n",
        "  var1='Python'\n",
        "\n",
        "  def inner_function():\n",
        "    var1 = 'Java'\n",
        "    print(f'Variable var1: {var1}')\n",
        "\n",
        "  print(f'Variable var1: {var1}')\n",
        "\n",
        "  inner_function()\n",
        "\n",
        "  print(f'Variable var1: {var1}')"
      ],
      "execution_count": 17,
      "outputs": []
    },
    {
      "cell_type": "code",
      "metadata": {
        "colab": {
          "base_uri": "https://localhost:8080/"
        },
        "id": "A2-orsJqtjjQ",
        "outputId": "d53754ae-790e-43fa-b5cf-c41e91501955"
      },
      "source": [
        "sample_function()"
      ],
      "execution_count": 18,
      "outputs": [
        {
          "output_type": "stream",
          "text": [
            "Variable var1: Python\n",
            "Variable var1: Java\n",
            "Variable var1: Python\n"
          ],
          "name": "stdout"
        }
      ]
    },
    {
      "cell_type": "code",
      "metadata": {
        "id": "2wSv18HctkuP"
      },
      "source": [
        "def sample_function():\n",
        "  var1='Python'\n",
        "\n",
        "  def inner_function():\n",
        "    var2= var1 + 'Java'\n",
        "    print(f'Variable var1: {var2}')\n",
        "\n",
        "  print(f'Variable var1: {var1}')\n",
        "\n",
        "  inner_function()\n",
        "\n",
        "  print(f'Variable var1: {var1}')"
      ],
      "execution_count": 23,
      "outputs": []
    },
    {
      "cell_type": "code",
      "metadata": {
        "colab": {
          "base_uri": "https://localhost:8080/"
        },
        "id": "_be1R4h_t564",
        "outputId": "4d51a256-a148-4468-d73c-33fecce95ad2"
      },
      "source": [
        "sample_function()"
      ],
      "execution_count": 24,
      "outputs": [
        {
          "output_type": "stream",
          "text": [
            "Variable var1: Python\n",
            "Variable var1: PythonJava\n",
            "Variable var1: Python\n"
          ],
          "name": "stdout"
        }
      ]
    },
    {
      "cell_type": "code",
      "metadata": {
        "colab": {
          "base_uri": "https://localhost:8080/"
        },
        "id": "oZX4K0Yct7io",
        "outputId": "a188db98-5589-4ae3-9e80-04278aa9f5b0"
      },
      "source": [
        "__name__"
      ],
      "execution_count": 26,
      "outputs": [
        {
          "output_type": "execute_result",
          "data": {
            "text/plain": [
              "'__main__'"
            ]
          },
          "metadata": {
            "tags": []
          },
          "execution_count": 26
        }
      ]
    },
    {
      "cell_type": "code",
      "metadata": {
        "colab": {
          "base_uri": "https://localhost:8080/"
        },
        "id": "zjXEeI6duOcR",
        "outputId": "3f1f3de8-04de-4a4f-a2ca-209d7c6c25a5"
      },
      "source": [
        "if __name__ == '__main__':\n",
        "  print('direct')"
      ],
      "execution_count": 27,
      "outputs": [
        {
          "output_type": "stream",
          "text": [
            "direct\n"
          ],
          "name": "stdout"
        }
      ]
    },
    {
      "cell_type": "code",
      "metadata": {
        "colab": {
          "base_uri": "https://localhost:8080/"
        },
        "id": "oXF-zxa_ucWp",
        "outputId": "168071a9-34b3-41b5-901b-c080b947e302"
      },
      "source": [
        "help(globals)"
      ],
      "execution_count": 1,
      "outputs": [
        {
          "output_type": "stream",
          "text": [
            "Help on built-in function globals in module builtins:\n",
            "\n",
            "globals()\n",
            "    Return the dictionary containing the current scope's global variables.\n",
            "    \n",
            "    NOTE: Updates to this dictionary *will* affect name lookups in the current\n",
            "    global scope and vice-versa.\n",
            "\n"
          ],
          "name": "stdout"
        }
      ]
    },
    {
      "cell_type": "code",
      "metadata": {
        "colab": {
          "base_uri": "https://localhost:8080/"
        },
        "id": "lCLL_LJZwHlA",
        "outputId": "88058bac-cd9d-4ba6-8d1a-55f4f10c4bcd"
      },
      "source": [
        "globals()"
      ],
      "execution_count": 2,
      "outputs": [
        {
          "output_type": "execute_result",
          "data": {
            "text/plain": [
              "{'__name__': '__main__',\n",
              " '__doc__': 'Automatically created module for IPython interactive environment',\n",
              " '__package__': None,\n",
              " '__loader__': None,\n",
              " '__spec__': None,\n",
              " '__builtin__': <module 'builtins' (built-in)>,\n",
              " '__builtins__': <module 'builtins' (built-in)>,\n",
              " '_ih': ['', 'help(globals)', 'globals()'],\n",
              " '_oh': {},\n",
              " '_dh': ['C:\\\\PythonScripts'],\n",
              " 'In': ['', 'help(globals)', 'globals()'],\n",
              " 'Out': {},\n",
              " 'get_ipython': <bound method InteractiveShell.get_ipython of <ipykernel.zmqshell.ZMQInteractiveShell object at 0x000001105D3B4588>>,\n",
              " 'exit': <IPython.core.autocall.ZMQExitAutocall at 0x1105d3fd048>,\n",
              " 'quit': <IPython.core.autocall.ZMQExitAutocall at 0x1105d3fd048>,\n",
              " '_': '',\n",
              " '__': '',\n",
              " '___': '',\n",
              " '_i': 'help(globals)',\n",
              " '_ii': '',\n",
              " '_iii': '',\n",
              " '_i1': 'help(globals)',\n",
              " '_i2': 'globals()'}"
            ]
          },
          "metadata": {
            "tags": []
          },
          "execution_count": 2
        }
      ]
    },
    {
      "cell_type": "code",
      "metadata": {
        "id": "ayMcqEfMwKyp"
      },
      "source": [
        "var1 = 'Python'\n",
        "var2 = '3.8'\n",
        "var3 = var1 + var2"
      ],
      "execution_count": 3,
      "outputs": []
    },
    {
      "cell_type": "code",
      "metadata": {
        "id": "U4idw42rwWES"
      },
      "source": [
        "globals()"
      ],
      "execution_count": null,
      "outputs": []
    },
    {
      "cell_type": "code",
      "metadata": {
        "colab": {
          "base_uri": "https://localhost:8080/"
        },
        "id": "UR4q9k4nwXQf",
        "outputId": "a6f128d2-d527-4199-ae95-56b08e8e9d30"
      },
      "source": [
        "var1= 10\n",
        "print(var1)"
      ],
      "execution_count": 5,
      "outputs": [
        {
          "output_type": "stream",
          "text": [
            "10\n"
          ],
          "name": "stdout"
        }
      ]
    },
    {
      "cell_type": "code",
      "metadata": {
        "id": "BfPRbRmW08ia"
      },
      "source": [
        "def sample_function():\n",
        "  print(var1)"
      ],
      "execution_count": 6,
      "outputs": []
    },
    {
      "cell_type": "code",
      "metadata": {
        "colab": {
          "base_uri": "https://localhost:8080/"
        },
        "id": "nLBA2Y921A7u",
        "outputId": "ad4333c4-227a-4315-84ed-c7043f635a64"
      },
      "source": [
        "sample_function()"
      ],
      "execution_count": 7,
      "outputs": [
        {
          "output_type": "stream",
          "text": [
            "10\n"
          ],
          "name": "stdout"
        }
      ]
    },
    {
      "cell_type": "code",
      "metadata": {
        "id": "La_8y8mC1DVv"
      },
      "source": [
        "def sample_function():\n",
        "  var1=3.8\n",
        "  print(var1)"
      ],
      "execution_count": 8,
      "outputs": []
    },
    {
      "cell_type": "code",
      "metadata": {
        "colab": {
          "base_uri": "https://localhost:8080/"
        },
        "id": "1Ckjysaa1gvm",
        "outputId": "9c47a505-84cb-4227-8e95-69debaf5a35d"
      },
      "source": [
        "sample_function()"
      ],
      "execution_count": 9,
      "outputs": [
        {
          "output_type": "stream",
          "text": [
            "3.8\n"
          ],
          "name": "stdout"
        }
      ]
    },
    {
      "cell_type": "code",
      "metadata": {
        "colab": {
          "base_uri": "https://localhost:8080/"
        },
        "id": "a7TT5zHC1hwd",
        "outputId": "9867f441-4e40-46fb-c903-431cd76c3009"
      },
      "source": [
        "var1"
      ],
      "execution_count": 10,
      "outputs": [
        {
          "output_type": "execute_result",
          "data": {
            "text/plain": [
              "10"
            ]
          },
          "metadata": {
            "tags": []
          },
          "execution_count": 10
        }
      ]
    },
    {
      "cell_type": "code",
      "metadata": {
        "colab": {
          "base_uri": "https://localhost:8080/",
          "height": 335
        },
        "id": "tiPEVzW41kJQ",
        "outputId": "4de67882-9dd8-4b58-e7ce-9f421088591a"
      },
      "source": [
        "var1 = 0\n",
        "\n",
        "def update():\n",
        "  var1 = var1 + 1\n",
        "\n",
        "update()"
      ],
      "execution_count": 11,
      "outputs": [
        {
          "output_type": "error",
          "ename": "UnboundLocalError",
          "evalue": "ignored",
          "traceback": [
            "\u001b[1;31m---------------------------------------------------------------------------\u001b[0m",
            "\u001b[1;31mUnboundLocalError\u001b[0m                         Traceback (most recent call last)",
            "\u001b[1;32m<ipython-input-11-8cedc9c2ea28>\u001b[0m in \u001b[0;36m<module>\u001b[1;34m\u001b[0m\n\u001b[0;32m      4\u001b[0m   \u001b[0mvar1\u001b[0m \u001b[1;33m=\u001b[0m \u001b[0mvar1\u001b[0m \u001b[1;33m+\u001b[0m \u001b[1;36m1\u001b[0m\u001b[1;33m\u001b[0m\u001b[1;33m\u001b[0m\u001b[0m\n\u001b[0;32m      5\u001b[0m \u001b[1;33m\u001b[0m\u001b[0m\n\u001b[1;32m----> 6\u001b[1;33m \u001b[0mupdate\u001b[0m\u001b[1;33m(\u001b[0m\u001b[1;33m)\u001b[0m\u001b[1;33m\u001b[0m\u001b[1;33m\u001b[0m\u001b[0m\n\u001b[0m",
            "\u001b[1;32m<ipython-input-11-8cedc9c2ea28>\u001b[0m in \u001b[0;36mupdate\u001b[1;34m()\u001b[0m\n\u001b[0;32m      2\u001b[0m \u001b[1;33m\u001b[0m\u001b[0m\n\u001b[0;32m      3\u001b[0m \u001b[1;32mdef\u001b[0m \u001b[0mupdate\u001b[0m\u001b[1;33m(\u001b[0m\u001b[1;33m)\u001b[0m\u001b[1;33m:\u001b[0m\u001b[1;33m\u001b[0m\u001b[1;33m\u001b[0m\u001b[0m\n\u001b[1;32m----> 4\u001b[1;33m   \u001b[0mvar1\u001b[0m \u001b[1;33m=\u001b[0m \u001b[0mvar1\u001b[0m \u001b[1;33m+\u001b[0m \u001b[1;36m1\u001b[0m\u001b[1;33m\u001b[0m\u001b[1;33m\u001b[0m\u001b[0m\n\u001b[0m\u001b[0;32m      5\u001b[0m \u001b[1;33m\u001b[0m\u001b[0m\n\u001b[0;32m      6\u001b[0m \u001b[0mupdate\u001b[0m\u001b[1;33m(\u001b[0m\u001b[1;33m)\u001b[0m\u001b[1;33m\u001b[0m\u001b[1;33m\u001b[0m\u001b[0m\n",
            "\u001b[1;31mUnboundLocalError\u001b[0m: local variable 'var1' referenced before assignment"
          ]
        }
      ]
    },
    {
      "cell_type": "code",
      "metadata": {
        "colab": {
          "base_uri": "https://localhost:8080/"
        },
        "id": "HbA5Cdxx4lrv",
        "outputId": "ee3e99d5-20d7-49e0-aa8d-1bbf4e50a5ff"
      },
      "source": [
        "var1 = 0\n",
        "\n",
        "def update():\n",
        "  #var1 = var1 + 1\n",
        "  print(var1)\n",
        "update()"
      ],
      "execution_count": 12,
      "outputs": [
        {
          "output_type": "stream",
          "text": [
            "0\n"
          ],
          "name": "stdout"
        }
      ]
    },
    {
      "cell_type": "code",
      "metadata": {
        "colab": {
          "base_uri": "https://localhost:8080/"
        },
        "id": "2hddhTw54rzN",
        "outputId": "9dc9d8b4-9456-4fd0-d752-752aca38e710"
      },
      "source": [
        "var1 = 'globalny'\n",
        "def sample_function():\n",
        "  var1 = 'lokalny funkcji sample'\n",
        "  print(var1)\n",
        "\n",
        "  def inner_fun():\n",
        "    var1 = 'lokalny inner fun'\n",
        "    print(var1)\n",
        "\n",
        "  inner_fun()\n",
        "\n",
        "  print(var1)\n",
        "\n",
        "print(var1)\n",
        "sample_function()\n",
        "print(var1)"
      ],
      "execution_count": 13,
      "outputs": [
        {
          "output_type": "stream",
          "text": [
            "globalny\n",
            "lokalny funkcji sample\n",
            "lokalny inner fun\n",
            "lokalny funkcji sample\n",
            "globalny\n"
          ],
          "name": "stdout"
        }
      ]
    },
    {
      "cell_type": "code",
      "metadata": {
        "colab": {
          "base_uri": "https://localhost:8080/"
        },
        "id": "2_MAtWWu55u2",
        "outputId": "33bf32ba-1676-4a67-86c0-35a43cbb9dc9"
      },
      "source": [
        "var1 = 'globalny'\n",
        "def sample_function():\n",
        "\n",
        "  print(var1)\n",
        "\n",
        "  def inner_fun():\n",
        "    \n",
        "    print(var1)\n",
        "\n",
        "  inner_fun()\n",
        "\n",
        "  print(var1)\n",
        "\n",
        "print(var1)\n",
        "sample_function()\n",
        "print(var1)"
      ],
      "execution_count": 14,
      "outputs": [
        {
          "output_type": "stream",
          "text": [
            "globalny\n",
            "globalny\n",
            "globalny\n",
            "globalny\n",
            "globalny\n"
          ],
          "name": "stdout"
        }
      ]
    },
    {
      "cell_type": "code",
      "metadata": {
        "colab": {
          "base_uri": "https://localhost:8080/"
        },
        "id": "g-tXtvbr6Pjs",
        "outputId": "c527e72f-b1eb-4b2d-9935-2105268c7fd4"
      },
      "source": [
        "var1 = 'globalny'\n",
        "def sample_function():\n",
        "  var1 = 'lokalny funkcji sample'\n",
        "  print(var1)\n",
        "\n",
        "  def inner_fun():\n",
        "    \n",
        "    print(var1)\n",
        "\n",
        "  inner_fun()\n",
        "\n",
        "  print(var1)\n",
        "\n",
        "print(var1)\n",
        "sample_function()\n",
        "print(var1)"
      ],
      "execution_count": 15,
      "outputs": [
        {
          "output_type": "stream",
          "text": [
            "globalny\n",
            "lokalny funkcji sample\n",
            "lokalny funkcji sample\n",
            "lokalny funkcji sample\n",
            "globalny\n"
          ],
          "name": "stdout"
        }
      ]
    },
    {
      "cell_type": "code",
      "metadata": {
        "id": "nWDkz9gh6ard"
      },
      "source": [
        "dir(__builtin__)"
      ],
      "execution_count": null,
      "outputs": []
    },
    {
      "cell_type": "code",
      "metadata": {
        "colab": {
          "base_uri": "https://localhost:8080/"
        },
        "id": "8qteCy3C6rH9",
        "outputId": "708e451d-9fb5-442c-8fad-ceefc5d89886"
      },
      "source": [
        "len(dir(__builtin__))"
      ],
      "execution_count": 17,
      "outputs": [
        {
          "output_type": "execute_result",
          "data": {
            "text/plain": [
              "154"
            ]
          },
          "metadata": {
            "tags": []
          },
          "execution_count": 17
        }
      ]
    },
    {
      "cell_type": "code",
      "metadata": {
        "id": "kW8DSkpD6xwr"
      },
      "source": [
        "import builtins\n",
        "help(builtins)"
      ],
      "execution_count": null,
      "outputs": []
    },
    {
      "cell_type": "code",
      "metadata": {
        "colab": {
          "base_uri": "https://localhost:8080/"
        },
        "id": "JCvu6nMn63uu",
        "outputId": "4cd99ec9-45bb-41ed-db72-91035e010cc2"
      },
      "source": [
        "builtins.max([5,3,-1])"
      ],
      "execution_count": 20,
      "outputs": [
        {
          "output_type": "execute_result",
          "data": {
            "text/plain": [
              "5"
            ]
          },
          "metadata": {
            "tags": []
          },
          "execution_count": 20
        }
      ]
    },
    {
      "cell_type": "code",
      "metadata": {
        "colab": {
          "base_uri": "https://localhost:8080/"
        },
        "id": "evRUAJxA7IFG",
        "outputId": "8785ec82-a684-4088-f08f-1dce736c16c5"
      },
      "source": [
        "builtins.enumerate('Python')"
      ],
      "execution_count": 21,
      "outputs": [
        {
          "output_type": "execute_result",
          "data": {
            "text/plain": [
              "<enumerate at 0x1105e801318>"
            ]
          },
          "metadata": {
            "tags": []
          },
          "execution_count": 21
        }
      ]
    },
    {
      "cell_type": "code",
      "metadata": {
        "colab": {
          "base_uri": "https://localhost:8080/"
        },
        "id": "SECzzPPc8C_9",
        "outputId": "9ddb26a9-22ea-4972-e524-2432a84dfc86"
      },
      "source": [
        "builtins.list(builtins.enumerate('Python'))"
      ],
      "execution_count": 23,
      "outputs": [
        {
          "output_type": "execute_result",
          "data": {
            "text/plain": [
              "[(0, 'P'), (1, 'y'), (2, 't'), (3, 'h'), (4, 'o'), (5, 'n')]"
            ]
          },
          "metadata": {
            "tags": []
          },
          "execution_count": 23
        }
      ]
    },
    {
      "cell_type": "code",
      "metadata": {
        "colab": {
          "base_uri": "https://localhost:8080/"
        },
        "id": "7PL2F60e8IYU",
        "outputId": "e7d96e42-4e76-45b9-b02f-3cfdd94e53ee"
      },
      "source": [
        "max"
      ],
      "execution_count": 24,
      "outputs": [
        {
          "output_type": "execute_result",
          "data": {
            "text/plain": [
              "<function max>"
            ]
          },
          "metadata": {
            "tags": []
          },
          "execution_count": 24
        }
      ]
    },
    {
      "cell_type": "code",
      "metadata": {
        "colab": {
          "base_uri": "https://localhost:8080/"
        },
        "id": "wiFhJ0Yq8Vv1",
        "outputId": "5d7c8c31-c0c5-47a2-fdbf-0779db1d7b83"
      },
      "source": [
        "max = lambda x: min(x)\n",
        "max"
      ],
      "execution_count": 26,
      "outputs": [
        {
          "output_type": "execute_result",
          "data": {
            "text/plain": [
              "<function __main__.<lambda>(x)>"
            ]
          },
          "metadata": {
            "tags": []
          },
          "execution_count": 26
        }
      ]
    },
    {
      "cell_type": "code",
      "metadata": {
        "colab": {
          "base_uri": "https://localhost:8080/"
        },
        "id": "aV2uisth8bQt",
        "outputId": "6ad6d20b-2666-4cb3-ef8e-98823e0cd47d"
      },
      "source": [
        "max([4,-1])"
      ],
      "execution_count": 27,
      "outputs": [
        {
          "output_type": "execute_result",
          "data": {
            "text/plain": [
              "-1"
            ]
          },
          "metadata": {
            "tags": []
          },
          "execution_count": 27
        }
      ]
    },
    {
      "cell_type": "code",
      "metadata": {
        "id": "Gg8aQ_898fvb"
      },
      "source": [
        "del max"
      ],
      "execution_count": 28,
      "outputs": []
    },
    {
      "cell_type": "code",
      "metadata": {
        "colab": {
          "base_uri": "https://localhost:8080/"
        },
        "id": "llupUkYK8pFQ",
        "outputId": "dde9b61e-933e-4f41-f8c0-00c19d41b927"
      },
      "source": [
        "max"
      ],
      "execution_count": 29,
      "outputs": [
        {
          "output_type": "execute_result",
          "data": {
            "text/plain": [
              "<function max>"
            ]
          },
          "metadata": {
            "tags": []
          },
          "execution_count": 29
        }
      ]
    },
    {
      "cell_type": "code",
      "metadata": {
        "colab": {
          "base_uri": "https://localhost:8080/"
        },
        "id": "C0H_xPQs8p1b",
        "outputId": "dda4e77c-6721-4da6-c866-825b8d5b98fa"
      },
      "source": [
        "max([3,-2])"
      ],
      "execution_count": 30,
      "outputs": [
        {
          "output_type": "execute_result",
          "data": {
            "text/plain": [
              "3"
            ]
          },
          "metadata": {
            "tags": []
          },
          "execution_count": 30
        }
      ]
    },
    {
      "cell_type": "code",
      "metadata": {
        "colab": {
          "base_uri": "https://localhost:8080/"
        },
        "id": "pGQErpRO8r5U",
        "outputId": "03bb3025-0e97-45f1-c61b-7610bf886916"
      },
      "source": [
        "max('Python')"
      ],
      "execution_count": 31,
      "outputs": [
        {
          "output_type": "execute_result",
          "data": {
            "text/plain": [
              "'y'"
            ]
          },
          "metadata": {
            "tags": []
          },
          "execution_count": 31
        }
      ]
    },
    {
      "cell_type": "code",
      "metadata": {
        "colab": {
          "base_uri": "https://localhost:8080/"
        },
        "id": "P7QslTFz8w6k",
        "outputId": "676215ae-7ba9-447e-afcd-fe255f838756"
      },
      "source": [
        "def calc(x,y):\n",
        "  return max(x,y)\n",
        "\n",
        "calc(4,7)"
      ],
      "execution_count": 32,
      "outputs": [
        {
          "output_type": "execute_result",
          "data": {
            "text/plain": [
              "7"
            ]
          },
          "metadata": {
            "tags": []
          },
          "execution_count": 32
        }
      ]
    },
    {
      "cell_type": "code",
      "metadata": {
        "colab": {
          "base_uri": "https://localhost:8080/"
        },
        "id": "KJhvczDo8-vF",
        "outputId": "ebb55b0e-3e2a-4f00-b7b1-fa04709a4933"
      },
      "source": [
        "def calc(x,y):\n",
        "  def max(x,y):\n",
        "    print('wywolanie')\n",
        "    if x >= y:\n",
        "      return x\n",
        "    else:\n",
        "      return y\n",
        "  return max(x,y)\n",
        "\n",
        "calc(4,7)"
      ],
      "execution_count": 33,
      "outputs": [
        {
          "output_type": "stream",
          "text": [
            "wywolanie\n"
          ],
          "name": "stdout"
        },
        {
          "output_type": "execute_result",
          "data": {
            "text/plain": [
              "7"
            ]
          },
          "metadata": {
            "tags": []
          },
          "execution_count": 33
        }
      ]
    },
    {
      "cell_type": "code",
      "metadata": {
        "colab": {
          "base_uri": "https://localhost:8080/"
        },
        "id": "B0DXrcum9Uns",
        "outputId": "9c2e8064-26e3-48d7-9233-a4c28adee1d2"
      },
      "source": [
        "def calc(x,y):\n",
        "  def max(x,y):\n",
        "    print('wywolanie')\n",
        "    return x if x>= y else y\n",
        "  return max(x,y)\n",
        "\n",
        "calc(4,7)"
      ],
      "execution_count": 34,
      "outputs": [
        {
          "output_type": "stream",
          "text": [
            "wywolanie\n"
          ],
          "name": "stdout"
        },
        {
          "output_type": "execute_result",
          "data": {
            "text/plain": [
              "7"
            ]
          },
          "metadata": {
            "tags": []
          },
          "execution_count": 34
        }
      ]
    },
    {
      "cell_type": "code",
      "metadata": {
        "colab": {
          "base_uri": "https://localhost:8080/"
        },
        "id": "aCiww1VG9kxs",
        "outputId": "bc00f780-fb19-458f-a478-2b62857cc14c"
      },
      "source": [
        "def sample():\n",
        "  global var1\n",
        "  var1 = 10\n",
        "  print(var1)\n",
        "\n",
        "sample()"
      ],
      "execution_count": 2,
      "outputs": [
        {
          "output_type": "stream",
          "text": [
            "10\n"
          ],
          "name": "stdout"
        }
      ]
    },
    {
      "cell_type": "code",
      "metadata": {
        "colab": {
          "base_uri": "https://localhost:8080/"
        },
        "id": "ZbodFpe4DelU",
        "outputId": "45ae11c7-f92b-4ab8-89e2-a7318704290a"
      },
      "source": [
        "var1"
      ],
      "execution_count": 3,
      "outputs": [
        {
          "output_type": "execute_result",
          "data": {
            "text/plain": [
              "10"
            ]
          },
          "metadata": {
            "tags": []
          },
          "execution_count": 3
        }
      ]
    },
    {
      "cell_type": "code",
      "metadata": {
        "colab": {
          "base_uri": "https://localhost:8080/"
        },
        "id": "cAnxw4xWDlx8",
        "outputId": "a398991e-7e41-4301-c805-a37e9c0fa544"
      },
      "source": [
        "var1 = 20\n",
        "def sample():\n",
        "  var1 = 40\n",
        "  print(var1)\n",
        "\n",
        "sample()"
      ],
      "execution_count": 3,
      "outputs": [
        {
          "output_type": "stream",
          "text": [
            "40\n"
          ],
          "name": "stdout"
        }
      ]
    },
    {
      "cell_type": "code",
      "metadata": {
        "colab": {
          "base_uri": "https://localhost:8080/"
        },
        "id": "pBjSRNtgD1fL",
        "outputId": "12ed5e1f-9d1d-4eb9-b1c6-90c192f80977"
      },
      "source": [
        "var1"
      ],
      "execution_count": 6,
      "outputs": [
        {
          "output_type": "execute_result",
          "data": {
            "text/plain": [
              "40"
            ]
          },
          "metadata": {
            "tags": []
          },
          "execution_count": 6
        }
      ]
    },
    {
      "cell_type": "code",
      "metadata": {
        "colab": {
          "base_uri": "https://localhost:8080/"
        },
        "id": "MynH_jdyD8sj",
        "outputId": "04381041-4ed5-4075-a75d-af0924329434"
      },
      "source": [
        "var1 = 20\n",
        "def sample():\n",
        "  global var1\n",
        "  var1 = 40\n",
        "  print(var1)\n",
        "\n",
        "sample()"
      ],
      "execution_count": 5,
      "outputs": [
        {
          "output_type": "stream",
          "text": [
            "40\n"
          ],
          "name": "stdout"
        }
      ]
    },
    {
      "cell_type": "code",
      "metadata": {
        "colab": {
          "base_uri": "https://localhost:8080/"
        },
        "id": "hZNhMpnfEElr",
        "outputId": "4362692c-899e-4d09-d9e0-7732002e8b8f"
      },
      "source": [
        "var1 = 20\n",
        "def sample():\n",
        "  global var1\n",
        "  var1 += 40\n",
        "  print(var1)\n",
        "\n",
        "sample()"
      ],
      "execution_count": 2,
      "outputs": [
        {
          "output_type": "stream",
          "text": [
            "60\n"
          ],
          "name": "stdout"
        }
      ]
    },
    {
      "cell_type": "code",
      "metadata": {
        "id": "D2PrqK1-EVz8"
      },
      "source": [
        "def sample():\n",
        "  global num1,num2\n",
        "  num1, num2 = 4, 2\n",
        "\n",
        "sample()"
      ],
      "execution_count": 2,
      "outputs": []
    },
    {
      "cell_type": "code",
      "metadata": {
        "colab": {
          "base_uri": "https://localhost:8080/"
        },
        "id": "XmlwWLrOEmzE",
        "outputId": "e9333ba2-284e-4bc2-b178-8eea4d6e1fa2"
      },
      "source": [
        "num1"
      ],
      "execution_count": 3,
      "outputs": [
        {
          "output_type": "execute_result",
          "data": {
            "text/plain": [
              "4"
            ]
          },
          "metadata": {
            "tags": []
          },
          "execution_count": 3
        }
      ]
    },
    {
      "cell_type": "code",
      "metadata": {
        "colab": {
          "base_uri": "https://localhost:8080/"
        },
        "id": "kl9GuJDYEqQT",
        "outputId": "9a17b858-38d0-4376-9e2a-e7e474a1d7ce"
      },
      "source": [
        "def sample():\n",
        "  \n",
        "  num1 = 10\n",
        "\n",
        "  def inner():\n",
        "    print(num1)\n",
        "\n",
        "  inner()\n",
        "\n",
        "sample()"
      ],
      "execution_count": 1,
      "outputs": [
        {
          "output_type": "stream",
          "text": [
            "10\n"
          ],
          "name": "stdout"
        }
      ]
    },
    {
      "cell_type": "code",
      "metadata": {
        "colab": {
          "base_uri": "https://localhost:8080/"
        },
        "id": "4xrsJLXFFFwD",
        "outputId": "09b5c0a9-1245-4522-f081-72263b477b6a"
      },
      "source": [
        "def sample():\n",
        "  \n",
        "  num1 = 10\n",
        "\n",
        "  def inner():\n",
        "    nonlocal num1\n",
        "    num1 = 20\n",
        "    print(num1)\n",
        "\n",
        "  print(num1)\n",
        "  inner()\n",
        "  print(num1)\n",
        "  \n",
        "sample()"
      ],
      "execution_count": 3,
      "outputs": [
        {
          "output_type": "stream",
          "text": [
            "10\n",
            "20\n",
            "20\n"
          ],
          "name": "stdout"
        }
      ]
    },
    {
      "cell_type": "code",
      "metadata": {
        "colab": {
          "base_uri": "https://localhost:8080/"
        },
        "id": "OtahRUXRFPcS",
        "outputId": "cb9dbed1-1496-4b45-cc9d-779b51f0cd15"
      },
      "source": [
        "def sample():\n",
        "  \n",
        "  num1 = 10\n",
        "\n",
        "  def inner():\n",
        "    nonlocal num1\n",
        "    num1 += 20\n",
        "    print(num1)\n",
        "\n",
        "  print(num1)\n",
        "  inner()\n",
        "  print(num1)\n",
        "  \n",
        "sample()"
      ],
      "execution_count": 4,
      "outputs": [
        {
          "output_type": "stream",
          "text": [
            "10\n",
            "30\n",
            "30\n"
          ],
          "name": "stdout"
        }
      ]
    },
    {
      "cell_type": "code",
      "metadata": {
        "colab": {
          "base_uri": "https://localhost:8080/",
          "height": 135
        },
        "id": "sgAKZhb6Fpi7",
        "outputId": "e0a67a09-6c33-4012-9544-29a5baddf2eb"
      },
      "source": [
        "def sample():\n",
        "  nonlocal num1\n",
        "  num1 = 10\n",
        "\n",
        " \n",
        "sample()"
      ],
      "execution_count": 5,
      "outputs": [
        {
          "output_type": "error",
          "ename": "SyntaxError",
          "evalue": "ignored",
          "traceback": [
            "\u001b[1;36m  File \u001b[1;32m\"<ipython-input-5-4e9b22db1967>\"\u001b[1;36m, line \u001b[1;32m2\u001b[0m\n\u001b[1;33m    nonlocal num1\u001b[0m\n\u001b[1;37m    ^\u001b[0m\n\u001b[1;31mSyntaxError\u001b[0m\u001b[1;31m:\u001b[0m no binding for nonlocal 'num1' found\n"
          ]
        }
      ]
    },
    {
      "cell_type": "code",
      "metadata": {
        "colab": {
          "base_uri": "https://localhost:8080/"
        },
        "id": "Vm3iZbdSFwoS",
        "outputId": "40feb248-4f09-4bab-cfd0-a4bf1d1b5768"
      },
      "source": [
        "for num in range(10):\n",
        "  print(num)"
      ],
      "execution_count": 6,
      "outputs": [
        {
          "output_type": "stream",
          "text": [
            "0\n",
            "1\n",
            "2\n",
            "3\n",
            "4\n",
            "5\n",
            "6\n",
            "7\n",
            "8\n",
            "9\n"
          ],
          "name": "stdout"
        }
      ]
    },
    {
      "cell_type": "code",
      "metadata": {
        "colab": {
          "base_uri": "https://localhost:8080/"
        },
        "id": "YNfGlAOTGGT2",
        "outputId": "f1cac46f-bad4-480d-adec-c96aa7827534"
      },
      "source": [
        "num"
      ],
      "execution_count": 7,
      "outputs": [
        {
          "output_type": "execute_result",
          "data": {
            "text/plain": [
              "9"
            ]
          },
          "metadata": {
            "tags": []
          },
          "execution_count": 7
        }
      ]
    },
    {
      "cell_type": "code",
      "metadata": {
        "colab": {
          "base_uri": "https://localhost:8080/"
        },
        "id": "O6j4qYEtGG3D",
        "outputId": "19a12a46-d083-4ad8-f7d2-613815aa757b"
      },
      "source": [
        "[var for var in range(10)]"
      ],
      "execution_count": 8,
      "outputs": [
        {
          "output_type": "execute_result",
          "data": {
            "text/plain": [
              "[0, 1, 2, 3, 4, 5, 6, 7, 8, 9]"
            ]
          },
          "metadata": {
            "tags": []
          },
          "execution_count": 8
        }
      ]
    },
    {
      "cell_type": "code",
      "metadata": {
        "colab": {
          "base_uri": "https://localhost:8080/",
          "height": 171
        },
        "id": "TLuF-cSOGO7S",
        "outputId": "08842acf-488b-4cc4-b4e7-21fed442df40"
      },
      "source": [
        "var"
      ],
      "execution_count": 9,
      "outputs": [
        {
          "output_type": "error",
          "ename": "NameError",
          "evalue": "ignored",
          "traceback": [
            "\u001b[1;31m---------------------------------------------------------------------------\u001b[0m",
            "\u001b[1;31mNameError\u001b[0m                                 Traceback (most recent call last)",
            "\u001b[1;32m<ipython-input-9-84ddba356ca3>\u001b[0m in \u001b[0;36m<module>\u001b[1;34m\u001b[0m\n\u001b[1;32m----> 1\u001b[1;33m \u001b[0mvar\u001b[0m\u001b[1;33m\u001b[0m\u001b[1;33m\u001b[0m\u001b[0m\n\u001b[0m",
            "\u001b[1;31mNameError\u001b[0m: name 'var' is not defined"
          ]
        }
      ]
    },
    {
      "cell_type": "code",
      "metadata": {
        "colab": {
          "base_uri": "https://localhost:8080/",
          "height": 190
        },
        "id": "ekyokTE2GPYp",
        "outputId": "52c4a2b3-241c-4c25-f053-c9c40cd614f6"
      },
      "source": [
        "string = 'py'\n",
        "string[2]"
      ],
      "execution_count": 10,
      "outputs": [
        {
          "output_type": "error",
          "ename": "IndexError",
          "evalue": "ignored",
          "traceback": [
            "\u001b[1;31m---------------------------------------------------------------------------\u001b[0m",
            "\u001b[1;31mIndexError\u001b[0m                                Traceback (most recent call last)",
            "\u001b[1;32m<ipython-input-10-cd91419fd9e7>\u001b[0m in \u001b[0;36m<module>\u001b[1;34m\u001b[0m\n\u001b[0;32m      1\u001b[0m \u001b[0mstring\u001b[0m \u001b[1;33m=\u001b[0m \u001b[1;34m'py'\u001b[0m\u001b[1;33m\u001b[0m\u001b[1;33m\u001b[0m\u001b[0m\n\u001b[1;32m----> 2\u001b[1;33m \u001b[0mstring\u001b[0m\u001b[1;33m[\u001b[0m\u001b[1;36m2\u001b[0m\u001b[1;33m]\u001b[0m\u001b[1;33m\u001b[0m\u001b[1;33m\u001b[0m\u001b[0m\n\u001b[0m",
            "\u001b[1;31mIndexError\u001b[0m: string index out of range"
          ]
        }
      ]
    },
    {
      "cell_type": "code",
      "metadata": {
        "colab": {
          "base_uri": "https://localhost:8080/"
        },
        "id": "i3ar9qrvGfeU",
        "outputId": "2d9255b0-a82b-4c7c-cc3d-75d0bf1da4ee"
      },
      "source": [
        "string = 'py'\n",
        "try:\n",
        "  string[2]\n",
        "except IndexError as error:\n",
        "  print(error)\n"
      ],
      "execution_count": 11,
      "outputs": [
        {
          "output_type": "stream",
          "text": [
            "string index out of range\n"
          ],
          "name": "stdout"
        }
      ]
    },
    {
      "cell_type": "code",
      "metadata": {
        "colab": {
          "base_uri": "https://localhost:8080/"
        },
        "id": "wXjja8utGrYL",
        "outputId": "7949b74b-35b3-424a-bc4f-20e57ecbbea7"
      },
      "source": [
        "help(globals)"
      ],
      "execution_count": 1,
      "outputs": [
        {
          "output_type": "stream",
          "text": [
            "Help on built-in function globals in module builtins:\n",
            "\n",
            "globals()\n",
            "    Return the dictionary containing the current scope's global variables.\n",
            "    \n",
            "    NOTE: Updates to this dictionary *will* affect name lookups in the current\n",
            "    global scope and vice-versa.\n",
            "\n"
          ],
          "name": "stdout"
        }
      ]
    },
    {
      "cell_type": "code",
      "metadata": {
        "colab": {
          "base_uri": "https://localhost:8080/"
        },
        "id": "mL8HHsowG25T",
        "outputId": "cef60bc7-b587-4a07-b679-41bd9bd56fdf"
      },
      "source": [
        "globals()"
      ],
      "execution_count": 2,
      "outputs": [
        {
          "output_type": "execute_result",
          "data": {
            "text/plain": [
              "{'__name__': '__main__',\n",
              " '__doc__': 'Automatically created module for IPython interactive environment',\n",
              " '__package__': None,\n",
              " '__loader__': None,\n",
              " '__spec__': None,\n",
              " '__builtin__': <module 'builtins' (built-in)>,\n",
              " '__builtins__': <module 'builtins' (built-in)>,\n",
              " '_ih': ['', 'help(globals)', 'globals()'],\n",
              " '_oh': {},\n",
              " '_dh': ['C:\\\\PythonScripts'],\n",
              " 'In': ['', 'help(globals)', 'globals()'],\n",
              " 'Out': {},\n",
              " 'get_ipython': <bound method InteractiveShell.get_ipython of <ipykernel.zmqshell.ZMQInteractiveShell object at 0x0000029405990C88>>,\n",
              " 'exit': <IPython.core.autocall.ZMQExitAutocall at 0x29405a0d4c8>,\n",
              " 'quit': <IPython.core.autocall.ZMQExitAutocall at 0x29405a0d4c8>,\n",
              " '_': '',\n",
              " '__': '',\n",
              " '___': '',\n",
              " '_i': 'help(globals)',\n",
              " '_ii': '',\n",
              " '_iii': '',\n",
              " '_i1': 'help(globals)',\n",
              " '_i2': 'globals()'}"
            ]
          },
          "metadata": {
            "tags": []
          },
          "execution_count": 2
        }
      ]
    },
    {
      "cell_type": "code",
      "metadata": {
        "id": "vY3Cj1YNG4tT"
      },
      "source": [
        "name = 'John'"
      ],
      "execution_count": 3,
      "outputs": []
    },
    {
      "cell_type": "code",
      "metadata": {
        "colab": {
          "base_uri": "https://localhost:8080/"
        },
        "id": "adtajds5G67U",
        "outputId": "0bccfd15-a8e0-4199-d5d9-5dab6340a6a7"
      },
      "source": [
        "globals()"
      ],
      "execution_count": 4,
      "outputs": [
        {
          "output_type": "execute_result",
          "data": {
            "text/plain": [
              "{'__name__': '__main__',\n",
              " '__doc__': 'Automatically created module for IPython interactive environment',\n",
              " '__package__': None,\n",
              " '__loader__': None,\n",
              " '__spec__': None,\n",
              " '__builtin__': <module 'builtins' (built-in)>,\n",
              " '__builtins__': <module 'builtins' (built-in)>,\n",
              " '_ih': ['', 'help(globals)', 'globals()', \"name = 'John'\", 'globals()'],\n",
              " '_oh': {2: {...}},\n",
              " '_dh': ['C:\\\\PythonScripts'],\n",
              " 'In': ['', 'help(globals)', 'globals()', \"name = 'John'\", 'globals()'],\n",
              " 'Out': {2: {...}},\n",
              " 'get_ipython': <bound method InteractiveShell.get_ipython of <ipykernel.zmqshell.ZMQInteractiveShell object at 0x0000029405990C88>>,\n",
              " 'exit': <IPython.core.autocall.ZMQExitAutocall at 0x29405a0d4c8>,\n",
              " 'quit': <IPython.core.autocall.ZMQExitAutocall at 0x29405a0d4c8>,\n",
              " '_': {...},\n",
              " '__': '',\n",
              " '___': '',\n",
              " '_i': \"name = 'John'\",\n",
              " '_ii': 'globals()',\n",
              " '_iii': 'help(globals)',\n",
              " '_i1': 'help(globals)',\n",
              " '_i2': 'globals()',\n",
              " '_2': {...},\n",
              " '_i3': \"name = 'John'\",\n",
              " 'name': 'John',\n",
              " '_i4': 'globals()'}"
            ]
          },
          "metadata": {
            "tags": []
          },
          "execution_count": 4
        }
      ]
    },
    {
      "cell_type": "code",
      "metadata": {
        "colab": {
          "base_uri": "https://localhost:8080/"
        },
        "id": "ekE-ec7iG7qu",
        "outputId": "150044fc-aa65-408b-c01d-95e4c43f28bd"
      },
      "source": [
        "[name for name in globals() if not name.startswith('_')]"
      ],
      "execution_count": 5,
      "outputs": [
        {
          "output_type": "execute_result",
          "data": {
            "text/plain": [
              "['In', 'Out', 'get_ipython', 'exit', 'quit', 'name']"
            ]
          },
          "metadata": {
            "tags": []
          },
          "execution_count": 5
        }
      ]
    },
    {
      "cell_type": "code",
      "metadata": {
        "colab": {
          "base_uri": "https://localhost:8080/"
        },
        "id": "2CWGKnrnHINL",
        "outputId": "3c3fb415-fd6d-4e4a-b86c-e655a6efc659"
      },
      "source": [
        "def test_locals():\n",
        "  var1= 1\n",
        "  var2 = 2\n",
        "  print(locals())\n",
        "  var3 = 3\n",
        "\n",
        "test_locals()"
      ],
      "execution_count": 7,
      "outputs": [
        {
          "output_type": "stream",
          "text": [
            "{'var1': 1, 'var2': 2}\n"
          ],
          "name": "stdout"
        }
      ]
    },
    {
      "cell_type": "code",
      "metadata": {
        "id": "zT8vEZAdHMDx"
      },
      "source": [
        "help(vars())"
      ],
      "execution_count": null,
      "outputs": []
    },
    {
      "cell_type": "code",
      "metadata": {
        "colab": {
          "base_uri": "https://localhost:8080/"
        },
        "id": "g6b7wa7gHkYb",
        "outputId": "19e9fce4-d0a1-4f7e-db13-844d8029c928"
      },
      "source": [
        "vars()"
      ],
      "execution_count": 4,
      "outputs": [
        {
          "output_type": "execute_result",
          "data": {
            "text/plain": [
              "{'__name__': '__main__',\n",
              " '__doc__': 'Automatically created module for IPython interactive environment',\n",
              " '__package__': None,\n",
              " '__loader__': None,\n",
              " '__spec__': None,\n",
              " '__builtin__': <module 'builtins' (built-in)>,\n",
              " '__builtins__': <module 'builtins' (built-in)>,\n",
              " '_ih': ['', 'help(vars)', 'vars()', 'help(vars())', 'vars()'],\n",
              " '_oh': {2: {...}},\n",
              " '_dh': ['C:\\\\PythonScripts'],\n",
              " 'In': ['', 'help(vars)', 'vars()', 'help(vars())', 'vars()'],\n",
              " 'Out': {2: {...}},\n",
              " 'get_ipython': <bound method InteractiveShell.get_ipython of <ipykernel.zmqshell.ZMQInteractiveShell object at 0x000002337EE80B88>>,\n",
              " 'exit': <IPython.core.autocall.ZMQExitAutocall at 0x2337eefd188>,\n",
              " 'quit': <IPython.core.autocall.ZMQExitAutocall at 0x2337eefd188>,\n",
              " '_': {...},\n",
              " '__': '',\n",
              " '___': '',\n",
              " '_i': 'help(vars())',\n",
              " '_ii': 'vars()',\n",
              " '_iii': 'help(vars)',\n",
              " '_i1': 'help(vars)',\n",
              " '_i2': 'vars()',\n",
              " '_2': {...},\n",
              " '_i3': 'help(vars())',\n",
              " '_i4': 'vars()'}"
            ]
          },
          "metadata": {
            "tags": []
          },
          "execution_count": 4
        }
      ]
    },
    {
      "cell_type": "code",
      "metadata": {
        "colab": {
          "base_uri": "https://localhost:8080/"
        },
        "id": "1cDGRoziHl8i",
        "outputId": "467dd26c-0457-4a0c-c77c-f1cd4c6b4e4c"
      },
      "source": [
        "import math\n",
        "vars(math)"
      ],
      "execution_count": 5,
      "outputs": [
        {
          "output_type": "execute_result",
          "data": {
            "text/plain": [
              "{'__name__': 'math',\n",
              " '__doc__': 'This module provides access to the mathematical functions\\ndefined by the C standard.',\n",
              " '__package__': '',\n",
              " '__loader__': _frozen_importlib.BuiltinImporter,\n",
              " '__spec__': ModuleSpec(name='math', loader=<class '_frozen_importlib.BuiltinImporter'>, origin='built-in'),\n",
              " 'acos': <function math.acos(x, /)>,\n",
              " 'acosh': <function math.acosh(x, /)>,\n",
              " 'asin': <function math.asin(x, /)>,\n",
              " 'asinh': <function math.asinh(x, /)>,\n",
              " 'atan': <function math.atan(x, /)>,\n",
              " 'atan2': <function math.atan2(y, x, /)>,\n",
              " 'atanh': <function math.atanh(x, /)>,\n",
              " 'ceil': <function math.ceil(x, /)>,\n",
              " 'copysign': <function math.copysign(x, y, /)>,\n",
              " 'cos': <function math.cos(x, /)>,\n",
              " 'cosh': <function math.cosh(x, /)>,\n",
              " 'degrees': <function math.degrees(x, /)>,\n",
              " 'erf': <function math.erf(x, /)>,\n",
              " 'erfc': <function math.erfc(x, /)>,\n",
              " 'exp': <function math.exp(x, /)>,\n",
              " 'expm1': <function math.expm1(x, /)>,\n",
              " 'fabs': <function math.fabs(x, /)>,\n",
              " 'factorial': <function math.factorial(x, /)>,\n",
              " 'floor': <function math.floor(x, /)>,\n",
              " 'fmod': <function math.fmod(x, y, /)>,\n",
              " 'frexp': <function math.frexp(x, /)>,\n",
              " 'fsum': <function math.fsum(seq, /)>,\n",
              " 'gamma': <function math.gamma(x, /)>,\n",
              " 'gcd': <function math.gcd(x, y, /)>,\n",
              " 'hypot': <function math.hypot(x, y, /)>,\n",
              " 'isclose': <function math.isclose(a, b, *, rel_tol=1e-09, abs_tol=0.0)>,\n",
              " 'isfinite': <function math.isfinite(x, /)>,\n",
              " 'isinf': <function math.isinf(x, /)>,\n",
              " 'isnan': <function math.isnan(x, /)>,\n",
              " 'ldexp': <function math.ldexp(x, i, /)>,\n",
              " 'lgamma': <function math.lgamma(x, /)>,\n",
              " 'log': <function math.log>,\n",
              " 'log1p': <function math.log1p(x, /)>,\n",
              " 'log10': <function math.log10(x, /)>,\n",
              " 'log2': <function math.log2(x, /)>,\n",
              " 'modf': <function math.modf(x, /)>,\n",
              " 'pow': <function math.pow(x, y, /)>,\n",
              " 'radians': <function math.radians(x, /)>,\n",
              " 'remainder': <function math.remainder(x, y, /)>,\n",
              " 'sin': <function math.sin(x, /)>,\n",
              " 'sinh': <function math.sinh(x, /)>,\n",
              " 'sqrt': <function math.sqrt(x, /)>,\n",
              " 'tan': <function math.tan(x, /)>,\n",
              " 'tanh': <function math.tanh(x, /)>,\n",
              " 'trunc': <function math.trunc(x, /)>,\n",
              " 'pi': 3.141592653589793,\n",
              " 'e': 2.718281828459045,\n",
              " 'tau': 6.283185307179586,\n",
              " 'inf': inf,\n",
              " 'nan': nan}"
            ]
          },
          "metadata": {
            "tags": []
          },
          "execution_count": 5
        }
      ]
    },
    {
      "cell_type": "code",
      "metadata": {
        "colab": {
          "base_uri": "https://localhost:8080/"
        },
        "id": "JsJvVDpCHvwT",
        "outputId": "b9b21ffb-176d-4c88-c22a-c06d96eae1b9"
      },
      "source": [
        "class Phone():\n",
        "  pass\n",
        "\n",
        "Phone.__dict__"
      ],
      "execution_count": 6,
      "outputs": [
        {
          "output_type": "execute_result",
          "data": {
            "text/plain": [
              "mappingproxy({'__module__': '__main__',\n",
              "              '__dict__': <attribute '__dict__' of 'Phone' objects>,\n",
              "              '__weakref__': <attribute '__weakref__' of 'Phone' objects>,\n",
              "              '__doc__': None})"
            ]
          },
          "metadata": {
            "tags": []
          },
          "execution_count": 6
        }
      ]
    },
    {
      "cell_type": "code",
      "metadata": {
        "colab": {
          "base_uri": "https://localhost:8080/"
        },
        "id": "ehgQ8GblID_U",
        "outputId": "07dadfa3-0c8d-4e49-d0bd-43a722f50ab0"
      },
      "source": [
        "counter = 1\n",
        "\n",
        "def update_counter():\n",
        "    global counter\n",
        "    counter += 1\n",
        "    print(counter)\n",
        "    \n",
        "update_counter()"
      ],
      "execution_count": 7,
      "outputs": [
        {
          "output_type": "stream",
          "text": [
            "2\n"
          ],
          "name": "stdout"
        }
      ]
    },
    {
      "cell_type": "code",
      "metadata": {
        "id": "2c3I9gxkIt4i"
      },
      "source": [
        ""
      ],
      "execution_count": null,
      "outputs": []
    }
  ]
}