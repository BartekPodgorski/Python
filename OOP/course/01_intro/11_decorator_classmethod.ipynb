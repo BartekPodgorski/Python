{
  "nbformat": 4,
  "nbformat_minor": 0,
  "metadata": {
    "colab": {
      "name": "11_decorator_classmethod.ipynb",
      "provenance": [],
      "authorship_tag": "ABX9TyOGpgj3+cgVozRfAuPUr7jm",
      "include_colab_link": true
    },
    "kernelspec": {
      "name": "python3",
      "display_name": "Python 3"
    }
  },
  "cells": [
    {
      "cell_type": "markdown",
      "metadata": {
        "id": "view-in-github",
        "colab_type": "text"
      },
      "source": [
        "<a href=\"https://colab.research.google.com/github/BartekPodgorski/Python/blob/main/OOP/course/01_intro/11_decorator_classmethod.ipynb\" target=\"_parent\"><img src=\"https://colab.research.google.com/assets/colab-badge.svg\" alt=\"Open In Colab\"/></a>"
      ]
    },
    {
      "cell_type": "code",
      "metadata": {
        "colab": {
          "base_uri": "https://localhost:8080/"
        },
        "id": "l2wZ20GIT8Wc",
        "outputId": "aeb59280-7e93-489a-9466-904aa15f01f1"
      },
      "source": [
        "class Phone:\r\n",
        "  def show(self):\r\n",
        "    print(f'running{self}')\r\n",
        "\r\n",
        "Phone.__dict__"
      ],
      "execution_count": 12,
      "outputs": [
        {
          "output_type": "execute_result",
          "data": {
            "text/plain": [
              "mappingproxy({'__dict__': <attribute '__dict__' of 'Phone' objects>,\n",
              "              '__doc__': None,\n",
              "              '__module__': '__main__',\n",
              "              '__weakref__': <attribute '__weakref__' of 'Phone' objects>,\n",
              "              'show': <function __main__.Phone.show>})"
            ]
          },
          "metadata": {
            "tags": []
          },
          "execution_count": 12
        }
      ]
    },
    {
      "cell_type": "code",
      "metadata": {
        "colab": {
          "base_uri": "https://localhost:8080/"
        },
        "id": "mcWcMnN2U5JO",
        "outputId": "e219ff5d-289e-4350-ec4a-7aea2e1d05db"
      },
      "source": [
        "phone = Phone()\r\n",
        "phone.show()"
      ],
      "execution_count": 13,
      "outputs": [
        {
          "output_type": "stream",
          "text": [
            "running<__main__.Phone object at 0x7f4ffc28aa58>\n"
          ],
          "name": "stdout"
        }
      ]
    },
    {
      "cell_type": "code",
      "metadata": {
        "colab": {
          "base_uri": "https://localhost:8080/"
        },
        "id": "eNYj_G8GVBq7",
        "outputId": "4c953174-b255-4221-caed-935ec09f66bd"
      },
      "source": [
        "help(classmethod)"
      ],
      "execution_count": 14,
      "outputs": [
        {
          "output_type": "stream",
          "text": [
            "Help on class classmethod in module builtins:\n",
            "\n",
            "class classmethod(object)\n",
            " |  classmethod(function) -> method\n",
            " |  \n",
            " |  Convert a function to be a class method.\n",
            " |  \n",
            " |  A class method receives the class as implicit first argument,\n",
            " |  just like an instance method receives the instance.\n",
            " |  To declare a class method, use this idiom:\n",
            " |  \n",
            " |    class C:\n",
            " |        @classmethod\n",
            " |        def f(cls, arg1, arg2, ...):\n",
            " |            ...\n",
            " |  \n",
            " |  It can be called either on the class (e.g. C.f()) or on an instance\n",
            " |  (e.g. C().f()).  The instance is ignored except for its class.\n",
            " |  If a class method is called for a derived class, the derived class\n",
            " |  object is passed as the implied first argument.\n",
            " |  \n",
            " |  Class methods are different than C++ or Java static methods.\n",
            " |  If you want those, see the staticmethod builtin.\n",
            " |  \n",
            " |  Methods defined here:\n",
            " |  \n",
            " |  __get__(self, instance, owner, /)\n",
            " |      Return an attribute of instance, which is of type owner.\n",
            " |  \n",
            " |  __init__(self, /, *args, **kwargs)\n",
            " |      Initialize self.  See help(type(self)) for accurate signature.\n",
            " |  \n",
            " |  __new__(*args, **kwargs) from builtins.type\n",
            " |      Create and return a new object.  See help(type) for accurate signature.\n",
            " |  \n",
            " |  ----------------------------------------------------------------------\n",
            " |  Data descriptors defined here:\n",
            " |  \n",
            " |  __dict__\n",
            " |  \n",
            " |  __func__\n",
            " |  \n",
            " |  __isabstractmethod__\n",
            "\n"
          ],
          "name": "stdout"
        }
      ]
    },
    {
      "cell_type": "code",
      "metadata": {
        "colab": {
          "base_uri": "https://localhost:8080/"
        },
        "id": "o7V3jujfV5Ti",
        "outputId": "cd5c2491-2550-4cbd-f3a3-020342b0baea"
      },
      "source": [
        "class Phone:\r\n",
        "  def show(cls):\r\n",
        "    print(f'running{cls}')\r\n",
        "\r\n",
        "  show = classmethod(show)\r\n",
        "\r\n",
        "Phone.__dict__"
      ],
      "execution_count": 15,
      "outputs": [
        {
          "output_type": "execute_result",
          "data": {
            "text/plain": [
              "mappingproxy({'__dict__': <attribute '__dict__' of 'Phone' objects>,\n",
              "              '__doc__': None,\n",
              "              '__module__': '__main__',\n",
              "              '__weakref__': <attribute '__weakref__' of 'Phone' objects>,\n",
              "              'show': <classmethod at 0x7f4ffc362898>})"
            ]
          },
          "metadata": {
            "tags": []
          },
          "execution_count": 15
        }
      ]
    },
    {
      "cell_type": "code",
      "metadata": {
        "colab": {
          "base_uri": "https://localhost:8080/"
        },
        "id": "8ywl6besaCRJ",
        "outputId": "2feec4bd-e8e0-42df-b0ee-cbb79c04502a"
      },
      "source": [
        "Phone.show()"
      ],
      "execution_count": 16,
      "outputs": [
        {
          "output_type": "stream",
          "text": [
            "running<class '__main__.Phone'>\n"
          ],
          "name": "stdout"
        }
      ]
    },
    {
      "cell_type": "code",
      "metadata": {
        "id": "vtQIRWWFaH2S"
      },
      "source": [
        "phone = Phone()"
      ],
      "execution_count": 17,
      "outputs": []
    },
    {
      "cell_type": "code",
      "metadata": {
        "colab": {
          "base_uri": "https://localhost:8080/"
        },
        "id": "JUs1SRS9aL1Q",
        "outputId": "98f8600a-7f92-4f3e-e826-8c3ace6967fc"
      },
      "source": [
        "phone.show()"
      ],
      "execution_count": 18,
      "outputs": [
        {
          "output_type": "stream",
          "text": [
            "running<class '__main__.Phone'>\n"
          ],
          "name": "stdout"
        }
      ]
    },
    {
      "cell_type": "code",
      "metadata": {
        "colab": {
          "base_uri": "https://localhost:8080/"
        },
        "id": "RKfijsE2aNAv",
        "outputId": "6cc062f0-2222-4ba0-9ad8-cb9676c22033"
      },
      "source": [
        "class Phone:\r\n",
        "\r\n",
        "  @classmethod\r\n",
        "  def show(cls):\r\n",
        "    print(f'running{cls}')\r\n",
        "\r\n",
        "  def describe(self):\r\n",
        "    print(f'describing{self}')\r\n",
        "    \r\n",
        "Phone.__dict__"
      ],
      "execution_count": 20,
      "outputs": [
        {
          "output_type": "execute_result",
          "data": {
            "text/plain": [
              "mappingproxy({'__dict__': <attribute '__dict__' of 'Phone' objects>,\n",
              "              '__doc__': None,\n",
              "              '__module__': '__main__',\n",
              "              '__weakref__': <attribute '__weakref__' of 'Phone' objects>,\n",
              "              'describe': <function __main__.Phone.describe>,\n",
              "              'show': <classmethod at 0x7f4ffcbd8358>})"
            ]
          },
          "metadata": {
            "tags": []
          },
          "execution_count": 20
        }
      ]
    },
    {
      "cell_type": "code",
      "metadata": {
        "colab": {
          "base_uri": "https://localhost:8080/"
        },
        "id": "edyizGk_bWfp",
        "outputId": "5de7428d-cfe0-4361-f5a9-7380df0bf00d"
      },
      "source": [
        "Phone.show"
      ],
      "execution_count": 21,
      "outputs": [
        {
          "output_type": "execute_result",
          "data": {
            "text/plain": [
              "<bound method Phone.show of <class '__main__.Phone'>>"
            ]
          },
          "metadata": {
            "tags": []
          },
          "execution_count": 21
        }
      ]
    },
    {
      "cell_type": "code",
      "metadata": {
        "colab": {
          "base_uri": "https://localhost:8080/"
        },
        "id": "vv4lktvycIj5",
        "outputId": "05d9b834-fefd-43da-b16c-c557bf747beb"
      },
      "source": [
        "Phone.show()"
      ],
      "execution_count": 22,
      "outputs": [
        {
          "output_type": "stream",
          "text": [
            "running<class '__main__.Phone'>\n"
          ],
          "name": "stdout"
        }
      ]
    },
    {
      "cell_type": "code",
      "metadata": {
        "colab": {
          "base_uri": "https://localhost:8080/"
        },
        "id": "8Y52-Fe4cKpJ",
        "outputId": "f9c6800b-6a5a-4d84-ae7f-a0cff2e985d6"
      },
      "source": [
        "Phone.describe"
      ],
      "execution_count": 23,
      "outputs": [
        {
          "output_type": "execute_result",
          "data": {
            "text/plain": [
              "<function __main__.Phone.describe>"
            ]
          },
          "metadata": {
            "tags": []
          },
          "execution_count": 23
        }
      ]
    },
    {
      "cell_type": "code",
      "metadata": {
        "colab": {
          "base_uri": "https://localhost:8080/",
          "height": 175
        },
        "id": "lbLob0GFcfSn",
        "outputId": "2bd25189-112b-4436-bf5f-91411e2c68e1"
      },
      "source": [
        "Phone.describe()"
      ],
      "execution_count": 24,
      "outputs": [
        {
          "output_type": "error",
          "ename": "TypeError",
          "evalue": "ignored",
          "traceback": [
            "\u001b[0;31m---------------------------------------------------------------------------\u001b[0m",
            "\u001b[0;31mTypeError\u001b[0m                                 Traceback (most recent call last)",
            "\u001b[0;32m<ipython-input-24-df0be6b5839c>\u001b[0m in \u001b[0;36m<module>\u001b[0;34m()\u001b[0m\n\u001b[0;32m----> 1\u001b[0;31m \u001b[0mPhone\u001b[0m\u001b[0;34m.\u001b[0m\u001b[0mdescribe\u001b[0m\u001b[0;34m(\u001b[0m\u001b[0;34m)\u001b[0m\u001b[0;34m\u001b[0m\u001b[0;34m\u001b[0m\u001b[0m\n\u001b[0m",
            "\u001b[0;31mTypeError\u001b[0m: describe() missing 1 required positional argument: 'self'"
          ]
        }
      ]
    },
    {
      "cell_type": "code",
      "metadata": {
        "colab": {
          "base_uri": "https://localhost:8080/"
        },
        "id": "DOXtEIvScg1_",
        "outputId": "c19464f4-ee1f-442b-83a0-734f6c766d49"
      },
      "source": [
        "phone = Phone()\r\n",
        "Phone.describe(phone)"
      ],
      "execution_count": 25,
      "outputs": [
        {
          "output_type": "stream",
          "text": [
            "describing<__main__.Phone object at 0x7f4ffc1f6c18>\n"
          ],
          "name": "stdout"
        }
      ]
    },
    {
      "cell_type": "code",
      "metadata": {
        "colab": {
          "base_uri": "https://localhost:8080/"
        },
        "id": "fYRbQzdUcn6_",
        "outputId": "6a10ad1b-c19d-4731-9f28-32ce02a2c601"
      },
      "source": [
        "phone.show()"
      ],
      "execution_count": 26,
      "outputs": [
        {
          "output_type": "stream",
          "text": [
            "running<class '__main__.Phone'>\n"
          ],
          "name": "stdout"
        }
      ]
    },
    {
      "cell_type": "code",
      "metadata": {
        "colab": {
          "base_uri": "https://localhost:8080/"
        },
        "id": "jebbI_xvctTg",
        "outputId": "d217f381-9474-4b7d-c06b-215ac621885c"
      },
      "source": [
        "phone.describe()"
      ],
      "execution_count": 27,
      "outputs": [
        {
          "output_type": "stream",
          "text": [
            "describing<__main__.Phone object at 0x7f4ffc1f6c18>\n"
          ],
          "name": "stdout"
        }
      ]
    },
    {
      "cell_type": "code",
      "metadata": {
        "colab": {
          "base_uri": "https://localhost:8080/"
        },
        "id": "LcOCnVl7cy9Y",
        "outputId": "112b02cf-9047-46ba-8b40-bdddcee91c15"
      },
      "source": [
        "class Phone:\r\n",
        "\r\n",
        "  instances = []\r\n",
        "\r\n",
        "  def __init__(self):\r\n",
        "    Phone.instances.append(self)\r\n",
        "\r\n",
        "  @classmethod\r\n",
        "  def show(cls):\r\n",
        "    if len(Phone.instances) > 0:\r\n",
        "      print(f'list of instances of the {Phone.__name__} class:')\r\n",
        "      for instance in Phone.instances:\r\n",
        "        print(f'\\t{instance}')\r\n",
        "    else:\r\n",
        "      print(f'There is no instance of the {Phone.__name__}')\r\n",
        "\r\n",
        "Phone.__dict__"
      ],
      "execution_count": 34,
      "outputs": [
        {
          "output_type": "execute_result",
          "data": {
            "text/plain": [
              "mappingproxy({'__dict__': <attribute '__dict__' of 'Phone' objects>,\n",
              "              '__doc__': None,\n",
              "              '__init__': <function __main__.Phone.__init__>,\n",
              "              '__module__': '__main__',\n",
              "              '__weakref__': <attribute '__weakref__' of 'Phone' objects>,\n",
              "              'instances': [],\n",
              "              'show': <classmethod at 0x7f4ffc1f6b38>})"
            ]
          },
          "metadata": {
            "tags": []
          },
          "execution_count": 34
        }
      ]
    },
    {
      "cell_type": "code",
      "metadata": {
        "colab": {
          "base_uri": "https://localhost:8080/"
        },
        "id": "Zyp6dx2febL3",
        "outputId": "f3d20dde-02eb-4d66-a6ce-48a64301e0e2"
      },
      "source": [
        "Phone.show()"
      ],
      "execution_count": 39,
      "outputs": [
        {
          "output_type": "stream",
          "text": [
            "There is no instance of the Phone\n"
          ],
          "name": "stdout"
        }
      ]
    },
    {
      "cell_type": "code",
      "metadata": {
        "id": "hWKrLe3Refvv"
      },
      "source": [
        "phone1 = Phone()\r\n",
        "phone2 = Phone()"
      ],
      "execution_count": 40,
      "outputs": []
    },
    {
      "cell_type": "code",
      "metadata": {
        "colab": {
          "base_uri": "https://localhost:8080/"
        },
        "id": "hVU9taPme53X",
        "outputId": "82560481-dc82-43c8-b8b6-02383e73298a"
      },
      "source": [
        "Phone.show()"
      ],
      "execution_count": 41,
      "outputs": [
        {
          "output_type": "stream",
          "text": [
            "list of instances of the Phone class:\n",
            "\t<__main__.Phone object at 0x7f4ff64eb828>\n",
            "\t<__main__.Phone object at 0x7f4ff64eb898>\n"
          ],
          "name": "stdout"
        }
      ]
    },
    {
      "cell_type": "code",
      "metadata": {
        "colab": {
          "base_uri": "https://localhost:8080/"
        },
        "id": "1CboWvVBe7jl",
        "outputId": "9252fcbc-c3f7-488c-db9e-965bb8eb13a6"
      },
      "source": [
        "class Phone:\r\n",
        "\r\n",
        "  instances = []\r\n",
        "\r\n",
        "  def __init__(self):\r\n",
        "    Phone.instances.append(self)\r\n",
        "\r\n",
        "  @classmethod\r\n",
        "  def show(cls):\r\n",
        "    if len(cls.instances) > 0:\r\n",
        "      print(f'list of instances of the {cls.__name__} class:')\r\n",
        "      for instance in cls.instances:\r\n",
        "        print(f'\\t{instance}')\r\n",
        "    else:\r\n",
        "      print(f'There is no instance of the {cls.__name__}')\r\n",
        "\r\n",
        "Phone.__dict__"
      ],
      "execution_count": 38,
      "outputs": [
        {
          "output_type": "execute_result",
          "data": {
            "text/plain": [
              "mappingproxy({'__dict__': <attribute '__dict__' of 'Phone' objects>,\n",
              "              '__doc__': None,\n",
              "              '__init__': <function __main__.Phone.__init__>,\n",
              "              '__module__': '__main__',\n",
              "              '__weakref__': <attribute '__weakref__' of 'Phone' objects>,\n",
              "              'instances': [],\n",
              "              'show': <classmethod at 0x7f4ff446d2e8>})"
            ]
          },
          "metadata": {
            "tags": []
          },
          "execution_count": 38
        }
      ]
    },
    {
      "cell_type": "code",
      "metadata": {
        "colab": {
          "base_uri": "https://localhost:8080/"
        },
        "id": "wy3HV9jofFBX",
        "outputId": "04aa9b3c-0b7a-429f-d0f4-cf37a41576d8"
      },
      "source": [
        "phone1.show()"
      ],
      "execution_count": 42,
      "outputs": [
        {
          "output_type": "stream",
          "text": [
            "list of instances of the Phone class:\n",
            "\t<__main__.Phone object at 0x7f4ff64eb828>\n",
            "\t<__main__.Phone object at 0x7f4ff64eb898>\n"
          ],
          "name": "stdout"
        }
      ]
    },
    {
      "cell_type": "code",
      "metadata": {
        "colab": {
          "base_uri": "https://localhost:8080/"
        },
        "id": "JH0wDibdfJlO",
        "outputId": "5814d42f-3c7a-4fae-dcf3-0275c2f1aad8"
      },
      "source": [
        "class Phone:\r\n",
        "\r\n",
        "  instances = []\r\n",
        "\r\n",
        "  def __init__(self,brand):\r\n",
        "    Phone.instances.append(self)\r\n",
        "    self.brand = brand\r\n",
        "\r\n",
        "  @classmethod\r\n",
        "  def show(cls):\r\n",
        "    if len(cls.instances) > 0:\r\n",
        "      print(f'list of instances of the {cls.__name__} class:')\r\n",
        "      for instance in cls.instances:\r\n",
        "        print(f'\\t{instance}')\r\n",
        "    else:\r\n",
        "      print(f'There is no instance of the {cls.__name__}')\r\n",
        "    \r\n",
        "  \r\n",
        "  def show_brand(self):\r\n",
        "    print(f'Brand: {self.brand}')\r\n",
        "\r\n",
        "\r\n",
        "Phone.__dict__"
      ],
      "execution_count": 43,
      "outputs": [
        {
          "output_type": "execute_result",
          "data": {
            "text/plain": [
              "mappingproxy({'__dict__': <attribute '__dict__' of 'Phone' objects>,\n",
              "              '__doc__': None,\n",
              "              '__init__': <function __main__.Phone.__init__>,\n",
              "              '__module__': '__main__',\n",
              "              '__weakref__': <attribute '__weakref__' of 'Phone' objects>,\n",
              "              'instances': [],\n",
              "              'show': <classmethod at 0x7f4ff446d358>,\n",
              "              'show_brand': <function __main__.Phone.show_brand>})"
            ]
          },
          "metadata": {
            "tags": []
          },
          "execution_count": 43
        }
      ]
    }
  ]
}