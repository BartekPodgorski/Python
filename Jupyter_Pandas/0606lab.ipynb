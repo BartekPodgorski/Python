{
 "cells": [
  {
   "cell_type": "code",
   "execution_count": 1,
   "metadata": {},
   "outputs": [],
   "source": [
    "import numpy as np\n",
    "import pandas as pd\n",
    "from datetime import timedelta\n",
    "from datetime import datetime\n",
    "import time"
   ]
  },
  {
   "cell_type": "code",
   "execution_count": 2,
   "metadata": {},
   "outputs": [
    {
     "data": {
      "text/html": [
       "<div>\n",
       "<style scoped>\n",
       "    .dataframe tbody tr th:only-of-type {\n",
       "        vertical-align: middle;\n",
       "    }\n",
       "\n",
       "    .dataframe tbody tr th {\n",
       "        vertical-align: top;\n",
       "    }\n",
       "\n",
       "    .dataframe thead th {\n",
       "        text-align: right;\n",
       "    }\n",
       "</style>\n",
       "<table border=\"1\" class=\"dataframe\">\n",
       "  <thead>\n",
       "    <tr style=\"text-align: right;\">\n",
       "      <th></th>\n",
       "      <th>Age</th>\n",
       "      <th>M/F</th>\n",
       "      <th>City</th>\n",
       "      <th>State</th>\n",
       "      <th>Country</th>\n",
       "      <th>Half</th>\n",
       "      <th>40K</th>\n",
       "      <th>Pace</th>\n",
       "      <th>TotalSeconds</th>\n",
       "      <th>HalfSeconds</th>\n",
       "    </tr>\n",
       "    <tr>\n",
       "      <th>Bib</th>\n",
       "      <th></th>\n",
       "      <th></th>\n",
       "      <th></th>\n",
       "      <th></th>\n",
       "      <th></th>\n",
       "      <th></th>\n",
       "      <th></th>\n",
       "      <th></th>\n",
       "      <th></th>\n",
       "      <th></th>\n",
       "    </tr>\n",
       "  </thead>\n",
       "  <tbody>\n",
       "    <tr>\n",
       "      <th>5</th>\n",
       "      <td>21</td>\n",
       "      <td>M</td>\n",
       "      <td>Addis Ababa</td>\n",
       "      <td>NaN</td>\n",
       "      <td>ETH</td>\n",
       "      <td>01:06:45</td>\n",
       "      <td>02:05:59</td>\n",
       "      <td>0:05:04</td>\n",
       "      <td>7559.0</td>\n",
       "      <td>4005.0</td>\n",
       "    </tr>\n",
       "    <tr>\n",
       "      <th>1</th>\n",
       "      <td>26</td>\n",
       "      <td>M</td>\n",
       "      <td>Ambo</td>\n",
       "      <td>NaN</td>\n",
       "      <td>ETH</td>\n",
       "      <td>01:06:46</td>\n",
       "      <td>02:05:59</td>\n",
       "      <td>0:05:06</td>\n",
       "      <td>7559.0</td>\n",
       "      <td>4006.0</td>\n",
       "    </tr>\n",
       "    <tr>\n",
       "      <th>6</th>\n",
       "      <td>31</td>\n",
       "      <td>M</td>\n",
       "      <td>Addis Ababa</td>\n",
       "      <td>NaN</td>\n",
       "      <td>ETH</td>\n",
       "      <td>01:06:44</td>\n",
       "      <td>02:06:47</td>\n",
       "      <td>0:05:07</td>\n",
       "      <td>7607.0</td>\n",
       "      <td>4004.0</td>\n",
       "    </tr>\n",
       "    <tr>\n",
       "      <th>11</th>\n",
       "      <td>33</td>\n",
       "      <td>M</td>\n",
       "      <td>Kitale</td>\n",
       "      <td>NaN</td>\n",
       "      <td>KEN</td>\n",
       "      <td>01:06:46</td>\n",
       "      <td>02:06:47</td>\n",
       "      <td>0:05:07</td>\n",
       "      <td>7607.0</td>\n",
       "      <td>4006.0</td>\n",
       "    </tr>\n",
       "    <tr>\n",
       "      <th>14</th>\n",
       "      <td>23</td>\n",
       "      <td>M</td>\n",
       "      <td>Eldoret</td>\n",
       "      <td>NaN</td>\n",
       "      <td>KEN</td>\n",
       "      <td>01:06:46</td>\n",
       "      <td>02:08:11</td>\n",
       "      <td>0:05:11</td>\n",
       "      <td>7691.0</td>\n",
       "      <td>4006.0</td>\n",
       "    </tr>\n",
       "  </tbody>\n",
       "</table>\n",
       "</div>"
      ],
      "text/plain": [
       "     Age M/F         City State Country     Half      40K     Pace  \\\n",
       "Bib                                                                  \n",
       "5     21   M  Addis Ababa   NaN     ETH 01:06:45 02:05:59  0:05:04   \n",
       "1     26   M         Ambo   NaN     ETH 01:06:46 02:05:59  0:05:06   \n",
       "6     31   M  Addis Ababa   NaN     ETH 01:06:44 02:06:47  0:05:07   \n",
       "11    33   M       Kitale   NaN     KEN 01:06:46 02:06:47  0:05:07   \n",
       "14    23   M      Eldoret   NaN     KEN 01:06:46 02:08:11  0:05:11   \n",
       "\n",
       "     TotalSeconds  HalfSeconds  \n",
       "Bib                             \n",
       "5          7559.0       4005.0  \n",
       "1          7559.0       4006.0  \n",
       "6          7607.0       4004.0  \n",
       "11         7607.0       4006.0  \n",
       "14         7691.0       4006.0  "
      ]
     },
     "execution_count": 2,
     "metadata": {},
     "output_type": "execute_result"
    }
   ],
   "source": [
    "df = pd.read_csv('C:/Users/user/Desktop/Python_Main/kurs_pandas/marathon_results_2016.csv', index_col='Bib', \n",
    "                 usecols=['Bib','40K','Half','Pace','Age','M/F','Country','State','City'])\n",
    "\n",
    "df['40K'] = df['40K'].apply(pd.to_timedelta) \n",
    "df['Half'] = df['Half'].apply(pd.to_timedelta) \n",
    "df['TotalSeconds'] = df['40K'].apply(lambda x: timedelta.total_seconds(x)) \n",
    "df['HalfSeconds'] = df['Half'].apply(lambda x: timedelta.total_seconds(x)) \n",
    "df.head()"
   ]
  },
  {
   "cell_type": "code",
   "execution_count": 8,
   "metadata": {},
   "outputs": [
    {
     "data": {
      "text/plain": [
       "City\n",
       "Addis Ababa    3\n",
       "Ambo           1\n",
       "Dallas         1\n",
       "Eldoret        3\n",
       "Kitale         1\n",
       "Nijmegen       1\n",
       "dtype: int64"
      ]
     },
     "execution_count": 8,
     "metadata": {},
     "output_type": "execute_result"
    }
   ],
   "source": [
    "df = df.head(10)\n",
    "group_city = df.groupby(\"City\")\n",
    "group_city.size()"
   ]
  },
  {
   "cell_type": "code",
   "execution_count": 6,
   "metadata": {},
   "outputs": [
    {
     "name": "stdout",
     "output_type": "stream",
     "text": [
      "Addis Ababa\n",
      "Ambo\n",
      "Dallas\n",
      "Eldoret\n",
      "Kitale\n",
      "Nijmegen\n"
     ]
    }
   ],
   "source": [
    "for city in group_city:\n",
    "    print(city[0])"
   ]
  },
  {
   "cell_type": "code",
   "execution_count": 10,
   "metadata": {},
   "outputs": [
    {
     "name": "stdout",
     "output_type": "stream",
     "text": [
      "Addis Ababa 3\n",
      "Ambo 1\n",
      "Dallas 1\n",
      "Eldoret 3\n",
      "Kitale 1\n",
      "Nijmegen 1\n"
     ]
    }
   ],
   "source": [
    "for city in group_city:\n",
    "    print(city[0],len(city[1]))"
   ]
  },
  {
   "cell_type": "code",
   "execution_count": 11,
   "metadata": {},
   "outputs": [
    {
     "name": "stdout",
     "output_type": "stream",
     "text": [
      "Addis Ababa 40K\n",
      "Ambo 40K\n",
      "Dallas 40K\n",
      "Eldoret 40K\n",
      "Kitale 40K\n",
      "Nijmegen 40K\n"
     ]
    }
   ],
   "source": [
    "for city in group_city:\n",
    "    print(city[0],min(city[1]))"
   ]
  },
  {
   "cell_type": "code",
   "execution_count": null,
   "metadata": {},
   "outputs": [],
   "source": []
  }
 ],
 "metadata": {
  "kernelspec": {
   "display_name": "Python 3.8.1 32-bit",
   "language": "python",
   "name": "python38132bite28ea8602282427880738acd08b91328"
  },
  "language_info": {
   "codemirror_mode": {
    "name": "ipython",
    "version": 3
   },
   "file_extension": ".py",
   "mimetype": "text/x-python",
   "name": "python",
   "nbconvert_exporter": "python",
   "pygments_lexer": "ipython3",
   "version": "3.8.1"
  }
 },
 "nbformat": 4,
 "nbformat_minor": 4
}
