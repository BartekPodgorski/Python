{
  "nbformat": 4,
  "nbformat_minor": 0,
  "metadata": {
    "colab": {
      "name": "03_args_kwargs.ipynb",
      "provenance": [],
      "authorship_tag": "ABX9TyPm43rQQd5pc5Fz+mO3rxNh",
      "include_colab_link": true
    },
    "kernelspec": {
      "name": "python3",
      "display_name": "Python 3"
    }
  },
  "cells": [
    {
      "cell_type": "markdown",
      "metadata": {
        "id": "view-in-github",
        "colab_type": "text"
      },
      "source": [
        "<a href=\"https://colab.research.google.com/github/BartekPodgorski/Python/blob/main/OOP/course/01_intro/03_args_kwargs.ipynb\" target=\"_parent\"><img src=\"https://colab.research.google.com/assets/colab-badge.svg\" alt=\"Open In Colab\"/></a>"
      ]
    },
    {
      "cell_type": "code",
      "metadata": {
        "id": "y5M6JvaeJyEQ"
      },
      "source": [
        "def sample(*args):\n",
        "  print(len(args))\n",
        "  print(args)"
      ],
      "execution_count": 1,
      "outputs": []
    },
    {
      "cell_type": "code",
      "metadata": {
        "colab": {
          "base_uri": "https://localhost:8080/"
        },
        "id": "LT534bgwJ9ZG",
        "outputId": "de346a82-4e33-4512-fcb3-d9f4730a1fc9"
      },
      "source": [
        "sample()"
      ],
      "execution_count": 2,
      "outputs": [
        {
          "output_type": "stream",
          "text": [
            "0\n",
            "()\n"
          ],
          "name": "stdout"
        }
      ]
    },
    {
      "cell_type": "code",
      "metadata": {
        "colab": {
          "base_uri": "https://localhost:8080/"
        },
        "id": "eMNqBcEaJ-Qq",
        "outputId": "5c191b47-3733-4764-b4f3-75728cd2237a"
      },
      "source": [
        "sample(3)"
      ],
      "execution_count": 3,
      "outputs": [
        {
          "output_type": "stream",
          "text": [
            "1\n",
            "(3,)\n"
          ],
          "name": "stdout"
        }
      ]
    },
    {
      "cell_type": "code",
      "metadata": {
        "colab": {
          "base_uri": "https://localhost:8080/"
        },
        "id": "3MCrRAzDKAT5",
        "outputId": "d137aed8-3591-4f00-b4f9-a12540895f6e"
      },
      "source": [
        "sample(3,'a')"
      ],
      "execution_count": 4,
      "outputs": [
        {
          "output_type": "stream",
          "text": [
            "2\n",
            "(3, 'a')\n"
          ],
          "name": "stdout"
        }
      ]
    },
    {
      "cell_type": "code",
      "metadata": {
        "colab": {
          "base_uri": "https://localhost:8080/"
        },
        "id": "BJaCMf9JKDza",
        "outputId": "82873cdb-c830-4154-9b17-d14a361532b5"
      },
      "source": [
        "sample(3,'a',True)"
      ],
      "execution_count": 8,
      "outputs": [
        {
          "output_type": "stream",
          "text": [
            "3\n",
            "(3, 'a', True)\n"
          ],
          "name": "stdout"
        }
      ]
    },
    {
      "cell_type": "code",
      "metadata": {
        "id": "cPN8CaH9KMia"
      },
      "source": [
        "def sample(*components):\n",
        "  print(len(components))\n",
        "  print(components)"
      ],
      "execution_count": 7,
      "outputs": []
    },
    {
      "cell_type": "code",
      "metadata": {
        "colab": {
          "base_uri": "https://localhost:8080/"
        },
        "id": "q9emocFDKQ8R",
        "outputId": "600e4fcc-f7a0-4c2e-ce18-2b47f00c339b"
      },
      "source": [
        "def stick(*args):\n",
        "  result = ''\n",
        "  for arg in args:\n",
        "    result += str(arg)\n",
        "  return result\n",
        "\n",
        "stick(4,5)"
      ],
      "execution_count": 9,
      "outputs": [
        {
          "output_type": "execute_result",
          "data": {
            "text/plain": [
              "'45'"
            ]
          },
          "metadata": {
            "tags": []
          },
          "execution_count": 9
        }
      ]
    },
    {
      "cell_type": "code",
      "metadata": {
        "colab": {
          "base_uri": "https://localhost:8080/",
          "height": 175
        },
        "id": "HAnqLzvzKgsq",
        "outputId": "cd5bbbcf-6adf-4a55-d61b-7efa81c9d993"
      },
      "source": [
        "stick(var1=1)"
      ],
      "execution_count": 10,
      "outputs": [
        {
          "output_type": "error",
          "ename": "TypeError",
          "evalue": "ignored",
          "traceback": [
            "\u001b[1;31m---------------------------------------------------------------------------\u001b[0m",
            "\u001b[1;31mTypeError\u001b[0m                                 Traceback (most recent call last)",
            "\u001b[1;32m<ipython-input-10-a1f37884c9ed>\u001b[0m in \u001b[0;36m<module>\u001b[1;34m\u001b[0m\n\u001b[1;32m----> 1\u001b[1;33m \u001b[0mstick\u001b[0m\u001b[1;33m(\u001b[0m\u001b[0mvar1\u001b[0m\u001b[1;33m=\u001b[0m\u001b[1;36m1\u001b[0m\u001b[1;33m)\u001b[0m\u001b[1;33m\u001b[0m\u001b[1;33m\u001b[0m\u001b[0m\n\u001b[0m",
            "\u001b[1;31mTypeError\u001b[0m: stick() got an unexpected keyword argument 'var1'"
          ]
        }
      ]
    },
    {
      "cell_type": "code",
      "metadata": {
        "id": "x5vMSWBZKro5"
      },
      "source": [
        "def sample(**kwargs):\n",
        "  print(len(kwargs))\n",
        "  print(kwargs)"
      ],
      "execution_count": 13,
      "outputs": []
    },
    {
      "cell_type": "code",
      "metadata": {
        "colab": {
          "base_uri": "https://localhost:8080/"
        },
        "id": "OY3l6PdZKy1C",
        "outputId": "d05c0c30-d67a-4611-be11-f2f81e88c75c"
      },
      "source": [
        "sample()"
      ],
      "execution_count": 14,
      "outputs": [
        {
          "output_type": "stream",
          "text": [
            "0\n",
            "{}\n"
          ],
          "name": "stdout"
        }
      ]
    },
    {
      "cell_type": "code",
      "metadata": {
        "colab": {
          "base_uri": "https://localhost:8080/"
        },
        "id": "4bR1spZhK0CB",
        "outputId": "2c1cdd8f-87b0-4a1d-f157-ad8ef91f5536"
      },
      "source": [
        "sample(var = 1)"
      ],
      "execution_count": 15,
      "outputs": [
        {
          "output_type": "stream",
          "text": [
            "1\n",
            "{'var': 1}\n"
          ],
          "name": "stdout"
        }
      ]
    },
    {
      "cell_type": "code",
      "metadata": {
        "id": "UcOPtXJHLPrJ"
      },
      "source": [
        "def func(**kwargs):\n",
        "  for item in kwargs.items():\n",
        "    print(item)\n",
        "\n",
        "func()"
      ],
      "execution_count": 16,
      "outputs": []
    },
    {
      "cell_type": "code",
      "metadata": {
        "colab": {
          "base_uri": "https://localhost:8080/"
        },
        "id": "Bv_b8803LZZY",
        "outputId": "88459728-16bb-4cc9-e146-8a255370283d"
      },
      "source": [
        "func(name = 'John')"
      ],
      "execution_count": 17,
      "outputs": [
        {
          "output_type": "stream",
          "text": [
            "('name', 'John')\n"
          ],
          "name": "stdout"
        }
      ]
    },
    {
      "cell_type": "code",
      "metadata": {
        "id": "yLAtb8g-Lbrh"
      },
      "source": [
        "def hello(**kwargs):\n",
        "  if 'name' in kwargs:\n",
        "    print(f\"hello {kwargs['name']}\")\n",
        "  else:\n",
        "    print('Hello')\n"
      ],
      "execution_count": 21,
      "outputs": []
    },
    {
      "cell_type": "code",
      "metadata": {
        "colab": {
          "base_uri": "https://localhost:8080/"
        },
        "id": "JPHSLvlTLzdR",
        "outputId": "12b5856c-19d4-4e4c-bcbc-3d7aaa96533b"
      },
      "source": [
        "hello()"
      ],
      "execution_count": 22,
      "outputs": [
        {
          "output_type": "stream",
          "text": [
            "Hello\n"
          ],
          "name": "stdout"
        }
      ]
    },
    {
      "cell_type": "code",
      "metadata": {
        "colab": {
          "base_uri": "https://localhost:8080/"
        },
        "id": "m1lE9cZAL9V4",
        "outputId": "1cd3a5d3-3f9a-49d0-d71a-ea85de4cea3b"
      },
      "source": [
        "hello(var1='John')"
      ],
      "execution_count": 23,
      "outputs": [
        {
          "output_type": "stream",
          "text": [
            "Hello\n"
          ],
          "name": "stdout"
        }
      ]
    },
    {
      "cell_type": "code",
      "metadata": {
        "colab": {
          "base_uri": "https://localhost:8080/"
        },
        "id": "2nb4yo4eMBoy",
        "outputId": "e9134d51-d0ce-4254-a222-a1ffe547fda0"
      },
      "source": [
        "hello(name='John')"
      ],
      "execution_count": 24,
      "outputs": [
        {
          "output_type": "stream",
          "text": [
            "helloJohn\n"
          ],
          "name": "stdout"
        }
      ]
    },
    {
      "cell_type": "code",
      "metadata": {
        "id": "Avk0GhaTMD1Y"
      },
      "source": [
        "def sum_int(**kwargs):\n",
        "  if kwargs:\n",
        "    result = 0\n",
        "    for kwarg in kwargs.values():\n",
        "      if isinstance(kwarg,int):\n",
        "        result += kwarg\n",
        "    return result\n",
        "  return None\n"
      ],
      "execution_count": 34,
      "outputs": []
    },
    {
      "cell_type": "code",
      "metadata": {
        "id": "13zgYYMKMzWr"
      },
      "source": [
        "sum_int()"
      ],
      "execution_count": 35,
      "outputs": []
    },
    {
      "cell_type": "code",
      "metadata": {
        "colab": {
          "base_uri": "https://localhost:8080/"
        },
        "id": "EniYDsg6M1Y5",
        "outputId": "4708e22e-4999-4651-c742-65c7c02ccc59"
      },
      "source": [
        "sum_int(name='John')"
      ],
      "execution_count": 36,
      "outputs": [
        {
          "output_type": "execute_result",
          "data": {
            "text/plain": [
              "0"
            ]
          },
          "metadata": {
            "tags": []
          },
          "execution_count": 36
        }
      ]
    },
    {
      "cell_type": "code",
      "metadata": {
        "colab": {
          "base_uri": "https://localhost:8080/"
        },
        "id": "1V76FsruM6Qo",
        "outputId": "314627a6-8202-4e2f-f946-82cb17979d33"
      },
      "source": [
        "sum_int(name='John',game1=43,game2=43,ratio=3.5,dupa='k')"
      ],
      "execution_count": 37,
      "outputs": [
        {
          "output_type": "execute_result",
          "data": {
            "text/plain": [
              "86"
            ]
          },
          "metadata": {
            "tags": []
          },
          "execution_count": 37
        }
      ]
    },
    {
      "cell_type": "code",
      "metadata": {
        "id": "YAW_J_bXNERo"
      },
      "source": [
        "def sample(*args,**kwargs):\n",
        "  print(args)\n",
        "  print(kwargs)"
      ],
      "execution_count": 38,
      "outputs": []
    },
    {
      "cell_type": "code",
      "metadata": {
        "colab": {
          "base_uri": "https://localhost:8080/"
        },
        "id": "pcL8CuHsNeIg",
        "outputId": "d971aaad-195a-4ec4-a9c3-79d9c263f846"
      },
      "source": [
        "sample()"
      ],
      "execution_count": 39,
      "outputs": [
        {
          "output_type": "stream",
          "text": [
            "()\n",
            "{}\n"
          ],
          "name": "stdout"
        }
      ]
    },
    {
      "cell_type": "code",
      "metadata": {
        "colab": {
          "base_uri": "https://localhost:8080/"
        },
        "id": "_gIEnTq9NfqR",
        "outputId": "35335395-e9a3-476e-907e-1a5793b258f3"
      },
      "source": [
        "sample(1,2,3,dipa='ca')"
      ],
      "execution_count": 40,
      "outputs": [
        {
          "output_type": "stream",
          "text": [
            "(1, 2, 3)\n",
            "{'dipa': 'ca'}\n"
          ],
          "name": "stdout"
        }
      ]
    },
    {
      "cell_type": "code",
      "metadata": {
        "id": "CNroLp4kNkEh"
      },
      "source": [
        "stocks = {'appl':'Apple','tsla':'Tesla'}"
      ],
      "execution_count": 42,
      "outputs": []
    },
    {
      "cell_type": "code",
      "metadata": {
        "colab": {
          "base_uri": "https://localhost:8080/"
        },
        "id": "fHdUxX9kNzKC",
        "outputId": "5bbc40c5-4e60-41a2-e5e5-2d08cc7db2b2"
      },
      "source": [
        "sample(**stocks)"
      ],
      "execution_count": 43,
      "outputs": [
        {
          "output_type": "stream",
          "text": [
            "()\n",
            "{'appl': 'Apple', 'tsla': 'Tesla'}\n"
          ],
          "name": "stdout"
        }
      ]
    },
    {
      "cell_type": "code",
      "metadata": {
        "id": "AUGdoLNCN7Ky"
      },
      "source": [
        ""
      ],
      "execution_count": null,
      "outputs": []
    }
  ]
}